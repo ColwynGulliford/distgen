{
 "cells": [
  {
   "cell_type": "markdown",
   "id": "d1d515f0-1079-4dce-a6dc-aa396b38afc7",
   "metadata": {},
   "source": [
    "# Compare Example Beams Across Versions\n",
    "---\n",
    "Generate Current Devel Example Beams"
   ]
  },
  {
   "cell_type": "code",
   "execution_count": 1,
   "id": "c2a9203b-6a8f-4f85-a67b-cdca6d9d2c37",
   "metadata": {
    "execution": {
     "iopub.execute_input": "2024-07-20T19:55:57.855001Z",
     "iopub.status.busy": "2024-07-20T19:55:57.854547Z",
     "iopub.status.idle": "2024-07-20T19:55:59.115838Z",
     "shell.execute_reply": "2024-07-20T19:55:59.115215Z"
    }
   },
   "outputs": [],
   "source": [
    "from distgen import Generator\n",
    "\n",
    "import glob\n",
    "from pathlib import Path\n",
    "import numpy as np\n",
    "from pmd_beamphysics import ParticleGroup"
   ]
  },
  {
   "cell_type": "code",
   "execution_count": 2,
   "id": "0c2605a5-d65e-4a02-9cbc-ce49fcb61fb8",
   "metadata": {
    "execution": {
     "iopub.execute_input": "2024-07-20T19:55:59.119055Z",
     "iopub.status.busy": "2024-07-20T19:55:59.118542Z",
     "iopub.status.idle": "2024-07-20T19:55:59.121410Z",
     "shell.execute_reply": "2024-07-20T19:55:59.120915Z"
    }
   },
   "outputs": [],
   "source": [
    "from distgen import __version__"
   ]
  },
  {
   "cell_type": "code",
   "execution_count": 3,
   "id": "3cf17a6c-7a3f-496f-adef-5c9f42b7e551",
   "metadata": {
    "execution": {
     "iopub.execute_input": "2024-07-20T19:55:59.123713Z",
     "iopub.status.busy": "2024-07-20T19:55:59.123292Z",
     "iopub.status.idle": "2024-07-20T19:55:59.128564Z",
     "shell.execute_reply": "2024-07-20T19:55:59.128026Z"
    }
   },
   "outputs": [
    {
     "data": {
      "text/plain": [
       "'0+untagged.1.gec9e4f3'"
      ]
     },
     "execution_count": 3,
     "metadata": {},
     "output_type": "execute_result"
    }
   ],
   "source": [
    "__version__"
   ]
  },
  {
   "cell_type": "markdown",
   "id": "ae663125-d023-4ff5-9d22-6420b754955f",
   "metadata": {},
   "source": [
    "## Generate Archive"
   ]
  },
  {
   "cell_type": "code",
   "execution_count": 4,
   "id": "59a1bfd1-d5ab-4724-997f-21d3ba3c8f01",
   "metadata": {
    "execution": {
     "iopub.execute_input": "2024-07-20T19:55:59.131064Z",
     "iopub.status.busy": "2024-07-20T19:55:59.130593Z",
     "iopub.status.idle": "2024-07-20T19:55:59.133702Z",
     "shell.execute_reply": "2024-07-20T19:55:59.133180Z"
    }
   },
   "outputs": [],
   "source": [
    "YAMLS = glob.glob('../examples/data/*yaml')"
   ]
  },
  {
   "cell_type": "code",
   "execution_count": 5,
   "id": "bbb2f28c-64bc-4fdc-b5f3-a52300b57883",
   "metadata": {
    "execution": {
     "iopub.execute_input": "2024-07-20T19:55:59.135958Z",
     "iopub.status.busy": "2024-07-20T19:55:59.135640Z",
     "iopub.status.idle": "2024-07-20T19:56:01.084290Z",
     "shell.execute_reply": "2024-07-20T19:56:01.083669Z"
    }
   },
   "outputs": [],
   "source": [
    "for YAML in YAMLS:\n",
    "\n",
    "    D = Generator(YAML)\n",
    "    D['n_particle']=1_000\n",
    "    P = D.run()\n",
    "    P.write(f'archive/{Path(YAML).name.replace(\".yaml\", \".h5\")}') \n"
   ]
  },
  {
   "cell_type": "code",
   "execution_count": 6,
   "id": "74f0510d-e3f8-4cf6-9f16-eec9232c995f",
   "metadata": {
    "execution": {
     "iopub.execute_input": "2024-07-20T19:56:01.087110Z",
     "iopub.status.busy": "2024-07-20T19:56:01.086691Z",
     "iopub.status.idle": "2024-07-20T19:56:01.089577Z",
     "shell.execute_reply": "2024-07-20T19:56:01.089075Z"
    }
   },
   "outputs": [],
   "source": [
    "import os"
   ]
  },
  {
   "cell_type": "code",
   "execution_count": 7,
   "id": "08808dd6-2645-4ae1-b829-092b45ed982e",
   "metadata": {
    "execution": {
     "iopub.execute_input": "2024-07-20T19:56:01.091879Z",
     "iopub.status.busy": "2024-07-20T19:56:01.091513Z",
     "iopub.status.idle": "2024-07-20T19:56:01.095352Z",
     "shell.execute_reply": "2024-07-20T19:56:01.094803Z"
    }
   },
   "outputs": [
    {
     "data": {
      "text/plain": [
       "'/home/runner/work/distgen/distgen/docs/regression_tests'"
      ]
     },
     "execution_count": 7,
     "metadata": {},
     "output_type": "execute_result"
    }
   ],
   "source": [
    "os.getcwd()"
   ]
  },
  {
   "cell_type": "markdown",
   "id": "c36ca128-d0c4-4526-bc46-3f2bfaa177c6",
   "metadata": {},
   "source": [
    "## Compare Archive To A Previous Archive"
   ]
  },
  {
   "cell_type": "code",
   "execution_count": 8,
   "id": "9a6d2a0e-2950-4ade-b503-cf68987595ca",
   "metadata": {
    "execution": {
     "iopub.execute_input": "2024-07-20T19:56:01.097635Z",
     "iopub.status.busy": "2024-07-20T19:56:01.097244Z",
     "iopub.status.idle": "2024-07-20T19:56:01.252593Z",
     "shell.execute_reply": "2024-07-20T19:56:01.251941Z"
    }
   },
   "outputs": [
    {
     "name": "stdout",
     "output_type": "stream",
     "text": [
      "Comparing the current beam archive to archive\n",
      "\n",
      "Checking: dcm.image.in.h5 against archive/dcm.image.in.h5\n",
      "Checking: xy.prod.in.h5 against archive/xy.prod.in.h5\n",
      "Checking: deformable.in.h5 against archive/deformable.in.h5\n",
      "Checking: KEdist.beer.can.in.h5 against archive/KEdist.beer.can.in.h5\n",
      "Checking: beer.can.in.h5 against archive/beer.can.in.h5\n",
      "Checking: x.y.uniform.in.h5 against archive/x.y.uniform.in.h5\n",
      "Checking: SG.beer.can.in.h5 against archive/SG.beer.can.in.h5\n",
      "Checking: rad.file.in.h5 against archive/rad.file.in.h5\n",
      "Checking: t.file.in.h5 against archive/t.file.in.h5\n",
      "Checking: rad.uniform.in.h5 against archive/rad.uniform.in.h5\n",
      "Checking: product.gaussian.in.h5 against archive/product.gaussian.in.h5\n",
      "Checking: tukey.beer.can.in.h5 against archive/tukey.beer.can.in.h5\n",
      "Checking: rad.trunc.gaussian.in.h5 against archive/rad.trunc.gaussian.in.h5\n",
      "Checking: fermi_dirac_3step_barrier_photocathode.in.h5 against archive/fermi_dirac_3step_barrier_photocathode.in.h5\n",
      "Checking: multi.gaussian.in.h5 against archive/multi.gaussian.in.h5\n",
      "Checking: laser.image.in.h5 against archive/laser.image.in.h5\n",
      "Checking: x.uniform.y.file.t.gaussian.in.h5 against archive/x.uniform.y.file.t.gaussian.in.h5\n",
      "Checking: maxwell_boltzmann.beer.can.in.h5 against archive/maxwell_boltzmann.beer.can.in.h5\n",
      "Checking: rad.gaussian.in.h5 against archive/rad.gaussian.in.h5\n",
      "Checking: interp_ex.h5 against archive/interp_ex.h5\n",
      "Checking: jpeg.image.in.h5 against archive/jpeg.image.in.h5\n",
      "Checking: t-sech2.in.h5 against archive/t-sech2.in.h5\n",
      "Checking: rad_new_format.uniform.in.h5 against archive/rad_new_format.uniform.in.h5\n",
      "Checking: maxwell_boltzmann_KE.beer.can.in.h5 against archive/maxwell_boltzmann_KE.beer.can.in.h5\n",
      "Checking: t.crystals.in.h5 against archive/t.crystals.in.h5\n",
      "Checking: uniform_speckle.in.h5 against archive/uniform_speckle.in.h5\n",
      "Checking: gaussian.in.h5 against archive/gaussian.in.h5\n",
      "\n",
      "All beams check to w/absolute tolerance of: 1e-11\n",
      "All beams check to an w/relative tolerance of: 1e-12\n"
     ]
    }
   ],
   "source": [
    "PREVIOUS_ARCHIVE = 'archive'\n",
    "\n",
    "#PREVIOUS_ARCHIVE = '/Users/colwyngulliford/devel/distgen/distgen2.0.0'\n",
    "\n",
    "def test_beam(beam_file, previous_archive, abs_tol = 1e-9, rel_tol = 1e-11, verbose=True):\n",
    "\n",
    "    beam_file = Path(beam_file)\n",
    "    name = beam_file.name.replace('.yaml', '')\n",
    "    p1file = f'{previous_archive}/{name}.h5'\n",
    "    p2file = f'archive/{name}.h5'\n",
    "\n",
    "    if(Path(p1file).exists() and Path(p2file).exists()):\n",
    "        if(verbose):\n",
    "            print('Checking:', Path(p1file).name, 'against', p2file)\n",
    "        \n",
    "        P1, P2 = ParticleGroup(p1file), ParticleGroup(p2file)\n",
    "        \n",
    "        vs = ['x', 'y', 'z', 'px', 'py', 'pz', 'weight']\n",
    "        for v in vs:\n",
    "            abs_deviation = P1[v] - P2[v]\n",
    "            assert np.max(np.abs(abs_deviation)) < abs_tol, f'Max[ |absolute deviation| ] for {v}: {np.max(np.abs(abs_deviation))} for {Path(p1file).name}'\n",
    "            non_zero = np.abs(P2[v])>0\n",
    "            \n",
    "            if(np.any(non_zero)):\n",
    "                rel_deviation = (P1[v][non_zero] - P2[v][non_zero])/P2[v][non_zero]\n",
    "                assert np.max(np.abs(rel_deviation)) < rel_tol, f'Max[ |relative deviation| ] for {v}: {np.max(np.abs(rel_deviation))} for {Path(p1file).name}'\n",
    "\n",
    "        \n",
    "\n",
    "def test_beams(beam_files, previous_archive, verbose=True, abs_tol=1e-10, rel_tol=1e-12):\n",
    "\n",
    "    print(f'Comparing the current beam archive to {previous_archive}\\n')\n",
    "\n",
    "    for beam_file in beam_files:\n",
    "        test_beam(beam_file, previous_archive, verbose=verbose, abs_tol = abs_tol, rel_tol = rel_tol)\n",
    "\n",
    "    if(verbose):\n",
    "        print('\\nAll beams check to w/absolute tolerance of:', abs_tol )\n",
    "        print('All beams check to an w/relative tolerance of:', rel_tol )\n",
    "\n",
    "test_beams(YAMLS, PREVIOUS_ARCHIVE, verbose=True, abs_tol = 1e-11, rel_tol=1e-12)"
   ]
  },
  {
   "cell_type": "code",
   "execution_count": null,
   "id": "9ba00e78-6421-4944-a8b6-d65b443a2d35",
   "metadata": {},
   "outputs": [],
   "source": []
  },
  {
   "cell_type": "code",
   "execution_count": null,
   "id": "04a273cd-38b1-4b0b-a302-d89e6e1259f3",
   "metadata": {},
   "outputs": [],
   "source": []
  }
 ],
 "metadata": {
  "kernelspec": {
   "display_name": "Python 3 (ipykernel)",
   "language": "python",
   "name": "python3"
  },
  "language_info": {
   "codemirror_mode": {
    "name": "ipython",
    "version": 3
   },
   "file_extension": ".py",
   "mimetype": "text/x-python",
   "name": "python",
   "nbconvert_exporter": "python",
   "pygments_lexer": "ipython3",
   "version": "3.9.19"
  }
 },
 "nbformat": 4,
 "nbformat_minor": 5
}
