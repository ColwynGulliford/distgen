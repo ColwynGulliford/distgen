{
 "cells": [
  {
   "cell_type": "markdown",
   "id": "ec20b8a7-0d28-4081-8731-b6510a431756",
   "metadata": {},
   "source": [
    "# Physical Constant Tests\n",
    "---"
   ]
  },
  {
   "cell_type": "code",
   "execution_count": 1,
   "id": "4d58c267-f68a-4ee5-95a0-f18becc3d724",
   "metadata": {
    "execution": {
     "iopub.execute_input": "2024-03-12T18:09:24.113379Z",
     "iopub.status.busy": "2024-03-12T18:09:24.113186Z",
     "iopub.status.idle": "2024-03-12T18:09:25.212743Z",
     "shell.execute_reply": "2024-03-12T18:09:25.212104Z"
    }
   },
   "outputs": [],
   "source": [
    "from distgen.physical_constants import *\n",
    "import scipy.constants\n",
    "from distgen.tools import check_abs_and_rel_tols"
   ]
  },
  {
   "cell_type": "code",
   "execution_count": 2,
   "id": "6b4bae43-3eeb-4882-8e4d-8a7e15b418ec",
   "metadata": {
    "execution": {
     "iopub.execute_input": "2024-03-12T18:09:25.215652Z",
     "iopub.status.busy": "2024-03-12T18:09:25.215354Z",
     "iopub.status.idle": "2024-03-12T18:09:25.218666Z",
     "shell.execute_reply": "2024-03-12T18:09:25.218140Z"
    }
   },
   "outputs": [],
   "source": [
    "def test_basic_constants():\n",
    "    \n",
    "    # Speed of light \n",
    "    assert PHYSICAL_CONSTANTS['speed of light in vacuum'].magnitude == 299792458\n",
    "    assert str(PHYSICAL_CONSTANTS['speed of light in vacuum'].units) == 'meter / second'\n",
    "\n",
    "    "
   ]
  },
  {
   "cell_type": "code",
   "execution_count": 3,
   "id": "b58d16da-ce34-4b69-b366-396d127d6c0c",
   "metadata": {
    "execution": {
     "iopub.execute_input": "2024-03-12T18:09:25.220659Z",
     "iopub.status.busy": "2024-03-12T18:09:25.220494Z",
     "iopub.status.idle": "2024-03-12T18:09:25.226975Z",
     "shell.execute_reply": "2024-03-12T18:09:25.226448Z"
    }
   },
   "outputs": [
    {
     "data": {
      "text/html": [
       "9.1093837015×10<sup>-31</sup> kilogram"
      ],
      "text/latex": [
       "$9.1093837015\\times 10^{-31}\\ \\mathrm{kilogram}$"
      ],
      "text/plain": [
       "9.1093837015e-31 <Unit('kilogram')>"
      ]
     },
     "execution_count": 3,
     "metadata": {},
     "output_type": "execute_result"
    }
   ],
   "source": [
    "PHYSICAL_CONSTANTS['electron mass']"
   ]
  },
  {
   "cell_type": "code",
   "execution_count": 4,
   "id": "da7d8dee-abfe-4792-9bf3-e521d2709633",
   "metadata": {
    "execution": {
     "iopub.execute_input": "2024-03-12T18:09:25.229130Z",
     "iopub.status.busy": "2024-03-12T18:09:25.228825Z",
     "iopub.status.idle": "2024-03-12T18:09:25.232707Z",
     "shell.execute_reply": "2024-03-12T18:09:25.232270Z"
    }
   },
   "outputs": [
    {
     "data": {
      "text/plain": [
       "{'charge': -1.602176634e-19 <Unit('coulomb')>,\n",
       " 'mass': 9.1093837015e-31 <Unit('kilogram')>,\n",
       " 'mc2': 510998.94999999995 <Unit('electron_volt')>,\n",
       " 'g_factor': -2.00231930436256 <Unit('dimensionless')>}"
      ]
     },
     "execution_count": 4,
     "metadata": {},
     "output_type": "execute_result"
    }
   ],
   "source": [
    "PHYSICAL_CONSTANTS.species('electron')"
   ]
  },
  {
   "cell_type": "code",
   "execution_count": 5,
   "id": "9801a4f7-7773-423e-943e-0751360608cc",
   "metadata": {
    "execution": {
     "iopub.execute_input": "2024-03-12T18:09:25.234907Z",
     "iopub.status.busy": "2024-03-12T18:09:25.234577Z",
     "iopub.status.idle": "2024-03-12T18:09:25.238057Z",
     "shell.execute_reply": "2024-03-12T18:09:25.237577Z"
    }
   },
   "outputs": [
    {
     "data": {
      "text/plain": [
       "<distgen.physical_constants.PhysicalConstants at 0x7f306cbfcb20>"
      ]
     },
     "execution_count": 5,
     "metadata": {},
     "output_type": "execute_result"
    }
   ],
   "source": [
    "PHYSICAL_CONSTANTS"
   ]
  },
  {
   "cell_type": "code",
   "execution_count": 6,
   "id": "13af4f42-1a93-4bed-844d-f9198a805e55",
   "metadata": {
    "execution": {
     "iopub.execute_input": "2024-03-12T18:09:25.240295Z",
     "iopub.status.busy": "2024-03-12T18:09:25.239958Z",
     "iopub.status.idle": "2024-03-12T18:09:25.246637Z",
     "shell.execute_reply": "2024-03-12T18:09:25.246185Z"
    }
   },
   "outputs": [],
   "source": [
    "def test_species_data():\n",
    "\n",
    "    # Electron\n",
    "    electron = PHYSICAL_CONSTANTS.species('electron')\n",
    "    assert electron['charge'].magnitude == -1.602176634e-19\n",
    "    assert electron['mass'].magnitude == 9.1093837015e-31\n",
    "    assert electron['mc2'].magnitude == 0.51099894999999995e6\n",
    "    assert electron['g_factor'].magnitude == -2.00231930436256\n",
    "\n",
    "    # Photon\n",
    "    photon = PHYSICAL_CONSTANTS.species('photon')\n",
    "    assert photon['charge'].magnitude == 0\n",
    "    assert photon['mass'].magnitude == 0\n",
    "    assert photon['mc2'].magnitude == 0\n",
    "    assert photon['g_factor'].magnitude == 0\n",
    "\n",
    "    # Positron\n",
    "    positron = PHYSICAL_CONSTANTS.species('positron')\n",
    "    assert positron['charge'].magnitude == +1.602176634e-19\n",
    "    assert positron['mass'].magnitude == 9.1093837015e-31\n",
    "    assert positron['mc2'].magnitude == 0.51099894999999995e6\n",
    "    assert positron['g_factor'].magnitude == +2.00231930436256\n",
    "\n",
    "    # Proton\n",
    "    proton = PHYSICAL_CONSTANTS.species('proton')\n",
    "    assert proton['charge'].magnitude == +1.602176634e-19\n",
    "    assert proton['mass'].magnitude == 1.67262192369e-27\n",
    "    assert proton['mc2'].magnitude == 938272088.16\n",
    "    assert proton['g_factor'].magnitude == 5.5856946893\n",
    "\n",
    "    # Muon\n",
    "    muon = PHYSICAL_CONSTANTS.species('muon')\n",
    "    assert muon['charge'].magnitude == -1.602176634e-19\n",
    "    assert muon['mass'].magnitude == 1.883531627e-28\n",
    "    assert muon['mc2'].magnitude == 105.6583755e6\n",
    "    assert muon['g_factor'].magnitude == -2.0023318418\n",
    "    \n",
    "    # Neutron\n",
    "    neutron = PHYSICAL_CONSTANTS.species('neutron')\n",
    "    assert neutron['charge'].magnitude == 0\n",
    "    assert neutron['mass'].magnitude == 1.67492749804e-27\n",
    "    assert neutron['mc2'].magnitude == 939.56542052e6\n",
    "    assert neutron['g_factor'].magnitude == -3.82608545\n",
    "\n",
    "    # Tau\n",
    "    tau = PHYSICAL_CONSTANTS.species('tau')\n",
    "    assert tau['charge'].magnitude == -1.602176634e-19\n",
    "    assert tau['mass'].magnitude == 3.16754e-27\n",
    "    assert tau['mc2'].magnitude == 1776820000.0\n",
    "    assert tau['g_factor'].magnitude == -2.00231930436256\n",
    "    \n",
    "\n",
    "test_species_data()"
   ]
  },
  {
   "cell_type": "code",
   "execution_count": 7,
   "id": "28bff6f8-87b9-4b70-a736-74b30bfed0f1",
   "metadata": {
    "execution": {
     "iopub.execute_input": "2024-03-12T18:09:25.248541Z",
     "iopub.status.busy": "2024-03-12T18:09:25.248375Z",
     "iopub.status.idle": "2024-03-12T18:09:25.252253Z",
     "shell.execute_reply": "2024-03-12T18:09:25.251688Z"
    }
   },
   "outputs": [
    {
     "data": {
      "text/html": [
       "1776820000.0 electron_volt"
      ],
      "text/latex": [
       "$1776820000.0\\ \\mathrm{electron\\_volt}$"
      ],
      "text/plain": [
       "1776820000.0 <Unit('electron_volt')>"
      ]
     },
     "execution_count": 7,
     "metadata": {},
     "output_type": "execute_result"
    }
   ],
   "source": [
    "PHYSICAL_CONSTANTS.species('tau')['mc2']"
   ]
  },
  {
   "cell_type": "code",
   "execution_count": null,
   "id": "2b194d8c-aaa2-44b4-8928-4f131b8c3bbe",
   "metadata": {},
   "outputs": [],
   "source": []
  }
 ],
 "metadata": {
  "kernelspec": {
   "display_name": "Python 3 (ipykernel)",
   "language": "python",
   "name": "python3"
  },
  "language_info": {
   "codemirror_mode": {
    "name": "ipython",
    "version": 3
   },
   "file_extension": ".py",
   "mimetype": "text/x-python",
   "name": "python",
   "nbconvert_exporter": "python",
   "pygments_lexer": "ipython3",
   "version": "3.9.18"
  }
 },
 "nbformat": 4,
 "nbformat_minor": 5
}
