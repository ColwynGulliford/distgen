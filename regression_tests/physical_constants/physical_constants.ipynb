{
 "cells": [
  {
   "cell_type": "markdown",
   "id": "ec20b8a7-0d28-4081-8731-b6510a431756",
   "metadata": {},
   "source": [
    "# Physical Constant Tests\n",
    "---"
   ]
  },
  {
   "cell_type": "code",
   "execution_count": 1,
   "id": "4d58c267-f68a-4ee5-95a0-f18becc3d724",
   "metadata": {
    "execution": {
     "iopub.execute_input": "2024-10-15T13:47:00.049708Z",
     "iopub.status.busy": "2024-10-15T13:47:00.049177Z",
     "iopub.status.idle": "2024-10-15T13:47:01.163176Z",
     "shell.execute_reply": "2024-10-15T13:47:01.162556Z"
    }
   },
   "outputs": [],
   "source": [
    "from distgen.physical_constants import *\n",
    "import scipy.constants\n",
    "from distgen.tools import check_abs_and_rel_tols"
   ]
  },
  {
   "cell_type": "code",
   "execution_count": 2,
   "id": "6b4bae43-3eeb-4882-8e4d-8a7e15b418ec",
   "metadata": {
    "execution": {
     "iopub.execute_input": "2024-10-15T13:47:01.165574Z",
     "iopub.status.busy": "2024-10-15T13:47:01.165141Z",
     "iopub.status.idle": "2024-10-15T13:47:01.168333Z",
     "shell.execute_reply": "2024-10-15T13:47:01.167788Z"
    }
   },
   "outputs": [],
   "source": [
    "def test_basic_constants():\n",
    "    \n",
    "    # Speed of light \n",
    "    assert PHYSICAL_CONSTANTS['speed of light in vacuum'].magnitude == 299792458\n",
    "    assert str(PHYSICAL_CONSTANTS['speed of light in vacuum'].units) == 'meter / second'\n",
    "\n",
    "    "
   ]
  },
  {
   "cell_type": "code",
   "execution_count": 3,
   "id": "b58d16da-ce34-4b69-b366-396d127d6c0c",
   "metadata": {
    "execution": {
     "iopub.execute_input": "2024-10-15T13:47:01.170138Z",
     "iopub.status.busy": "2024-10-15T13:47:01.169807Z",
     "iopub.status.idle": "2024-10-15T13:47:01.176547Z",
     "shell.execute_reply": "2024-10-15T13:47:01.176018Z"
    }
   },
   "outputs": [
    {
     "data": {
      "text/html": [
       "9.1093837015×10<sup>-31</sup> kilogram"
      ],
      "text/latex": [
       "$9.1093837015\\times 10^{-31}\\ \\mathrm{kilogram}$"
      ],
      "text/plain": [
       "<Quantity(9.1093837e-31, 'kilogram')>"
      ]
     },
     "execution_count": 3,
     "metadata": {},
     "output_type": "execute_result"
    }
   ],
   "source": [
    "PHYSICAL_CONSTANTS['electron mass']"
   ]
  },
  {
   "cell_type": "code",
   "execution_count": 4,
   "id": "da7d8dee-abfe-4792-9bf3-e521d2709633",
   "metadata": {
    "execution": {
     "iopub.execute_input": "2024-10-15T13:47:01.178495Z",
     "iopub.status.busy": "2024-10-15T13:47:01.178147Z",
     "iopub.status.idle": "2024-10-15T13:47:01.181992Z",
     "shell.execute_reply": "2024-10-15T13:47:01.181459Z"
    }
   },
   "outputs": [
    {
     "data": {
      "text/plain": [
       "{'charge': <Quantity(-1.60217663e-19, 'coulomb')>,\n",
       " 'mass': <Quantity(9.1093837e-31, 'kilogram')>,\n",
       " 'mc2': <Quantity(510998.95, 'electron_volt')>,\n",
       " 'g_factor': <Quantity(-2.0023193, 'dimensionless')>}"
      ]
     },
     "execution_count": 4,
     "metadata": {},
     "output_type": "execute_result"
    }
   ],
   "source": [
    "PHYSICAL_CONSTANTS.species('electron')"
   ]
  },
  {
   "cell_type": "code",
   "execution_count": 5,
   "id": "9801a4f7-7773-423e-943e-0751360608cc",
   "metadata": {
    "execution": {
     "iopub.execute_input": "2024-10-15T13:47:01.183802Z",
     "iopub.status.busy": "2024-10-15T13:47:01.183462Z",
     "iopub.status.idle": "2024-10-15T13:47:01.186768Z",
     "shell.execute_reply": "2024-10-15T13:47:01.186329Z"
    }
   },
   "outputs": [
    {
     "data": {
      "text/plain": [
       "<distgen.physical_constants.PhysicalConstants at 0x7f4f38452550>"
      ]
     },
     "execution_count": 5,
     "metadata": {},
     "output_type": "execute_result"
    }
   ],
   "source": [
    "PHYSICAL_CONSTANTS"
   ]
  },
  {
   "cell_type": "code",
   "execution_count": 6,
   "id": "13af4f42-1a93-4bed-844d-f9198a805e55",
   "metadata": {
    "execution": {
     "iopub.execute_input": "2024-10-15T13:47:01.188580Z",
     "iopub.status.busy": "2024-10-15T13:47:01.188240Z",
     "iopub.status.idle": "2024-10-15T13:47:01.195256Z",
     "shell.execute_reply": "2024-10-15T13:47:01.194776Z"
    }
   },
   "outputs": [],
   "source": [
    "def test_species_data():\n",
    "\n",
    "    # Electron\n",
    "    electron = PHYSICAL_CONSTANTS.species('electron')\n",
    "    assert electron['charge'].magnitude == -1.602176634e-19\n",
    "    assert electron['mass'].magnitude == 9.1093837015e-31\n",
    "    assert electron['mc2'].magnitude == 0.51099894999999995e6\n",
    "    assert electron['g_factor'].magnitude == -2.00231930436256\n",
    "\n",
    "    # Photon\n",
    "    photon = PHYSICAL_CONSTANTS.species('photon')\n",
    "    assert photon['charge'].magnitude == 0\n",
    "    assert photon['mass'].magnitude == 0\n",
    "    assert photon['mc2'].magnitude == 0\n",
    "    assert photon['g_factor'].magnitude == 0\n",
    "\n",
    "    # Positron\n",
    "    positron = PHYSICAL_CONSTANTS.species('positron')\n",
    "    assert positron['charge'].magnitude == +1.602176634e-19\n",
    "    assert positron['mass'].magnitude == 9.1093837015e-31\n",
    "    assert positron['mc2'].magnitude == 0.51099894999999995e6\n",
    "    assert positron['g_factor'].magnitude == +2.00231930436256\n",
    "\n",
    "    # Proton\n",
    "    proton = PHYSICAL_CONSTANTS.species('proton')\n",
    "    assert proton['charge'].magnitude == +1.602176634e-19\n",
    "    assert proton['mass'].magnitude == 1.67262192369e-27\n",
    "    assert proton['mc2'].magnitude == 938272088.16\n",
    "    assert proton['g_factor'].magnitude == 5.5856946893\n",
    "\n",
    "    # Muon\n",
    "    muon = PHYSICAL_CONSTANTS.species('muon')\n",
    "    assert muon['charge'].magnitude == -1.602176634e-19\n",
    "    assert muon['mass'].magnitude == 1.883531627e-28\n",
    "    assert muon['mc2'].magnitude == 105.6583755e6\n",
    "    assert muon['g_factor'].magnitude == -2.0023318418\n",
    "    \n",
    "    # Neutron\n",
    "    neutron = PHYSICAL_CONSTANTS.species('neutron')\n",
    "    assert neutron['charge'].magnitude == 0\n",
    "    assert neutron['mass'].magnitude == 1.67492749804e-27\n",
    "    assert neutron['mc2'].magnitude == 939.56542052e6\n",
    "    assert neutron['g_factor'].magnitude == -3.82608545\n",
    "\n",
    "    # Tau\n",
    "    tau = PHYSICAL_CONSTANTS.species('tau')\n",
    "    assert tau['charge'].magnitude == -1.602176634e-19\n",
    "    assert tau['mass'].magnitude == 3.16754e-27\n",
    "    assert tau['mc2'].magnitude == 1776820000.0\n",
    "    assert tau['g_factor'].magnitude == -2.00231930436256\n",
    "    \n",
    "\n",
    "test_species_data()"
   ]
  },
  {
   "cell_type": "code",
   "execution_count": 7,
   "id": "28bff6f8-87b9-4b70-a736-74b30bfed0f1",
   "metadata": {
    "execution": {
     "iopub.execute_input": "2024-10-15T13:47:01.197053Z",
     "iopub.status.busy": "2024-10-15T13:47:01.196703Z",
     "iopub.status.idle": "2024-10-15T13:47:01.200717Z",
     "shell.execute_reply": "2024-10-15T13:47:01.200260Z"
    }
   },
   "outputs": [
    {
     "data": {
      "text/html": [
       "1776820000.0 electron_volt"
      ],
      "text/latex": [
       "$1776820000.0\\ \\mathrm{electron\\_volt}$"
      ],
      "text/plain": [
       "<Quantity(1.77682e+09, 'electron_volt')>"
      ]
     },
     "execution_count": 7,
     "metadata": {},
     "output_type": "execute_result"
    }
   ],
   "source": [
    "PHYSICAL_CONSTANTS.species('tau')['mc2']"
   ]
  },
  {
   "cell_type": "code",
   "execution_count": null,
   "id": "2b194d8c-aaa2-44b4-8928-4f131b8c3bbe",
   "metadata": {},
   "outputs": [],
   "source": []
  }
 ],
 "metadata": {
  "kernelspec": {
   "display_name": "Python 3 (ipykernel)",
   "language": "python",
   "name": "python3"
  },
  "language_info": {
   "codemirror_mode": {
    "name": "ipython",
    "version": 3
   },
   "file_extension": ".py",
   "mimetype": "text/x-python",
   "name": "python",
   "nbconvert_exporter": "python",
   "pygments_lexer": "ipython3",
   "version": "3.9.20"
  }
 },
 "nbformat": 4,
 "nbformat_minor": 5
}
