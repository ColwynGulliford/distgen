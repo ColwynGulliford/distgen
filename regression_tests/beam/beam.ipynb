{
 "cells": [
  {
   "cell_type": "markdown",
   "metadata": {},
   "source": [
    "# Beam Class Regression Tests\n",
    "----"
   ]
  },
  {
   "cell_type": "code",
   "execution_count": 1,
   "metadata": {
    "execution": {
     "iopub.execute_input": "2023-06-12T15:05:05.955021Z",
     "iopub.status.busy": "2023-06-12T15:05:05.954644Z",
     "iopub.status.idle": "2023-06-12T15:05:05.971135Z",
     "shell.execute_reply": "2023-06-12T15:05:05.970602Z"
    }
   },
   "outputs": [],
   "source": [
    "%load_ext autoreload\n",
    "%autoreload 2"
   ]
  },
  {
   "cell_type": "code",
   "execution_count": 2,
   "metadata": {
    "execution": {
     "iopub.execute_input": "2023-06-12T15:05:05.973863Z",
     "iopub.status.busy": "2023-06-12T15:05:05.973673Z",
     "iopub.status.idle": "2023-06-12T15:05:07.822620Z",
     "shell.execute_reply": "2023-06-12T15:05:07.822003Z"
    },
    "tags": []
   },
   "outputs": [],
   "source": [
    "import numpy as np\n",
    "from distgen import Generator\n",
    "from distgen.physical_constants import MC2"
   ]
  },
  {
   "cell_type": "code",
   "execution_count": 3,
   "metadata": {
    "execution": {
     "iopub.execute_input": "2023-06-12T15:05:07.826188Z",
     "iopub.status.busy": "2023-06-12T15:05:07.825543Z",
     "iopub.status.idle": "2023-06-12T15:05:09.123427Z",
     "shell.execute_reply": "2023-06-12T15:05:09.122825Z"
    },
    "tags": []
   },
   "outputs": [],
   "source": [
    "input_file = \"../examples/data/rad.gaussian.in.yaml\"\n",
    "gen = Generator(input_file,verbose=0)\n",
    "beam = gen.beam()\n",
    "\n",
    "coordinates = {'x', 'y', 'z', 'px', 'py', 'pz', \n",
    "               'r', 'theta', 'pr', 'ptheta', \n",
    "               'xp', 'yp', 'thetax', 'thetay',\n",
    "               'gamma', 'energy', 'kinetic_energy', \n",
    "               'beta_x', 'beta_y', 'beta_z'}"
   ]
  },
  {
   "cell_type": "markdown",
   "metadata": {},
   "source": [
    "# Statistical Tests\n",
    "\n",
    "$\\sum_i w_i = 1$"
   ]
  },
  {
   "cell_type": "code",
   "execution_count": 4,
   "metadata": {
    "execution": {
     "iopub.execute_input": "2023-06-12T15:05:09.126510Z",
     "iopub.status.busy": "2023-06-12T15:05:09.126166Z",
     "iopub.status.idle": "2023-06-12T15:05:09.141134Z",
     "shell.execute_reply": "2023-06-12T15:05:09.140583Z"
    }
   },
   "outputs": [],
   "source": [
    "assert np.abs(np.sum(beam['w'])-1)<1e14, 'Beam weights not normalized'"
   ]
  },
  {
   "cell_type": "markdown",
   "metadata": {},
   "source": [
    "$\\langle \\mathcal{O}\\rangle = \\sum_i w_i \\mathcal{O}_i$"
   ]
  },
  {
   "cell_type": "code",
   "execution_count": 5,
   "metadata": {
    "execution": {
     "iopub.execute_input": "2023-06-12T15:05:09.143705Z",
     "iopub.status.busy": "2023-06-12T15:05:09.143383Z",
     "iopub.status.idle": "2023-06-12T15:05:09.870887Z",
     "shell.execute_reply": "2023-06-12T15:05:09.870142Z"
    }
   },
   "outputs": [],
   "source": [
    "for var in coordinates:\n",
    "    assert np.abs(beam.avg(var) - np.sum(beam['w']*beam[var])).magnitude<1e-14, f'<{var}> is not correct'"
   ]
  },
  {
   "cell_type": "markdown",
   "metadata": {},
   "source": [
    "$\\sigma_{\\mathcal{O}}^2 = \\sum_i w_i (\\mathcal{O}_i-\\langle \\mathcal{O}\\rangle)^2 $ "
   ]
  },
  {
   "cell_type": "code",
   "execution_count": 6,
   "metadata": {
    "execution": {
     "iopub.execute_input": "2023-06-12T15:05:09.874252Z",
     "iopub.status.busy": "2023-06-12T15:05:09.873709Z",
     "iopub.status.idle": "2023-06-12T15:05:10.986964Z",
     "shell.execute_reply": "2023-06-12T15:05:10.986297Z"
    }
   },
   "outputs": [],
   "source": [
    "for var in coordinates:\n",
    "    assert np.abs(beam.std(var)**2 - np.sum(beam['w']*(beam[var]-beam.avg(var))**2)).magnitude<5e-10, f'<{var}> is not correct'"
   ]
  },
  {
   "cell_type": "markdown",
   "metadata": {},
   "source": [
    "# Cylindrical Coordinates\n",
    "---\n",
    "# Getting"
   ]
  },
  {
   "cell_type": "markdown",
   "metadata": {},
   "source": [
    "$r=\\sqrt{ x^2 + y^2 }$"
   ]
  },
  {
   "cell_type": "code",
   "execution_count": 7,
   "metadata": {
    "execution": {
     "iopub.execute_input": "2023-06-12T15:05:10.990053Z",
     "iopub.status.busy": "2023-06-12T15:05:10.989844Z",
     "iopub.status.idle": "2023-06-12T15:05:11.016348Z",
     "shell.execute_reply": "2023-06-12T15:05:11.015693Z"
    }
   },
   "outputs": [],
   "source": [
    "deviation =  np.abs(beam['r'] - np.sqrt(beam['x']**2 + beam['y']**2))\n",
    "assert max(deviation.magnitude)<1e-14, 'Radial coordinate incorrect'"
   ]
  },
  {
   "cell_type": "markdown",
   "metadata": {},
   "source": [
    "$x=r\\cos\\theta$"
   ]
  },
  {
   "cell_type": "code",
   "execution_count": 8,
   "metadata": {
    "execution": {
     "iopub.execute_input": "2023-06-12T15:05:11.019632Z",
     "iopub.status.busy": "2023-06-12T15:05:11.019299Z",
     "iopub.status.idle": "2023-06-12T15:05:11.047718Z",
     "shell.execute_reply": "2023-06-12T15:05:11.047132Z"
    }
   },
   "outputs": [],
   "source": [
    "deviation = np.abs(beam['x'] - beam['r']*np.cos(beam['theta']))\n",
    "assert max(deviation.magnitude)<1e-14, 'x coordinate incorrect'"
   ]
  },
  {
   "cell_type": "markdown",
   "metadata": {},
   "source": [
    "$y = r\\sin\\theta$ "
   ]
  },
  {
   "cell_type": "code",
   "execution_count": 9,
   "metadata": {
    "execution": {
     "iopub.execute_input": "2023-06-12T15:05:11.051130Z",
     "iopub.status.busy": "2023-06-12T15:05:11.050793Z",
     "iopub.status.idle": "2023-06-12T15:05:11.079138Z",
     "shell.execute_reply": "2023-06-12T15:05:11.078539Z"
    }
   },
   "outputs": [],
   "source": [
    "deviation = np.abs(beam['x'] - beam['r']*np.cos(beam['theta']))\n",
    "assert max(deviation.magnitude)<5e-13, 'y coordinate incorrect'"
   ]
  },
  {
   "cell_type": "markdown",
   "metadata": {},
   "source": [
    "$p_r = p_x\\cos\\theta - p_y\\sin\\theta$"
   ]
  },
  {
   "cell_type": "code",
   "execution_count": 10,
   "metadata": {
    "execution": {
     "iopub.execute_input": "2023-06-12T15:05:11.082872Z",
     "iopub.status.busy": "2023-06-12T15:05:11.082300Z",
     "iopub.status.idle": "2023-06-12T15:05:11.112451Z",
     "shell.execute_reply": "2023-06-12T15:05:11.111882Z"
    }
   },
   "outputs": [],
   "source": [
    "deviation = np.abs(beam['pr'] - beam['px']*np.cos(beam['theta']) - beam['py']*np.sin(beam['theta']))\n",
    "assert max(deviation.magnitude)<5e-13, 'pr coordinate incorrect'"
   ]
  },
  {
   "cell_type": "markdown",
   "metadata": {},
   "source": [
    "$p_{\\theta} = -p_x\\cos\\theta + p_y\\sin\\theta$"
   ]
  },
  {
   "cell_type": "code",
   "execution_count": 11,
   "metadata": {
    "execution": {
     "iopub.execute_input": "2023-06-12T15:05:11.115216Z",
     "iopub.status.busy": "2023-06-12T15:05:11.114875Z",
     "iopub.status.idle": "2023-06-12T15:05:11.144513Z",
     "shell.execute_reply": "2023-06-12T15:05:11.143801Z"
    }
   },
   "outputs": [],
   "source": [
    "deviation = np.abs(beam['ptheta'] + beam['px']*np.sin(beam['theta']) - beam['py']*np.cos(beam['theta']))\n",
    "assert max(deviation.magnitude)<5e-13, 'ptheta coordinate incorrect'"
   ]
  },
  {
   "cell_type": "markdown",
   "metadata": {},
   "source": [
    "# Transverse Derivatives and Angles\n",
    "---"
   ]
  },
  {
   "cell_type": "markdown",
   "metadata": {},
   "source": [
    "# Getting"
   ]
  },
  {
   "cell_type": "markdown",
   "metadata": {},
   "source": [
    "$x^{\\prime} = p_x/p_z$"
   ]
  },
  {
   "cell_type": "code",
   "execution_count": 12,
   "metadata": {
    "execution": {
     "iopub.execute_input": "2023-06-12T15:05:11.147372Z",
     "iopub.status.busy": "2023-06-12T15:05:11.147033Z",
     "iopub.status.idle": "2023-06-12T15:05:11.172316Z",
     "shell.execute_reply": "2023-06-12T15:05:11.171766Z"
    }
   },
   "outputs": [],
   "source": [
    "deviation = np.abs(beam['xp'] - beam['px'].to(beam['pz'].units)/beam['pz'])\n",
    "assert max(deviation.magnitude)<1e-14, 'xp coordinate incorrect'"
   ]
  },
  {
   "cell_type": "markdown",
   "metadata": {},
   "source": [
    "$y^{\\prime} = p_y/p_z$"
   ]
  },
  {
   "cell_type": "code",
   "execution_count": 13,
   "metadata": {
    "execution": {
     "iopub.execute_input": "2023-06-12T15:05:11.175388Z",
     "iopub.status.busy": "2023-06-12T15:05:11.175072Z",
     "iopub.status.idle": "2023-06-12T15:05:11.201364Z",
     "shell.execute_reply": "2023-06-12T15:05:11.200798Z"
    }
   },
   "outputs": [],
   "source": [
    "deviation = np.abs(beam['yp'] - beam['py'].to(beam['py'].units)/beam['pz'])\n",
    "assert max(deviation.magnitude)<1e-14, 'yp coordinate incorrect'"
   ]
  },
  {
   "cell_type": "markdown",
   "metadata": {},
   "source": [
    "$\\theta_x = \\arctan(p_x/p_z)$"
   ]
  },
  {
   "cell_type": "code",
   "execution_count": 14,
   "metadata": {
    "execution": {
     "iopub.execute_input": "2023-06-12T15:05:11.204346Z",
     "iopub.status.busy": "2023-06-12T15:05:11.203925Z",
     "iopub.status.idle": "2023-06-12T15:05:11.230527Z",
     "shell.execute_reply": "2023-06-12T15:05:11.229966Z"
    }
   },
   "outputs": [],
   "source": [
    "deviation = np.abs(beam['thetax'] - np.arctan(beam['px'].to(beam['px'].units)/beam['pz']))\n",
    "assert max(deviation.magnitude)<1e-14, f'thetax coordinate deviation = {max(deviation)}'"
   ]
  },
  {
   "cell_type": "markdown",
   "metadata": {},
   "source": [
    "$\\theta_y = \\arctan(p_y/p_z)$"
   ]
  },
  {
   "cell_type": "code",
   "execution_count": 15,
   "metadata": {
    "execution": {
     "iopub.execute_input": "2023-06-12T15:05:11.233114Z",
     "iopub.status.busy": "2023-06-12T15:05:11.232917Z",
     "iopub.status.idle": "2023-06-12T15:05:11.259846Z",
     "shell.execute_reply": "2023-06-12T15:05:11.259283Z"
    }
   },
   "outputs": [],
   "source": [
    "deviation = np.abs(beam['thetay'] - np.arctan(beam['py'].to(beam['py'].units)/beam['pz']))\n",
    "assert max(deviation.magnitude)<1e-14, 'thetay coordinate incorrect'"
   ]
  },
  {
   "cell_type": "markdown",
   "metadata": {},
   "source": [
    "# Relativistic Quantities\n",
    "---\n",
    "$p=\\sqrt{p_x^2 + p_y^2 + p_z^2}$"
   ]
  },
  {
   "cell_type": "code",
   "execution_count": 16,
   "metadata": {
    "execution": {
     "iopub.execute_input": "2023-06-12T15:05:11.263084Z",
     "iopub.status.busy": "2023-06-12T15:05:11.262752Z",
     "iopub.status.idle": "2023-06-12T15:05:11.291826Z",
     "shell.execute_reply": "2023-06-12T15:05:11.291273Z"
    }
   },
   "outputs": [],
   "source": [
    "deviation = np.abs(beam['p'] - np.sqrt(beam['px']**2 +beam['py']**2 + beam['pz']**2))\n",
    "assert max(deviation.magnitude)<1e-14, 'thetay coordinate incorrect'"
   ]
  },
  {
   "cell_type": "markdown",
   "metadata": {},
   "source": [
    "$\\gamma = \\sqrt{1+\\left(\\frac{p}{mc}\\right)^2}$"
   ]
  },
  {
   "cell_type": "code",
   "execution_count": 17,
   "metadata": {
    "execution": {
     "iopub.execute_input": "2023-06-12T15:05:11.295051Z",
     "iopub.status.busy": "2023-06-12T15:05:11.294613Z",
     "iopub.status.idle": "2023-06-12T15:05:11.380250Z",
     "shell.execute_reply": "2023-06-12T15:05:11.379647Z"
    }
   },
   "outputs": [],
   "source": [
    "deviation = np.abs( beam['gamma'] - np.sqrt(1+ (beam['p'].to('eV/c').magnitude/MC2.magnitude)**2) )\n",
    "assert max(deviation.magnitude)<1e-13, 'gamma coordinate incorrect'"
   ]
  },
  {
   "cell_type": "markdown",
   "metadata": {},
   "source": [
    "$\\beta_{x_i} = p_{x_i}/\\gamma$"
   ]
  },
  {
   "cell_type": "code",
   "execution_count": 18,
   "metadata": {
    "execution": {
     "iopub.execute_input": "2023-06-12T15:05:11.383165Z",
     "iopub.status.busy": "2023-06-12T15:05:11.382952Z",
     "iopub.status.idle": "2023-06-12T15:05:11.775760Z",
     "shell.execute_reply": "2023-06-12T15:05:11.775164Z"
    }
   },
   "outputs": [],
   "source": [
    "for var in ['x', 'y', 'z']:\n",
    "    deviation = np.abs( beam[f'beta_{var}'] - beam[f'p{var}'].to('GB')/beam['gamma'])  \n",
    "    assert max(deviation.magnitude)<1e-14, f'beta_{var} coordinate incorrect'"
   ]
  },
  {
   "cell_type": "markdown",
   "metadata": {},
   "source": [
    "KE = $mc^2(\\gamma-1)$"
   ]
  },
  {
   "cell_type": "code",
   "execution_count": 19,
   "metadata": {
    "execution": {
     "iopub.execute_input": "2023-06-12T15:05:11.779110Z",
     "iopub.status.busy": "2023-06-12T15:05:11.778659Z",
     "iopub.status.idle": "2023-06-12T15:05:11.918394Z",
     "shell.execute_reply": "2023-06-12T15:05:11.917795Z"
    }
   },
   "outputs": [],
   "source": [
    "deviation = np.abs( beam['kinetic_energy'] - MC2*(beam['gamma']-1) ) \n",
    "assert max(deviation.magnitude)<1e-14, 'KE coordinate incorrect'"
   ]
  },
  {
   "cell_type": "markdown",
   "metadata": {},
   "source": [
    "E = $mc^2\\gamma$"
   ]
  },
  {
   "cell_type": "code",
   "execution_count": 20,
   "metadata": {
    "execution": {
     "iopub.execute_input": "2023-06-12T15:05:11.921431Z",
     "iopub.status.busy": "2023-06-12T15:05:11.921085Z",
     "iopub.status.idle": "2023-06-12T15:05:12.060860Z",
     "shell.execute_reply": "2023-06-12T15:05:12.060253Z"
    }
   },
   "outputs": [],
   "source": [
    "deviation = np.abs( beam['energy'] - MC2*(beam['gamma']) ) \n",
    "assert max(deviation.magnitude)<1e-14, 'E coordinate incorrect'"
   ]
  },
  {
   "cell_type": "markdown",
   "metadata": {},
   "source": [
    "# Twiss Parameters\n",
    "---\n",
    "# Getting\n",
    "\n",
    "$\\epsilon_{n,x_i} = \\frac{1}{mc}\\sqrt{\\sigma_{x_i}^2\\sigma_{p_{x_i}}^2 - \\langle \\left(x_i-\\langle x_i\\rangle\\right)\\left(p_{x_i}-\\langle p_{x_i}\\rangle\\right)\\rangle^2 }$"
   ]
  },
  {
   "cell_type": "code",
   "execution_count": 21,
   "metadata": {
    "execution": {
     "iopub.execute_input": "2023-06-12T15:05:12.064388Z",
     "iopub.status.busy": "2023-06-12T15:05:12.064035Z",
     "iopub.status.idle": "2023-06-12T15:05:12.536565Z",
     "shell.execute_reply": "2023-06-12T15:05:12.535963Z"
    }
   },
   "outputs": [],
   "source": [
    "for var in ['x', 'y']:\n",
    "    stdx = beam.std(var)\n",
    "    stdp = (beam.std(f'p{var}').to('GB')).magnitude\n",
    "    dx = beam[var]-beam.avg(var)\n",
    "    dp = (beam[f'p{var}']-beam.avg(f'p{var}')).to('GB').magnitude\n",
    "    \n",
    "    deviation = np.abs(beam.emitt(var) - np.sqrt(stdx**2 * stdp**2 - (np.sum(beam['w']*dx*dp))**2 ))\n",
    "    assert deviation.magnitude < 1e-14"
   ]
  },
  {
   "cell_type": "markdown",
   "metadata": {},
   "source": [
    "$\\epsilon_{x} = \\sqrt{\\sigma_x^2\\sigma_{x^{\\prime}}^2 - \\langle \\left(x-\\langle x\\rangle\\right)\\left(x^{\\prime}-\\langle x^{\\prime}\\rangle\\right)\\rangle^2 }$"
   ]
  },
  {
   "cell_type": "code",
   "execution_count": 22,
   "metadata": {
    "execution": {
     "iopub.execute_input": "2023-06-12T15:05:12.540514Z",
     "iopub.status.busy": "2023-06-12T15:05:12.539255Z",
     "iopub.status.idle": "2023-06-12T15:05:13.008607Z",
     "shell.execute_reply": "2023-06-12T15:05:13.008024Z"
    }
   },
   "outputs": [],
   "source": [
    "for var in ['x', 'y']:\n",
    "    stdx = beam.std(var)\n",
    "    stdp = (beam.std(f'{var}p')).magnitude\n",
    "    dx = beam[var]-beam.avg(var)\n",
    "    dp = (beam[f'{var}p']-beam.avg(f'{var}p')).magnitude\n",
    "    \n",
    "    deviation = np.abs(beam.emitt(var,'geometric') - np.sqrt(stdx**2 * stdp**2 - (np.sum(beam['w']*dx*dp))**2 ))\n",
    "    assert deviation.magnitude < 1e-14"
   ]
  },
  {
   "cell_type": "markdown",
   "metadata": {},
   "source": [
    "Twiss $\\beta_{x_i} = \\frac{\\sigma_x^2}{\\epsilon_x}$"
   ]
  },
  {
   "cell_type": "code",
   "execution_count": 23,
   "metadata": {
    "execution": {
     "iopub.execute_input": "2023-06-12T15:05:13.012482Z",
     "iopub.status.busy": "2023-06-12T15:05:13.011246Z",
     "iopub.status.idle": "2023-06-12T15:05:13.917522Z",
     "shell.execute_reply": "2023-06-12T15:05:13.916933Z"
    }
   },
   "outputs": [],
   "source": [
    "for var in ['x', 'y']:\n",
    "    stdx = beam.std(var)\n",
    "    epsx = beam.emitt(var,'geometric')\n",
    "\n",
    "    deviation = np.abs( beam.Beta(var) - stdx**2/epsx )\n",
    "    assert deviation.magnitude < 1e-14"
   ]
  },
  {
   "cell_type": "markdown",
   "metadata": {},
   "source": [
    "Twiss $\\alpha_{x_i} = -\\frac{\\langle(x-\\langle x\\rangle)(x^{\\prime}-\\langle x^{\\prime}\\rangle)\\rangle}{\\epsilon_x}$"
   ]
  },
  {
   "cell_type": "code",
   "execution_count": 24,
   "metadata": {
    "execution": {
     "iopub.execute_input": "2023-06-12T15:05:13.920961Z",
     "iopub.status.busy": "2023-06-12T15:05:13.920619Z",
     "iopub.status.idle": "2023-06-12T15:05:22.319614Z",
     "shell.execute_reply": "2023-06-12T15:05:22.319018Z"
    }
   },
   "outputs": [],
   "source": [
    "for var in ['x', 'y']:\n",
    "    dx = beam[var]-beam.avg(var)\n",
    "    dp = (beam[f'{var}p']-beam.avg(f'{var}p'))\n",
    "    epsx = beam.emitt(var,'geometric')\n",
    "    deviation = np.abs( beam.Alpha(var) + sum(beam['w']*dx*dp)/epsx )\n",
    "    assert deviation.magnitude < 1e-15"
   ]
  },
  {
   "cell_type": "markdown",
   "metadata": {},
   "source": [
    "Twiss $\\gamma_{x_i} = \\frac{\\sigma_{x^{\\prime}}^2}{\\epsilon_x}$"
   ]
  },
  {
   "cell_type": "code",
   "execution_count": 25,
   "metadata": {
    "execution": {
     "iopub.execute_input": "2023-06-12T15:05:22.322769Z",
     "iopub.status.busy": "2023-06-12T15:05:22.322430Z",
     "iopub.status.idle": "2023-06-12T15:05:23.227486Z",
     "shell.execute_reply": "2023-06-12T15:05:23.226893Z"
    },
    "tags": []
   },
   "outputs": [],
   "source": [
    "for var in ['x', 'y']:\n",
    "    stdp = beam.std(f'{var}p')\n",
    "    epsx = beam.emitt(var,'geometric')\n",
    "    deviation = np.abs( beam.Gamma(var) - stdp**2/epsx )\n",
    "    assert deviation.magnitude < 5e-15"
   ]
  }
 ],
 "metadata": {
  "kernelspec": {
   "display_name": "Python 3 (ipykernel)",
   "language": "python",
   "name": "python3"
  },
  "language_info": {
   "codemirror_mode": {
    "name": "ipython",
    "version": 3
   },
   "file_extension": ".py",
   "mimetype": "text/x-python",
   "name": "python",
   "nbconvert_exporter": "python",
   "pygments_lexer": "ipython3",
   "version": "3.9.16"
  }
 },
 "nbformat": 4,
 "nbformat_minor": 4
}
