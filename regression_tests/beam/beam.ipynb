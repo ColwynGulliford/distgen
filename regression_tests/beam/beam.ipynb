{
 "cells": [
  {
   "cell_type": "markdown",
   "metadata": {},
   "source": [
    "# Beam Class Regression Tests\n",
    "----"
   ]
  },
  {
   "cell_type": "code",
   "execution_count": 1,
   "metadata": {
    "execution": {
     "iopub.execute_input": "2023-03-15T14:25:48.656180Z",
     "iopub.status.busy": "2023-03-15T14:25:48.655946Z",
     "iopub.status.idle": "2023-03-15T14:25:48.672329Z",
     "shell.execute_reply": "2023-03-15T14:25:48.671803Z"
    }
   },
   "outputs": [],
   "source": [
    "%load_ext autoreload\n",
    "%autoreload 2"
   ]
  },
  {
   "cell_type": "code",
   "execution_count": 2,
   "metadata": {
    "execution": {
     "iopub.execute_input": "2023-03-15T14:25:48.675195Z",
     "iopub.status.busy": "2023-03-15T14:25:48.674873Z",
     "iopub.status.idle": "2023-03-15T14:25:50.444674Z",
     "shell.execute_reply": "2023-03-15T14:25:50.443991Z"
    },
    "tags": []
   },
   "outputs": [],
   "source": [
    "import numpy as np\n",
    "from distgen import Generator\n",
    "from distgen.physical_constants import MC2"
   ]
  },
  {
   "cell_type": "code",
   "execution_count": 3,
   "metadata": {
    "execution": {
     "iopub.execute_input": "2023-03-15T14:25:50.447983Z",
     "iopub.status.busy": "2023-03-15T14:25:50.447439Z",
     "iopub.status.idle": "2023-03-15T14:25:51.866989Z",
     "shell.execute_reply": "2023-03-15T14:25:51.866332Z"
    },
    "tags": []
   },
   "outputs": [],
   "source": [
    "input_file = \"../examples/data/rad.gaussian.in.yaml\"\n",
    "gen = Generator(input_file,verbose=0)\n",
    "beam = gen.beam()\n",
    "\n",
    "coordinates = {'x', 'y', 'z', 'px', 'py', 'pz', \n",
    "               'r', 'theta', 'pr', 'ptheta', \n",
    "               'xp', 'yp', 'thetax', 'thetay',\n",
    "               'gamma', 'energy', 'kinetic_energy', \n",
    "               'beta_x', 'beta_y', 'beta_z'}"
   ]
  },
  {
   "cell_type": "markdown",
   "metadata": {},
   "source": [
    "# Statistical Tests\n",
    "\n",
    "$\\sum_i w_i = 1$"
   ]
  },
  {
   "cell_type": "code",
   "execution_count": 4,
   "metadata": {
    "execution": {
     "iopub.execute_input": "2023-03-15T14:25:51.870067Z",
     "iopub.status.busy": "2023-03-15T14:25:51.869720Z",
     "iopub.status.idle": "2023-03-15T14:25:51.884501Z",
     "shell.execute_reply": "2023-03-15T14:25:51.883967Z"
    }
   },
   "outputs": [],
   "source": [
    "assert np.abs(np.sum(beam['w'])-1)<1e14, 'Beam weights not normalized'"
   ]
  },
  {
   "cell_type": "markdown",
   "metadata": {},
   "source": [
    "$\\langle \\mathcal{O}\\rangle = \\sum_i w_i \\mathcal{O}_i$"
   ]
  },
  {
   "cell_type": "code",
   "execution_count": 5,
   "metadata": {
    "execution": {
     "iopub.execute_input": "2023-03-15T14:25:51.887189Z",
     "iopub.status.busy": "2023-03-15T14:25:51.886717Z",
     "iopub.status.idle": "2023-03-15T14:25:52.645281Z",
     "shell.execute_reply": "2023-03-15T14:25:52.644206Z"
    }
   },
   "outputs": [],
   "source": [
    "for var in coordinates:\n",
    "    assert np.abs(beam.avg(var) - np.sum(beam['w']*beam[var])).magnitude<1e-14, f'<{var}> is not correct'"
   ]
  },
  {
   "cell_type": "markdown",
   "metadata": {},
   "source": [
    "$\\sigma_{\\mathcal{O}}^2 = \\sum_i w_i (\\mathcal{O}_i-\\langle \\mathcal{O}\\rangle)^2 $ "
   ]
  },
  {
   "cell_type": "code",
   "execution_count": 6,
   "metadata": {
    "execution": {
     "iopub.execute_input": "2023-03-15T14:25:52.648763Z",
     "iopub.status.busy": "2023-03-15T14:25:52.648328Z",
     "iopub.status.idle": "2023-03-15T14:25:53.797619Z",
     "shell.execute_reply": "2023-03-15T14:25:53.796959Z"
    }
   },
   "outputs": [],
   "source": [
    "for var in coordinates:\n",
    "    assert np.abs(beam.std(var)**2 - np.sum(beam['w']*(beam[var]-beam.avg(var))**2)).magnitude<5e-10, f'<{var}> is not correct'"
   ]
  },
  {
   "cell_type": "markdown",
   "metadata": {},
   "source": [
    "# Cylindrical Coordinates\n",
    "---\n",
    "# Getting"
   ]
  },
  {
   "cell_type": "markdown",
   "metadata": {},
   "source": [
    "$r=\\sqrt{ x^2 + y^2 }$"
   ]
  },
  {
   "cell_type": "code",
   "execution_count": 7,
   "metadata": {
    "execution": {
     "iopub.execute_input": "2023-03-15T14:25:53.801122Z",
     "iopub.status.busy": "2023-03-15T14:25:53.800599Z",
     "iopub.status.idle": "2023-03-15T14:25:53.828506Z",
     "shell.execute_reply": "2023-03-15T14:25:53.827908Z"
    }
   },
   "outputs": [],
   "source": [
    "deviation =  np.abs(beam['r'] - np.sqrt(beam['x']**2 + beam['y']**2))\n",
    "assert max(deviation.magnitude)<1e-14, 'Radial coordinate incorrect'"
   ]
  },
  {
   "cell_type": "markdown",
   "metadata": {},
   "source": [
    "$x=r\\cos\\theta$"
   ]
  },
  {
   "cell_type": "code",
   "execution_count": 8,
   "metadata": {
    "execution": {
     "iopub.execute_input": "2023-03-15T14:25:53.831468Z",
     "iopub.status.busy": "2023-03-15T14:25:53.831020Z",
     "iopub.status.idle": "2023-03-15T14:25:53.859281Z",
     "shell.execute_reply": "2023-03-15T14:25:53.858462Z"
    }
   },
   "outputs": [],
   "source": [
    "deviation = np.abs(beam['x'] - beam['r']*np.cos(beam['theta']))\n",
    "assert max(deviation.magnitude)<1e-14, 'x coordinate incorrect'"
   ]
  },
  {
   "cell_type": "markdown",
   "metadata": {},
   "source": [
    "$y = r\\sin\\theta$ "
   ]
  },
  {
   "cell_type": "code",
   "execution_count": 9,
   "metadata": {
    "execution": {
     "iopub.execute_input": "2023-03-15T14:25:53.862177Z",
     "iopub.status.busy": "2023-03-15T14:25:53.861817Z",
     "iopub.status.idle": "2023-03-15T14:25:53.889646Z",
     "shell.execute_reply": "2023-03-15T14:25:53.889056Z"
    }
   },
   "outputs": [],
   "source": [
    "deviation = np.abs(beam['x'] - beam['r']*np.cos(beam['theta']))\n",
    "assert max(deviation.magnitude)<5e-13, 'y coordinate incorrect'"
   ]
  },
  {
   "cell_type": "markdown",
   "metadata": {},
   "source": [
    "$p_r = p_x\\cos\\theta - p_y\\sin\\theta$"
   ]
  },
  {
   "cell_type": "code",
   "execution_count": 10,
   "metadata": {
    "execution": {
     "iopub.execute_input": "2023-03-15T14:25:53.893348Z",
     "iopub.status.busy": "2023-03-15T14:25:53.892251Z",
     "iopub.status.idle": "2023-03-15T14:25:53.923804Z",
     "shell.execute_reply": "2023-03-15T14:25:53.923214Z"
    }
   },
   "outputs": [],
   "source": [
    "deviation = np.abs(beam['pr'] - beam['px']*np.cos(beam['theta']) - beam['py']*np.sin(beam['theta']))\n",
    "assert max(deviation.magnitude)<5e-13, 'pr coordinate incorrect'"
   ]
  },
  {
   "cell_type": "markdown",
   "metadata": {},
   "source": [
    "$p_{\\theta} = -p_x\\cos\\theta + p_y\\sin\\theta$"
   ]
  },
  {
   "cell_type": "code",
   "execution_count": 11,
   "metadata": {
    "execution": {
     "iopub.execute_input": "2023-03-15T14:25:53.926819Z",
     "iopub.status.busy": "2023-03-15T14:25:53.926490Z",
     "iopub.status.idle": "2023-03-15T14:25:53.957964Z",
     "shell.execute_reply": "2023-03-15T14:25:53.957356Z"
    }
   },
   "outputs": [],
   "source": [
    "deviation = np.abs(beam['ptheta'] + beam['px']*np.sin(beam['theta']) - beam['py']*np.cos(beam['theta']))\n",
    "assert max(deviation.magnitude)<5e-13, 'ptheta coordinate incorrect'"
   ]
  },
  {
   "cell_type": "markdown",
   "metadata": {},
   "source": [
    "# Transverse Derivatives and Angles\n",
    "---"
   ]
  },
  {
   "cell_type": "markdown",
   "metadata": {},
   "source": [
    "# Getting"
   ]
  },
  {
   "cell_type": "markdown",
   "metadata": {},
   "source": [
    "$x^{\\prime} = p_x/p_z$"
   ]
  },
  {
   "cell_type": "code",
   "execution_count": 12,
   "metadata": {
    "execution": {
     "iopub.execute_input": "2023-03-15T14:25:53.962019Z",
     "iopub.status.busy": "2023-03-15T14:25:53.960900Z",
     "iopub.status.idle": "2023-03-15T14:25:53.988788Z",
     "shell.execute_reply": "2023-03-15T14:25:53.987621Z"
    }
   },
   "outputs": [],
   "source": [
    "deviation = np.abs(beam['xp'] - beam['px'].to(beam['pz'].units)/beam['pz'])\n",
    "assert max(deviation.magnitude)<1e-14, 'xp coordinate incorrect'"
   ]
  },
  {
   "cell_type": "markdown",
   "metadata": {},
   "source": [
    "$y^{\\prime} = p_y/p_z$"
   ]
  },
  {
   "cell_type": "code",
   "execution_count": 13,
   "metadata": {
    "execution": {
     "iopub.execute_input": "2023-03-15T14:25:53.991799Z",
     "iopub.status.busy": "2023-03-15T14:25:53.991267Z",
     "iopub.status.idle": "2023-03-15T14:25:54.017976Z",
     "shell.execute_reply": "2023-03-15T14:25:54.017255Z"
    }
   },
   "outputs": [],
   "source": [
    "deviation = np.abs(beam['yp'] - beam['py'].to(beam['py'].units)/beam['pz'])\n",
    "assert max(deviation.magnitude)<1e-14, 'yp coordinate incorrect'"
   ]
  },
  {
   "cell_type": "markdown",
   "metadata": {},
   "source": [
    "$\\theta_x = \\arctan(p_x/p_z)$"
   ]
  },
  {
   "cell_type": "code",
   "execution_count": 14,
   "metadata": {
    "execution": {
     "iopub.execute_input": "2023-03-15T14:25:54.020739Z",
     "iopub.status.busy": "2023-03-15T14:25:54.020223Z",
     "iopub.status.idle": "2023-03-15T14:25:54.046843Z",
     "shell.execute_reply": "2023-03-15T14:25:54.045898Z"
    }
   },
   "outputs": [],
   "source": [
    "deviation = np.abs(beam['thetax'] - np.arctan(beam['px'].to(beam['px'].units)/beam['pz']))\n",
    "assert max(deviation.magnitude)<1e-14, f'thetax coordinate deviation = {max(deviation)}'"
   ]
  },
  {
   "cell_type": "markdown",
   "metadata": {},
   "source": [
    "$\\theta_y = \\arctan(p_y/p_z)$"
   ]
  },
  {
   "cell_type": "code",
   "execution_count": 15,
   "metadata": {
    "execution": {
     "iopub.execute_input": "2023-03-15T14:25:54.050012Z",
     "iopub.status.busy": "2023-03-15T14:25:54.049087Z",
     "iopub.status.idle": "2023-03-15T14:25:54.075679Z",
     "shell.execute_reply": "2023-03-15T14:25:54.075117Z"
    }
   },
   "outputs": [],
   "source": [
    "deviation = np.abs(beam['thetay'] - np.arctan(beam['py'].to(beam['py'].units)/beam['pz']))\n",
    "assert max(deviation.magnitude)<1e-14, 'thetay coordinate incorrect'"
   ]
  },
  {
   "cell_type": "markdown",
   "metadata": {},
   "source": [
    "# Relativistic Quantities\n",
    "---\n",
    "$p=\\sqrt{p_x^2 + p_y^2 + p_z^2}$"
   ]
  },
  {
   "cell_type": "code",
   "execution_count": 16,
   "metadata": {
    "execution": {
     "iopub.execute_input": "2023-03-15T14:25:54.078573Z",
     "iopub.status.busy": "2023-03-15T14:25:54.078085Z",
     "iopub.status.idle": "2023-03-15T14:25:54.105979Z",
     "shell.execute_reply": "2023-03-15T14:25:54.105413Z"
    }
   },
   "outputs": [],
   "source": [
    "deviation = np.abs(beam['p'] - np.sqrt(beam['px']**2 +beam['py']**2 + beam['pz']**2))\n",
    "assert max(deviation.magnitude)<1e-14, 'thetay coordinate incorrect'"
   ]
  },
  {
   "cell_type": "markdown",
   "metadata": {},
   "source": [
    "$\\gamma = \\sqrt{1+\\left(\\frac{p}{mc}\\right)^2}$"
   ]
  },
  {
   "cell_type": "code",
   "execution_count": 17,
   "metadata": {
    "execution": {
     "iopub.execute_input": "2023-03-15T14:25:54.109453Z",
     "iopub.status.busy": "2023-03-15T14:25:54.108462Z",
     "iopub.status.idle": "2023-03-15T14:25:54.195846Z",
     "shell.execute_reply": "2023-03-15T14:25:54.195197Z"
    }
   },
   "outputs": [],
   "source": [
    "deviation = np.abs( beam['gamma'] - np.sqrt(1+ (beam['p'].to('eV/c').magnitude/MC2.magnitude)**2) )\n",
    "assert max(deviation.magnitude)<1e-13, 'gamma coordinate incorrect'"
   ]
  },
  {
   "cell_type": "markdown",
   "metadata": {},
   "source": [
    "$\\beta_{x_i} = p_{x_i}/\\gamma$"
   ]
  },
  {
   "cell_type": "code",
   "execution_count": 18,
   "metadata": {
    "execution": {
     "iopub.execute_input": "2023-03-15T14:25:54.199701Z",
     "iopub.status.busy": "2023-03-15T14:25:54.198639Z",
     "iopub.status.idle": "2023-03-15T14:25:54.603560Z",
     "shell.execute_reply": "2023-03-15T14:25:54.602885Z"
    }
   },
   "outputs": [],
   "source": [
    "for var in ['x', 'y', 'z']:\n",
    "    deviation = np.abs( beam[f'beta_{var}'] - beam[f'p{var}'].to('GB')/beam['gamma'])  \n",
    "    assert max(deviation.magnitude)<1e-14, f'beta_{var} coordinate incorrect'"
   ]
  },
  {
   "cell_type": "markdown",
   "metadata": {},
   "source": [
    "KE = $mc^2(\\gamma-1)$"
   ]
  },
  {
   "cell_type": "code",
   "execution_count": 19,
   "metadata": {
    "execution": {
     "iopub.execute_input": "2023-03-15T14:25:54.607107Z",
     "iopub.status.busy": "2023-03-15T14:25:54.606605Z",
     "iopub.status.idle": "2023-03-15T14:25:54.751487Z",
     "shell.execute_reply": "2023-03-15T14:25:54.750835Z"
    }
   },
   "outputs": [],
   "source": [
    "deviation = np.abs( beam['kinetic_energy'] - MC2*(beam['gamma']-1) ) \n",
    "assert max(deviation.magnitude)<1e-14, 'KE coordinate incorrect'"
   ]
  },
  {
   "cell_type": "markdown",
   "metadata": {},
   "source": [
    "E = $mc^2\\gamma$"
   ]
  },
  {
   "cell_type": "code",
   "execution_count": 20,
   "metadata": {
    "execution": {
     "iopub.execute_input": "2023-03-15T14:25:54.754918Z",
     "iopub.status.busy": "2023-03-15T14:25:54.754385Z",
     "iopub.status.idle": "2023-03-15T14:25:54.898987Z",
     "shell.execute_reply": "2023-03-15T14:25:54.897885Z"
    }
   },
   "outputs": [],
   "source": [
    "deviation = np.abs( beam['energy'] - MC2*(beam['gamma']) ) \n",
    "assert max(deviation.magnitude)<1e-14, 'E coordinate incorrect'"
   ]
  },
  {
   "cell_type": "markdown",
   "metadata": {},
   "source": [
    "# Twiss Parameters\n",
    "---\n",
    "# Getting\n",
    "\n",
    "$\\epsilon_{n,x_i} = \\frac{1}{mc}\\sqrt{\\sigma_{x_i}^2\\sigma_{p_{x_i}}^2 - \\langle \\left(x_i-\\langle x_i\\rangle\\right)\\left(p_{x_i}-\\langle p_{x_i}\\rangle\\right)\\rangle^2 }$"
   ]
  },
  {
   "cell_type": "code",
   "execution_count": 21,
   "metadata": {
    "execution": {
     "iopub.execute_input": "2023-03-15T14:25:54.902242Z",
     "iopub.status.busy": "2023-03-15T14:25:54.901729Z",
     "iopub.status.idle": "2023-03-15T14:25:55.390258Z",
     "shell.execute_reply": "2023-03-15T14:25:55.389591Z"
    }
   },
   "outputs": [],
   "source": [
    "for var in ['x', 'y']:\n",
    "    stdx = beam.std(var)\n",
    "    stdp = (beam.std(f'p{var}').to('GB')).magnitude\n",
    "    dx = beam[var]-beam.avg(var)\n",
    "    dp = (beam[f'p{var}']-beam.avg(f'p{var}')).to('GB').magnitude\n",
    "    \n",
    "    deviation = np.abs(beam.emitt(var) - np.sqrt(stdx**2 * stdp**2 - (np.sum(beam['w']*dx*dp))**2 ))\n",
    "    assert deviation.magnitude < 1e-14"
   ]
  },
  {
   "cell_type": "markdown",
   "metadata": {},
   "source": [
    "$\\epsilon_{x} = \\sqrt{\\sigma_x^2\\sigma_{x^{\\prime}}^2 - \\langle \\left(x-\\langle x\\rangle\\right)\\left(x^{\\prime}-\\langle x^{\\prime}\\rangle\\right)\\rangle^2 }$"
   ]
  },
  {
   "cell_type": "code",
   "execution_count": 22,
   "metadata": {
    "execution": {
     "iopub.execute_input": "2023-03-15T14:25:55.393893Z",
     "iopub.status.busy": "2023-03-15T14:25:55.393295Z",
     "iopub.status.idle": "2023-03-15T14:25:55.883981Z",
     "shell.execute_reply": "2023-03-15T14:25:55.883311Z"
    }
   },
   "outputs": [],
   "source": [
    "for var in ['x', 'y']:\n",
    "    stdx = beam.std(var)\n",
    "    stdp = (beam.std(f'{var}p')).magnitude\n",
    "    dx = beam[var]-beam.avg(var)\n",
    "    dp = (beam[f'{var}p']-beam.avg(f'{var}p')).magnitude\n",
    "    \n",
    "    deviation = np.abs(beam.emitt(var,'geometric') - np.sqrt(stdx**2 * stdp**2 - (np.sum(beam['w']*dx*dp))**2 ))\n",
    "    assert deviation.magnitude < 1e-14"
   ]
  },
  {
   "cell_type": "markdown",
   "metadata": {},
   "source": [
    "Twiss $\\beta_{x_i} = \\frac{\\sigma_x^2}{\\epsilon_x}$"
   ]
  },
  {
   "cell_type": "code",
   "execution_count": 23,
   "metadata": {
    "execution": {
     "iopub.execute_input": "2023-03-15T14:25:55.887425Z",
     "iopub.status.busy": "2023-03-15T14:25:55.886870Z",
     "iopub.status.idle": "2023-03-15T14:25:56.832514Z",
     "shell.execute_reply": "2023-03-15T14:25:56.831370Z"
    }
   },
   "outputs": [],
   "source": [
    "for var in ['x', 'y']:\n",
    "    stdx = beam.std(var)\n",
    "    epsx = beam.emitt(var,'geometric')\n",
    "\n",
    "    deviation = np.abs( beam.Beta(var) - stdx**2/epsx )\n",
    "    assert deviation.magnitude < 1e-14"
   ]
  },
  {
   "cell_type": "markdown",
   "metadata": {},
   "source": [
    "Twiss $\\alpha_{x_i} = -\\frac{\\langle(x-\\langle x\\rangle)(x^{\\prime}-\\langle x^{\\prime}\\rangle)\\rangle}{\\epsilon_x}$"
   ]
  },
  {
   "cell_type": "code",
   "execution_count": 24,
   "metadata": {
    "execution": {
     "iopub.execute_input": "2023-03-15T14:25:56.836036Z",
     "iopub.status.busy": "2023-03-15T14:25:56.835469Z",
     "iopub.status.idle": "2023-03-15T14:26:04.011268Z",
     "shell.execute_reply": "2023-03-15T14:26:04.009828Z"
    }
   },
   "outputs": [],
   "source": [
    "for var in ['x', 'y']:\n",
    "    dx = beam[var]-beam.avg(var)\n",
    "    dp = (beam[f'{var}p']-beam.avg(f'{var}p'))\n",
    "    epsx = beam.emitt(var,'geometric')\n",
    "    deviation = np.abs( beam.Alpha(var) + sum(beam['w']*dx*dp)/epsx )\n",
    "    assert deviation.magnitude < 1e-15"
   ]
  },
  {
   "cell_type": "markdown",
   "metadata": {},
   "source": [
    "Twiss $\\gamma_{x_i} = \\frac{\\sigma_{x^{\\prime}}^2}{\\epsilon_x}$"
   ]
  },
  {
   "cell_type": "code",
   "execution_count": 25,
   "metadata": {
    "execution": {
     "iopub.execute_input": "2023-03-15T14:26:04.014655Z",
     "iopub.status.busy": "2023-03-15T14:26:04.014134Z",
     "iopub.status.idle": "2023-03-15T14:26:04.962478Z",
     "shell.execute_reply": "2023-03-15T14:26:04.961278Z"
    },
    "tags": []
   },
   "outputs": [],
   "source": [
    "for var in ['x', 'y']:\n",
    "    stdp = beam.std(f'{var}p')\n",
    "    epsx = beam.emitt(var,'geometric')\n",
    "    deviation = np.abs( beam.Gamma(var) - stdp**2/epsx )\n",
    "    assert deviation.magnitude < 5e-15"
   ]
  }
 ],
 "metadata": {
  "kernelspec": {
   "display_name": "Python 3 (ipykernel)",
   "language": "python",
   "name": "python3"
  },
  "language_info": {
   "codemirror_mode": {
    "name": "ipython",
    "version": 3
   },
   "file_extension": ".py",
   "mimetype": "text/x-python",
   "name": "python",
   "nbconvert_exporter": "python",
   "pygments_lexer": "ipython3",
   "version": "3.9.16"
  }
 },
 "nbformat": 4,
 "nbformat_minor": 4
}
