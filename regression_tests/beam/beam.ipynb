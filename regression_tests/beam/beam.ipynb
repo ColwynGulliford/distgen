{
 "cells": [
  {
   "cell_type": "markdown",
   "metadata": {},
   "source": [
    "# Beam Class Regression Tests\n",
    "----"
   ]
  },
  {
   "cell_type": "code",
   "execution_count": 1,
   "metadata": {
    "execution": {
     "iopub.execute_input": "2024-08-12T17:05:31.583161Z",
     "iopub.status.busy": "2024-08-12T17:05:31.582981Z",
     "iopub.status.idle": "2024-08-12T17:05:31.596921Z",
     "shell.execute_reply": "2024-08-12T17:05:31.596380Z"
    }
   },
   "outputs": [],
   "source": [
    "%load_ext autoreload\n",
    "%autoreload 2"
   ]
  },
  {
   "cell_type": "code",
   "execution_count": 2,
   "metadata": {
    "execution": {
     "iopub.execute_input": "2024-08-12T17:05:31.599253Z",
     "iopub.status.busy": "2024-08-12T17:05:31.598942Z",
     "iopub.status.idle": "2024-08-12T17:05:32.799933Z",
     "shell.execute_reply": "2024-08-12T17:05:32.799337Z"
    },
    "tags": []
   },
   "outputs": [],
   "source": [
    "import numpy as np\n",
    "from distgen import Generator\n",
    "from distgen.physical_constants import PHYSICAL_CONSTANTS\n",
    "from distgen.tools import check_abs_and_rel_tols\n",
    "from glob import glob"
   ]
  },
  {
   "cell_type": "code",
   "execution_count": 3,
   "metadata": {
    "execution": {
     "iopub.execute_input": "2024-08-12T17:05:32.802904Z",
     "iopub.status.busy": "2024-08-12T17:05:32.802403Z",
     "iopub.status.idle": "2024-08-12T17:05:32.818116Z",
     "shell.execute_reply": "2024-08-12T17:05:32.817597Z"
    },
    "tags": []
   },
   "outputs": [],
   "source": [
    "yaml_files = list( glob('../examples/data/*.yaml') )\n",
    "\n",
    "coordinates = {'x', 'y', 'z', 'px', 'py', 'pz', \n",
    "               'r', 'theta', 'pr', 'ptheta', \n",
    "               'xp', 'yp', 'thetax', 'thetay',\n",
    "               'gamma', 'energy', 'kinetic_energy', \n",
    "               'beta_x', 'beta_y', 'beta_z'}\n",
    "\n",
    "def run_test_on_input_file(input_file, test):\n",
    "    G = Generator(input_file, verbose=0)\n",
    "    G['n_particle']=10_000\n",
    "    test(G.beam())\n",
    "\n",
    "def run_test_on_input_files(input_files, test, verbose=False):\n",
    "    \n",
    "    for input_file in input_files:\n",
    "        if(verbose): \n",
    "            print('Testing:', input_file)\n",
    "            \n",
    "        run_test_on_input_file(input_file, test)"
   ]
  },
  {
   "cell_type": "markdown",
   "metadata": {},
   "source": [
    "# Statistical Tests\n",
    "\n",
    "$\\sum_i w_i = 1$"
   ]
  },
  {
   "cell_type": "code",
   "execution_count": 4,
   "metadata": {
    "execution": {
     "iopub.execute_input": "2024-08-12T17:05:32.820474Z",
     "iopub.status.busy": "2024-08-12T17:05:32.820060Z",
     "iopub.status.idle": "2024-08-12T17:05:34.901580Z",
     "shell.execute_reply": "2024-08-12T17:05:34.900940Z"
    }
   },
   "outputs": [],
   "source": [
    "def test_weight_normalization(beam):\n",
    "    check_abs_and_rel_tols('macroparticle weights', np.sum(beam['w']), 1.0, abs_tol=1e-12, rel_tol=1e-15)\n",
    "\n",
    "run_test_on_input_files(yaml_files, test_weight_normalization)"
   ]
  },
  {
   "cell_type": "markdown",
   "metadata": {},
   "source": [
    "$\\langle \\mathcal{O}\\rangle = \\sum_i w_i \\mathcal{O}_i$"
   ]
  },
  {
   "cell_type": "code",
   "execution_count": 5,
   "metadata": {
    "execution": {
     "iopub.execute_input": "2024-08-12T17:05:34.904435Z",
     "iopub.status.busy": "2024-08-12T17:05:34.904189Z",
     "iopub.status.idle": "2024-08-12T17:05:37.528401Z",
     "shell.execute_reply": "2024-08-12T17:05:37.527822Z"
    }
   },
   "outputs": [],
   "source": [
    "def test_avg(beam):\n",
    "    for var in coordinates:\n",
    "        avg_beam, avg_numpy = beam.avg(var), np.sum(beam['w']*beam[var])\n",
    "        check_abs_and_rel_tols('beam.avg', avg_beam, avg_numpy, abs_tol=1e-12, rel_tol=1e-15)  \n",
    "\n",
    "run_test_on_input_files(yaml_files, test_avg)"
   ]
  },
  {
   "cell_type": "markdown",
   "metadata": {},
   "source": [
    "$\\sigma_{\\mathcal{O}}^2 = \\sum_i w_i (\\mathcal{O}_i-\\langle \\mathcal{O}\\rangle)^2 $ "
   ]
  },
  {
   "cell_type": "code",
   "execution_count": 6,
   "metadata": {
    "execution": {
     "iopub.execute_input": "2024-08-12T17:05:37.531180Z",
     "iopub.status.busy": "2024-08-12T17:05:37.530807Z",
     "iopub.status.idle": "2024-08-12T17:05:40.461931Z",
     "shell.execute_reply": "2024-08-12T17:05:40.461346Z"
    }
   },
   "outputs": [],
   "source": [
    "def test_std(beam):\n",
    "    for var in coordinates:\n",
    "        sigma2_beam = beam.std(var)**2\n",
    "        sigma2_numpy = np.sum(beam['w']*(beam[var]-beam.avg(var))**2)\n",
    "        check_abs_and_rel_tols('beam.std', sigma2_beam, sigma2_numpy, abs_tol=1e-8, rel_tol=1e-15)\n",
    "\n",
    "run_test_on_input_files(yaml_files, test_std)"
   ]
  },
  {
   "cell_type": "markdown",
   "metadata": {},
   "source": [
    "# Cylindrical Coordinates\n",
    "---\n",
    "# Getting"
   ]
  },
  {
   "cell_type": "markdown",
   "metadata": {},
   "source": [
    "$r=\\sqrt{ x^2 + y^2 }$"
   ]
  },
  {
   "cell_type": "code",
   "execution_count": 7,
   "metadata": {
    "execution": {
     "iopub.execute_input": "2024-08-12T17:05:40.465024Z",
     "iopub.status.busy": "2024-08-12T17:05:40.464448Z",
     "iopub.status.idle": "2024-08-12T17:05:42.503222Z",
     "shell.execute_reply": "2024-08-12T17:05:42.502657Z"
    }
   },
   "outputs": [],
   "source": [
    "def test_r(beam):\n",
    "    check_abs_and_rel_tols('beam.r', beam['r'], np.sqrt(beam['x']**2 + beam['y']**2), abs_tol=1e-15, rel_tol=1e-15)\n",
    "\n",
    "run_test_on_input_files(yaml_files, test_r)"
   ]
  },
  {
   "cell_type": "markdown",
   "metadata": {},
   "source": [
    "$x=r\\cos\\theta$"
   ]
  },
  {
   "cell_type": "code",
   "execution_count": 8,
   "metadata": {
    "execution": {
     "iopub.execute_input": "2024-08-12T17:05:42.505974Z",
     "iopub.status.busy": "2024-08-12T17:05:42.505535Z",
     "iopub.status.idle": "2024-08-12T17:05:44.567815Z",
     "shell.execute_reply": "2024-08-12T17:05:44.567186Z"
    }
   },
   "outputs": [],
   "source": [
    "def test_x(beam):\n",
    "    check_abs_and_rel_tols('beam.x = r cos(theta)', beam['x'], beam['r']*np.cos(beam['theta']), abs_tol=1e-12, rel_tol=1e-11)\n",
    "\n",
    "run_test_on_input_files(yaml_files, test_x)"
   ]
  },
  {
   "cell_type": "markdown",
   "metadata": {},
   "source": [
    "$y = r\\sin\\theta$ "
   ]
  },
  {
   "cell_type": "code",
   "execution_count": 9,
   "metadata": {
    "execution": {
     "iopub.execute_input": "2024-08-12T17:05:44.570568Z",
     "iopub.status.busy": "2024-08-12T17:05:44.570363Z",
     "iopub.status.idle": "2024-08-12T17:05:46.627019Z",
     "shell.execute_reply": "2024-08-12T17:05:46.626437Z"
    }
   },
   "outputs": [],
   "source": [
    "def test_y(beam):\n",
    "    check_abs_and_rel_tols('beam.y = r sin(theta)', beam['y'], beam['r']*np.sin(beam['theta']), abs_tol=1e-12, rel_tol=1e-11)\n",
    "\n",
    "run_test_on_input_files(yaml_files, test_y)"
   ]
  },
  {
   "cell_type": "markdown",
   "metadata": {},
   "source": [
    "$p_r = p_x\\cos\\theta + p_y\\sin\\theta$"
   ]
  },
  {
   "cell_type": "code",
   "execution_count": 10,
   "metadata": {
    "execution": {
     "iopub.execute_input": "2024-08-12T17:05:46.629801Z",
     "iopub.status.busy": "2024-08-12T17:05:46.629439Z",
     "iopub.status.idle": "2024-08-12T17:05:48.717791Z",
     "shell.execute_reply": "2024-08-12T17:05:48.717151Z"
    }
   },
   "outputs": [],
   "source": [
    "def test_pr(beam):\n",
    "    check_abs_and_rel_tols('beam.pr = px cos(theta) + py sin(theta)', beam['pr'],\n",
    "                           beam['px']*np.cos(beam['theta']) + beam['py']*np.sin(beam['theta']), \n",
    "                           abs_tol=1e-12, rel_tol=1e-15)\n",
    "\n",
    "\n",
    "run_test_on_input_files(yaml_files, test_pr)"
   ]
  },
  {
   "cell_type": "markdown",
   "metadata": {},
   "source": [
    "$p_{\\theta} = -p_x\\sin\\theta + p_y\\cos\\theta$"
   ]
  },
  {
   "cell_type": "code",
   "execution_count": 11,
   "metadata": {
    "execution": {
     "iopub.execute_input": "2024-08-12T17:05:48.720673Z",
     "iopub.status.busy": "2024-08-12T17:05:48.720307Z",
     "iopub.status.idle": "2024-08-12T17:05:50.815400Z",
     "shell.execute_reply": "2024-08-12T17:05:50.814753Z"
    }
   },
   "outputs": [],
   "source": [
    "def test_ptheta(beam):\n",
    "    check_abs_and_rel_tols('beam.ptheta = -px sin(theta) + py cos(theta)', \n",
    "                           beam['ptheta'],\n",
    "                           -beam['px']*np.sin(beam['theta']) + beam['py']*np.cos(beam['theta']), \n",
    "                           abs_tol=1e-12, rel_tol=1e-15)\n",
    "\n",
    "run_test_on_input_files(yaml_files, test_ptheta)"
   ]
  },
  {
   "cell_type": "markdown",
   "metadata": {},
   "source": [
    "# Transverse Derivatives and Angles\n",
    "---"
   ]
  },
  {
   "cell_type": "markdown",
   "metadata": {},
   "source": [
    "# Getting"
   ]
  },
  {
   "cell_type": "markdown",
   "metadata": {},
   "source": [
    "$x^{\\prime} = p_x/p_z$"
   ]
  },
  {
   "cell_type": "code",
   "execution_count": 12,
   "metadata": {
    "execution": {
     "iopub.execute_input": "2024-08-12T17:05:50.818251Z",
     "iopub.status.busy": "2024-08-12T17:05:50.818042Z",
     "iopub.status.idle": "2024-08-12T17:05:52.858444Z",
     "shell.execute_reply": "2024-08-12T17:05:52.857843Z"
    }
   },
   "outputs": [],
   "source": [
    "def test_xp(beam):\n",
    "    check_abs_and_rel_tols('beam.xp = px/pz', beam['xp'], beam['px'].to(beam['pz'].units)/beam['pz'], abs_tol=1e-14, rel_tol=1e-15)\n",
    "\n",
    "run_test_on_input_files(yaml_files, test_xp)"
   ]
  },
  {
   "cell_type": "markdown",
   "metadata": {},
   "source": [
    "$y^{\\prime} = p_y/p_z$"
   ]
  },
  {
   "cell_type": "code",
   "execution_count": 13,
   "metadata": {
    "execution": {
     "iopub.execute_input": "2024-08-12T17:05:52.861198Z",
     "iopub.status.busy": "2024-08-12T17:05:52.860790Z",
     "iopub.status.idle": "2024-08-12T17:05:54.913734Z",
     "shell.execute_reply": "2024-08-12T17:05:54.913144Z"
    }
   },
   "outputs": [],
   "source": [
    "def test_yp(beam):\n",
    "    check_abs_and_rel_tols('beam.yp = py/pz', beam['yp'], beam['py'].to(beam['pz'].units)/beam['pz'], abs_tol=1e-14, rel_tol=1e-15)\n",
    "\n",
    "run_test_on_input_files(yaml_files, test_yp)"
   ]
  },
  {
   "cell_type": "markdown",
   "metadata": {},
   "source": [
    "$\\theta_x = \\arctan(p_x/p_z)$"
   ]
  },
  {
   "cell_type": "code",
   "execution_count": 14,
   "metadata": {
    "execution": {
     "iopub.execute_input": "2024-08-12T17:05:54.916524Z",
     "iopub.status.busy": "2024-08-12T17:05:54.916192Z",
     "iopub.status.idle": "2024-08-12T17:05:56.979471Z",
     "shell.execute_reply": "2024-08-12T17:05:56.978912Z"
    }
   },
   "outputs": [],
   "source": [
    "def test_thetax(beam):\n",
    "    check_abs_and_rel_tols('beam.thetax = arctan(px/pz)', \n",
    "                           beam['thetax'], \n",
    "                           np.arctan2(beam['px'].to(beam['pz'].units), beam['pz']), \n",
    "                           abs_tol=1e-15, rel_tol=1e-15)\n",
    "\n",
    "run_test_on_input_files(yaml_files, test_thetax)"
   ]
  },
  {
   "cell_type": "markdown",
   "metadata": {},
   "source": [
    "$\\theta_y = \\arctan(p_y/p_z)$"
   ]
  },
  {
   "cell_type": "code",
   "execution_count": 15,
   "metadata": {
    "execution": {
     "iopub.execute_input": "2024-08-12T17:05:56.982316Z",
     "iopub.status.busy": "2024-08-12T17:05:56.981881Z",
     "iopub.status.idle": "2024-08-12T17:05:59.031542Z",
     "shell.execute_reply": "2024-08-12T17:05:59.030966Z"
    }
   },
   "outputs": [],
   "source": [
    "def test_thetay(beam):\n",
    "    check_abs_and_rel_tols('beam.thetay = arctan(py/pz)', \n",
    "                           beam['thetay'], \n",
    "                           np.arctan2(beam['py'].to(beam['pz'].units), beam['pz']), \n",
    "                           abs_tol=1e-15, rel_tol=1e-15)\n",
    "\n",
    "run_test_on_input_files(yaml_files, test_thetay)"
   ]
  },
  {
   "cell_type": "markdown",
   "metadata": {},
   "source": [
    "# Relativistic Quantities\n",
    "---\n",
    "$p=\\sqrt{p_x^2 + p_y^2 + p_z^2}$"
   ]
  },
  {
   "cell_type": "code",
   "execution_count": 16,
   "metadata": {
    "execution": {
     "iopub.execute_input": "2024-08-12T17:05:59.034341Z",
     "iopub.status.busy": "2024-08-12T17:05:59.033970Z",
     "iopub.status.idle": "2024-08-12T17:06:01.096152Z",
     "shell.execute_reply": "2024-08-12T17:06:01.095571Z"
    }
   },
   "outputs": [],
   "source": [
    "def test_p(beam):\n",
    "    deviation = np.abs(beam['p'] - np.sqrt(beam['px']**2 +beam['py']**2 + beam['pz']**2))\n",
    "    check_abs_and_rel_tols('beam.p = sqrt(px^2 + py^2 + pz^2)', \n",
    "                           beam['p'], \n",
    "                           np.sqrt(beam['px']**2 +beam['py']**2 + beam['pz']**2), \n",
    "                           abs_tol=1e-15, rel_tol=1e-15)\n",
    "\n",
    "run_test_on_input_files(yaml_files, test_p)"
   ]
  },
  {
   "cell_type": "markdown",
   "metadata": {},
   "source": [
    "$E = \\sqrt{c^2|\\vec{p}|^2 + (mc^2)^2}$"
   ]
  },
  {
   "cell_type": "code",
   "execution_count": 17,
   "metadata": {
    "execution": {
     "iopub.execute_input": "2024-08-12T17:06:01.098921Z",
     "iopub.status.busy": "2024-08-12T17:06:01.098509Z",
     "iopub.status.idle": "2024-08-12T17:06:03.183532Z",
     "shell.execute_reply": "2024-08-12T17:06:03.182953Z"
    }
   },
   "outputs": [],
   "source": [
    "def test_energy(beam):\n",
    "\n",
    "    c = PHYSICAL_CONSTANTS['speed of light in vacuum']\n",
    "\n",
    "    check_abs_and_rel_tols('beam.energy = sqrt(c^2p^2 + (mc^2)^2)', \n",
    "                           beam['energy'], \n",
    "                           np.sqrt(c**2*beam['p']**2 + beam.mc2**2), \n",
    "                           abs_tol=1e-9, rel_tol=1e-15)\n",
    "\n",
    "run_test_on_input_files(yaml_files, test_energy)"
   ]
  },
  {
   "cell_type": "markdown",
   "metadata": {},
   "source": [
    "$\\gamma = \\sqrt{1+\\left(\\frac{p}{mc}\\right)^2}$, $E/mc^2$"
   ]
  },
  {
   "cell_type": "code",
   "execution_count": 18,
   "metadata": {
    "execution": {
     "iopub.execute_input": "2024-08-12T17:06:03.186346Z",
     "iopub.status.busy": "2024-08-12T17:06:03.185974Z",
     "iopub.status.idle": "2024-08-12T17:06:05.283426Z",
     "shell.execute_reply": "2024-08-12T17:06:05.282851Z"
    }
   },
   "outputs": [],
   "source": [
    "def test_gamma(beam):\n",
    "\n",
    "    mc = beam.species_mass * PHYSICAL_CONSTANTS['speed of light in vacuum']\n",
    "    \n",
    "    check_abs_and_rel_tols('beam.gamma = sqrt( 1 + (p/mc)^2 )', \n",
    "                           beam['gamma'], \n",
    "                           np.sqrt(1+ (beam['p']/mc).to_reduced_units()**2),\n",
    "                           abs_tol=1e-10, rel_tol=1e-10)\n",
    "\n",
    "    check_abs_and_rel_tols('beam.gamma = E/mc^2', \n",
    "                           beam['gamma'], \n",
    "                           beam['energy']/beam.mc2,\n",
    "                           abs_tol=1e-15, rel_tol=1e-15)\n",
    "\n",
    "run_test_on_input_files(yaml_files, test_gamma)"
   ]
  },
  {
   "cell_type": "markdown",
   "metadata": {},
   "source": [
    "$\\beta = \\frac{c|\\vec{p}|}{E}$"
   ]
  },
  {
   "cell_type": "code",
   "execution_count": 19,
   "metadata": {
    "execution": {
     "iopub.execute_input": "2024-08-12T17:06:05.286418Z",
     "iopub.status.busy": "2024-08-12T17:06:05.285895Z",
     "iopub.status.idle": "2024-08-12T17:06:08.971547Z",
     "shell.execute_reply": "2024-08-12T17:06:08.970960Z"
    }
   },
   "outputs": [],
   "source": [
    "def test_beta(beam):\n",
    "    check_abs_and_rel_tols('beam.beta = c|p|/E', \n",
    "                           beam['beta'], \n",
    "                           PHYSICAL_CONSTANTS['speed of light in vacuum']*beam.p/beam.energy,\n",
    "                           abs_tol=1e-11, rel_tol=1e-14)\n",
    "\n",
    "    assert max(beam['beta']) < 1, 'max(beta) > 1, faster than light particle!'\n",
    "\n",
    "run_test_on_input_files(yaml_files, test_beta)"
   ]
  },
  {
   "cell_type": "markdown",
   "metadata": {},
   "source": [
    "$\\beta_{x_i} = \\frac{cp_{x_i}}{E}$, $\\beta_x = x^{\\prime}\\beta_z$, $\\beta_y = y^{\\prime}\\beta_z$,  $\\beta_z = \\frac{\\beta}{\\sqrt{1+(x^{\\prime})^2 +(y^{\\prime})^2}}$"
   ]
  },
  {
   "cell_type": "code",
   "execution_count": 20,
   "metadata": {
    "execution": {
     "iopub.execute_input": "2024-08-12T17:06:08.973999Z",
     "iopub.status.busy": "2024-08-12T17:06:08.973823Z",
     "iopub.status.idle": "2024-08-12T17:06:11.311796Z",
     "shell.execute_reply": "2024-08-12T17:06:11.311223Z"
    }
   },
   "outputs": [],
   "source": [
    "def test_beta_xi(beam):\n",
    "\n",
    "    for var in ['x', 'y', 'z']:\n",
    "        check_abs_and_rel_tols('beam.beta_xi = c pxi/E )', \n",
    "                           beam[f'beta_{var}'], \n",
    "                           (PHYSICAL_CONSTANTS['speed of light in vacuum']*beam[f'p{var}']/beam['energy']).to_reduced_units(),\n",
    "                           abs_tol=1e-15, rel_tol=1e-15)\n",
    "\n",
    "        check_abs_and_rel_tols(\"beam.beta_z = sign(pz)*beta/sqrt( 1 + x'^2 + y'^2 )\", \n",
    "                           beam['beta_z'], \n",
    "                           np.sign(beam['pz'])*beam['beta']/np.sqrt( 1 + beam['xp']**2 + beam['yp']**2 ),\n",
    "                           abs_tol=1e-11, rel_tol=5e-9)\n",
    "\n",
    "run_test_on_input_files(yaml_files, test_beta_xi)"
   ]
  },
  {
   "cell_type": "markdown",
   "metadata": {},
   "source": [
    "KE = $mc^2(\\gamma-1)$, $E-mc^2$"
   ]
  },
  {
   "cell_type": "code",
   "execution_count": 21,
   "metadata": {
    "execution": {
     "iopub.execute_input": "2024-08-12T17:06:11.314752Z",
     "iopub.status.busy": "2024-08-12T17:06:11.314351Z",
     "iopub.status.idle": "2024-08-12T17:06:13.422854Z",
     "shell.execute_reply": "2024-08-12T17:06:13.422287Z"
    }
   },
   "outputs": [],
   "source": [
    "def test_kinetic_energy(beam):\n",
    "\n",
    "    if(PHYSICAL_CONSTANTS.species(beam['species'])['mass']>0):\n",
    "    \n",
    "        check_abs_and_rel_tols('beam.kinetic_energy = mc2*(gamma-1)', \n",
    "                               beam['kinetic_energy'], \n",
    "                               beam.mc2*(beam['gamma']-1),\n",
    "                               abs_tol=1e-9, rel_tol=1e-05)\n",
    "\n",
    "    check_abs_and_rel_tols('beam.kinetic_energy = E - mc2', \n",
    "                           beam['kinetic_energy'], \n",
    "                           beam['energy'] - beam.mc2,\n",
    "                           abs_tol=1e-15, rel_tol=1e-15)\n",
    "\n",
    "run_test_on_input_files(yaml_files, test_kinetic_energy)"
   ]
  },
  {
   "cell_type": "markdown",
   "metadata": {},
   "source": [
    "# Twiss Parameters\n",
    "---\n",
    "# Getting\n",
    "\n",
    "$\\epsilon_{n,x_i} = \\frac{1}{mc}\\sqrt{\\sigma_{x_i}^2\\sigma_{p_{x_i}}^2 - \\langle \\left(x_i-\\langle x_i\\rangle\\right)\\left(p_{x_i}-\\langle p_{x_i}\\rangle\\right)\\rangle^2 }$"
   ]
  },
  {
   "cell_type": "code",
   "execution_count": 22,
   "metadata": {
    "execution": {
     "iopub.execute_input": "2024-08-12T17:06:13.425602Z",
     "iopub.status.busy": "2024-08-12T17:06:13.425230Z",
     "iopub.status.idle": "2024-08-12T17:06:15.617633Z",
     "shell.execute_reply": "2024-08-12T17:06:15.617060Z"
    }
   },
   "outputs": [],
   "source": [
    "def test_emitt_normalized(beam):\n",
    "    for var in ['x', 'y']:\n",
    "    \n",
    "        mc = beam.species_mass * PHYSICAL_CONSTANTS['speed of light in vacuum']\n",
    "        \n",
    "        stdx = beam.std(var)\n",
    "        stdp = (beam.std(f'p{var}')/mc).to_reduced_units()\n",
    "        dx = beam[var]-beam.avg(var)\n",
    "        dp = ( (beam[f'p{var}']-beam.avg(f'p{var}'))/mc ).to_reduced_units()\n",
    "\n",
    "        check_abs_and_rel_tols('beam.emitt (normalized)', \n",
    "                               beam.emitt(var), \n",
    "                               np.sqrt(stdx**2 * stdp**2 - (np.sum(beam['w']*dx*dp))**2),\n",
    "                               abs_tol=1e-11, rel_tol=1e-11)\n",
    "\n",
    "run_test_on_input_files(yaml_files, test_emitt_normalized)"
   ]
  },
  {
   "cell_type": "markdown",
   "metadata": {},
   "source": [
    "$\\epsilon_{x} = \\sqrt{\\sigma_x^2\\sigma_{x^{\\prime}}^2 - \\langle \\left(x-\\langle x\\rangle\\right)\\left(x^{\\prime}-\\langle x^{\\prime}\\rangle\\right)\\rangle^2 }$"
   ]
  },
  {
   "cell_type": "code",
   "execution_count": 23,
   "metadata": {
    "execution": {
     "iopub.execute_input": "2024-08-12T17:06:15.620483Z",
     "iopub.status.busy": "2024-08-12T17:06:15.620098Z",
     "iopub.status.idle": "2024-08-12T17:06:17.803156Z",
     "shell.execute_reply": "2024-08-12T17:06:17.802571Z"
    }
   },
   "outputs": [],
   "source": [
    "def test_emitt_geometric(beam):\n",
    "\n",
    "    for var in ['x', 'y']:\n",
    "        stdx = beam.std(var)\n",
    "        stdp = (beam.std(f'{var}p'))\n",
    "        dx = beam[var]-beam.avg(var)\n",
    "        dp = (beam[f'{var}p']-beam.avg(f'{var}p'))\n",
    "\n",
    "        check_abs_and_rel_tols('beam.emitt (geometric)', \n",
    "                               beam.emitt(var, 'geometric'), \n",
    "                               np.sqrt(stdx**2 * stdp**2 - (np.sum(beam['w']*dx*dp))**2),\n",
    "                               abs_tol=1e-14, rel_tol=1e-15)\n",
    "\n",
    "run_test_on_input_files(yaml_files, test_emitt_geometric)"
   ]
  },
  {
   "cell_type": "markdown",
   "metadata": {},
   "source": [
    "Twiss $\\beta_{x_i} = \\frac{\\sigma_x^2}{\\epsilon_x}$"
   ]
  },
  {
   "cell_type": "code",
   "execution_count": 24,
   "metadata": {
    "execution": {
     "iopub.execute_input": "2024-08-12T17:06:17.805647Z",
     "iopub.status.busy": "2024-08-12T17:06:17.805468Z",
     "iopub.status.idle": "2024-08-12T17:06:20.128334Z",
     "shell.execute_reply": "2024-08-12T17:06:20.127675Z"
    }
   },
   "outputs": [],
   "source": [
    "def twiss_beta_xi(beam):\n",
    "\n",
    "    for var in ['x', 'y']:\n",
    "        \n",
    "        stdx = beam.std(var)\n",
    "        epsx = beam.emitt(var,'geometric')\n",
    "\n",
    "        if(epsx>0):\n",
    "            check_abs_and_rel_tols('beam.Beta_xi (Twiss)', \n",
    "                                   beam.Beta(var), \n",
    "                                   stdx**2/epsx ,\n",
    "                                   abs_tol=1e-14, rel_tol=1e-15)\n",
    "        \n",
    "run_test_on_input_files(yaml_files, test_beta_xi)"
   ]
  },
  {
   "cell_type": "markdown",
   "metadata": {},
   "source": [
    "Twiss $\\alpha_{x_i} = -\\frac{\\langle(x-\\langle x\\rangle)(x^{\\prime}-\\langle x^{\\prime}\\rangle)\\rangle}{\\epsilon_x}$"
   ]
  },
  {
   "cell_type": "code",
   "execution_count": 25,
   "metadata": {
    "execution": {
     "iopub.execute_input": "2024-08-12T17:06:20.131085Z",
     "iopub.status.busy": "2024-08-12T17:06:20.130884Z",
     "iopub.status.idle": "2024-08-12T17:06:29.927739Z",
     "shell.execute_reply": "2024-08-12T17:06:29.927066Z"
    }
   },
   "outputs": [],
   "source": [
    "def test_alpha_xi(beam):\n",
    "\n",
    "    for var in ['x', 'y']:\n",
    "        dx = beam[var]-beam.avg(var)\n",
    "        dp = (beam[f'{var}p']-beam.avg(f'{var}p'))\n",
    "        epsx = beam.emitt(var,'geometric')\n",
    "\n",
    "        if(epsx>0):\n",
    "            check_abs_and_rel_tols('beam.Alpha_xi (Twiss)', \n",
    "                                   beam.Alpha(var), \n",
    "                                   -sum(beam['w']*dx*dp)/epsx,\n",
    "                                   abs_tol=1e-14, rel_tol=1e-14)\n",
    "        \n",
    "run_test_on_input_files(yaml_files, test_alpha_xi)    "
   ]
  },
  {
   "cell_type": "markdown",
   "metadata": {},
   "source": [
    "Twiss $\\gamma_{x_i} = \\frac{\\sigma_{x^{\\prime}}^2}{\\epsilon_x}$"
   ]
  },
  {
   "cell_type": "code",
   "execution_count": 26,
   "metadata": {
    "execution": {
     "iopub.execute_input": "2024-08-12T17:06:29.930330Z",
     "iopub.status.busy": "2024-08-12T17:06:29.930102Z",
     "iopub.status.idle": "2024-08-12T17:06:32.126324Z",
     "shell.execute_reply": "2024-08-12T17:06:32.125665Z"
    },
    "tags": []
   },
   "outputs": [],
   "source": [
    "def test_gamma_xi(beam):\n",
    "\n",
    "    for var in ['x', 'y']:\n",
    "        stdp = beam.std(f'{var}p')\n",
    "        epsx = beam.emitt(var,'geometric')\n",
    "\n",
    "        if(epsx>0):\n",
    "            check_abs_and_rel_tols('beam.Gamma_xi (Twiss)', \n",
    "                                   beam.Gamma(var), \n",
    "                                   stdp**2/epsx,\n",
    "                                   abs_tol=1e-14, rel_tol=1e-14)\n",
    "\n",
    "run_test_on_input_files(yaml_files, test_gamma_xi) "
   ]
  },
  {
   "cell_type": "code",
   "execution_count": null,
   "metadata": {},
   "outputs": [],
   "source": []
  },
  {
   "cell_type": "code",
   "execution_count": null,
   "metadata": {},
   "outputs": [],
   "source": []
  }
 ],
 "metadata": {
  "kernelspec": {
   "display_name": "Python 3 (ipykernel)",
   "language": "python",
   "name": "python3"
  },
  "language_info": {
   "codemirror_mode": {
    "name": "ipython",
    "version": 3
   },
   "file_extension": ".py",
   "mimetype": "text/x-python",
   "name": "python",
   "nbconvert_exporter": "python",
   "pygments_lexer": "ipython3",
   "version": "3.9.19"
  }
 },
 "nbformat": 4,
 "nbformat_minor": 4
}
