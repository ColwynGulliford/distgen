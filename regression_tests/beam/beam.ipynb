{
 "cells": [
  {
   "cell_type": "markdown",
   "metadata": {},
   "source": [
    "# Beam Class Regression Tests\n",
    "----"
   ]
  },
  {
   "cell_type": "code",
   "execution_count": 1,
   "metadata": {
    "execution": {
     "iopub.execute_input": "2023-09-07T00:03:33.939313Z",
     "iopub.status.busy": "2023-09-07T00:03:33.938893Z",
     "iopub.status.idle": "2023-09-07T00:03:33.957209Z",
     "shell.execute_reply": "2023-09-07T00:03:33.956584Z"
    }
   },
   "outputs": [],
   "source": [
    "%load_ext autoreload\n",
    "%autoreload 2"
   ]
  },
  {
   "cell_type": "code",
   "execution_count": 2,
   "metadata": {
    "execution": {
     "iopub.execute_input": "2023-09-07T00:03:33.960497Z",
     "iopub.status.busy": "2023-09-07T00:03:33.960148Z",
     "iopub.status.idle": "2023-09-07T00:03:36.046766Z",
     "shell.execute_reply": "2023-09-07T00:03:36.046006Z"
    },
    "tags": []
   },
   "outputs": [],
   "source": [
    "import numpy as np\n",
    "from distgen import Generator\n",
    "from distgen.physical_constants import MC2"
   ]
  },
  {
   "cell_type": "code",
   "execution_count": 3,
   "metadata": {
    "execution": {
     "iopub.execute_input": "2023-09-07T00:03:36.050485Z",
     "iopub.status.busy": "2023-09-07T00:03:36.049965Z",
     "iopub.status.idle": "2023-09-07T00:03:37.639315Z",
     "shell.execute_reply": "2023-09-07T00:03:37.638611Z"
    },
    "tags": []
   },
   "outputs": [],
   "source": [
    "input_file = \"../examples/data/rad.gaussian.in.yaml\"\n",
    "gen = Generator(input_file,verbose=0)\n",
    "beam = gen.beam()\n",
    "\n",
    "coordinates = {'x', 'y', 'z', 'px', 'py', 'pz', \n",
    "               'r', 'theta', 'pr', 'ptheta', \n",
    "               'xp', 'yp', 'thetax', 'thetay',\n",
    "               'gamma', 'energy', 'kinetic_energy', \n",
    "               'beta_x', 'beta_y', 'beta_z'}"
   ]
  },
  {
   "cell_type": "markdown",
   "metadata": {},
   "source": [
    "# Statistical Tests\n",
    "\n",
    "$\\sum_i w_i = 1$"
   ]
  },
  {
   "cell_type": "code",
   "execution_count": 4,
   "metadata": {
    "execution": {
     "iopub.execute_input": "2023-09-07T00:03:37.643821Z",
     "iopub.status.busy": "2023-09-07T00:03:37.642380Z",
     "iopub.status.idle": "2023-09-07T00:03:37.661737Z",
     "shell.execute_reply": "2023-09-07T00:03:37.661066Z"
    }
   },
   "outputs": [],
   "source": [
    "assert np.abs(np.sum(beam['w'])-1)<1e14, 'Beam weights not normalized'"
   ]
  },
  {
   "cell_type": "markdown",
   "metadata": {},
   "source": [
    "$\\langle \\mathcal{O}\\rangle = \\sum_i w_i \\mathcal{O}_i$"
   ]
  },
  {
   "cell_type": "code",
   "execution_count": 5,
   "metadata": {
    "execution": {
     "iopub.execute_input": "2023-09-07T00:03:37.666332Z",
     "iopub.status.busy": "2023-09-07T00:03:37.665049Z",
     "iopub.status.idle": "2023-09-07T00:03:38.546737Z",
     "shell.execute_reply": "2023-09-07T00:03:38.545942Z"
    }
   },
   "outputs": [],
   "source": [
    "for var in coordinates:\n",
    "    assert np.abs(beam.avg(var) - np.sum(beam['w']*beam[var])).magnitude<1e-14, f'<{var}> is not correct'"
   ]
  },
  {
   "cell_type": "markdown",
   "metadata": {},
   "source": [
    "$\\sigma_{\\mathcal{O}}^2 = \\sum_i w_i (\\mathcal{O}_i-\\langle \\mathcal{O}\\rangle)^2 $ "
   ]
  },
  {
   "cell_type": "code",
   "execution_count": 6,
   "metadata": {
    "execution": {
     "iopub.execute_input": "2023-09-07T00:03:38.550997Z",
     "iopub.status.busy": "2023-09-07T00:03:38.550335Z",
     "iopub.status.idle": "2023-09-07T00:03:39.885624Z",
     "shell.execute_reply": "2023-09-07T00:03:39.884895Z"
    }
   },
   "outputs": [],
   "source": [
    "for var in coordinates:\n",
    "    assert np.abs(beam.std(var)**2 - np.sum(beam['w']*(beam[var]-beam.avg(var))**2)).magnitude<5e-10, f'<{var}> is not correct'"
   ]
  },
  {
   "cell_type": "markdown",
   "metadata": {},
   "source": [
    "# Cylindrical Coordinates\n",
    "---\n",
    "# Getting"
   ]
  },
  {
   "cell_type": "markdown",
   "metadata": {},
   "source": [
    "$r=\\sqrt{ x^2 + y^2 }$"
   ]
  },
  {
   "cell_type": "code",
   "execution_count": 7,
   "metadata": {
    "execution": {
     "iopub.execute_input": "2023-09-07T00:03:39.889236Z",
     "iopub.status.busy": "2023-09-07T00:03:39.888775Z",
     "iopub.status.idle": "2023-09-07T00:03:39.921765Z",
     "shell.execute_reply": "2023-09-07T00:03:39.920924Z"
    }
   },
   "outputs": [],
   "source": [
    "deviation =  np.abs(beam['r'] - np.sqrt(beam['x']**2 + beam['y']**2))\n",
    "assert max(deviation.magnitude)<1e-14, 'Radial coordinate incorrect'"
   ]
  },
  {
   "cell_type": "markdown",
   "metadata": {},
   "source": [
    "$x=r\\cos\\theta$"
   ]
  },
  {
   "cell_type": "code",
   "execution_count": 8,
   "metadata": {
    "execution": {
     "iopub.execute_input": "2023-09-07T00:03:39.925485Z",
     "iopub.status.busy": "2023-09-07T00:03:39.925075Z",
     "iopub.status.idle": "2023-09-07T00:03:39.960859Z",
     "shell.execute_reply": "2023-09-07T00:03:39.960183Z"
    }
   },
   "outputs": [],
   "source": [
    "deviation = np.abs(beam['x'] - beam['r']*np.cos(beam['theta']))\n",
    "assert max(deviation.magnitude)<1e-14, 'x coordinate incorrect'"
   ]
  },
  {
   "cell_type": "markdown",
   "metadata": {},
   "source": [
    "$y = r\\sin\\theta$ "
   ]
  },
  {
   "cell_type": "code",
   "execution_count": 9,
   "metadata": {
    "execution": {
     "iopub.execute_input": "2023-09-07T00:03:39.964465Z",
     "iopub.status.busy": "2023-09-07T00:03:39.964067Z",
     "iopub.status.idle": "2023-09-07T00:03:39.998817Z",
     "shell.execute_reply": "2023-09-07T00:03:39.998106Z"
    }
   },
   "outputs": [],
   "source": [
    "deviation = np.abs(beam['x'] - beam['r']*np.cos(beam['theta']))\n",
    "assert max(deviation.magnitude)<5e-13, 'y coordinate incorrect'"
   ]
  },
  {
   "cell_type": "markdown",
   "metadata": {},
   "source": [
    "$p_r = p_x\\cos\\theta - p_y\\sin\\theta$"
   ]
  },
  {
   "cell_type": "code",
   "execution_count": 10,
   "metadata": {
    "execution": {
     "iopub.execute_input": "2023-09-07T00:03:40.002202Z",
     "iopub.status.busy": "2023-09-07T00:03:40.001955Z",
     "iopub.status.idle": "2023-09-07T00:03:40.046204Z",
     "shell.execute_reply": "2023-09-07T00:03:40.045478Z"
    }
   },
   "outputs": [],
   "source": [
    "deviation = np.abs(beam['pr'] - beam['px']*np.cos(beam['theta']) - beam['py']*np.sin(beam['theta']))\n",
    "assert max(deviation.magnitude)<5e-13, 'pr coordinate incorrect'"
   ]
  },
  {
   "cell_type": "markdown",
   "metadata": {},
   "source": [
    "$p_{\\theta} = -p_x\\cos\\theta + p_y\\sin\\theta$"
   ]
  },
  {
   "cell_type": "code",
   "execution_count": 11,
   "metadata": {
    "execution": {
     "iopub.execute_input": "2023-09-07T00:03:40.049910Z",
     "iopub.status.busy": "2023-09-07T00:03:40.049443Z",
     "iopub.status.idle": "2023-09-07T00:03:40.095833Z",
     "shell.execute_reply": "2023-09-07T00:03:40.095059Z"
    }
   },
   "outputs": [],
   "source": [
    "deviation = np.abs(beam['ptheta'] + beam['px']*np.sin(beam['theta']) - beam['py']*np.cos(beam['theta']))\n",
    "assert max(deviation.magnitude)<5e-13, 'ptheta coordinate incorrect'"
   ]
  },
  {
   "cell_type": "markdown",
   "metadata": {},
   "source": [
    "# Transverse Derivatives and Angles\n",
    "---"
   ]
  },
  {
   "cell_type": "markdown",
   "metadata": {},
   "source": [
    "# Getting"
   ]
  },
  {
   "cell_type": "markdown",
   "metadata": {},
   "source": [
    "$x^{\\prime} = p_x/p_z$"
   ]
  },
  {
   "cell_type": "code",
   "execution_count": 12,
   "metadata": {
    "execution": {
     "iopub.execute_input": "2023-09-07T00:03:40.099436Z",
     "iopub.status.busy": "2023-09-07T00:03:40.098985Z",
     "iopub.status.idle": "2023-09-07T00:03:40.130416Z",
     "shell.execute_reply": "2023-09-07T00:03:40.129680Z"
    }
   },
   "outputs": [],
   "source": [
    "deviation = np.abs(beam['xp'] - beam['px'].to(beam['pz'].units)/beam['pz'])\n",
    "assert max(deviation.magnitude)<1e-14, 'xp coordinate incorrect'"
   ]
  },
  {
   "cell_type": "markdown",
   "metadata": {},
   "source": [
    "$y^{\\prime} = p_y/p_z$"
   ]
  },
  {
   "cell_type": "code",
   "execution_count": 13,
   "metadata": {
    "execution": {
     "iopub.execute_input": "2023-09-07T00:03:40.134549Z",
     "iopub.status.busy": "2023-09-07T00:03:40.133807Z",
     "iopub.status.idle": "2023-09-07T00:03:40.169699Z",
     "shell.execute_reply": "2023-09-07T00:03:40.168841Z"
    }
   },
   "outputs": [],
   "source": [
    "deviation = np.abs(beam['yp'] - beam['py'].to(beam['py'].units)/beam['pz'])\n",
    "assert max(deviation.magnitude)<1e-14, 'yp coordinate incorrect'"
   ]
  },
  {
   "cell_type": "markdown",
   "metadata": {},
   "source": [
    "$\\theta_x = \\arctan(p_x/p_z)$"
   ]
  },
  {
   "cell_type": "code",
   "execution_count": 14,
   "metadata": {
    "execution": {
     "iopub.execute_input": "2023-09-07T00:03:40.173613Z",
     "iopub.status.busy": "2023-09-07T00:03:40.173120Z",
     "iopub.status.idle": "2023-09-07T00:03:40.207251Z",
     "shell.execute_reply": "2023-09-07T00:03:40.206568Z"
    }
   },
   "outputs": [],
   "source": [
    "deviation = np.abs(beam['thetax'] - np.arctan(beam['px'].to(beam['px'].units)/beam['pz']))\n",
    "assert max(deviation.magnitude)<1e-14, f'thetax coordinate deviation = {max(deviation)}'"
   ]
  },
  {
   "cell_type": "markdown",
   "metadata": {},
   "source": [
    "$\\theta_y = \\arctan(p_y/p_z)$"
   ]
  },
  {
   "cell_type": "code",
   "execution_count": 15,
   "metadata": {
    "execution": {
     "iopub.execute_input": "2023-09-07T00:03:40.210842Z",
     "iopub.status.busy": "2023-09-07T00:03:40.210234Z",
     "iopub.status.idle": "2023-09-07T00:03:40.243790Z",
     "shell.execute_reply": "2023-09-07T00:03:40.243087Z"
    }
   },
   "outputs": [],
   "source": [
    "deviation = np.abs(beam['thetay'] - np.arctan(beam['py'].to(beam['py'].units)/beam['pz']))\n",
    "assert max(deviation.magnitude)<1e-14, 'thetay coordinate incorrect'"
   ]
  },
  {
   "cell_type": "markdown",
   "metadata": {},
   "source": [
    "# Relativistic Quantities\n",
    "---\n",
    "$p=\\sqrt{p_x^2 + p_y^2 + p_z^2}$"
   ]
  },
  {
   "cell_type": "code",
   "execution_count": 16,
   "metadata": {
    "execution": {
     "iopub.execute_input": "2023-09-07T00:03:40.247490Z",
     "iopub.status.busy": "2023-09-07T00:03:40.247007Z",
     "iopub.status.idle": "2023-09-07T00:03:40.281112Z",
     "shell.execute_reply": "2023-09-07T00:03:40.280336Z"
    }
   },
   "outputs": [],
   "source": [
    "deviation = np.abs(beam['p'] - np.sqrt(beam['px']**2 +beam['py']**2 + beam['pz']**2))\n",
    "assert max(deviation.magnitude)<1e-14, 'thetay coordinate incorrect'"
   ]
  },
  {
   "cell_type": "markdown",
   "metadata": {},
   "source": [
    "$\\gamma = \\sqrt{1+\\left(\\frac{p}{mc}\\right)^2}$"
   ]
  },
  {
   "cell_type": "code",
   "execution_count": 17,
   "metadata": {
    "execution": {
     "iopub.execute_input": "2023-09-07T00:03:40.284669Z",
     "iopub.status.busy": "2023-09-07T00:03:40.284420Z",
     "iopub.status.idle": "2023-09-07T00:03:40.385231Z",
     "shell.execute_reply": "2023-09-07T00:03:40.384507Z"
    }
   },
   "outputs": [],
   "source": [
    "deviation = np.abs( beam['gamma'] - np.sqrt(1+ (beam['p'].to('eV/c').magnitude/MC2.magnitude)**2) )\n",
    "assert max(deviation.magnitude)<1e-13, 'gamma coordinate incorrect'"
   ]
  },
  {
   "cell_type": "markdown",
   "metadata": {},
   "source": [
    "$\\beta_{x_i} = p_{x_i}/\\gamma$"
   ]
  },
  {
   "cell_type": "code",
   "execution_count": 18,
   "metadata": {
    "execution": {
     "iopub.execute_input": "2023-09-07T00:03:40.388769Z",
     "iopub.status.busy": "2023-09-07T00:03:40.388508Z",
     "iopub.status.idle": "2023-09-07T00:03:40.848373Z",
     "shell.execute_reply": "2023-09-07T00:03:40.847677Z"
    }
   },
   "outputs": [],
   "source": [
    "for var in ['x', 'y', 'z']:\n",
    "    deviation = np.abs( beam[f'beta_{var}'] - beam[f'p{var}'].to('GB')/beam['gamma'])  \n",
    "    assert max(deviation.magnitude)<1e-14, f'beta_{var} coordinate incorrect'"
   ]
  },
  {
   "cell_type": "markdown",
   "metadata": {},
   "source": [
    "KE = $mc^2(\\gamma-1)$"
   ]
  },
  {
   "cell_type": "code",
   "execution_count": 19,
   "metadata": {
    "execution": {
     "iopub.execute_input": "2023-09-07T00:03:40.852072Z",
     "iopub.status.busy": "2023-09-07T00:03:40.851615Z",
     "iopub.status.idle": "2023-09-07T00:03:41.014879Z",
     "shell.execute_reply": "2023-09-07T00:03:41.014037Z"
    }
   },
   "outputs": [],
   "source": [
    "deviation = np.abs( beam['kinetic_energy'] - MC2*(beam['gamma']-1) ) \n",
    "assert max(deviation.magnitude)<1e-14, 'KE coordinate incorrect'"
   ]
  },
  {
   "cell_type": "markdown",
   "metadata": {},
   "source": [
    "E = $mc^2\\gamma$"
   ]
  },
  {
   "cell_type": "code",
   "execution_count": 20,
   "metadata": {
    "execution": {
     "iopub.execute_input": "2023-09-07T00:03:41.018394Z",
     "iopub.status.busy": "2023-09-07T00:03:41.017997Z",
     "iopub.status.idle": "2023-09-07T00:03:41.181848Z",
     "shell.execute_reply": "2023-09-07T00:03:41.181132Z"
    }
   },
   "outputs": [],
   "source": [
    "deviation = np.abs( beam['energy'] - MC2*(beam['gamma']) ) \n",
    "assert max(deviation.magnitude)<1e-14, 'E coordinate incorrect'"
   ]
  },
  {
   "cell_type": "markdown",
   "metadata": {},
   "source": [
    "# Twiss Parameters\n",
    "---\n",
    "# Getting\n",
    "\n",
    "$\\epsilon_{n,x_i} = \\frac{1}{mc}\\sqrt{\\sigma_{x_i}^2\\sigma_{p_{x_i}}^2 - \\langle \\left(x_i-\\langle x_i\\rangle\\right)\\left(p_{x_i}-\\langle p_{x_i}\\rangle\\right)\\rangle^2 }$"
   ]
  },
  {
   "cell_type": "code",
   "execution_count": 21,
   "metadata": {
    "execution": {
     "iopub.execute_input": "2023-09-07T00:03:41.185280Z",
     "iopub.status.busy": "2023-09-07T00:03:41.185032Z",
     "iopub.status.idle": "2023-09-07T00:03:41.738381Z",
     "shell.execute_reply": "2023-09-07T00:03:41.737686Z"
    }
   },
   "outputs": [],
   "source": [
    "for var in ['x', 'y']:\n",
    "    stdx = beam.std(var)\n",
    "    stdp = (beam.std(f'p{var}').to('GB')).magnitude\n",
    "    dx = beam[var]-beam.avg(var)\n",
    "    dp = (beam[f'p{var}']-beam.avg(f'p{var}')).to('GB').magnitude\n",
    "    \n",
    "    deviation = np.abs(beam.emitt(var) - np.sqrt(stdx**2 * stdp**2 - (np.sum(beam['w']*dx*dp))**2 ))\n",
    "    assert deviation.magnitude < 1e-14"
   ]
  },
  {
   "cell_type": "markdown",
   "metadata": {},
   "source": [
    "$\\epsilon_{x} = \\sqrt{\\sigma_x^2\\sigma_{x^{\\prime}}^2 - \\langle \\left(x-\\langle x\\rangle\\right)\\left(x^{\\prime}-\\langle x^{\\prime}\\rangle\\right)\\rangle^2 }$"
   ]
  },
  {
   "cell_type": "code",
   "execution_count": 22,
   "metadata": {
    "execution": {
     "iopub.execute_input": "2023-09-07T00:03:41.741917Z",
     "iopub.status.busy": "2023-09-07T00:03:41.741450Z",
     "iopub.status.idle": "2023-09-07T00:03:42.296600Z",
     "shell.execute_reply": "2023-09-07T00:03:42.295795Z"
    }
   },
   "outputs": [],
   "source": [
    "for var in ['x', 'y']:\n",
    "    stdx = beam.std(var)\n",
    "    stdp = (beam.std(f'{var}p')).magnitude\n",
    "    dx = beam[var]-beam.avg(var)\n",
    "    dp = (beam[f'{var}p']-beam.avg(f'{var}p')).magnitude\n",
    "    \n",
    "    deviation = np.abs(beam.emitt(var,'geometric') - np.sqrt(stdx**2 * stdp**2 - (np.sum(beam['w']*dx*dp))**2 ))\n",
    "    assert deviation.magnitude < 1e-14"
   ]
  },
  {
   "cell_type": "markdown",
   "metadata": {},
   "source": [
    "Twiss $\\beta_{x_i} = \\frac{\\sigma_x^2}{\\epsilon_x}$"
   ]
  },
  {
   "cell_type": "code",
   "execution_count": 23,
   "metadata": {
    "execution": {
     "iopub.execute_input": "2023-09-07T00:03:42.300457Z",
     "iopub.status.busy": "2023-09-07T00:03:42.300038Z",
     "iopub.status.idle": "2023-09-07T00:03:43.362793Z",
     "shell.execute_reply": "2023-09-07T00:03:43.362048Z"
    }
   },
   "outputs": [],
   "source": [
    "for var in ['x', 'y']:\n",
    "    stdx = beam.std(var)\n",
    "    epsx = beam.emitt(var,'geometric')\n",
    "\n",
    "    deviation = np.abs( beam.Beta(var) - stdx**2/epsx )\n",
    "    assert deviation.magnitude < 1e-14"
   ]
  },
  {
   "cell_type": "markdown",
   "metadata": {},
   "source": [
    "Twiss $\\alpha_{x_i} = -\\frac{\\langle(x-\\langle x\\rangle)(x^{\\prime}-\\langle x^{\\prime}\\rangle)\\rangle}{\\epsilon_x}$"
   ]
  },
  {
   "cell_type": "code",
   "execution_count": 24,
   "metadata": {
    "execution": {
     "iopub.execute_input": "2023-09-07T00:03:43.366328Z",
     "iopub.status.busy": "2023-09-07T00:03:43.365867Z",
     "iopub.status.idle": "2023-09-07T00:03:52.020745Z",
     "shell.execute_reply": "2023-09-07T00:03:52.019943Z"
    }
   },
   "outputs": [],
   "source": [
    "for var in ['x', 'y']:\n",
    "    dx = beam[var]-beam.avg(var)\n",
    "    dp = (beam[f'{var}p']-beam.avg(f'{var}p'))\n",
    "    epsx = beam.emitt(var,'geometric')\n",
    "    deviation = np.abs( beam.Alpha(var) + sum(beam['w']*dx*dp)/epsx )\n",
    "    assert deviation.magnitude < 1e-15"
   ]
  },
  {
   "cell_type": "markdown",
   "metadata": {},
   "source": [
    "Twiss $\\gamma_{x_i} = \\frac{\\sigma_{x^{\\prime}}^2}{\\epsilon_x}$"
   ]
  },
  {
   "cell_type": "code",
   "execution_count": 25,
   "metadata": {
    "execution": {
     "iopub.execute_input": "2023-09-07T00:03:52.024386Z",
     "iopub.status.busy": "2023-09-07T00:03:52.023960Z",
     "iopub.status.idle": "2023-09-07T00:03:53.093269Z",
     "shell.execute_reply": "2023-09-07T00:03:53.092558Z"
    },
    "tags": []
   },
   "outputs": [],
   "source": [
    "for var in ['x', 'y']:\n",
    "    stdp = beam.std(f'{var}p')\n",
    "    epsx = beam.emitt(var,'geometric')\n",
    "    deviation = np.abs( beam.Gamma(var) - stdp**2/epsx )\n",
    "    assert deviation.magnitude < 5e-15"
   ]
  }
 ],
 "metadata": {
  "kernelspec": {
   "display_name": "Python 3 (ipykernel)",
   "language": "python",
   "name": "python3"
  },
  "language_info": {
   "codemirror_mode": {
    "name": "ipython",
    "version": 3
   },
   "file_extension": ".py",
   "mimetype": "text/x-python",
   "name": "python",
   "nbconvert_exporter": "python",
   "pygments_lexer": "ipython3",
   "version": "3.9.18"
  }
 },
 "nbformat": 4,
 "nbformat_minor": 4
}
