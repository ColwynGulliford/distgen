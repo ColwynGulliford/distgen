{
 "cells": [
  {
   "cell_type": "markdown",
   "metadata": {},
   "source": [
    "# Beam Class Regression Tests\n",
    "----"
   ]
  },
  {
   "cell_type": "code",
   "execution_count": 1,
   "metadata": {
    "execution": {
     "iopub.execute_input": "2023-09-29T10:41:42.315110Z",
     "iopub.status.busy": "2023-09-29T10:41:42.314733Z",
     "iopub.status.idle": "2023-09-29T10:41:42.330270Z",
     "shell.execute_reply": "2023-09-29T10:41:42.329727Z"
    }
   },
   "outputs": [],
   "source": [
    "%load_ext autoreload\n",
    "%autoreload 2"
   ]
  },
  {
   "cell_type": "code",
   "execution_count": 2,
   "metadata": {
    "execution": {
     "iopub.execute_input": "2023-09-29T10:41:42.333018Z",
     "iopub.status.busy": "2023-09-29T10:41:42.332518Z",
     "iopub.status.idle": "2023-09-29T10:41:44.240432Z",
     "shell.execute_reply": "2023-09-29T10:41:44.239762Z"
    },
    "tags": []
   },
   "outputs": [],
   "source": [
    "import numpy as np\n",
    "from distgen import Generator\n",
    "from distgen.physical_constants import MC2"
   ]
  },
  {
   "cell_type": "code",
   "execution_count": 3,
   "metadata": {
    "execution": {
     "iopub.execute_input": "2023-09-29T10:41:44.245024Z",
     "iopub.status.busy": "2023-09-29T10:41:44.243603Z",
     "iopub.status.idle": "2023-09-29T10:41:45.498344Z",
     "shell.execute_reply": "2023-09-29T10:41:45.497732Z"
    },
    "tags": []
   },
   "outputs": [],
   "source": [
    "input_file = \"../examples/data/rad.gaussian.in.yaml\"\n",
    "gen = Generator(input_file,verbose=0)\n",
    "beam = gen.beam()\n",
    "\n",
    "coordinates = {'x', 'y', 'z', 'px', 'py', 'pz', \n",
    "               'r', 'theta', 'pr', 'ptheta', \n",
    "               'xp', 'yp', 'thetax', 'thetay',\n",
    "               'gamma', 'energy', 'kinetic_energy', \n",
    "               'beta_x', 'beta_y', 'beta_z'}"
   ]
  },
  {
   "cell_type": "markdown",
   "metadata": {},
   "source": [
    "# Statistical Tests\n",
    "\n",
    "$\\sum_i w_i = 1$"
   ]
  },
  {
   "cell_type": "code",
   "execution_count": 4,
   "metadata": {
    "execution": {
     "iopub.execute_input": "2023-09-29T10:41:45.501680Z",
     "iopub.status.busy": "2023-09-29T10:41:45.501233Z",
     "iopub.status.idle": "2023-09-29T10:41:45.518067Z",
     "shell.execute_reply": "2023-09-29T10:41:45.517505Z"
    }
   },
   "outputs": [],
   "source": [
    "assert np.abs(np.sum(beam['w'])-1)<1e14, 'Beam weights not normalized'"
   ]
  },
  {
   "cell_type": "markdown",
   "metadata": {},
   "source": [
    "$\\langle \\mathcal{O}\\rangle = \\sum_i w_i \\mathcal{O}_i$"
   ]
  },
  {
   "cell_type": "code",
   "execution_count": 5,
   "metadata": {
    "execution": {
     "iopub.execute_input": "2023-09-29T10:41:45.521490Z",
     "iopub.status.busy": "2023-09-29T10:41:45.521043Z",
     "iopub.status.idle": "2023-09-29T10:41:46.263664Z",
     "shell.execute_reply": "2023-09-29T10:41:46.263046Z"
    }
   },
   "outputs": [],
   "source": [
    "for var in coordinates:\n",
    "    assert np.abs(beam.avg(var) - np.sum(beam['w']*beam[var])).magnitude<1e-14, f'<{var}> is not correct'"
   ]
  },
  {
   "cell_type": "markdown",
   "metadata": {},
   "source": [
    "$\\sigma_{\\mathcal{O}}^2 = \\sum_i w_i (\\mathcal{O}_i-\\langle \\mathcal{O}\\rangle)^2 $ "
   ]
  },
  {
   "cell_type": "code",
   "execution_count": 6,
   "metadata": {
    "execution": {
     "iopub.execute_input": "2023-09-29T10:41:46.267124Z",
     "iopub.status.busy": "2023-09-29T10:41:46.266522Z",
     "iopub.status.idle": "2023-09-29T10:41:47.383432Z",
     "shell.execute_reply": "2023-09-29T10:41:47.382805Z"
    }
   },
   "outputs": [],
   "source": [
    "for var in coordinates:\n",
    "    assert np.abs(beam.std(var)**2 - np.sum(beam['w']*(beam[var]-beam.avg(var))**2)).magnitude<5e-10, f'<{var}> is not correct'"
   ]
  },
  {
   "cell_type": "markdown",
   "metadata": {},
   "source": [
    "# Cylindrical Coordinates\n",
    "---\n",
    "# Getting"
   ]
  },
  {
   "cell_type": "markdown",
   "metadata": {},
   "source": [
    "$r=\\sqrt{ x^2 + y^2 }$"
   ]
  },
  {
   "cell_type": "code",
   "execution_count": 7,
   "metadata": {
    "execution": {
     "iopub.execute_input": "2023-09-29T10:41:47.386878Z",
     "iopub.status.busy": "2023-09-29T10:41:47.386298Z",
     "iopub.status.idle": "2023-09-29T10:41:47.413051Z",
     "shell.execute_reply": "2023-09-29T10:41:47.412494Z"
    }
   },
   "outputs": [],
   "source": [
    "deviation =  np.abs(beam['r'] - np.sqrt(beam['x']**2 + beam['y']**2))\n",
    "assert max(deviation.magnitude)<1e-14, 'Radial coordinate incorrect'"
   ]
  },
  {
   "cell_type": "markdown",
   "metadata": {},
   "source": [
    "$x=r\\cos\\theta$"
   ]
  },
  {
   "cell_type": "code",
   "execution_count": 8,
   "metadata": {
    "execution": {
     "iopub.execute_input": "2023-09-29T10:41:47.416358Z",
     "iopub.status.busy": "2023-09-29T10:41:47.415792Z",
     "iopub.status.idle": "2023-09-29T10:41:47.443954Z",
     "shell.execute_reply": "2023-09-29T10:41:47.443295Z"
    }
   },
   "outputs": [],
   "source": [
    "deviation = np.abs(beam['x'] - beam['r']*np.cos(beam['theta']))\n",
    "assert max(deviation.magnitude)<1e-14, 'x coordinate incorrect'"
   ]
  },
  {
   "cell_type": "markdown",
   "metadata": {},
   "source": [
    "$y = r\\sin\\theta$ "
   ]
  },
  {
   "cell_type": "code",
   "execution_count": 9,
   "metadata": {
    "execution": {
     "iopub.execute_input": "2023-09-29T10:41:47.447222Z",
     "iopub.status.busy": "2023-09-29T10:41:47.446591Z",
     "iopub.status.idle": "2023-09-29T10:41:47.475866Z",
     "shell.execute_reply": "2023-09-29T10:41:47.475254Z"
    }
   },
   "outputs": [],
   "source": [
    "deviation = np.abs(beam['x'] - beam['r']*np.cos(beam['theta']))\n",
    "assert max(deviation.magnitude)<5e-13, 'y coordinate incorrect'"
   ]
  },
  {
   "cell_type": "markdown",
   "metadata": {},
   "source": [
    "$p_r = p_x\\cos\\theta - p_y\\sin\\theta$"
   ]
  },
  {
   "cell_type": "code",
   "execution_count": 10,
   "metadata": {
    "execution": {
     "iopub.execute_input": "2023-09-29T10:41:47.479223Z",
     "iopub.status.busy": "2023-09-29T10:41:47.478765Z",
     "iopub.status.idle": "2023-09-29T10:41:47.515139Z",
     "shell.execute_reply": "2023-09-29T10:41:47.514558Z"
    }
   },
   "outputs": [],
   "source": [
    "deviation = np.abs(beam['pr'] - beam['px']*np.cos(beam['theta']) - beam['py']*np.sin(beam['theta']))\n",
    "assert max(deviation.magnitude)<5e-13, 'pr coordinate incorrect'"
   ]
  },
  {
   "cell_type": "markdown",
   "metadata": {},
   "source": [
    "$p_{\\theta} = -p_x\\cos\\theta + p_y\\sin\\theta$"
   ]
  },
  {
   "cell_type": "code",
   "execution_count": 11,
   "metadata": {
    "execution": {
     "iopub.execute_input": "2023-09-29T10:41:47.517990Z",
     "iopub.status.busy": "2023-09-29T10:41:47.517556Z",
     "iopub.status.idle": "2023-09-29T10:41:47.554122Z",
     "shell.execute_reply": "2023-09-29T10:41:47.553306Z"
    }
   },
   "outputs": [],
   "source": [
    "deviation = np.abs(beam['ptheta'] + beam['px']*np.sin(beam['theta']) - beam['py']*np.cos(beam['theta']))\n",
    "assert max(deviation.magnitude)<5e-13, 'ptheta coordinate incorrect'"
   ]
  },
  {
   "cell_type": "markdown",
   "metadata": {},
   "source": [
    "# Transverse Derivatives and Angles\n",
    "---"
   ]
  },
  {
   "cell_type": "markdown",
   "metadata": {},
   "source": [
    "# Getting"
   ]
  },
  {
   "cell_type": "markdown",
   "metadata": {},
   "source": [
    "$x^{\\prime} = p_x/p_z$"
   ]
  },
  {
   "cell_type": "code",
   "execution_count": 12,
   "metadata": {
    "execution": {
     "iopub.execute_input": "2023-09-29T10:41:47.557385Z",
     "iopub.status.busy": "2023-09-29T10:41:47.556845Z",
     "iopub.status.idle": "2023-09-29T10:41:47.582987Z",
     "shell.execute_reply": "2023-09-29T10:41:47.582427Z"
    }
   },
   "outputs": [],
   "source": [
    "deviation = np.abs(beam['xp'] - beam['px'].to(beam['pz'].units)/beam['pz'])\n",
    "assert max(deviation.magnitude)<1e-14, 'xp coordinate incorrect'"
   ]
  },
  {
   "cell_type": "markdown",
   "metadata": {},
   "source": [
    "$y^{\\prime} = p_y/p_z$"
   ]
  },
  {
   "cell_type": "code",
   "execution_count": 13,
   "metadata": {
    "execution": {
     "iopub.execute_input": "2023-09-29T10:41:47.585991Z",
     "iopub.status.busy": "2023-09-29T10:41:47.585564Z",
     "iopub.status.idle": "2023-09-29T10:41:47.612536Z",
     "shell.execute_reply": "2023-09-29T10:41:47.611970Z"
    }
   },
   "outputs": [],
   "source": [
    "deviation = np.abs(beam['yp'] - beam['py'].to(beam['py'].units)/beam['pz'])\n",
    "assert max(deviation.magnitude)<1e-14, 'yp coordinate incorrect'"
   ]
  },
  {
   "cell_type": "markdown",
   "metadata": {},
   "source": [
    "$\\theta_x = \\arctan(p_x/p_z)$"
   ]
  },
  {
   "cell_type": "code",
   "execution_count": 14,
   "metadata": {
    "execution": {
     "iopub.execute_input": "2023-09-29T10:41:47.615536Z",
     "iopub.status.busy": "2023-09-29T10:41:47.614996Z",
     "iopub.status.idle": "2023-09-29T10:41:47.641612Z",
     "shell.execute_reply": "2023-09-29T10:41:47.641023Z"
    }
   },
   "outputs": [],
   "source": [
    "deviation = np.abs(beam['thetax'] - np.arctan(beam['px'].to(beam['px'].units)/beam['pz']))\n",
    "assert max(deviation.magnitude)<1e-14, f'thetax coordinate deviation = {max(deviation)}'"
   ]
  },
  {
   "cell_type": "markdown",
   "metadata": {},
   "source": [
    "$\\theta_y = \\arctan(p_y/p_z)$"
   ]
  },
  {
   "cell_type": "code",
   "execution_count": 15,
   "metadata": {
    "execution": {
     "iopub.execute_input": "2023-09-29T10:41:47.644528Z",
     "iopub.status.busy": "2023-09-29T10:41:47.644108Z",
     "iopub.status.idle": "2023-09-29T10:41:47.670509Z",
     "shell.execute_reply": "2023-09-29T10:41:47.669935Z"
    }
   },
   "outputs": [],
   "source": [
    "deviation = np.abs(beam['thetay'] - np.arctan(beam['py'].to(beam['py'].units)/beam['pz']))\n",
    "assert max(deviation.magnitude)<1e-14, 'thetay coordinate incorrect'"
   ]
  },
  {
   "cell_type": "markdown",
   "metadata": {},
   "source": [
    "# Relativistic Quantities\n",
    "---\n",
    "$p=\\sqrt{p_x^2 + p_y^2 + p_z^2}$"
   ]
  },
  {
   "cell_type": "code",
   "execution_count": 16,
   "metadata": {
    "execution": {
     "iopub.execute_input": "2023-09-29T10:41:47.673532Z",
     "iopub.status.busy": "2023-09-29T10:41:47.673107Z",
     "iopub.status.idle": "2023-09-29T10:41:47.700849Z",
     "shell.execute_reply": "2023-09-29T10:41:47.700296Z"
    }
   },
   "outputs": [],
   "source": [
    "deviation = np.abs(beam['p'] - np.sqrt(beam['px']**2 +beam['py']**2 + beam['pz']**2))\n",
    "assert max(deviation.magnitude)<1e-14, 'thetay coordinate incorrect'"
   ]
  },
  {
   "cell_type": "markdown",
   "metadata": {},
   "source": [
    "$\\gamma = \\sqrt{1+\\left(\\frac{p}{mc}\\right)^2}$"
   ]
  },
  {
   "cell_type": "code",
   "execution_count": 17,
   "metadata": {
    "execution": {
     "iopub.execute_input": "2023-09-29T10:41:47.703546Z",
     "iopub.status.busy": "2023-09-29T10:41:47.703139Z",
     "iopub.status.idle": "2023-09-29T10:41:47.787460Z",
     "shell.execute_reply": "2023-09-29T10:41:47.786833Z"
    }
   },
   "outputs": [],
   "source": [
    "deviation = np.abs( beam['gamma'] - np.sqrt(1+ (beam['p'].to('eV/c').magnitude/MC2.magnitude)**2) )\n",
    "assert max(deviation.magnitude)<1e-13, 'gamma coordinate incorrect'"
   ]
  },
  {
   "cell_type": "markdown",
   "metadata": {},
   "source": [
    "$\\beta_{x_i} = p_{x_i}/\\gamma$"
   ]
  },
  {
   "cell_type": "code",
   "execution_count": 18,
   "metadata": {
    "execution": {
     "iopub.execute_input": "2023-09-29T10:41:47.790717Z",
     "iopub.status.busy": "2023-09-29T10:41:47.790252Z",
     "iopub.status.idle": "2023-09-29T10:41:48.176879Z",
     "shell.execute_reply": "2023-09-29T10:41:48.176255Z"
    }
   },
   "outputs": [],
   "source": [
    "for var in ['x', 'y', 'z']:\n",
    "    deviation = np.abs( beam[f'beta_{var}'] - beam[f'p{var}'].to('GB')/beam['gamma'])  \n",
    "    assert max(deviation.magnitude)<1e-14, f'beta_{var} coordinate incorrect'"
   ]
  },
  {
   "cell_type": "markdown",
   "metadata": {},
   "source": [
    "KE = $mc^2(\\gamma-1)$"
   ]
  },
  {
   "cell_type": "code",
   "execution_count": 19,
   "metadata": {
    "execution": {
     "iopub.execute_input": "2023-09-29T10:41:48.180082Z",
     "iopub.status.busy": "2023-09-29T10:41:48.179623Z",
     "iopub.status.idle": "2023-09-29T10:41:48.316598Z",
     "shell.execute_reply": "2023-09-29T10:41:48.315987Z"
    }
   },
   "outputs": [],
   "source": [
    "deviation = np.abs( beam['kinetic_energy'] - MC2*(beam['gamma']-1) ) \n",
    "assert max(deviation.magnitude)<1e-14, 'KE coordinate incorrect'"
   ]
  },
  {
   "cell_type": "markdown",
   "metadata": {},
   "source": [
    "E = $mc^2\\gamma$"
   ]
  },
  {
   "cell_type": "code",
   "execution_count": 20,
   "metadata": {
    "execution": {
     "iopub.execute_input": "2023-09-29T10:41:48.320046Z",
     "iopub.status.busy": "2023-09-29T10:41:48.319570Z",
     "iopub.status.idle": "2023-09-29T10:41:48.458662Z",
     "shell.execute_reply": "2023-09-29T10:41:48.458049Z"
    }
   },
   "outputs": [],
   "source": [
    "deviation = np.abs( beam['energy'] - MC2*(beam['gamma']) ) \n",
    "assert max(deviation.magnitude)<1e-14, 'E coordinate incorrect'"
   ]
  },
  {
   "cell_type": "markdown",
   "metadata": {},
   "source": [
    "# Twiss Parameters\n",
    "---\n",
    "# Getting\n",
    "\n",
    "$\\epsilon_{n,x_i} = \\frac{1}{mc}\\sqrt{\\sigma_{x_i}^2\\sigma_{p_{x_i}}^2 - \\langle \\left(x_i-\\langle x_i\\rangle\\right)\\left(p_{x_i}-\\langle p_{x_i}\\rangle\\right)\\rangle^2 }$"
   ]
  },
  {
   "cell_type": "code",
   "execution_count": 21,
   "metadata": {
    "execution": {
     "iopub.execute_input": "2023-09-29T10:41:48.461969Z",
     "iopub.status.busy": "2023-09-29T10:41:48.461528Z",
     "iopub.status.idle": "2023-09-29T10:41:48.924451Z",
     "shell.execute_reply": "2023-09-29T10:41:48.923844Z"
    }
   },
   "outputs": [],
   "source": [
    "for var in ['x', 'y']:\n",
    "    stdx = beam.std(var)\n",
    "    stdp = (beam.std(f'p{var}').to('GB')).magnitude\n",
    "    dx = beam[var]-beam.avg(var)\n",
    "    dp = (beam[f'p{var}']-beam.avg(f'p{var}')).to('GB').magnitude\n",
    "    \n",
    "    deviation = np.abs(beam.emitt(var) - np.sqrt(stdx**2 * stdp**2 - (np.sum(beam['w']*dx*dp))**2 ))\n",
    "    assert deviation.magnitude < 1e-14"
   ]
  },
  {
   "cell_type": "markdown",
   "metadata": {},
   "source": [
    "$\\epsilon_{x} = \\sqrt{\\sigma_x^2\\sigma_{x^{\\prime}}^2 - \\langle \\left(x-\\langle x\\rangle\\right)\\left(x^{\\prime}-\\langle x^{\\prime}\\rangle\\right)\\rangle^2 }$"
   ]
  },
  {
   "cell_type": "code",
   "execution_count": 22,
   "metadata": {
    "execution": {
     "iopub.execute_input": "2023-09-29T10:41:48.927895Z",
     "iopub.status.busy": "2023-09-29T10:41:48.927429Z",
     "iopub.status.idle": "2023-09-29T10:41:49.390359Z",
     "shell.execute_reply": "2023-09-29T10:41:49.389735Z"
    }
   },
   "outputs": [],
   "source": [
    "for var in ['x', 'y']:\n",
    "    stdx = beam.std(var)\n",
    "    stdp = (beam.std(f'{var}p')).magnitude\n",
    "    dx = beam[var]-beam.avg(var)\n",
    "    dp = (beam[f'{var}p']-beam.avg(f'{var}p')).magnitude\n",
    "    \n",
    "    deviation = np.abs(beam.emitt(var,'geometric') - np.sqrt(stdx**2 * stdp**2 - (np.sum(beam['w']*dx*dp))**2 ))\n",
    "    assert deviation.magnitude < 1e-14"
   ]
  },
  {
   "cell_type": "markdown",
   "metadata": {},
   "source": [
    "Twiss $\\beta_{x_i} = \\frac{\\sigma_x^2}{\\epsilon_x}$"
   ]
  },
  {
   "cell_type": "code",
   "execution_count": 23,
   "metadata": {
    "execution": {
     "iopub.execute_input": "2023-09-29T10:41:49.393864Z",
     "iopub.status.busy": "2023-09-29T10:41:49.393405Z",
     "iopub.status.idle": "2023-09-29T10:41:50.283958Z",
     "shell.execute_reply": "2023-09-29T10:41:50.283335Z"
    }
   },
   "outputs": [],
   "source": [
    "for var in ['x', 'y']:\n",
    "    stdx = beam.std(var)\n",
    "    epsx = beam.emitt(var,'geometric')\n",
    "\n",
    "    deviation = np.abs( beam.Beta(var) - stdx**2/epsx )\n",
    "    assert deviation.magnitude < 1e-14"
   ]
  },
  {
   "cell_type": "markdown",
   "metadata": {},
   "source": [
    "Twiss $\\alpha_{x_i} = -\\frac{\\langle(x-\\langle x\\rangle)(x^{\\prime}-\\langle x^{\\prime}\\rangle)\\rangle}{\\epsilon_x}$"
   ]
  },
  {
   "cell_type": "code",
   "execution_count": 24,
   "metadata": {
    "execution": {
     "iopub.execute_input": "2023-09-29T10:41:50.287499Z",
     "iopub.status.busy": "2023-09-29T10:41:50.286900Z",
     "iopub.status.idle": "2023-09-29T10:41:58.959578Z",
     "shell.execute_reply": "2023-09-29T10:41:58.958936Z"
    }
   },
   "outputs": [],
   "source": [
    "for var in ['x', 'y']:\n",
    "    dx = beam[var]-beam.avg(var)\n",
    "    dp = (beam[f'{var}p']-beam.avg(f'{var}p'))\n",
    "    epsx = beam.emitt(var,'geometric')\n",
    "    deviation = np.abs( beam.Alpha(var) + sum(beam['w']*dx*dp)/epsx )\n",
    "    assert deviation.magnitude < 1e-15"
   ]
  },
  {
   "cell_type": "markdown",
   "metadata": {},
   "source": [
    "Twiss $\\gamma_{x_i} = \\frac{\\sigma_{x^{\\prime}}^2}{\\epsilon_x}$"
   ]
  },
  {
   "cell_type": "code",
   "execution_count": 25,
   "metadata": {
    "execution": {
     "iopub.execute_input": "2023-09-29T10:41:58.962781Z",
     "iopub.status.busy": "2023-09-29T10:41:58.962326Z",
     "iopub.status.idle": "2023-09-29T10:41:59.858718Z",
     "shell.execute_reply": "2023-09-29T10:41:59.858096Z"
    },
    "tags": []
   },
   "outputs": [],
   "source": [
    "for var in ['x', 'y']:\n",
    "    stdp = beam.std(f'{var}p')\n",
    "    epsx = beam.emitt(var,'geometric')\n",
    "    deviation = np.abs( beam.Gamma(var) - stdp**2/epsx )\n",
    "    assert deviation.magnitude < 5e-15"
   ]
  }
 ],
 "metadata": {
  "kernelspec": {
   "display_name": "Python 3 (ipykernel)",
   "language": "python",
   "name": "python3"
  },
  "language_info": {
   "codemirror_mode": {
    "name": "ipython",
    "version": 3
   },
   "file_extension": ".py",
   "mimetype": "text/x-python",
   "name": "python",
   "nbconvert_exporter": "python",
   "pygments_lexer": "ipython3",
   "version": "3.9.18"
  }
 },
 "nbformat": 4,
 "nbformat_minor": 4
}
