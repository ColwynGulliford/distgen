{
 "cells": [
  {
   "cell_type": "markdown",
   "metadata": {},
   "source": [
    "# Beam Class Regression Tests\n",
    "----"
   ]
  },
  {
   "cell_type": "code",
   "execution_count": 1,
   "metadata": {
    "execution": {
     "iopub.execute_input": "2024-10-27T02:20:57.280911Z",
     "iopub.status.busy": "2024-10-27T02:20:57.280731Z",
     "iopub.status.idle": "2024-10-27T02:20:57.295077Z",
     "shell.execute_reply": "2024-10-27T02:20:57.294511Z"
    }
   },
   "outputs": [],
   "source": [
    "%load_ext autoreload\n",
    "%autoreload 2"
   ]
  },
  {
   "cell_type": "code",
   "execution_count": 2,
   "metadata": {
    "execution": {
     "iopub.execute_input": "2024-10-27T02:20:57.297170Z",
     "iopub.status.busy": "2024-10-27T02:20:57.296877Z",
     "iopub.status.idle": "2024-10-27T02:20:58.512984Z",
     "shell.execute_reply": "2024-10-27T02:20:58.512387Z"
    },
    "tags": []
   },
   "outputs": [],
   "source": [
    "import numpy as np\n",
    "from distgen import Generator\n",
    "from distgen.physical_constants import PHYSICAL_CONSTANTS\n",
    "from distgen.tools import check_abs_and_rel_tols\n",
    "from glob import glob"
   ]
  },
  {
   "cell_type": "code",
   "execution_count": 3,
   "metadata": {
    "execution": {
     "iopub.execute_input": "2024-10-27T02:20:58.515388Z",
     "iopub.status.busy": "2024-10-27T02:20:58.514934Z",
     "iopub.status.idle": "2024-10-27T02:20:58.531015Z",
     "shell.execute_reply": "2024-10-27T02:20:58.530521Z"
    },
    "tags": []
   },
   "outputs": [],
   "source": [
    "yaml_files = list(glob(\"../examples/data/*.yaml\"))\n",
    "\n",
    "coordinates = {\n",
    "    \"x\",\n",
    "    \"y\",\n",
    "    \"z\",\n",
    "    \"px\",\n",
    "    \"py\",\n",
    "    \"pz\",\n",
    "    \"r\",\n",
    "    \"theta\",\n",
    "    \"pr\",\n",
    "    \"ptheta\",\n",
    "    \"xp\",\n",
    "    \"yp\",\n",
    "    \"thetax\",\n",
    "    \"thetay\",\n",
    "    \"gamma\",\n",
    "    \"energy\",\n",
    "    \"kinetic_energy\",\n",
    "    \"beta_x\",\n",
    "    \"beta_y\",\n",
    "    \"beta_z\",\n",
    "}\n",
    "\n",
    "\n",
    "def run_test_on_input_file(input_file, test):\n",
    "    G = Generator(input_file, verbose=0)\n",
    "    G[\"n_particle\"] = 10_000\n",
    "    test(G.beam())\n",
    "\n",
    "\n",
    "def run_test_on_input_files(input_files, test, verbose=False):\n",
    "    for input_file in input_files:\n",
    "        if verbose:\n",
    "            print(\"Testing:\", input_file)\n",
    "\n",
    "        run_test_on_input_file(input_file, test)"
   ]
  },
  {
   "cell_type": "markdown",
   "metadata": {},
   "source": [
    "# Statistical Tests\n",
    "\n",
    "$\\sum_i w_i = 1$"
   ]
  },
  {
   "cell_type": "code",
   "execution_count": 4,
   "metadata": {
    "execution": {
     "iopub.execute_input": "2024-10-27T02:20:58.532874Z",
     "iopub.status.busy": "2024-10-27T02:20:58.532698Z",
     "iopub.status.idle": "2024-10-27T02:21:00.643630Z",
     "shell.execute_reply": "2024-10-27T02:21:00.643054Z"
    }
   },
   "outputs": [],
   "source": [
    "def test_weight_normalization(beam):\n",
    "    check_abs_and_rel_tols(\n",
    "        \"macroparticle weights\", np.sum(beam[\"w\"]), 1.0, abs_tol=1e-12, rel_tol=1e-15\n",
    "    )\n",
    "\n",
    "\n",
    "run_test_on_input_files(yaml_files, test_weight_normalization)"
   ]
  },
  {
   "cell_type": "markdown",
   "metadata": {},
   "source": [
    "$\\langle \\mathcal{O}\\rangle = \\sum_i w_i \\mathcal{O}_i$"
   ]
  },
  {
   "cell_type": "code",
   "execution_count": 5,
   "metadata": {
    "execution": {
     "iopub.execute_input": "2024-10-27T02:21:00.645756Z",
     "iopub.status.busy": "2024-10-27T02:21:00.645552Z",
     "iopub.status.idle": "2024-10-27T02:21:03.270740Z",
     "shell.execute_reply": "2024-10-27T02:21:03.270082Z"
    }
   },
   "outputs": [],
   "source": [
    "def test_avg(beam):\n",
    "    for var in coordinates:\n",
    "        avg_beam, avg_numpy = beam.avg(var), np.sum(beam[\"w\"] * beam[var])\n",
    "        check_abs_and_rel_tols(\n",
    "            \"beam.avg\", avg_beam, avg_numpy, abs_tol=1e-12, rel_tol=1e-15\n",
    "        )\n",
    "\n",
    "\n",
    "run_test_on_input_files(yaml_files, test_avg)"
   ]
  },
  {
   "cell_type": "markdown",
   "metadata": {},
   "source": [
    "$\\sigma_{\\mathcal{O}}^2 = \\sum_i w_i (\\mathcal{O}_i-\\langle \\mathcal{O}\\rangle)^2 $ "
   ]
  },
  {
   "cell_type": "code",
   "execution_count": 6,
   "metadata": {
    "execution": {
     "iopub.execute_input": "2024-10-27T02:21:03.273203Z",
     "iopub.status.busy": "2024-10-27T02:21:03.272822Z",
     "iopub.status.idle": "2024-10-27T02:21:06.193505Z",
     "shell.execute_reply": "2024-10-27T02:21:06.192985Z"
    }
   },
   "outputs": [],
   "source": [
    "def test_std(beam):\n",
    "    for var in coordinates:\n",
    "        sigma2_beam = beam.std(var) ** 2\n",
    "        sigma2_numpy = np.sum(beam[\"w\"] * (beam[var] - beam.avg(var)) ** 2)\n",
    "        check_abs_and_rel_tols(\n",
    "            \"beam.std\", sigma2_beam, sigma2_numpy, abs_tol=1e-8, rel_tol=1e-15\n",
    "        )\n",
    "\n",
    "\n",
    "run_test_on_input_files(yaml_files, test_std)"
   ]
  },
  {
   "cell_type": "markdown",
   "metadata": {},
   "source": [
    "# Cylindrical Coordinates\n",
    "---\n",
    "# Getting"
   ]
  },
  {
   "cell_type": "markdown",
   "metadata": {},
   "source": [
    "$r=\\sqrt{ x^2 + y^2 }$"
   ]
  },
  {
   "cell_type": "code",
   "execution_count": 7,
   "metadata": {
    "execution": {
     "iopub.execute_input": "2024-10-27T02:21:06.195943Z",
     "iopub.status.busy": "2024-10-27T02:21:06.195557Z",
     "iopub.status.idle": "2024-10-27T02:21:08.265282Z",
     "shell.execute_reply": "2024-10-27T02:21:08.264697Z"
    }
   },
   "outputs": [],
   "source": [
    "def test_r(beam):\n",
    "    check_abs_and_rel_tols(\n",
    "        \"beam.r\",\n",
    "        beam[\"r\"],\n",
    "        np.sqrt(beam[\"x\"] ** 2 + beam[\"y\"] ** 2),\n",
    "        abs_tol=1e-15,\n",
    "        rel_tol=1e-15,\n",
    "    )\n",
    "\n",
    "\n",
    "run_test_on_input_files(yaml_files, test_r)"
   ]
  },
  {
   "cell_type": "markdown",
   "metadata": {},
   "source": [
    "$x=r\\cos\\theta$"
   ]
  },
  {
   "cell_type": "code",
   "execution_count": 8,
   "metadata": {
    "execution": {
     "iopub.execute_input": "2024-10-27T02:21:08.267575Z",
     "iopub.status.busy": "2024-10-27T02:21:08.267374Z",
     "iopub.status.idle": "2024-10-27T02:21:10.336567Z",
     "shell.execute_reply": "2024-10-27T02:21:10.335934Z"
    }
   },
   "outputs": [],
   "source": [
    "def test_x(beam):\n",
    "    check_abs_and_rel_tols(\n",
    "        \"beam.x = r cos(theta)\",\n",
    "        beam[\"x\"],\n",
    "        beam[\"r\"] * np.cos(beam[\"theta\"]),\n",
    "        abs_tol=1e-12,\n",
    "        rel_tol=1e-11,\n",
    "    )\n",
    "\n",
    "\n",
    "run_test_on_input_files(yaml_files, test_x)"
   ]
  },
  {
   "cell_type": "markdown",
   "metadata": {},
   "source": [
    "$y = r\\sin\\theta$ "
   ]
  },
  {
   "cell_type": "code",
   "execution_count": 9,
   "metadata": {
    "execution": {
     "iopub.execute_input": "2024-10-27T02:21:10.338932Z",
     "iopub.status.busy": "2024-10-27T02:21:10.338722Z",
     "iopub.status.idle": "2024-10-27T02:21:12.398663Z",
     "shell.execute_reply": "2024-10-27T02:21:12.398005Z"
    }
   },
   "outputs": [],
   "source": [
    "def test_y(beam):\n",
    "    check_abs_and_rel_tols(\n",
    "        \"beam.y = r sin(theta)\",\n",
    "        beam[\"y\"],\n",
    "        beam[\"r\"] * np.sin(beam[\"theta\"]),\n",
    "        abs_tol=1e-12,\n",
    "        rel_tol=1e-11,\n",
    "    )\n",
    "\n",
    "\n",
    "run_test_on_input_files(yaml_files, test_y)"
   ]
  },
  {
   "cell_type": "markdown",
   "metadata": {},
   "source": [
    "$p_r = p_x\\cos\\theta + p_y\\sin\\theta$"
   ]
  },
  {
   "cell_type": "code",
   "execution_count": 10,
   "metadata": {
    "execution": {
     "iopub.execute_input": "2024-10-27T02:21:12.400975Z",
     "iopub.status.busy": "2024-10-27T02:21:12.400755Z",
     "iopub.status.idle": "2024-10-27T02:21:14.491257Z",
     "shell.execute_reply": "2024-10-27T02:21:14.490622Z"
    }
   },
   "outputs": [],
   "source": [
    "def test_pr(beam):\n",
    "    check_abs_and_rel_tols(\n",
    "        \"beam.pr = px cos(theta) + py sin(theta)\",\n",
    "        beam[\"pr\"],\n",
    "        beam[\"px\"] * np.cos(beam[\"theta\"]) + beam[\"py\"] * np.sin(beam[\"theta\"]),\n",
    "        abs_tol=1e-12,\n",
    "        rel_tol=1e-15,\n",
    "    )\n",
    "\n",
    "\n",
    "run_test_on_input_files(yaml_files, test_pr)"
   ]
  },
  {
   "cell_type": "markdown",
   "metadata": {},
   "source": [
    "$p_{\\theta} = -p_x\\sin\\theta + p_y\\cos\\theta$"
   ]
  },
  {
   "cell_type": "code",
   "execution_count": 11,
   "metadata": {
    "execution": {
     "iopub.execute_input": "2024-10-27T02:21:14.493600Z",
     "iopub.status.busy": "2024-10-27T02:21:14.493370Z",
     "iopub.status.idle": "2024-10-27T02:21:16.581393Z",
     "shell.execute_reply": "2024-10-27T02:21:16.580875Z"
    }
   },
   "outputs": [],
   "source": [
    "def test_ptheta(beam):\n",
    "    check_abs_and_rel_tols(\n",
    "        \"beam.ptheta = -px sin(theta) + py cos(theta)\",\n",
    "        beam[\"ptheta\"],\n",
    "        -beam[\"px\"] * np.sin(beam[\"theta\"]) + beam[\"py\"] * np.cos(beam[\"theta\"]),\n",
    "        abs_tol=1e-12,\n",
    "        rel_tol=1e-15,\n",
    "    )\n",
    "\n",
    "\n",
    "run_test_on_input_files(yaml_files, test_ptheta)"
   ]
  },
  {
   "cell_type": "markdown",
   "metadata": {},
   "source": [
    "# Transverse Derivatives and Angles\n",
    "---"
   ]
  },
  {
   "cell_type": "markdown",
   "metadata": {},
   "source": [
    "# Getting"
   ]
  },
  {
   "cell_type": "markdown",
   "metadata": {},
   "source": [
    "$x^{\\prime} = p_x/p_z$"
   ]
  },
  {
   "cell_type": "code",
   "execution_count": 12,
   "metadata": {
    "execution": {
     "iopub.execute_input": "2024-10-27T02:21:16.583975Z",
     "iopub.status.busy": "2024-10-27T02:21:16.583515Z",
     "iopub.status.idle": "2024-10-27T02:21:18.655672Z",
     "shell.execute_reply": "2024-10-27T02:21:18.655032Z"
    }
   },
   "outputs": [],
   "source": [
    "def test_xp(beam):\n",
    "    check_abs_and_rel_tols(\n",
    "        \"beam.xp = px/pz\",\n",
    "        beam[\"xp\"],\n",
    "        beam[\"px\"].to(beam[\"pz\"].units) / beam[\"pz\"],\n",
    "        abs_tol=1e-14,\n",
    "        rel_tol=1e-15,\n",
    "    )\n",
    "\n",
    "\n",
    "run_test_on_input_files(yaml_files, test_xp)"
   ]
  },
  {
   "cell_type": "markdown",
   "metadata": {},
   "source": [
    "$y^{\\prime} = p_y/p_z$"
   ]
  },
  {
   "cell_type": "code",
   "execution_count": 13,
   "metadata": {
    "execution": {
     "iopub.execute_input": "2024-10-27T02:21:18.658094Z",
     "iopub.status.busy": "2024-10-27T02:21:18.657878Z",
     "iopub.status.idle": "2024-10-27T02:21:20.717443Z",
     "shell.execute_reply": "2024-10-27T02:21:20.716853Z"
    }
   },
   "outputs": [],
   "source": [
    "def test_yp(beam):\n",
    "    check_abs_and_rel_tols(\n",
    "        \"beam.yp = py/pz\",\n",
    "        beam[\"yp\"],\n",
    "        beam[\"py\"].to(beam[\"pz\"].units) / beam[\"pz\"],\n",
    "        abs_tol=1e-14,\n",
    "        rel_tol=1e-15,\n",
    "    )\n",
    "\n",
    "\n",
    "run_test_on_input_files(yaml_files, test_yp)"
   ]
  },
  {
   "cell_type": "markdown",
   "metadata": {},
   "source": [
    "$\\theta_x = \\arctan(p_x/p_z)$"
   ]
  },
  {
   "cell_type": "code",
   "execution_count": 14,
   "metadata": {
    "execution": {
     "iopub.execute_input": "2024-10-27T02:21:20.719601Z",
     "iopub.status.busy": "2024-10-27T02:21:20.719392Z",
     "iopub.status.idle": "2024-10-27T02:21:22.797192Z",
     "shell.execute_reply": "2024-10-27T02:21:22.796523Z"
    }
   },
   "outputs": [],
   "source": [
    "def test_thetax(beam):\n",
    "    check_abs_and_rel_tols(\n",
    "        \"beam.thetax = arctan(px/pz)\",\n",
    "        beam[\"thetax\"],\n",
    "        np.arctan2(beam[\"px\"].to(beam[\"pz\"].units), beam[\"pz\"]),\n",
    "        abs_tol=1e-15,\n",
    "        rel_tol=1e-15,\n",
    "    )\n",
    "\n",
    "\n",
    "run_test_on_input_files(yaml_files, test_thetax)"
   ]
  },
  {
   "cell_type": "markdown",
   "metadata": {},
   "source": [
    "$\\theta_y = \\arctan(p_y/p_z)$"
   ]
  },
  {
   "cell_type": "code",
   "execution_count": 15,
   "metadata": {
    "execution": {
     "iopub.execute_input": "2024-10-27T02:21:22.799370Z",
     "iopub.status.busy": "2024-10-27T02:21:22.799171Z",
     "iopub.status.idle": "2024-10-27T02:21:24.861669Z",
     "shell.execute_reply": "2024-10-27T02:21:24.860986Z"
    }
   },
   "outputs": [],
   "source": [
    "def test_thetay(beam):\n",
    "    check_abs_and_rel_tols(\n",
    "        \"beam.thetay = arctan(py/pz)\",\n",
    "        beam[\"thetay\"],\n",
    "        np.arctan2(beam[\"py\"].to(beam[\"pz\"].units), beam[\"pz\"]),\n",
    "        abs_tol=1e-15,\n",
    "        rel_tol=1e-15,\n",
    "    )\n",
    "\n",
    "\n",
    "run_test_on_input_files(yaml_files, test_thetay)"
   ]
  },
  {
   "cell_type": "markdown",
   "metadata": {},
   "source": [
    "# Relativistic Quantities\n",
    "---\n",
    "$p=\\sqrt{p_x^2 + p_y^2 + p_z^2}$"
   ]
  },
  {
   "cell_type": "code",
   "execution_count": 16,
   "metadata": {
    "execution": {
     "iopub.execute_input": "2024-10-27T02:21:24.863748Z",
     "iopub.status.busy": "2024-10-27T02:21:24.863540Z",
     "iopub.status.idle": "2024-10-27T02:21:26.920214Z",
     "shell.execute_reply": "2024-10-27T02:21:26.919637Z"
    }
   },
   "outputs": [],
   "source": [
    "def test_p(beam):\n",
    "    check_abs_and_rel_tols(\n",
    "        \"beam.p = sqrt(px^2 + py^2 + pz^2)\",\n",
    "        beam[\"p\"],\n",
    "        np.sqrt(beam[\"px\"] ** 2 + beam[\"py\"] ** 2 + beam[\"pz\"] ** 2),\n",
    "        abs_tol=1e-15,\n",
    "        rel_tol=1e-15,\n",
    "    )\n",
    "\n",
    "\n",
    "run_test_on_input_files(yaml_files, test_p)"
   ]
  },
  {
   "cell_type": "markdown",
   "metadata": {},
   "source": [
    "$E = \\sqrt{c^2|\\vec{p}|^2 + (mc^2)^2}$"
   ]
  },
  {
   "cell_type": "code",
   "execution_count": 17,
   "metadata": {
    "execution": {
     "iopub.execute_input": "2024-10-27T02:21:26.922322Z",
     "iopub.status.busy": "2024-10-27T02:21:26.922129Z",
     "iopub.status.idle": "2024-10-27T02:21:28.987793Z",
     "shell.execute_reply": "2024-10-27T02:21:28.987203Z"
    }
   },
   "outputs": [],
   "source": [
    "def test_energy(beam):\n",
    "    c = PHYSICAL_CONSTANTS[\"speed of light in vacuum\"]\n",
    "\n",
    "    check_abs_and_rel_tols(\n",
    "        \"beam.energy = sqrt(c^2p^2 + (mc^2)^2)\",\n",
    "        beam[\"energy\"],\n",
    "        np.sqrt(c**2 * beam[\"p\"] ** 2 + beam.mc2**2),\n",
    "        abs_tol=1e-9,\n",
    "        rel_tol=1e-15,\n",
    "    )\n",
    "\n",
    "\n",
    "run_test_on_input_files(yaml_files, test_energy)"
   ]
  },
  {
   "cell_type": "markdown",
   "metadata": {},
   "source": [
    "$\\gamma = \\sqrt{1+\\left(\\frac{p}{mc}\\right)^2}$, $E/mc^2$"
   ]
  },
  {
   "cell_type": "code",
   "execution_count": 18,
   "metadata": {
    "execution": {
     "iopub.execute_input": "2024-10-27T02:21:28.990335Z",
     "iopub.status.busy": "2024-10-27T02:21:28.989931Z",
     "iopub.status.idle": "2024-10-27T02:21:31.088731Z",
     "shell.execute_reply": "2024-10-27T02:21:31.088151Z"
    }
   },
   "outputs": [],
   "source": [
    "def test_gamma(beam):\n",
    "    mc = beam.species_mass * PHYSICAL_CONSTANTS[\"speed of light in vacuum\"]\n",
    "\n",
    "    check_abs_and_rel_tols(\n",
    "        \"beam.gamma = sqrt( 1 + (p/mc)^2 )\",\n",
    "        beam[\"gamma\"],\n",
    "        np.sqrt(1 + (beam[\"p\"] / mc).to_reduced_units() ** 2),\n",
    "        abs_tol=1e-10,\n",
    "        rel_tol=1e-10,\n",
    "    )\n",
    "\n",
    "    check_abs_and_rel_tols(\n",
    "        \"beam.gamma = E/mc^2\",\n",
    "        beam[\"gamma\"],\n",
    "        beam[\"energy\"] / beam.mc2,\n",
    "        abs_tol=1e-15,\n",
    "        rel_tol=1e-15,\n",
    "    )\n",
    "\n",
    "\n",
    "run_test_on_input_files(yaml_files, test_gamma)"
   ]
  },
  {
   "cell_type": "markdown",
   "metadata": {},
   "source": [
    "$\\beta = \\frac{c|\\vec{p}|}{E}$"
   ]
  },
  {
   "cell_type": "code",
   "execution_count": 19,
   "metadata": {
    "execution": {
     "iopub.execute_input": "2024-10-27T02:21:31.091148Z",
     "iopub.status.busy": "2024-10-27T02:21:31.090765Z",
     "iopub.status.idle": "2024-10-27T02:21:34.739107Z",
     "shell.execute_reply": "2024-10-27T02:21:34.738528Z"
    }
   },
   "outputs": [],
   "source": [
    "def test_beta(beam):\n",
    "    check_abs_and_rel_tols(\n",
    "        \"beam.beta = c|p|/E\",\n",
    "        beam[\"beta\"],\n",
    "        PHYSICAL_CONSTANTS[\"speed of light in vacuum\"] * beam.p / beam.energy,\n",
    "        abs_tol=1e-11,\n",
    "        rel_tol=1e-14,\n",
    "    )\n",
    "\n",
    "    assert max(beam[\"beta\"]) < 1, \"max(beta) > 1, faster than light particle!\"\n",
    "\n",
    "\n",
    "run_test_on_input_files(yaml_files, test_beta)"
   ]
  },
  {
   "cell_type": "markdown",
   "metadata": {},
   "source": [
    "$\\beta_{x_i} = \\frac{cp_{x_i}}{E}$, $\\beta_x = x^{\\prime}\\beta_z$, $\\beta_y = y^{\\prime}\\beta_z$,  $\\beta_z = \\frac{\\beta}{\\sqrt{1+(x^{\\prime})^2 +(y^{\\prime})^2}}$"
   ]
  },
  {
   "cell_type": "code",
   "execution_count": 20,
   "metadata": {
    "execution": {
     "iopub.execute_input": "2024-10-27T02:21:34.741235Z",
     "iopub.status.busy": "2024-10-27T02:21:34.741035Z",
     "iopub.status.idle": "2024-10-27T02:21:37.077684Z",
     "shell.execute_reply": "2024-10-27T02:21:37.077095Z"
    }
   },
   "outputs": [],
   "source": [
    "def test_beta_xi(beam):\n",
    "    for var in [\"x\", \"y\", \"z\"]:\n",
    "        check_abs_and_rel_tols(\n",
    "            \"beam.beta_xi = c pxi/E )\",\n",
    "            beam[f\"beta_{var}\"],\n",
    "            (\n",
    "                PHYSICAL_CONSTANTS[\"speed of light in vacuum\"]\n",
    "                * beam[f\"p{var}\"]\n",
    "                / beam[\"energy\"]\n",
    "            ).to_reduced_units(),\n",
    "            abs_tol=1e-15,\n",
    "            rel_tol=1e-15,\n",
    "        )\n",
    "\n",
    "        check_abs_and_rel_tols(\n",
    "            \"beam.beta_z = sign(pz)*beta/sqrt( 1 + x'^2 + y'^2 )\",\n",
    "            beam[\"beta_z\"],\n",
    "            np.sign(beam[\"pz\"])\n",
    "            * beam[\"beta\"]\n",
    "            / np.sqrt(1 + beam[\"xp\"] ** 2 + beam[\"yp\"] ** 2),\n",
    "            abs_tol=1e-11,\n",
    "            rel_tol=5e-9,\n",
    "        )\n",
    "\n",
    "\n",
    "run_test_on_input_files(yaml_files, test_beta_xi)"
   ]
  },
  {
   "cell_type": "markdown",
   "metadata": {},
   "source": [
    "KE = $mc^2(\\gamma-1)$, $E-mc^2$"
   ]
  },
  {
   "cell_type": "code",
   "execution_count": 21,
   "metadata": {
    "execution": {
     "iopub.execute_input": "2024-10-27T02:21:37.080105Z",
     "iopub.status.busy": "2024-10-27T02:21:37.079636Z",
     "iopub.status.idle": "2024-10-27T02:21:39.243897Z",
     "shell.execute_reply": "2024-10-27T02:21:39.243313Z"
    }
   },
   "outputs": [],
   "source": [
    "def test_kinetic_energy(beam):\n",
    "    if PHYSICAL_CONSTANTS.species(beam[\"species\"])[\"mass\"] > 0:\n",
    "        check_abs_and_rel_tols(\n",
    "            \"beam.kinetic_energy = mc2*(gamma-1)\",\n",
    "            beam[\"kinetic_energy\"],\n",
    "            beam.mc2 * (beam[\"gamma\"] - 1),\n",
    "            abs_tol=1e-9,\n",
    "            rel_tol=1e-05,\n",
    "        )\n",
    "\n",
    "    check_abs_and_rel_tols(\n",
    "        \"beam.kinetic_energy = E - mc2\",\n",
    "        beam[\"kinetic_energy\"],\n",
    "        beam[\"energy\"] - beam.mc2,\n",
    "        abs_tol=1e-15,\n",
    "        rel_tol=1e-15,\n",
    "    )\n",
    "\n",
    "\n",
    "run_test_on_input_files(yaml_files, test_kinetic_energy)"
   ]
  },
  {
   "cell_type": "markdown",
   "metadata": {},
   "source": [
    "# Twiss Parameters\n",
    "---\n",
    "# Getting\n",
    "\n",
    "$\\epsilon_{n,x_i} = \\frac{1}{mc}\\sqrt{\\sigma_{x_i}^2\\sigma_{p_{x_i}}^2 - \\langle \\left(x_i-\\langle x_i\\rangle\\right)\\left(p_{x_i}-\\langle p_{x_i}\\rangle\\right)\\rangle^2 }$"
   ]
  },
  {
   "cell_type": "code",
   "execution_count": 22,
   "metadata": {
    "execution": {
     "iopub.execute_input": "2024-10-27T02:21:39.246400Z",
     "iopub.status.busy": "2024-10-27T02:21:39.246017Z",
     "iopub.status.idle": "2024-10-27T02:21:41.434276Z",
     "shell.execute_reply": "2024-10-27T02:21:41.433683Z"
    }
   },
   "outputs": [],
   "source": [
    "def test_emitt_normalized(beam):\n",
    "    for var in [\"x\", \"y\"]:\n",
    "        mc = beam.species_mass * PHYSICAL_CONSTANTS[\"speed of light in vacuum\"]\n",
    "\n",
    "        stdx = beam.std(var)\n",
    "        stdp = (beam.std(f\"p{var}\") / mc).to_reduced_units()\n",
    "        dx = beam[var] - beam.avg(var)\n",
    "        dp = ((beam[f\"p{var}\"] - beam.avg(f\"p{var}\")) / mc).to_reduced_units()\n",
    "\n",
    "        check_abs_and_rel_tols(\n",
    "            \"beam.emitt (normalized)\",\n",
    "            beam.emitt(var),\n",
    "            np.sqrt(stdx**2 * stdp**2 - (np.sum(beam[\"w\"] * dx * dp)) ** 2),\n",
    "            abs_tol=1e-11,\n",
    "            rel_tol=1e-11,\n",
    "        )\n",
    "\n",
    "\n",
    "run_test_on_input_files(yaml_files, test_emitt_normalized)"
   ]
  },
  {
   "cell_type": "markdown",
   "metadata": {},
   "source": [
    "$\\epsilon_{x} = \\sqrt{\\sigma_x^2\\sigma_{x^{\\prime}}^2 - \\langle \\left(x-\\langle x\\rangle\\right)\\left(x^{\\prime}-\\langle x^{\\prime}\\rangle\\right)\\rangle^2 }$"
   ]
  },
  {
   "cell_type": "code",
   "execution_count": 23,
   "metadata": {
    "execution": {
     "iopub.execute_input": "2024-10-27T02:21:41.436598Z",
     "iopub.status.busy": "2024-10-27T02:21:41.436186Z",
     "iopub.status.idle": "2024-10-27T02:21:43.615514Z",
     "shell.execute_reply": "2024-10-27T02:21:43.614941Z"
    }
   },
   "outputs": [],
   "source": [
    "def test_emitt_geometric(beam):\n",
    "    for var in [\"x\", \"y\"]:\n",
    "        stdx = beam.std(var)\n",
    "        stdp = beam.std(f\"{var}p\")\n",
    "        dx = beam[var] - beam.avg(var)\n",
    "        dp = beam[f\"{var}p\"] - beam.avg(f\"{var}p\")\n",
    "\n",
    "        check_abs_and_rel_tols(\n",
    "            \"beam.emitt (geometric)\",\n",
    "            beam.emitt(var, \"geometric\"),\n",
    "            np.sqrt(stdx**2 * stdp**2 - (np.sum(beam[\"w\"] * dx * dp)) ** 2),\n",
    "            abs_tol=1e-14,\n",
    "            rel_tol=1e-15,\n",
    "        )\n",
    "\n",
    "\n",
    "run_test_on_input_files(yaml_files, test_emitt_geometric)"
   ]
  },
  {
   "cell_type": "markdown",
   "metadata": {},
   "source": [
    "Twiss $\\beta_{x_i} = \\frac{\\sigma_x^2}{\\epsilon_x}$"
   ]
  },
  {
   "cell_type": "code",
   "execution_count": 24,
   "metadata": {
    "execution": {
     "iopub.execute_input": "2024-10-27T02:21:43.617809Z",
     "iopub.status.busy": "2024-10-27T02:21:43.617595Z",
     "iopub.status.idle": "2024-10-27T02:21:45.991208Z",
     "shell.execute_reply": "2024-10-27T02:21:45.990627Z"
    }
   },
   "outputs": [],
   "source": [
    "def twiss_beta_xi(beam):\n",
    "    for var in [\"x\", \"y\"]:\n",
    "        stdx = beam.std(var)\n",
    "        epsx = beam.emitt(var, \"geometric\")\n",
    "\n",
    "        if epsx > 0:\n",
    "            check_abs_and_rel_tols(\n",
    "                \"beam.Beta_xi (Twiss)\",\n",
    "                beam.Beta(var),\n",
    "                stdx**2 / epsx,\n",
    "                abs_tol=1e-14,\n",
    "                rel_tol=1e-15,\n",
    "            )\n",
    "\n",
    "\n",
    "run_test_on_input_files(yaml_files, test_beta_xi)"
   ]
  },
  {
   "cell_type": "markdown",
   "metadata": {},
   "source": [
    "Twiss $\\alpha_{x_i} = -\\frac{\\langle(x-\\langle x\\rangle)(x^{\\prime}-\\langle x^{\\prime}\\rangle)\\rangle}{\\epsilon_x}$"
   ]
  },
  {
   "cell_type": "code",
   "execution_count": 25,
   "metadata": {
    "execution": {
     "iopub.execute_input": "2024-10-27T02:21:45.993351Z",
     "iopub.status.busy": "2024-10-27T02:21:45.993150Z",
     "iopub.status.idle": "2024-10-27T02:21:55.607675Z",
     "shell.execute_reply": "2024-10-27T02:21:55.607024Z"
    }
   },
   "outputs": [],
   "source": [
    "def test_alpha_xi(beam):\n",
    "    for var in [\"x\", \"y\"]:\n",
    "        dx = beam[var] - beam.avg(var)\n",
    "        dp = beam[f\"{var}p\"] - beam.avg(f\"{var}p\")\n",
    "        epsx = beam.emitt(var, \"geometric\")\n",
    "\n",
    "        if epsx > 0:\n",
    "            check_abs_and_rel_tols(\n",
    "                \"beam.Alpha_xi (Twiss)\",\n",
    "                beam.Alpha(var),\n",
    "                -sum(beam[\"w\"] * dx * dp) / epsx,\n",
    "                abs_tol=1e-14,\n",
    "                rel_tol=1e-14,\n",
    "            )\n",
    "\n",
    "\n",
    "run_test_on_input_files(yaml_files, test_alpha_xi)"
   ]
  },
  {
   "cell_type": "markdown",
   "metadata": {},
   "source": [
    "Twiss $\\gamma_{x_i} = \\frac{\\sigma_{x^{\\prime}}^2}{\\epsilon_x}$"
   ]
  },
  {
   "cell_type": "code",
   "execution_count": 26,
   "metadata": {
    "execution": {
     "iopub.execute_input": "2024-10-27T02:21:55.610185Z",
     "iopub.status.busy": "2024-10-27T02:21:55.609797Z",
     "iopub.status.idle": "2024-10-27T02:21:57.823440Z",
     "shell.execute_reply": "2024-10-27T02:21:57.822865Z"
    },
    "tags": []
   },
   "outputs": [],
   "source": [
    "def test_gamma_xi(beam):\n",
    "    for var in [\"x\", \"y\"]:\n",
    "        stdp = beam.std(f\"{var}p\")\n",
    "        epsx = beam.emitt(var, \"geometric\")\n",
    "\n",
    "        if epsx > 0:\n",
    "            check_abs_and_rel_tols(\n",
    "                \"beam.Gamma_xi (Twiss)\",\n",
    "                beam.Gamma(var),\n",
    "                stdp**2 / epsx,\n",
    "                abs_tol=1e-14,\n",
    "                rel_tol=1e-14,\n",
    "            )\n",
    "\n",
    "\n",
    "run_test_on_input_files(yaml_files, test_gamma_xi)"
   ]
  },
  {
   "cell_type": "code",
   "execution_count": null,
   "metadata": {},
   "outputs": [],
   "source": []
  },
  {
   "cell_type": "code",
   "execution_count": null,
   "metadata": {},
   "outputs": [],
   "source": []
  }
 ],
 "metadata": {
  "kernelspec": {
   "display_name": "Python 3 (ipykernel)",
   "language": "python",
   "name": "python3"
  },
  "language_info": {
   "codemirror_mode": {
    "name": "ipython",
    "version": 3
   },
   "file_extension": ".py",
   "mimetype": "text/x-python",
   "name": "python",
   "nbconvert_exporter": "python",
   "pygments_lexer": "ipython3",
   "version": "3.9.20"
  }
 },
 "nbformat": 4,
 "nbformat_minor": 4
}
