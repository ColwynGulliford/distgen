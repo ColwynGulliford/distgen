{
 "cells": [
  {
   "cell_type": "markdown",
   "metadata": {},
   "source": [
    "# Beam Class Regression Tests\n",
    "----"
   ]
  },
  {
   "cell_type": "code",
   "execution_count": 1,
   "metadata": {
    "execution": {
     "iopub.execute_input": "2024-08-16T13:43:12.338211Z",
     "iopub.status.busy": "2024-08-16T13:43:12.337649Z",
     "iopub.status.idle": "2024-08-16T13:43:12.352522Z",
     "shell.execute_reply": "2024-08-16T13:43:12.351898Z"
    }
   },
   "outputs": [],
   "source": [
    "%load_ext autoreload\n",
    "%autoreload 2"
   ]
  },
  {
   "cell_type": "code",
   "execution_count": 2,
   "metadata": {
    "execution": {
     "iopub.execute_input": "2024-08-16T13:43:12.355349Z",
     "iopub.status.busy": "2024-08-16T13:43:12.354989Z",
     "iopub.status.idle": "2024-08-16T13:43:13.654200Z",
     "shell.execute_reply": "2024-08-16T13:43:13.653575Z"
    },
    "tags": []
   },
   "outputs": [],
   "source": [
    "import numpy as np\n",
    "from distgen import Generator\n",
    "from distgen.physical_constants import PHYSICAL_CONSTANTS\n",
    "from distgen.tools import check_abs_and_rel_tols\n",
    "from glob import glob"
   ]
  },
  {
   "cell_type": "code",
   "execution_count": 3,
   "metadata": {
    "execution": {
     "iopub.execute_input": "2024-08-16T13:43:13.656904Z",
     "iopub.status.busy": "2024-08-16T13:43:13.656590Z",
     "iopub.status.idle": "2024-08-16T13:43:13.675189Z",
     "shell.execute_reply": "2024-08-16T13:43:13.674513Z"
    },
    "tags": []
   },
   "outputs": [],
   "source": [
    "yaml_files = list( glob('../examples/data/*.yaml') )\n",
    "\n",
    "coordinates = {'x', 'y', 'z', 'px', 'py', 'pz', \n",
    "               'r', 'theta', 'pr', 'ptheta', \n",
    "               'xp', 'yp', 'thetax', 'thetay',\n",
    "               'gamma', 'energy', 'kinetic_energy', \n",
    "               'beta_x', 'beta_y', 'beta_z'}\n",
    "\n",
    "def run_test_on_input_file(input_file, test):\n",
    "    G = Generator(input_file, verbose=0)\n",
    "    G['n_particle']=10_000\n",
    "    test(G.beam())\n",
    "\n",
    "def run_test_on_input_files(input_files, test, verbose=False):\n",
    "    \n",
    "    for input_file in input_files:\n",
    "        if(verbose): \n",
    "            print('Testing:', input_file)\n",
    "            \n",
    "        run_test_on_input_file(input_file, test)"
   ]
  },
  {
   "cell_type": "markdown",
   "metadata": {},
   "source": [
    "# Statistical Tests\n",
    "\n",
    "$\\sum_i w_i = 1$"
   ]
  },
  {
   "cell_type": "code",
   "execution_count": 4,
   "metadata": {
    "execution": {
     "iopub.execute_input": "2024-08-16T13:43:13.678336Z",
     "iopub.status.busy": "2024-08-16T13:43:13.677772Z",
     "iopub.status.idle": "2024-08-16T13:43:15.832147Z",
     "shell.execute_reply": "2024-08-16T13:43:15.831487Z"
    }
   },
   "outputs": [],
   "source": [
    "def test_weight_normalization(beam):\n",
    "    check_abs_and_rel_tols('macroparticle weights', np.sum(beam['w']), 1.0, abs_tol=1e-12, rel_tol=1e-15)\n",
    "\n",
    "run_test_on_input_files(yaml_files, test_weight_normalization)"
   ]
  },
  {
   "cell_type": "markdown",
   "metadata": {},
   "source": [
    "$\\langle \\mathcal{O}\\rangle = \\sum_i w_i \\mathcal{O}_i$"
   ]
  },
  {
   "cell_type": "code",
   "execution_count": 5,
   "metadata": {
    "execution": {
     "iopub.execute_input": "2024-08-16T13:43:15.835086Z",
     "iopub.status.busy": "2024-08-16T13:43:15.834859Z",
     "iopub.status.idle": "2024-08-16T13:43:18.492590Z",
     "shell.execute_reply": "2024-08-16T13:43:18.491976Z"
    }
   },
   "outputs": [],
   "source": [
    "def test_avg(beam):\n",
    "    for var in coordinates:\n",
    "        avg_beam, avg_numpy = beam.avg(var), np.sum(beam['w']*beam[var])\n",
    "        check_abs_and_rel_tols('beam.avg', avg_beam, avg_numpy, abs_tol=1e-12, rel_tol=1e-15)  \n",
    "\n",
    "run_test_on_input_files(yaml_files, test_avg)"
   ]
  },
  {
   "cell_type": "markdown",
   "metadata": {},
   "source": [
    "$\\sigma_{\\mathcal{O}}^2 = \\sum_i w_i (\\mathcal{O}_i-\\langle \\mathcal{O}\\rangle)^2 $ "
   ]
  },
  {
   "cell_type": "code",
   "execution_count": 6,
   "metadata": {
    "execution": {
     "iopub.execute_input": "2024-08-16T13:43:18.495426Z",
     "iopub.status.busy": "2024-08-16T13:43:18.495054Z",
     "iopub.status.idle": "2024-08-16T13:43:21.438299Z",
     "shell.execute_reply": "2024-08-16T13:43:21.437683Z"
    }
   },
   "outputs": [],
   "source": [
    "def test_std(beam):\n",
    "    for var in coordinates:\n",
    "        sigma2_beam = beam.std(var)**2\n",
    "        sigma2_numpy = np.sum(beam['w']*(beam[var]-beam.avg(var))**2)\n",
    "        check_abs_and_rel_tols('beam.std', sigma2_beam, sigma2_numpy, abs_tol=1e-8, rel_tol=1e-15)\n",
    "\n",
    "run_test_on_input_files(yaml_files, test_std)"
   ]
  },
  {
   "cell_type": "markdown",
   "metadata": {},
   "source": [
    "# Cylindrical Coordinates\n",
    "---\n",
    "# Getting"
   ]
  },
  {
   "cell_type": "markdown",
   "metadata": {},
   "source": [
    "$r=\\sqrt{ x^2 + y^2 }$"
   ]
  },
  {
   "cell_type": "code",
   "execution_count": 7,
   "metadata": {
    "execution": {
     "iopub.execute_input": "2024-08-16T13:43:21.441000Z",
     "iopub.status.busy": "2024-08-16T13:43:21.440803Z",
     "iopub.status.idle": "2024-08-16T13:43:23.538092Z",
     "shell.execute_reply": "2024-08-16T13:43:23.537473Z"
    }
   },
   "outputs": [],
   "source": [
    "def test_r(beam):\n",
    "    check_abs_and_rel_tols('beam.r', beam['r'], np.sqrt(beam['x']**2 + beam['y']**2), abs_tol=1e-15, rel_tol=1e-15)\n",
    "\n",
    "run_test_on_input_files(yaml_files, test_r)"
   ]
  },
  {
   "cell_type": "markdown",
   "metadata": {},
   "source": [
    "$x=r\\cos\\theta$"
   ]
  },
  {
   "cell_type": "code",
   "execution_count": 8,
   "metadata": {
    "execution": {
     "iopub.execute_input": "2024-08-16T13:43:23.540910Z",
     "iopub.status.busy": "2024-08-16T13:43:23.540462Z",
     "iopub.status.idle": "2024-08-16T13:43:25.652447Z",
     "shell.execute_reply": "2024-08-16T13:43:25.651846Z"
    }
   },
   "outputs": [],
   "source": [
    "def test_x(beam):\n",
    "    check_abs_and_rel_tols('beam.x = r cos(theta)', beam['x'], beam['r']*np.cos(beam['theta']), abs_tol=1e-12, rel_tol=1e-11)\n",
    "\n",
    "run_test_on_input_files(yaml_files, test_x)"
   ]
  },
  {
   "cell_type": "markdown",
   "metadata": {},
   "source": [
    "$y = r\\sin\\theta$ "
   ]
  },
  {
   "cell_type": "code",
   "execution_count": 9,
   "metadata": {
    "execution": {
     "iopub.execute_input": "2024-08-16T13:43:25.655318Z",
     "iopub.status.busy": "2024-08-16T13:43:25.654938Z",
     "iopub.status.idle": "2024-08-16T13:43:27.743267Z",
     "shell.execute_reply": "2024-08-16T13:43:27.742689Z"
    }
   },
   "outputs": [],
   "source": [
    "def test_y(beam):\n",
    "    check_abs_and_rel_tols('beam.y = r sin(theta)', beam['y'], beam['r']*np.sin(beam['theta']), abs_tol=1e-12, rel_tol=1e-11)\n",
    "\n",
    "run_test_on_input_files(yaml_files, test_y)"
   ]
  },
  {
   "cell_type": "markdown",
   "metadata": {},
   "source": [
    "$p_r = p_x\\cos\\theta + p_y\\sin\\theta$"
   ]
  },
  {
   "cell_type": "code",
   "execution_count": 10,
   "metadata": {
    "execution": {
     "iopub.execute_input": "2024-08-16T13:43:27.745974Z",
     "iopub.status.busy": "2024-08-16T13:43:27.745600Z",
     "iopub.status.idle": "2024-08-16T13:43:29.877906Z",
     "shell.execute_reply": "2024-08-16T13:43:29.877310Z"
    }
   },
   "outputs": [],
   "source": [
    "def test_pr(beam):\n",
    "    check_abs_and_rel_tols('beam.pr = px cos(theta) + py sin(theta)', beam['pr'],\n",
    "                           beam['px']*np.cos(beam['theta']) + beam['py']*np.sin(beam['theta']), \n",
    "                           abs_tol=1e-12, rel_tol=1e-15)\n",
    "\n",
    "\n",
    "run_test_on_input_files(yaml_files, test_pr)"
   ]
  },
  {
   "cell_type": "markdown",
   "metadata": {},
   "source": [
    "$p_{\\theta} = -p_x\\sin\\theta + p_y\\cos\\theta$"
   ]
  },
  {
   "cell_type": "code",
   "execution_count": 11,
   "metadata": {
    "execution": {
     "iopub.execute_input": "2024-08-16T13:43:29.880658Z",
     "iopub.status.busy": "2024-08-16T13:43:29.880242Z",
     "iopub.status.idle": "2024-08-16T13:43:32.025569Z",
     "shell.execute_reply": "2024-08-16T13:43:32.024947Z"
    }
   },
   "outputs": [],
   "source": [
    "def test_ptheta(beam):\n",
    "    check_abs_and_rel_tols('beam.ptheta = -px sin(theta) + py cos(theta)', \n",
    "                           beam['ptheta'],\n",
    "                           -beam['px']*np.sin(beam['theta']) + beam['py']*np.cos(beam['theta']), \n",
    "                           abs_tol=1e-12, rel_tol=1e-15)\n",
    "\n",
    "run_test_on_input_files(yaml_files, test_ptheta)"
   ]
  },
  {
   "cell_type": "markdown",
   "metadata": {},
   "source": [
    "# Transverse Derivatives and Angles\n",
    "---"
   ]
  },
  {
   "cell_type": "markdown",
   "metadata": {},
   "source": [
    "# Getting"
   ]
  },
  {
   "cell_type": "markdown",
   "metadata": {},
   "source": [
    "$x^{\\prime} = p_x/p_z$"
   ]
  },
  {
   "cell_type": "code",
   "execution_count": 12,
   "metadata": {
    "execution": {
     "iopub.execute_input": "2024-08-16T13:43:32.028329Z",
     "iopub.status.busy": "2024-08-16T13:43:32.028132Z",
     "iopub.status.idle": "2024-08-16T13:43:34.130975Z",
     "shell.execute_reply": "2024-08-16T13:43:34.130313Z"
    }
   },
   "outputs": [],
   "source": [
    "def test_xp(beam):\n",
    "    check_abs_and_rel_tols('beam.xp = px/pz', beam['xp'], beam['px'].to(beam['pz'].units)/beam['pz'], abs_tol=1e-14, rel_tol=1e-15)\n",
    "\n",
    "run_test_on_input_files(yaml_files, test_xp)"
   ]
  },
  {
   "cell_type": "markdown",
   "metadata": {},
   "source": [
    "$y^{\\prime} = p_y/p_z$"
   ]
  },
  {
   "cell_type": "code",
   "execution_count": 13,
   "metadata": {
    "execution": {
     "iopub.execute_input": "2024-08-16T13:43:34.133898Z",
     "iopub.status.busy": "2024-08-16T13:43:34.133502Z",
     "iopub.status.idle": "2024-08-16T13:43:36.235274Z",
     "shell.execute_reply": "2024-08-16T13:43:36.234610Z"
    }
   },
   "outputs": [],
   "source": [
    "def test_yp(beam):\n",
    "    check_abs_and_rel_tols('beam.yp = py/pz', beam['yp'], beam['py'].to(beam['pz'].units)/beam['pz'], abs_tol=1e-14, rel_tol=1e-15)\n",
    "\n",
    "run_test_on_input_files(yaml_files, test_yp)"
   ]
  },
  {
   "cell_type": "markdown",
   "metadata": {},
   "source": [
    "$\\theta_x = \\arctan(p_x/p_z)$"
   ]
  },
  {
   "cell_type": "code",
   "execution_count": 14,
   "metadata": {
    "execution": {
     "iopub.execute_input": "2024-08-16T13:43:36.238050Z",
     "iopub.status.busy": "2024-08-16T13:43:36.237849Z",
     "iopub.status.idle": "2024-08-16T13:43:38.331394Z",
     "shell.execute_reply": "2024-08-16T13:43:38.330806Z"
    }
   },
   "outputs": [],
   "source": [
    "def test_thetax(beam):\n",
    "    check_abs_and_rel_tols('beam.thetax = arctan(px/pz)', \n",
    "                           beam['thetax'], \n",
    "                           np.arctan2(beam['px'].to(beam['pz'].units), beam['pz']), \n",
    "                           abs_tol=1e-15, rel_tol=1e-15)\n",
    "\n",
    "run_test_on_input_files(yaml_files, test_thetax)"
   ]
  },
  {
   "cell_type": "markdown",
   "metadata": {},
   "source": [
    "$\\theta_y = \\arctan(p_y/p_z)$"
   ]
  },
  {
   "cell_type": "code",
   "execution_count": 15,
   "metadata": {
    "execution": {
     "iopub.execute_input": "2024-08-16T13:43:38.334115Z",
     "iopub.status.busy": "2024-08-16T13:43:38.333918Z",
     "iopub.status.idle": "2024-08-16T13:43:40.427091Z",
     "shell.execute_reply": "2024-08-16T13:43:40.426560Z"
    }
   },
   "outputs": [],
   "source": [
    "def test_thetay(beam):\n",
    "    check_abs_and_rel_tols('beam.thetay = arctan(py/pz)', \n",
    "                           beam['thetay'], \n",
    "                           np.arctan2(beam['py'].to(beam['pz'].units), beam['pz']), \n",
    "                           abs_tol=1e-15, rel_tol=1e-15)\n",
    "\n",
    "run_test_on_input_files(yaml_files, test_thetay)"
   ]
  },
  {
   "cell_type": "markdown",
   "metadata": {},
   "source": [
    "# Relativistic Quantities\n",
    "---\n",
    "$p=\\sqrt{p_x^2 + p_y^2 + p_z^2}$"
   ]
  },
  {
   "cell_type": "code",
   "execution_count": 16,
   "metadata": {
    "execution": {
     "iopub.execute_input": "2024-08-16T13:43:40.429612Z",
     "iopub.status.busy": "2024-08-16T13:43:40.429397Z",
     "iopub.status.idle": "2024-08-16T13:43:42.524885Z",
     "shell.execute_reply": "2024-08-16T13:43:42.524305Z"
    }
   },
   "outputs": [],
   "source": [
    "def test_p(beam):\n",
    "    deviation = np.abs(beam['p'] - np.sqrt(beam['px']**2 +beam['py']**2 + beam['pz']**2))\n",
    "    check_abs_and_rel_tols('beam.p = sqrt(px^2 + py^2 + pz^2)', \n",
    "                           beam['p'], \n",
    "                           np.sqrt(beam['px']**2 +beam['py']**2 + beam['pz']**2), \n",
    "                           abs_tol=1e-15, rel_tol=1e-15)\n",
    "\n",
    "run_test_on_input_files(yaml_files, test_p)"
   ]
  },
  {
   "cell_type": "markdown",
   "metadata": {},
   "source": [
    "$E = \\sqrt{c^2|\\vec{p}|^2 + (mc^2)^2}$"
   ]
  },
  {
   "cell_type": "code",
   "execution_count": 17,
   "metadata": {
    "execution": {
     "iopub.execute_input": "2024-08-16T13:43:42.527406Z",
     "iopub.status.busy": "2024-08-16T13:43:42.527218Z",
     "iopub.status.idle": "2024-08-16T13:43:44.624829Z",
     "shell.execute_reply": "2024-08-16T13:43:44.624161Z"
    }
   },
   "outputs": [],
   "source": [
    "def test_energy(beam):\n",
    "\n",
    "    c = PHYSICAL_CONSTANTS['speed of light in vacuum']\n",
    "\n",
    "    check_abs_and_rel_tols('beam.energy = sqrt(c^2p^2 + (mc^2)^2)', \n",
    "                           beam['energy'], \n",
    "                           np.sqrt(c**2*beam['p']**2 + beam.mc2**2), \n",
    "                           abs_tol=1e-9, rel_tol=1e-15)\n",
    "\n",
    "run_test_on_input_files(yaml_files, test_energy)"
   ]
  },
  {
   "cell_type": "markdown",
   "metadata": {},
   "source": [
    "$\\gamma = \\sqrt{1+\\left(\\frac{p}{mc}\\right)^2}$, $E/mc^2$"
   ]
  },
  {
   "cell_type": "code",
   "execution_count": 18,
   "metadata": {
    "execution": {
     "iopub.execute_input": "2024-08-16T13:43:44.627678Z",
     "iopub.status.busy": "2024-08-16T13:43:44.627456Z",
     "iopub.status.idle": "2024-08-16T13:43:46.754506Z",
     "shell.execute_reply": "2024-08-16T13:43:46.753926Z"
    }
   },
   "outputs": [],
   "source": [
    "def test_gamma(beam):\n",
    "\n",
    "    mc = beam.species_mass * PHYSICAL_CONSTANTS['speed of light in vacuum']\n",
    "    \n",
    "    check_abs_and_rel_tols('beam.gamma = sqrt( 1 + (p/mc)^2 )', \n",
    "                           beam['gamma'], \n",
    "                           np.sqrt(1+ (beam['p']/mc).to_reduced_units()**2),\n",
    "                           abs_tol=1e-10, rel_tol=1e-10)\n",
    "\n",
    "    check_abs_and_rel_tols('beam.gamma = E/mc^2', \n",
    "                           beam['gamma'], \n",
    "                           beam['energy']/beam.mc2,\n",
    "                           abs_tol=1e-15, rel_tol=1e-15)\n",
    "\n",
    "run_test_on_input_files(yaml_files, test_gamma)"
   ]
  },
  {
   "cell_type": "markdown",
   "metadata": {},
   "source": [
    "$\\beta = \\frac{c|\\vec{p}|}{E}$"
   ]
  },
  {
   "cell_type": "code",
   "execution_count": 19,
   "metadata": {
    "execution": {
     "iopub.execute_input": "2024-08-16T13:43:46.757283Z",
     "iopub.status.busy": "2024-08-16T13:43:46.756863Z",
     "iopub.status.idle": "2024-08-16T13:43:50.445884Z",
     "shell.execute_reply": "2024-08-16T13:43:50.445198Z"
    }
   },
   "outputs": [],
   "source": [
    "def test_beta(beam):\n",
    "    check_abs_and_rel_tols('beam.beta = c|p|/E', \n",
    "                           beam['beta'], \n",
    "                           PHYSICAL_CONSTANTS['speed of light in vacuum']*beam.p/beam.energy,\n",
    "                           abs_tol=1e-11, rel_tol=1e-14)\n",
    "\n",
    "    assert max(beam['beta']) < 1, 'max(beta) > 1, faster than light particle!'\n",
    "\n",
    "run_test_on_input_files(yaml_files, test_beta)"
   ]
  },
  {
   "cell_type": "markdown",
   "metadata": {},
   "source": [
    "$\\beta_{x_i} = \\frac{cp_{x_i}}{E}$, $\\beta_x = x^{\\prime}\\beta_z$, $\\beta_y = y^{\\prime}\\beta_z$,  $\\beta_z = \\frac{\\beta}{\\sqrt{1+(x^{\\prime})^2 +(y^{\\prime})^2}}$"
   ]
  },
  {
   "cell_type": "code",
   "execution_count": 20,
   "metadata": {
    "execution": {
     "iopub.execute_input": "2024-08-16T13:43:50.448732Z",
     "iopub.status.busy": "2024-08-16T13:43:50.448527Z",
     "iopub.status.idle": "2024-08-16T13:43:52.810660Z",
     "shell.execute_reply": "2024-08-16T13:43:52.810078Z"
    }
   },
   "outputs": [],
   "source": [
    "def test_beta_xi(beam):\n",
    "\n",
    "    for var in ['x', 'y', 'z']:\n",
    "        check_abs_and_rel_tols('beam.beta_xi = c pxi/E )', \n",
    "                           beam[f'beta_{var}'], \n",
    "                           (PHYSICAL_CONSTANTS['speed of light in vacuum']*beam[f'p{var}']/beam['energy']).to_reduced_units(),\n",
    "                           abs_tol=1e-15, rel_tol=1e-15)\n",
    "\n",
    "        check_abs_and_rel_tols(\"beam.beta_z = sign(pz)*beta/sqrt( 1 + x'^2 + y'^2 )\", \n",
    "                           beam['beta_z'], \n",
    "                           np.sign(beam['pz'])*beam['beta']/np.sqrt( 1 + beam['xp']**2 + beam['yp']**2 ),\n",
    "                           abs_tol=1e-11, rel_tol=5e-9)\n",
    "\n",
    "run_test_on_input_files(yaml_files, test_beta_xi)"
   ]
  },
  {
   "cell_type": "markdown",
   "metadata": {},
   "source": [
    "KE = $mc^2(\\gamma-1)$, $E-mc^2$"
   ]
  },
  {
   "cell_type": "code",
   "execution_count": 21,
   "metadata": {
    "execution": {
     "iopub.execute_input": "2024-08-16T13:43:52.813299Z",
     "iopub.status.busy": "2024-08-16T13:43:52.813115Z",
     "iopub.status.idle": "2024-08-16T13:43:54.956958Z",
     "shell.execute_reply": "2024-08-16T13:43:54.956366Z"
    }
   },
   "outputs": [],
   "source": [
    "def test_kinetic_energy(beam):\n",
    "\n",
    "    if(PHYSICAL_CONSTANTS.species(beam['species'])['mass']>0):\n",
    "    \n",
    "        check_abs_and_rel_tols('beam.kinetic_energy = mc2*(gamma-1)', \n",
    "                               beam['kinetic_energy'], \n",
    "                               beam.mc2*(beam['gamma']-1),\n",
    "                               abs_tol=1e-9, rel_tol=1e-05)\n",
    "\n",
    "    check_abs_and_rel_tols('beam.kinetic_energy = E - mc2', \n",
    "                           beam['kinetic_energy'], \n",
    "                           beam['energy'] - beam.mc2,\n",
    "                           abs_tol=1e-15, rel_tol=1e-15)\n",
    "\n",
    "run_test_on_input_files(yaml_files, test_kinetic_energy)"
   ]
  },
  {
   "cell_type": "markdown",
   "metadata": {},
   "source": [
    "# Twiss Parameters\n",
    "---\n",
    "# Getting\n",
    "\n",
    "$\\epsilon_{n,x_i} = \\frac{1}{mc}\\sqrt{\\sigma_{x_i}^2\\sigma_{p_{x_i}}^2 - \\langle \\left(x_i-\\langle x_i\\rangle\\right)\\left(p_{x_i}-\\langle p_{x_i}\\rangle\\right)\\rangle^2 }$"
   ]
  },
  {
   "cell_type": "code",
   "execution_count": 22,
   "metadata": {
    "execution": {
     "iopub.execute_input": "2024-08-16T13:43:54.959826Z",
     "iopub.status.busy": "2024-08-16T13:43:54.959366Z",
     "iopub.status.idle": "2024-08-16T13:43:57.180063Z",
     "shell.execute_reply": "2024-08-16T13:43:57.179472Z"
    }
   },
   "outputs": [],
   "source": [
    "def test_emitt_normalized(beam):\n",
    "    for var in ['x', 'y']:\n",
    "    \n",
    "        mc = beam.species_mass * PHYSICAL_CONSTANTS['speed of light in vacuum']\n",
    "        \n",
    "        stdx = beam.std(var)\n",
    "        stdp = (beam.std(f'p{var}')/mc).to_reduced_units()\n",
    "        dx = beam[var]-beam.avg(var)\n",
    "        dp = ( (beam[f'p{var}']-beam.avg(f'p{var}'))/mc ).to_reduced_units()\n",
    "\n",
    "        check_abs_and_rel_tols('beam.emitt (normalized)', \n",
    "                               beam.emitt(var), \n",
    "                               np.sqrt(stdx**2 * stdp**2 - (np.sum(beam['w']*dx*dp))**2),\n",
    "                               abs_tol=1e-11, rel_tol=1e-11)\n",
    "\n",
    "run_test_on_input_files(yaml_files, test_emitt_normalized)"
   ]
  },
  {
   "cell_type": "markdown",
   "metadata": {},
   "source": [
    "$\\epsilon_{x} = \\sqrt{\\sigma_x^2\\sigma_{x^{\\prime}}^2 - \\langle \\left(x-\\langle x\\rangle\\right)\\left(x^{\\prime}-\\langle x^{\\prime}\\rangle\\right)\\rangle^2 }$"
   ]
  },
  {
   "cell_type": "code",
   "execution_count": 23,
   "metadata": {
    "execution": {
     "iopub.execute_input": "2024-08-16T13:43:57.182630Z",
     "iopub.status.busy": "2024-08-16T13:43:57.182436Z",
     "iopub.status.idle": "2024-08-16T13:43:59.385241Z",
     "shell.execute_reply": "2024-08-16T13:43:59.384636Z"
    }
   },
   "outputs": [],
   "source": [
    "def test_emitt_geometric(beam):\n",
    "\n",
    "    for var in ['x', 'y']:\n",
    "        stdx = beam.std(var)\n",
    "        stdp = (beam.std(f'{var}p'))\n",
    "        dx = beam[var]-beam.avg(var)\n",
    "        dp = (beam[f'{var}p']-beam.avg(f'{var}p'))\n",
    "\n",
    "        check_abs_and_rel_tols('beam.emitt (geometric)', \n",
    "                               beam.emitt(var, 'geometric'), \n",
    "                               np.sqrt(stdx**2 * stdp**2 - (np.sum(beam['w']*dx*dp))**2),\n",
    "                               abs_tol=1e-14, rel_tol=1e-15)\n",
    "\n",
    "run_test_on_input_files(yaml_files, test_emitt_geometric)"
   ]
  },
  {
   "cell_type": "markdown",
   "metadata": {},
   "source": [
    "Twiss $\\beta_{x_i} = \\frac{\\sigma_x^2}{\\epsilon_x}$"
   ]
  },
  {
   "cell_type": "code",
   "execution_count": 24,
   "metadata": {
    "execution": {
     "iopub.execute_input": "2024-08-16T13:43:59.388021Z",
     "iopub.status.busy": "2024-08-16T13:43:59.387604Z",
     "iopub.status.idle": "2024-08-16T13:44:01.722746Z",
     "shell.execute_reply": "2024-08-16T13:44:01.722174Z"
    }
   },
   "outputs": [],
   "source": [
    "def twiss_beta_xi(beam):\n",
    "\n",
    "    for var in ['x', 'y']:\n",
    "        \n",
    "        stdx = beam.std(var)\n",
    "        epsx = beam.emitt(var,'geometric')\n",
    "\n",
    "        if(epsx>0):\n",
    "            check_abs_and_rel_tols('beam.Beta_xi (Twiss)', \n",
    "                                   beam.Beta(var), \n",
    "                                   stdx**2/epsx ,\n",
    "                                   abs_tol=1e-14, rel_tol=1e-15)\n",
    "        \n",
    "run_test_on_input_files(yaml_files, test_beta_xi)"
   ]
  },
  {
   "cell_type": "markdown",
   "metadata": {},
   "source": [
    "Twiss $\\alpha_{x_i} = -\\frac{\\langle(x-\\langle x\\rangle)(x^{\\prime}-\\langle x^{\\prime}\\rangle)\\rangle}{\\epsilon_x}$"
   ]
  },
  {
   "cell_type": "code",
   "execution_count": 25,
   "metadata": {
    "execution": {
     "iopub.execute_input": "2024-08-16T13:44:01.725369Z",
     "iopub.status.busy": "2024-08-16T13:44:01.725187Z",
     "iopub.status.idle": "2024-08-16T13:44:11.376187Z",
     "shell.execute_reply": "2024-08-16T13:44:11.375590Z"
    }
   },
   "outputs": [],
   "source": [
    "def test_alpha_xi(beam):\n",
    "\n",
    "    for var in ['x', 'y']:\n",
    "        dx = beam[var]-beam.avg(var)\n",
    "        dp = (beam[f'{var}p']-beam.avg(f'{var}p'))\n",
    "        epsx = beam.emitt(var,'geometric')\n",
    "\n",
    "        if(epsx>0):\n",
    "            check_abs_and_rel_tols('beam.Alpha_xi (Twiss)', \n",
    "                                   beam.Alpha(var), \n",
    "                                   -sum(beam['w']*dx*dp)/epsx,\n",
    "                                   abs_tol=1e-14, rel_tol=1e-14)\n",
    "        \n",
    "run_test_on_input_files(yaml_files, test_alpha_xi)    "
   ]
  },
  {
   "cell_type": "markdown",
   "metadata": {},
   "source": [
    "Twiss $\\gamma_{x_i} = \\frac{\\sigma_{x^{\\prime}}^2}{\\epsilon_x}$"
   ]
  },
  {
   "cell_type": "code",
   "execution_count": 26,
   "metadata": {
    "execution": {
     "iopub.execute_input": "2024-08-16T13:44:11.378909Z",
     "iopub.status.busy": "2024-08-16T13:44:11.378526Z",
     "iopub.status.idle": "2024-08-16T13:44:13.599360Z",
     "shell.execute_reply": "2024-08-16T13:44:13.598783Z"
    },
    "tags": []
   },
   "outputs": [],
   "source": [
    "def test_gamma_xi(beam):\n",
    "\n",
    "    for var in ['x', 'y']:\n",
    "        stdp = beam.std(f'{var}p')\n",
    "        epsx = beam.emitt(var,'geometric')\n",
    "\n",
    "        if(epsx>0):\n",
    "            check_abs_and_rel_tols('beam.Gamma_xi (Twiss)', \n",
    "                                   beam.Gamma(var), \n",
    "                                   stdp**2/epsx,\n",
    "                                   abs_tol=1e-14, rel_tol=1e-14)\n",
    "\n",
    "run_test_on_input_files(yaml_files, test_gamma_xi) "
   ]
  },
  {
   "cell_type": "code",
   "execution_count": null,
   "metadata": {},
   "outputs": [],
   "source": []
  },
  {
   "cell_type": "code",
   "execution_count": null,
   "metadata": {},
   "outputs": [],
   "source": []
  }
 ],
 "metadata": {
  "kernelspec": {
   "display_name": "Python 3 (ipykernel)",
   "language": "python",
   "name": "python3"
  },
  "language_info": {
   "codemirror_mode": {
    "name": "ipython",
    "version": 3
   },
   "file_extension": ".py",
   "mimetype": "text/x-python",
   "name": "python",
   "nbconvert_exporter": "python",
   "pygments_lexer": "ipython3",
   "version": "3.9.19"
  }
 },
 "nbformat": 4,
 "nbformat_minor": 4
}
