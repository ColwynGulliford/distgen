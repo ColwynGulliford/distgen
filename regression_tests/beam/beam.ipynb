{
 "cells": [
  {
   "cell_type": "markdown",
   "metadata": {},
   "source": [
    "# Beam Class Regression Tests\n",
    "----"
   ]
  },
  {
   "cell_type": "code",
   "execution_count": 1,
   "metadata": {
    "execution": {
     "iopub.execute_input": "2024-03-11T20:37:47.836235Z",
     "iopub.status.busy": "2024-03-11T20:37:47.836044Z",
     "iopub.status.idle": "2024-03-11T20:37:47.850368Z",
     "shell.execute_reply": "2024-03-11T20:37:47.849877Z"
    }
   },
   "outputs": [],
   "source": [
    "%load_ext autoreload\n",
    "%autoreload 2"
   ]
  },
  {
   "cell_type": "code",
   "execution_count": 2,
   "metadata": {
    "execution": {
     "iopub.execute_input": "2024-03-11T20:37:47.853034Z",
     "iopub.status.busy": "2024-03-11T20:37:47.852585Z",
     "iopub.status.idle": "2024-03-11T20:37:49.029372Z",
     "shell.execute_reply": "2024-03-11T20:37:49.028700Z"
    },
    "tags": []
   },
   "outputs": [],
   "source": [
    "import numpy as np\n",
    "from distgen import Generator\n",
    "from distgen.physical_constants import PHYSICAL_CONSTANTS\n",
    "from glob import glob"
   ]
  },
  {
   "cell_type": "code",
   "execution_count": 3,
   "metadata": {
    "execution": {
     "iopub.execute_input": "2024-03-11T20:37:49.032425Z",
     "iopub.status.busy": "2024-03-11T20:37:49.032120Z",
     "iopub.status.idle": "2024-03-11T20:37:49.050282Z",
     "shell.execute_reply": "2024-03-11T20:37:49.049711Z"
    },
    "tags": []
   },
   "outputs": [],
   "source": [
    "yaml_files = list( glob('../examples/data/*.yaml') )\n",
    "\n",
    "coordinates = {'x', 'y', 'z', 'px', 'py', 'pz', \n",
    "               'r', 'theta', 'pr', 'ptheta', \n",
    "               'xp', 'yp', 'thetax', 'thetay',\n",
    "               'gamma', 'energy', 'kinetic_energy', \n",
    "               'beta_x', 'beta_y', 'beta_z'}\n",
    "\n",
    "def run_test_on_input_file(input_file, test):\n",
    "    G = Generator(input_file, verbose=0)\n",
    "    G['n_particle']=10_000\n",
    "    test(G.beam())\n",
    "\n",
    "def run_test_on_input_files(input_files, test, verbose=False):\n",
    "    \n",
    "    for input_file in input_files:\n",
    "        if(verbose): \n",
    "            print('Testing:', input_file)\n",
    "            \n",
    "        run_test_on_input_file(input_file, test)\n",
    "    \n",
    "def check_abs_and_rel_tols(var, p, ptest, abs_tol=1e-12, rel_tol=1e-15):\n",
    "\n",
    "    abs_dev = p - ptest\n",
    "    \n",
    "    assert np.max( np.abs(abs_dev) ).magnitude<abs_tol, f'<{var}> is not correct, max(|abs. deviation|) = {np.max(np.abs(abs_dev))}'\n",
    "\n",
    "    if(np.min( np.abs(ptest) )>0):\n",
    "            rel_dev = abs_dev/ptest\n",
    "            assert np.max( np.abs(rel_dev) )<rel_tol, f'<{var}> is not correct, max(|rel. deviation|) = {np.max(np.abs(rel_dev))}'\n",
    "\n",
    "    "
   ]
  },
  {
   "cell_type": "markdown",
   "metadata": {},
   "source": [
    "# Statistical Tests\n",
    "\n",
    "$\\sum_i w_i = 1$"
   ]
  },
  {
   "cell_type": "code",
   "execution_count": 4,
   "metadata": {
    "execution": {
     "iopub.execute_input": "2024-03-11T20:37:49.053052Z",
     "iopub.status.busy": "2024-03-11T20:37:49.052599Z",
     "iopub.status.idle": "2024-03-11T20:37:53.094338Z",
     "shell.execute_reply": "2024-03-11T20:37:53.093666Z"
    }
   },
   "outputs": [],
   "source": [
    "def test_weight_normalization(beam):\n",
    "    check_abs_and_rel_tols('macroparticle weights', np.sum(beam['w']), 1.0, abs_tol=1e-12, rel_tol=1e-15)\n",
    "\n",
    "run_test_on_input_files(yaml_files, test_weight_normalization)"
   ]
  },
  {
   "cell_type": "markdown",
   "metadata": {},
   "source": [
    "$\\langle \\mathcal{O}\\rangle = \\sum_i w_i \\mathcal{O}_i$"
   ]
  },
  {
   "cell_type": "code",
   "execution_count": 5,
   "metadata": {
    "execution": {
     "iopub.execute_input": "2024-03-11T20:37:53.097301Z",
     "iopub.status.busy": "2024-03-11T20:37:53.097092Z",
     "iopub.status.idle": "2024-03-11T20:37:57.963703Z",
     "shell.execute_reply": "2024-03-11T20:37:57.963110Z"
    }
   },
   "outputs": [],
   "source": [
    "def test_avg(beam):\n",
    "    for var in coordinates:\n",
    "        avg_beam, avg_numpy = beam.avg(var), np.sum(beam['w']*beam[var])\n",
    "        check_abs_and_rel_tols('beam.avg', avg_beam, avg_numpy, abs_tol=1e-12, rel_tol=1e-15)  \n",
    "\n",
    "run_test_on_input_files(yaml_files, test_avg)"
   ]
  },
  {
   "cell_type": "markdown",
   "metadata": {},
   "source": [
    "$\\sigma_{\\mathcal{O}}^2 = \\sum_i w_i (\\mathcal{O}_i-\\langle \\mathcal{O}\\rangle)^2 $ "
   ]
  },
  {
   "cell_type": "code",
   "execution_count": 6,
   "metadata": {
    "execution": {
     "iopub.execute_input": "2024-03-11T20:37:57.966964Z",
     "iopub.status.busy": "2024-03-11T20:37:57.966341Z",
     "iopub.status.idle": "2024-03-11T20:38:03.340629Z",
     "shell.execute_reply": "2024-03-11T20:38:03.339998Z"
    }
   },
   "outputs": [],
   "source": [
    "def test_std(beam):\n",
    "    for var in coordinates:\n",
    "        sigma2_beam = beam.std(var)**2\n",
    "        sigma2_numpy = np.sum(beam['w']*(beam[var]-beam.avg(var))**2)\n",
    "        check_abs_and_rel_tols('beam.std', sigma2_beam, sigma2_numpy, abs_tol=1e-8, rel_tol=1e-15)\n",
    "\n",
    "run_test_on_input_files(yaml_files, test_std)"
   ]
  },
  {
   "cell_type": "markdown",
   "metadata": {},
   "source": [
    "# Cylindrical Coordinates\n",
    "---\n",
    "# Getting"
   ]
  },
  {
   "cell_type": "markdown",
   "metadata": {},
   "source": [
    "$r=\\sqrt{ x^2 + y^2 }$"
   ]
  },
  {
   "cell_type": "code",
   "execution_count": 7,
   "metadata": {
    "execution": {
     "iopub.execute_input": "2024-03-11T20:38:03.343673Z",
     "iopub.status.busy": "2024-03-11T20:38:03.343170Z",
     "iopub.status.idle": "2024-03-11T20:38:07.270881Z",
     "shell.execute_reply": "2024-03-11T20:38:07.270164Z"
    }
   },
   "outputs": [],
   "source": [
    "def test_r(beam):\n",
    "    check_abs_and_rel_tols('beam.r', beam['r'], np.sqrt(beam['x']**2 + beam['y']**2), abs_tol=1e-15, rel_tol=1e-15)\n",
    "\n",
    "run_test_on_input_files(yaml_files, test_r)"
   ]
  },
  {
   "cell_type": "markdown",
   "metadata": {},
   "source": [
    "$x=r\\cos\\theta$"
   ]
  },
  {
   "cell_type": "code",
   "execution_count": 8,
   "metadata": {
    "execution": {
     "iopub.execute_input": "2024-03-11T20:38:07.273783Z",
     "iopub.status.busy": "2024-03-11T20:38:07.273566Z",
     "iopub.status.idle": "2024-03-11T20:38:11.201263Z",
     "shell.execute_reply": "2024-03-11T20:38:11.200681Z"
    }
   },
   "outputs": [],
   "source": [
    "def test_x(beam):\n",
    "    check_abs_and_rel_tols('beam.x = r cos(theta)', beam['x'], beam['r']*np.cos(beam['theta']), abs_tol=1e-12, rel_tol=1e-11)\n",
    "\n",
    "run_test_on_input_files(yaml_files, test_x)"
   ]
  },
  {
   "cell_type": "markdown",
   "metadata": {},
   "source": [
    "$y = r\\sin\\theta$ "
   ]
  },
  {
   "cell_type": "code",
   "execution_count": 9,
   "metadata": {
    "execution": {
     "iopub.execute_input": "2024-03-11T20:38:11.204384Z",
     "iopub.status.busy": "2024-03-11T20:38:11.203915Z",
     "iopub.status.idle": "2024-03-11T20:38:15.206012Z",
     "shell.execute_reply": "2024-03-11T20:38:15.205447Z"
    }
   },
   "outputs": [],
   "source": [
    "def test_y(beam):\n",
    "    check_abs_and_rel_tols('beam.y = r sin(theta)', beam['y'], beam['r']*np.sin(beam['theta']), abs_tol=1e-12, rel_tol=1e-11)\n",
    "\n",
    "run_test_on_input_files(yaml_files, test_y)"
   ]
  },
  {
   "cell_type": "markdown",
   "metadata": {},
   "source": [
    "$p_r = p_x\\cos\\theta + p_y\\sin\\theta$"
   ]
  },
  {
   "cell_type": "code",
   "execution_count": 10,
   "metadata": {
    "execution": {
     "iopub.execute_input": "2024-03-11T20:38:15.209103Z",
     "iopub.status.busy": "2024-03-11T20:38:15.208849Z",
     "iopub.status.idle": "2024-03-11T20:38:19.171036Z",
     "shell.execute_reply": "2024-03-11T20:38:19.170432Z"
    }
   },
   "outputs": [],
   "source": [
    "def test_pr(beam):\n",
    "    check_abs_and_rel_tols('beam.pr = px cos(theta) + py sin(theta)', beam['pr'],\n",
    "                           beam['px']*np.cos(beam['theta']) + beam['py']*np.sin(beam['theta']), \n",
    "                           abs_tol=1e-12, rel_tol=1e-15)\n",
    "\n",
    "\n",
    "run_test_on_input_files(yaml_files, test_pr)"
   ]
  },
  {
   "cell_type": "markdown",
   "metadata": {},
   "source": [
    "$p_{\\theta} = -p_x\\sin\\theta + p_y\\cos\\theta$"
   ]
  },
  {
   "cell_type": "code",
   "execution_count": 11,
   "metadata": {
    "execution": {
     "iopub.execute_input": "2024-03-11T20:38:19.173836Z",
     "iopub.status.busy": "2024-03-11T20:38:19.173614Z",
     "iopub.status.idle": "2024-03-11T20:38:23.146089Z",
     "shell.execute_reply": "2024-03-11T20:38:23.145530Z"
    }
   },
   "outputs": [],
   "source": [
    "def test_ptheta(beam):\n",
    "    check_abs_and_rel_tols('beam.ptheta = -px sin(theta) + py cos(theta)', \n",
    "                           beam['ptheta'],\n",
    "                           -beam['px']*np.sin(beam['theta']) + beam['py']*np.cos(beam['theta']), \n",
    "                           abs_tol=1e-12, rel_tol=1e-15)\n",
    "\n",
    "run_test_on_input_files(yaml_files, test_ptheta)"
   ]
  },
  {
   "cell_type": "markdown",
   "metadata": {},
   "source": [
    "# Transverse Derivatives and Angles\n",
    "---"
   ]
  },
  {
   "cell_type": "markdown",
   "metadata": {},
   "source": [
    "# Getting"
   ]
  },
  {
   "cell_type": "markdown",
   "metadata": {},
   "source": [
    "$x^{\\prime} = p_x/p_z$"
   ]
  },
  {
   "cell_type": "code",
   "execution_count": 12,
   "metadata": {
    "execution": {
     "iopub.execute_input": "2024-03-11T20:38:23.149230Z",
     "iopub.status.busy": "2024-03-11T20:38:23.148774Z",
     "iopub.status.idle": "2024-03-11T20:38:27.104129Z",
     "shell.execute_reply": "2024-03-11T20:38:27.103404Z"
    }
   },
   "outputs": [],
   "source": [
    "def test_xp(beam):\n",
    "    check_abs_and_rel_tols('beam.xp = px/pz', beam['xp'], beam['px'].to(beam['pz'].units)/beam['pz'], abs_tol=1e-15, rel_tol=1e-15)\n",
    "\n",
    "run_test_on_input_files(yaml_files, test_xp)"
   ]
  },
  {
   "cell_type": "markdown",
   "metadata": {},
   "source": [
    "$y^{\\prime} = p_y/p_z$"
   ]
  },
  {
   "cell_type": "code",
   "execution_count": 13,
   "metadata": {
    "execution": {
     "iopub.execute_input": "2024-03-11T20:38:27.107410Z",
     "iopub.status.busy": "2024-03-11T20:38:27.106985Z",
     "iopub.status.idle": "2024-03-11T20:38:31.059225Z",
     "shell.execute_reply": "2024-03-11T20:38:31.058490Z"
    }
   },
   "outputs": [],
   "source": [
    "def test_yp(beam):\n",
    "    check_abs_and_rel_tols('beam.yp = py/pz', beam['yp'], beam['py'].to(beam['pz'].units)/beam['pz'], abs_tol=1e-15, rel_tol=1e-15)\n",
    "\n",
    "run_test_on_input_files(yaml_files, test_yp)"
   ]
  },
  {
   "cell_type": "markdown",
   "metadata": {},
   "source": [
    "$\\theta_x = \\arctan(p_x/p_z)$"
   ]
  },
  {
   "cell_type": "code",
   "execution_count": 14,
   "metadata": {
    "execution": {
     "iopub.execute_input": "2024-03-11T20:38:31.062537Z",
     "iopub.status.busy": "2024-03-11T20:38:31.061990Z",
     "iopub.status.idle": "2024-03-11T20:38:34.995278Z",
     "shell.execute_reply": "2024-03-11T20:38:34.994615Z"
    }
   },
   "outputs": [],
   "source": [
    "def test_thetax(beam):\n",
    "    check_abs_and_rel_tols('beam.thetax = arctan(px/pz)', \n",
    "                           beam['thetax'], \n",
    "                           np.arctan2(beam['px'].to(beam['pz'].units), beam['pz']), \n",
    "                           abs_tol=1e-15, rel_tol=1e-15)\n",
    "\n",
    "run_test_on_input_files(yaml_files, test_thetax)"
   ]
  },
  {
   "cell_type": "markdown",
   "metadata": {},
   "source": [
    "$\\theta_y = \\arctan(p_y/p_z)$"
   ]
  },
  {
   "cell_type": "code",
   "execution_count": 15,
   "metadata": {
    "execution": {
     "iopub.execute_input": "2024-03-11T20:38:34.998195Z",
     "iopub.status.busy": "2024-03-11T20:38:34.997817Z",
     "iopub.status.idle": "2024-03-11T20:38:38.934876Z",
     "shell.execute_reply": "2024-03-11T20:38:38.934294Z"
    }
   },
   "outputs": [],
   "source": [
    "def test_thetay(beam):\n",
    "    check_abs_and_rel_tols('beam.thetay = arctan(py/pz)', \n",
    "                           beam['thetay'], \n",
    "                           np.arctan2(beam['py'].to(beam['pz'].units), beam['pz']), \n",
    "                           abs_tol=1e-15, rel_tol=1e-15)\n",
    "\n",
    "run_test_on_input_files(yaml_files, test_thetay)"
   ]
  },
  {
   "cell_type": "markdown",
   "metadata": {},
   "source": [
    "# Relativistic Quantities\n",
    "---\n",
    "$p=\\sqrt{p_x^2 + p_y^2 + p_z^2}$"
   ]
  },
  {
   "cell_type": "code",
   "execution_count": 16,
   "metadata": {
    "execution": {
     "iopub.execute_input": "2024-03-11T20:38:38.938023Z",
     "iopub.status.busy": "2024-03-11T20:38:38.937534Z",
     "iopub.status.idle": "2024-03-11T20:38:42.974823Z",
     "shell.execute_reply": "2024-03-11T20:38:42.974263Z"
    }
   },
   "outputs": [],
   "source": [
    "def test_p(beam):\n",
    "    deviation = np.abs(beam['p'] - np.sqrt(beam['px']**2 +beam['py']**2 + beam['pz']**2))\n",
    "    check_abs_and_rel_tols('beam.p = sqrt(px^2 + py^2 + pz^2)', \n",
    "                           beam['p'], \n",
    "                           np.sqrt(beam['px']**2 +beam['py']**2 + beam['pz']**2), \n",
    "                           abs_tol=1e-15, rel_tol=1e-15)\n",
    "\n",
    "run_test_on_input_files(yaml_files, test_p)"
   ]
  },
  {
   "cell_type": "markdown",
   "metadata": {},
   "source": [
    "$E = \\sqrt{c^2|\\vec{p}|^2 + (mc^2)^2}$"
   ]
  },
  {
   "cell_type": "code",
   "execution_count": 17,
   "metadata": {
    "execution": {
     "iopub.execute_input": "2024-03-11T20:38:42.977743Z",
     "iopub.status.busy": "2024-03-11T20:38:42.977373Z",
     "iopub.status.idle": "2024-03-11T20:38:46.981223Z",
     "shell.execute_reply": "2024-03-11T20:38:46.980642Z"
    }
   },
   "outputs": [],
   "source": [
    "def test_energy(beam):\n",
    "\n",
    "    c = PHYSICAL_CONSTANTS['speed of light in vacuum']\n",
    "\n",
    "    check_abs_and_rel_tols('beam.energy = sqrt(c^2p^2 + (mc^2)^2)', \n",
    "                           beam['energy'], \n",
    "                           np.sqrt(c**2*beam['p']**2 + beam.mc2**2), \n",
    "                           abs_tol=1e-9, rel_tol=1e-15)\n",
    "\n",
    "run_test_on_input_files(yaml_files, test_energy)"
   ]
  },
  {
   "cell_type": "markdown",
   "metadata": {},
   "source": [
    "$\\gamma = \\sqrt{1+\\left(\\frac{p}{mc}\\right)^2}$, $E/mc^2$"
   ]
  },
  {
   "cell_type": "code",
   "execution_count": 18,
   "metadata": {
    "execution": {
     "iopub.execute_input": "2024-03-11T20:38:46.984249Z",
     "iopub.status.busy": "2024-03-11T20:38:46.983831Z",
     "iopub.status.idle": "2024-03-11T20:38:51.069513Z",
     "shell.execute_reply": "2024-03-11T20:38:51.068964Z"
    }
   },
   "outputs": [],
   "source": [
    "def test_gamma(beam):\n",
    "\n",
    "    mc = beam.species_mass * PHYSICAL_CONSTANTS['speed of light in vacuum']\n",
    "    \n",
    "    check_abs_and_rel_tols('beam.gamma = sqrt( 1 + (p/mc)^2 )', \n",
    "                           beam['gamma'], \n",
    "                           np.sqrt(1+ (beam['p']/mc).to_reduced_units()**2),\n",
    "                           abs_tol=1e-10, rel_tol=1e-10)\n",
    "\n",
    "    check_abs_and_rel_tols('beam.gamma = E/mc^2', \n",
    "                           beam['gamma'], \n",
    "                           beam['energy']/beam.mc2,\n",
    "                           abs_tol=1e-15, rel_tol=1e-15)\n",
    "\n",
    "run_test_on_input_files(yaml_files, test_gamma)"
   ]
  },
  {
   "cell_type": "markdown",
   "metadata": {},
   "source": [
    "$\\beta = \\sqrt{1 - \\frac{1}{\\gamma^2} }$"
   ]
  },
  {
   "cell_type": "code",
   "execution_count": 19,
   "metadata": {
    "execution": {
     "iopub.execute_input": "2024-03-11T20:38:51.072190Z",
     "iopub.status.busy": "2024-03-11T20:38:51.072002Z",
     "iopub.status.idle": "2024-03-11T20:38:56.711269Z",
     "shell.execute_reply": "2024-03-11T20:38:56.710504Z"
    }
   },
   "outputs": [],
   "source": [
    "def test_beta(beam):\n",
    "    check_abs_and_rel_tols('beam.beta = sqrt( 1 - 1/gamma**2 )', \n",
    "                           beam['beta'], \n",
    "                           np.sqrt( 1 - 1/beam['gamma']**2 ),\n",
    "                           abs_tol=1e-15, rel_tol=1e-15)\n",
    "\n",
    "    assert max(beam['beta']) < 1, 'max(beta) > 1, faster than light particle!'\n",
    "\n",
    "run_test_on_input_files(yaml_files, test_beta)"
   ]
  },
  {
   "cell_type": "markdown",
   "metadata": {},
   "source": [
    "$\\beta_{x_i} = \\frac{p_{x_i}}{\\gamma mc}$, $\\beta_x = x^{\\prime}\\beta_z$, $\\beta_y = y^{\\prime}\\beta_z$,  $\\beta_z = \\frac{\\beta}{\\sqrt{1+(x^{\\prime})^2 +(y^{\\prime})^2}}$"
   ]
  },
  {
   "cell_type": "code",
   "execution_count": 20,
   "metadata": {
    "execution": {
     "iopub.execute_input": "2024-03-11T20:38:56.714235Z",
     "iopub.status.busy": "2024-03-11T20:38:56.713997Z",
     "iopub.status.idle": "2024-03-11T20:39:01.525916Z",
     "shell.execute_reply": "2024-03-11T20:39:01.525301Z"
    }
   },
   "outputs": [],
   "source": [
    "def test_beta_xi(beam):\n",
    "\n",
    "    mc = beam.species_mass * PHYSICAL_CONSTANTS['speed of light in vacuum']\n",
    "\n",
    "    for var in ['x', 'y', 'z']:\n",
    "        check_abs_and_rel_tols('beam.beta_xi = pxi/gamma/mc )', \n",
    "                           beam[f'beta_{var}'], \n",
    "                           (beam[f'p{var}']/mc/beam['gamma']).to_reduced_units(),\n",
    "                           abs_tol=1e-15, rel_tol=1e-15)\n",
    "\n",
    "        check_abs_and_rel_tols(\"beam.beta_z = sign(pz)*beta/sqrt( 1 + x'^2 + y'^2 )\", \n",
    "                           beam['beta_z'], \n",
    "                           np.sign(beam['pz'])*beam['beta']/np.sqrt( 1 + beam['xp']**2 + beam['yp']**2 ),\n",
    "                           abs_tol=1e-11, rel_tol=5e-6)\n",
    "\n",
    "run_test_on_input_files(yaml_files, test_beta_xi)"
   ]
  },
  {
   "cell_type": "markdown",
   "metadata": {},
   "source": [
    "KE = $mc^2(\\gamma-1)$, $E-mc^2$"
   ]
  },
  {
   "cell_type": "code",
   "execution_count": 21,
   "metadata": {
    "execution": {
     "iopub.execute_input": "2024-03-11T20:39:01.528815Z",
     "iopub.status.busy": "2024-03-11T20:39:01.528441Z",
     "iopub.status.idle": "2024-03-11T20:39:05.669213Z",
     "shell.execute_reply": "2024-03-11T20:39:05.668541Z"
    }
   },
   "outputs": [],
   "source": [
    "def test_kinetic_energy(beam):\n",
    "    check_abs_and_rel_tols('beam.kinetic_energy = mc2*(gamma-1)', \n",
    "                           beam['kinetic_energy'], \n",
    "                           beam.mc2*(beam['gamma']-1),\n",
    "                           abs_tol=1e-15, rel_tol=1e-15)\n",
    "\n",
    "    check_abs_and_rel_tols('beam.kinetic_energy = E - mc2', \n",
    "                           beam['kinetic_energy'], \n",
    "                           beam['energy'] - beam.mc2,\n",
    "                           abs_tol=1e-9, rel_tol=1e-5)\n",
    "\n",
    "run_test_on_input_files(yaml_files, test_kinetic_energy)"
   ]
  },
  {
   "cell_type": "markdown",
   "metadata": {},
   "source": [
    "# Twiss Parameters\n",
    "---\n",
    "# Getting\n",
    "\n",
    "$\\epsilon_{n,x_i} = \\frac{1}{mc}\\sqrt{\\sigma_{x_i}^2\\sigma_{p_{x_i}}^2 - \\langle \\left(x_i-\\langle x_i\\rangle\\right)\\left(p_{x_i}-\\langle p_{x_i}\\rangle\\right)\\rangle^2 }$"
   ]
  },
  {
   "cell_type": "code",
   "execution_count": 22,
   "metadata": {
    "execution": {
     "iopub.execute_input": "2024-03-11T20:39:05.672237Z",
     "iopub.status.busy": "2024-03-11T20:39:05.672012Z",
     "iopub.status.idle": "2024-03-11T20:39:09.837905Z",
     "shell.execute_reply": "2024-03-11T20:39:09.837199Z"
    }
   },
   "outputs": [],
   "source": [
    "def test_emitt_normalized(beam):\n",
    "    for var in ['x', 'y']:\n",
    "    \n",
    "        mc = beam.species_mass * PHYSICAL_CONSTANTS['speed of light in vacuum']\n",
    "        \n",
    "        stdx = beam.std(var)\n",
    "        stdp = (beam.std(f'p{var}')/mc).to_reduced_units()\n",
    "        dx = beam[var]-beam.avg(var)\n",
    "        dp = ( (beam[f'p{var}']-beam.avg(f'p{var}'))/mc ).to_reduced_units()\n",
    "\n",
    "        check_abs_and_rel_tols('beam.emitt (normalized)', \n",
    "                               beam.emitt(var), \n",
    "                               np.sqrt(stdx**2 * stdp**2 - (np.sum(beam['w']*dx*dp))**2),\n",
    "                               abs_tol=1e-11, rel_tol=1e-11)\n",
    "\n",
    "run_test_on_input_files(yaml_files, test_emitt_normalized)"
   ]
  },
  {
   "cell_type": "markdown",
   "metadata": {},
   "source": [
    "$\\epsilon_{x} = \\sqrt{\\sigma_x^2\\sigma_{x^{\\prime}}^2 - \\langle \\left(x-\\langle x\\rangle\\right)\\left(x^{\\prime}-\\langle x^{\\prime}\\rangle\\right)\\rangle^2 }$"
   ]
  },
  {
   "cell_type": "code",
   "execution_count": 23,
   "metadata": {
    "execution": {
     "iopub.execute_input": "2024-03-11T20:39:09.841338Z",
     "iopub.status.busy": "2024-03-11T20:39:09.840932Z",
     "iopub.status.idle": "2024-03-11T20:39:13.935348Z",
     "shell.execute_reply": "2024-03-11T20:39:13.934752Z"
    }
   },
   "outputs": [],
   "source": [
    "def test_emitt_geometric(beam):\n",
    "\n",
    "    for var in ['x', 'y']:\n",
    "        stdx = beam.std(var)\n",
    "        stdp = (beam.std(f'{var}p'))\n",
    "        dx = beam[var]-beam.avg(var)\n",
    "        dp = (beam[f'{var}p']-beam.avg(f'{var}p'))\n",
    "\n",
    "        check_abs_and_rel_tols('beam.emitt (geometric)', \n",
    "                               beam.emitt(var, 'geometric'), \n",
    "                               np.sqrt(stdx**2 * stdp**2 - (np.sum(beam['w']*dx*dp))**2),\n",
    "                               abs_tol=1e-14, rel_tol=1e-15)\n",
    "\n",
    "run_test_on_input_files(yaml_files, test_emitt_geometric)"
   ]
  },
  {
   "cell_type": "markdown",
   "metadata": {},
   "source": [
    "Twiss $\\beta_{x_i} = \\frac{\\sigma_x^2}{\\epsilon_x}$"
   ]
  },
  {
   "cell_type": "code",
   "execution_count": 24,
   "metadata": {
    "execution": {
     "iopub.execute_input": "2024-03-11T20:39:13.938068Z",
     "iopub.status.busy": "2024-03-11T20:39:13.937855Z",
     "iopub.status.idle": "2024-03-11T20:39:18.738872Z",
     "shell.execute_reply": "2024-03-11T20:39:18.738250Z"
    }
   },
   "outputs": [],
   "source": [
    "def twiss_beta_xi(beam):\n",
    "\n",
    "    for var in ['x', 'y']:\n",
    "        \n",
    "        stdx = beam.std(var)\n",
    "        epsx = beam.emitt(var,'geometric')\n",
    "\n",
    "        if(epsx>0):\n",
    "            check_abs_and_rel_tols('beam.Beta_xi (Twiss)', \n",
    "                                   beam.Beta(var), \n",
    "                                   stdx**2/epsx ,\n",
    "                                   abs_tol=1e-14, rel_tol=1e-15)\n",
    "        \n",
    "run_test_on_input_files(yaml_files, test_beta_xi)"
   ]
  },
  {
   "cell_type": "markdown",
   "metadata": {},
   "source": [
    "Twiss $\\alpha_{x_i} = -\\frac{\\langle(x-\\langle x\\rangle)(x^{\\prime}-\\langle x^{\\prime}\\rangle)\\rangle}{\\epsilon_x}$"
   ]
  },
  {
   "cell_type": "code",
   "execution_count": 25,
   "metadata": {
    "execution": {
     "iopub.execute_input": "2024-03-11T20:39:18.741634Z",
     "iopub.status.busy": "2024-03-11T20:39:18.741398Z",
     "iopub.status.idle": "2024-03-11T20:39:30.439060Z",
     "shell.execute_reply": "2024-03-11T20:39:30.438423Z"
    }
   },
   "outputs": [],
   "source": [
    "def test_alpha_xi(beam):\n",
    "\n",
    "    for var in ['x', 'y']:\n",
    "        dx = beam[var]-beam.avg(var)\n",
    "        dp = (beam[f'{var}p']-beam.avg(f'{var}p'))\n",
    "        epsx = beam.emitt(var,'geometric')\n",
    "\n",
    "        if(epsx>0):\n",
    "            check_abs_and_rel_tols('beam.Alpha_xi (Twiss)', \n",
    "                                   beam.Alpha(var), \n",
    "                                   -sum(beam['w']*dx*dp)/epsx,\n",
    "                                   abs_tol=1e-14, rel_tol=1e-14)\n",
    "        \n",
    "run_test_on_input_files(yaml_files, test_alpha_xi)    "
   ]
  },
  {
   "cell_type": "markdown",
   "metadata": {},
   "source": [
    "Twiss $\\gamma_{x_i} = \\frac{\\sigma_{x^{\\prime}}^2}{\\epsilon_x}$"
   ]
  },
  {
   "cell_type": "code",
   "execution_count": 26,
   "metadata": {
    "execution": {
     "iopub.execute_input": "2024-03-11T20:39:30.442011Z",
     "iopub.status.busy": "2024-03-11T20:39:30.441555Z",
     "iopub.status.idle": "2024-03-11T20:39:34.612257Z",
     "shell.execute_reply": "2024-03-11T20:39:34.611701Z"
    },
    "tags": []
   },
   "outputs": [],
   "source": [
    "def test_gamma_xi(beam):\n",
    "\n",
    "    for var in ['x', 'y']:\n",
    "        stdp = beam.std(f'{var}p')\n",
    "        epsx = beam.emitt(var,'geometric')\n",
    "\n",
    "        if(epsx>0):\n",
    "            check_abs_and_rel_tols('beam.Gamma_xi (Twiss)', \n",
    "                                   beam.Gamma(var), \n",
    "                                   stdp**2/epsx,\n",
    "                                   abs_tol=1e-14, rel_tol=1e-14)\n",
    "\n",
    "run_test_on_input_files(yaml_files, test_gamma_xi) "
   ]
  },
  {
   "cell_type": "code",
   "execution_count": null,
   "metadata": {},
   "outputs": [],
   "source": []
  }
 ],
 "metadata": {
  "kernelspec": {
   "display_name": "Python 3 (ipykernel)",
   "language": "python",
   "name": "python3"
  },
  "language_info": {
   "codemirror_mode": {
    "name": "ipython",
    "version": 3
   },
   "file_extension": ".py",
   "mimetype": "text/x-python",
   "name": "python",
   "nbconvert_exporter": "python",
   "pygments_lexer": "ipython3",
   "version": "3.9.18"
  }
 },
 "nbformat": 4,
 "nbformat_minor": 4
}
