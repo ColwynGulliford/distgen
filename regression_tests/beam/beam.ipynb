{
 "cells": [
  {
   "cell_type": "markdown",
   "metadata": {},
   "source": [
    "# Beam Class Regression Tests\n",
    "----"
   ]
  },
  {
   "cell_type": "code",
   "execution_count": 1,
   "metadata": {
    "execution": {
     "iopub.execute_input": "2024-07-18T00:47:12.799824Z",
     "iopub.status.busy": "2024-07-18T00:47:12.799634Z",
     "iopub.status.idle": "2024-07-18T00:47:12.813513Z",
     "shell.execute_reply": "2024-07-18T00:47:12.813083Z"
    }
   },
   "outputs": [],
   "source": [
    "%load_ext autoreload\n",
    "%autoreload 2"
   ]
  },
  {
   "cell_type": "code",
   "execution_count": 2,
   "metadata": {
    "execution": {
     "iopub.execute_input": "2024-07-18T00:47:12.815681Z",
     "iopub.status.busy": "2024-07-18T00:47:12.815341Z",
     "iopub.status.idle": "2024-07-18T00:47:14.036233Z",
     "shell.execute_reply": "2024-07-18T00:47:14.035633Z"
    },
    "tags": []
   },
   "outputs": [],
   "source": [
    "import numpy as np\n",
    "from distgen import Generator\n",
    "from distgen.physical_constants import PHYSICAL_CONSTANTS\n",
    "from distgen.tools import check_abs_and_rel_tols\n",
    "from glob import glob"
   ]
  },
  {
   "cell_type": "code",
   "execution_count": 3,
   "metadata": {
    "execution": {
     "iopub.execute_input": "2024-07-18T00:47:14.039110Z",
     "iopub.status.busy": "2024-07-18T00:47:14.038847Z",
     "iopub.status.idle": "2024-07-18T00:47:14.054848Z",
     "shell.execute_reply": "2024-07-18T00:47:14.054405Z"
    },
    "tags": []
   },
   "outputs": [],
   "source": [
    "yaml_files = list( glob('../examples/data/*.yaml') )\n",
    "\n",
    "coordinates = {'x', 'y', 'z', 'px', 'py', 'pz', \n",
    "               'r', 'theta', 'pr', 'ptheta', \n",
    "               'xp', 'yp', 'thetax', 'thetay',\n",
    "               'gamma', 'energy', 'kinetic_energy', \n",
    "               'beta_x', 'beta_y', 'beta_z'}\n",
    "\n",
    "def run_test_on_input_file(input_file, test):\n",
    "    G = Generator(input_file, verbose=0)\n",
    "    G['n_particle']=10_000\n",
    "    test(G.beam())\n",
    "\n",
    "def run_test_on_input_files(input_files, test, verbose=False):\n",
    "    \n",
    "    for input_file in input_files:\n",
    "        if(verbose): \n",
    "            print('Testing:', input_file)\n",
    "            \n",
    "        run_test_on_input_file(input_file, test)"
   ]
  },
  {
   "cell_type": "markdown",
   "metadata": {},
   "source": [
    "# Statistical Tests\n",
    "\n",
    "$\\sum_i w_i = 1$"
   ]
  },
  {
   "cell_type": "code",
   "execution_count": 4,
   "metadata": {
    "execution": {
     "iopub.execute_input": "2024-07-18T00:47:14.057123Z",
     "iopub.status.busy": "2024-07-18T00:47:14.056786Z",
     "iopub.status.idle": "2024-07-18T00:47:16.166868Z",
     "shell.execute_reply": "2024-07-18T00:47:16.166274Z"
    }
   },
   "outputs": [],
   "source": [
    "def test_weight_normalization(beam):\n",
    "    check_abs_and_rel_tols('macroparticle weights', np.sum(beam['w']), 1.0, abs_tol=1e-12, rel_tol=1e-15)\n",
    "\n",
    "run_test_on_input_files(yaml_files, test_weight_normalization)"
   ]
  },
  {
   "cell_type": "markdown",
   "metadata": {},
   "source": [
    "$\\langle \\mathcal{O}\\rangle = \\sum_i w_i \\mathcal{O}_i$"
   ]
  },
  {
   "cell_type": "code",
   "execution_count": 5,
   "metadata": {
    "execution": {
     "iopub.execute_input": "2024-07-18T00:47:16.169297Z",
     "iopub.status.busy": "2024-07-18T00:47:16.169124Z",
     "iopub.status.idle": "2024-07-18T00:47:18.842861Z",
     "shell.execute_reply": "2024-07-18T00:47:18.842288Z"
    }
   },
   "outputs": [],
   "source": [
    "def test_avg(beam):\n",
    "    for var in coordinates:\n",
    "        avg_beam, avg_numpy = beam.avg(var), np.sum(beam['w']*beam[var])\n",
    "        check_abs_and_rel_tols('beam.avg', avg_beam, avg_numpy, abs_tol=1e-12, rel_tol=1e-15)  \n",
    "\n",
    "run_test_on_input_files(yaml_files, test_avg)"
   ]
  },
  {
   "cell_type": "markdown",
   "metadata": {},
   "source": [
    "$\\sigma_{\\mathcal{O}}^2 = \\sum_i w_i (\\mathcal{O}_i-\\langle \\mathcal{O}\\rangle)^2 $ "
   ]
  },
  {
   "cell_type": "code",
   "execution_count": 6,
   "metadata": {
    "execution": {
     "iopub.execute_input": "2024-07-18T00:47:18.845733Z",
     "iopub.status.busy": "2024-07-18T00:47:18.845371Z",
     "iopub.status.idle": "2024-07-18T00:47:21.781113Z",
     "shell.execute_reply": "2024-07-18T00:47:21.780505Z"
    }
   },
   "outputs": [],
   "source": [
    "def test_std(beam):\n",
    "    for var in coordinates:\n",
    "        sigma2_beam = beam.std(var)**2\n",
    "        sigma2_numpy = np.sum(beam['w']*(beam[var]-beam.avg(var))**2)\n",
    "        check_abs_and_rel_tols('beam.std', sigma2_beam, sigma2_numpy, abs_tol=1e-8, rel_tol=1e-15)\n",
    "\n",
    "run_test_on_input_files(yaml_files, test_std)"
   ]
  },
  {
   "cell_type": "markdown",
   "metadata": {},
   "source": [
    "# Cylindrical Coordinates\n",
    "---\n",
    "# Getting"
   ]
  },
  {
   "cell_type": "markdown",
   "metadata": {},
   "source": [
    "$r=\\sqrt{ x^2 + y^2 }$"
   ]
  },
  {
   "cell_type": "code",
   "execution_count": 7,
   "metadata": {
    "execution": {
     "iopub.execute_input": "2024-07-18T00:47:21.784204Z",
     "iopub.status.busy": "2024-07-18T00:47:21.783843Z",
     "iopub.status.idle": "2024-07-18T00:47:23.869985Z",
     "shell.execute_reply": "2024-07-18T00:47:23.869403Z"
    }
   },
   "outputs": [],
   "source": [
    "def test_r(beam):\n",
    "    check_abs_and_rel_tols('beam.r', beam['r'], np.sqrt(beam['x']**2 + beam['y']**2), abs_tol=1e-15, rel_tol=1e-15)\n",
    "\n",
    "run_test_on_input_files(yaml_files, test_r)"
   ]
  },
  {
   "cell_type": "markdown",
   "metadata": {},
   "source": [
    "$x=r\\cos\\theta$"
   ]
  },
  {
   "cell_type": "code",
   "execution_count": 8,
   "metadata": {
    "execution": {
     "iopub.execute_input": "2024-07-18T00:47:23.872735Z",
     "iopub.status.busy": "2024-07-18T00:47:23.872506Z",
     "iopub.status.idle": "2024-07-18T00:47:25.957396Z",
     "shell.execute_reply": "2024-07-18T00:47:25.956755Z"
    }
   },
   "outputs": [],
   "source": [
    "def test_x(beam):\n",
    "    check_abs_and_rel_tols('beam.x = r cos(theta)', beam['x'], beam['r']*np.cos(beam['theta']), abs_tol=1e-12, rel_tol=1e-11)\n",
    "\n",
    "run_test_on_input_files(yaml_files, test_x)"
   ]
  },
  {
   "cell_type": "markdown",
   "metadata": {},
   "source": [
    "$y = r\\sin\\theta$ "
   ]
  },
  {
   "cell_type": "code",
   "execution_count": 9,
   "metadata": {
    "execution": {
     "iopub.execute_input": "2024-07-18T00:47:25.960221Z",
     "iopub.status.busy": "2024-07-18T00:47:25.959989Z",
     "iopub.status.idle": "2024-07-18T00:47:28.042534Z",
     "shell.execute_reply": "2024-07-18T00:47:28.041977Z"
    }
   },
   "outputs": [],
   "source": [
    "def test_y(beam):\n",
    "    check_abs_and_rel_tols('beam.y = r sin(theta)', beam['y'], beam['r']*np.sin(beam['theta']), abs_tol=1e-12, rel_tol=1e-11)\n",
    "\n",
    "run_test_on_input_files(yaml_files, test_y)"
   ]
  },
  {
   "cell_type": "markdown",
   "metadata": {},
   "source": [
    "$p_r = p_x\\cos\\theta + p_y\\sin\\theta$"
   ]
  },
  {
   "cell_type": "code",
   "execution_count": 10,
   "metadata": {
    "execution": {
     "iopub.execute_input": "2024-07-18T00:47:28.045376Z",
     "iopub.status.busy": "2024-07-18T00:47:28.045191Z",
     "iopub.status.idle": "2024-07-18T00:47:30.187766Z",
     "shell.execute_reply": "2024-07-18T00:47:30.187156Z"
    }
   },
   "outputs": [],
   "source": [
    "def test_pr(beam):\n",
    "    check_abs_and_rel_tols('beam.pr = px cos(theta) + py sin(theta)', beam['pr'],\n",
    "                           beam['px']*np.cos(beam['theta']) + beam['py']*np.sin(beam['theta']), \n",
    "                           abs_tol=1e-12, rel_tol=1e-15)\n",
    "\n",
    "\n",
    "run_test_on_input_files(yaml_files, test_pr)"
   ]
  },
  {
   "cell_type": "markdown",
   "metadata": {},
   "source": [
    "$p_{\\theta} = -p_x\\sin\\theta + p_y\\cos\\theta$"
   ]
  },
  {
   "cell_type": "code",
   "execution_count": 11,
   "metadata": {
    "execution": {
     "iopub.execute_input": "2024-07-18T00:47:30.190512Z",
     "iopub.status.busy": "2024-07-18T00:47:30.190264Z",
     "iopub.status.idle": "2024-07-18T00:47:32.324512Z",
     "shell.execute_reply": "2024-07-18T00:47:32.323953Z"
    }
   },
   "outputs": [],
   "source": [
    "def test_ptheta(beam):\n",
    "    check_abs_and_rel_tols('beam.ptheta = -px sin(theta) + py cos(theta)', \n",
    "                           beam['ptheta'],\n",
    "                           -beam['px']*np.sin(beam['theta']) + beam['py']*np.cos(beam['theta']), \n",
    "                           abs_tol=1e-12, rel_tol=1e-15)\n",
    "\n",
    "run_test_on_input_files(yaml_files, test_ptheta)"
   ]
  },
  {
   "cell_type": "markdown",
   "metadata": {},
   "source": [
    "# Transverse Derivatives and Angles\n",
    "---"
   ]
  },
  {
   "cell_type": "markdown",
   "metadata": {},
   "source": [
    "# Getting"
   ]
  },
  {
   "cell_type": "markdown",
   "metadata": {},
   "source": [
    "$x^{\\prime} = p_x/p_z$"
   ]
  },
  {
   "cell_type": "code",
   "execution_count": 12,
   "metadata": {
    "execution": {
     "iopub.execute_input": "2024-07-18T00:47:32.327223Z",
     "iopub.status.busy": "2024-07-18T00:47:32.327046Z",
     "iopub.status.idle": "2024-07-18T00:47:34.402680Z",
     "shell.execute_reply": "2024-07-18T00:47:34.402056Z"
    }
   },
   "outputs": [],
   "source": [
    "def test_xp(beam):\n",
    "    check_abs_and_rel_tols('beam.xp = px/pz', beam['xp'], beam['px'].to(beam['pz'].units)/beam['pz'], abs_tol=1e-14, rel_tol=1e-15)\n",
    "\n",
    "run_test_on_input_files(yaml_files, test_xp)"
   ]
  },
  {
   "cell_type": "markdown",
   "metadata": {},
   "source": [
    "$y^{\\prime} = p_y/p_z$"
   ]
  },
  {
   "cell_type": "code",
   "execution_count": 13,
   "metadata": {
    "execution": {
     "iopub.execute_input": "2024-07-18T00:47:34.405560Z",
     "iopub.status.busy": "2024-07-18T00:47:34.405140Z",
     "iopub.status.idle": "2024-07-18T00:47:36.481228Z",
     "shell.execute_reply": "2024-07-18T00:47:36.480638Z"
    }
   },
   "outputs": [],
   "source": [
    "def test_yp(beam):\n",
    "    check_abs_and_rel_tols('beam.yp = py/pz', beam['yp'], beam['py'].to(beam['pz'].units)/beam['pz'], abs_tol=1e-14, rel_tol=1e-15)\n",
    "\n",
    "run_test_on_input_files(yaml_files, test_yp)"
   ]
  },
  {
   "cell_type": "markdown",
   "metadata": {},
   "source": [
    "$\\theta_x = \\arctan(p_x/p_z)$"
   ]
  },
  {
   "cell_type": "code",
   "execution_count": 14,
   "metadata": {
    "execution": {
     "iopub.execute_input": "2024-07-18T00:47:36.483917Z",
     "iopub.status.busy": "2024-07-18T00:47:36.483558Z",
     "iopub.status.idle": "2024-07-18T00:47:38.588309Z",
     "shell.execute_reply": "2024-07-18T00:47:38.587602Z"
    }
   },
   "outputs": [],
   "source": [
    "def test_thetax(beam):\n",
    "    check_abs_and_rel_tols('beam.thetax = arctan(px/pz)', \n",
    "                           beam['thetax'], \n",
    "                           np.arctan2(beam['px'].to(beam['pz'].units), beam['pz']), \n",
    "                           abs_tol=1e-15, rel_tol=1e-15)\n",
    "\n",
    "run_test_on_input_files(yaml_files, test_thetax)"
   ]
  },
  {
   "cell_type": "markdown",
   "metadata": {},
   "source": [
    "$\\theta_y = \\arctan(p_y/p_z)$"
   ]
  },
  {
   "cell_type": "code",
   "execution_count": 15,
   "metadata": {
    "execution": {
     "iopub.execute_input": "2024-07-18T00:47:38.591993Z",
     "iopub.status.busy": "2024-07-18T00:47:38.591541Z",
     "iopub.status.idle": "2024-07-18T00:47:40.663800Z",
     "shell.execute_reply": "2024-07-18T00:47:40.663218Z"
    }
   },
   "outputs": [],
   "source": [
    "def test_thetay(beam):\n",
    "    check_abs_and_rel_tols('beam.thetay = arctan(py/pz)', \n",
    "                           beam['thetay'], \n",
    "                           np.arctan2(beam['py'].to(beam['pz'].units), beam['pz']), \n",
    "                           abs_tol=1e-15, rel_tol=1e-15)\n",
    "\n",
    "run_test_on_input_files(yaml_files, test_thetay)"
   ]
  },
  {
   "cell_type": "markdown",
   "metadata": {},
   "source": [
    "# Relativistic Quantities\n",
    "---\n",
    "$p=\\sqrt{p_x^2 + p_y^2 + p_z^2}$"
   ]
  },
  {
   "cell_type": "code",
   "execution_count": 16,
   "metadata": {
    "execution": {
     "iopub.execute_input": "2024-07-18T00:47:40.666236Z",
     "iopub.status.busy": "2024-07-18T00:47:40.666063Z",
     "iopub.status.idle": "2024-07-18T00:47:42.762291Z",
     "shell.execute_reply": "2024-07-18T00:47:42.761675Z"
    }
   },
   "outputs": [],
   "source": [
    "def test_p(beam):\n",
    "    deviation = np.abs(beam['p'] - np.sqrt(beam['px']**2 +beam['py']**2 + beam['pz']**2))\n",
    "    check_abs_and_rel_tols('beam.p = sqrt(px^2 + py^2 + pz^2)', \n",
    "                           beam['p'], \n",
    "                           np.sqrt(beam['px']**2 +beam['py']**2 + beam['pz']**2), \n",
    "                           abs_tol=1e-15, rel_tol=1e-15)\n",
    "\n",
    "run_test_on_input_files(yaml_files, test_p)"
   ]
  },
  {
   "cell_type": "markdown",
   "metadata": {},
   "source": [
    "$E = \\sqrt{c^2|\\vec{p}|^2 + (mc^2)^2}$"
   ]
  },
  {
   "cell_type": "code",
   "execution_count": 17,
   "metadata": {
    "execution": {
     "iopub.execute_input": "2024-07-18T00:47:42.765330Z",
     "iopub.status.busy": "2024-07-18T00:47:42.764917Z",
     "iopub.status.idle": "2024-07-18T00:47:44.859655Z",
     "shell.execute_reply": "2024-07-18T00:47:44.859057Z"
    }
   },
   "outputs": [],
   "source": [
    "def test_energy(beam):\n",
    "\n",
    "    c = PHYSICAL_CONSTANTS['speed of light in vacuum']\n",
    "\n",
    "    check_abs_and_rel_tols('beam.energy = sqrt(c^2p^2 + (mc^2)^2)', \n",
    "                           beam['energy'], \n",
    "                           np.sqrt(c**2*beam['p']**2 + beam.mc2**2), \n",
    "                           abs_tol=1e-9, rel_tol=1e-15)\n",
    "\n",
    "run_test_on_input_files(yaml_files, test_energy)"
   ]
  },
  {
   "cell_type": "markdown",
   "metadata": {},
   "source": [
    "$\\gamma = \\sqrt{1+\\left(\\frac{p}{mc}\\right)^2}$, $E/mc^2$"
   ]
  },
  {
   "cell_type": "code",
   "execution_count": 18,
   "metadata": {
    "execution": {
     "iopub.execute_input": "2024-07-18T00:47:44.862221Z",
     "iopub.status.busy": "2024-07-18T00:47:44.862044Z",
     "iopub.status.idle": "2024-07-18T00:47:47.022277Z",
     "shell.execute_reply": "2024-07-18T00:47:47.021689Z"
    }
   },
   "outputs": [],
   "source": [
    "def test_gamma(beam):\n",
    "\n",
    "    mc = beam.species_mass * PHYSICAL_CONSTANTS['speed of light in vacuum']\n",
    "    \n",
    "    check_abs_and_rel_tols('beam.gamma = sqrt( 1 + (p/mc)^2 )', \n",
    "                           beam['gamma'], \n",
    "                           np.sqrt(1+ (beam['p']/mc).to_reduced_units()**2),\n",
    "                           abs_tol=1e-10, rel_tol=1e-10)\n",
    "\n",
    "    check_abs_and_rel_tols('beam.gamma = E/mc^2', \n",
    "                           beam['gamma'], \n",
    "                           beam['energy']/beam.mc2,\n",
    "                           abs_tol=1e-15, rel_tol=1e-15)\n",
    "\n",
    "run_test_on_input_files(yaml_files, test_gamma)"
   ]
  },
  {
   "cell_type": "markdown",
   "metadata": {},
   "source": [
    "$\\beta = \\frac{c|\\vec{p}|}{E}$"
   ]
  },
  {
   "cell_type": "code",
   "execution_count": 19,
   "metadata": {
    "execution": {
     "iopub.execute_input": "2024-07-18T00:47:47.024988Z",
     "iopub.status.busy": "2024-07-18T00:47:47.024810Z",
     "iopub.status.idle": "2024-07-18T00:47:50.739552Z",
     "shell.execute_reply": "2024-07-18T00:47:50.738975Z"
    }
   },
   "outputs": [],
   "source": [
    "def test_beta(beam):\n",
    "    check_abs_and_rel_tols('beam.beta = c|p|/E', \n",
    "                           beam['beta'], \n",
    "                           PHYSICAL_CONSTANTS['speed of light in vacuum']*beam.p/beam.energy,\n",
    "                           abs_tol=1e-11, rel_tol=1e-14)\n",
    "\n",
    "    assert max(beam['beta']) < 1, 'max(beta) > 1, faster than light particle!'\n",
    "\n",
    "run_test_on_input_files(yaml_files, test_beta)"
   ]
  },
  {
   "cell_type": "markdown",
   "metadata": {},
   "source": [
    "$\\beta_{x_i} = \\frac{cp_{x_i}}{E}$, $\\beta_x = x^{\\prime}\\beta_z$, $\\beta_y = y^{\\prime}\\beta_z$,  $\\beta_z = \\frac{\\beta}{\\sqrt{1+(x^{\\prime})^2 +(y^{\\prime})^2}}$"
   ]
  },
  {
   "cell_type": "code",
   "execution_count": 20,
   "metadata": {
    "execution": {
     "iopub.execute_input": "2024-07-18T00:47:50.742369Z",
     "iopub.status.busy": "2024-07-18T00:47:50.741965Z",
     "iopub.status.idle": "2024-07-18T00:47:53.127221Z",
     "shell.execute_reply": "2024-07-18T00:47:53.126613Z"
    }
   },
   "outputs": [],
   "source": [
    "def test_beta_xi(beam):\n",
    "\n",
    "    for var in ['x', 'y', 'z']:\n",
    "        check_abs_and_rel_tols('beam.beta_xi = c pxi/E )', \n",
    "                           beam[f'beta_{var}'], \n",
    "                           (PHYSICAL_CONSTANTS['speed of light in vacuum']*beam[f'p{var}']/beam['energy']).to_reduced_units(),\n",
    "                           abs_tol=1e-15, rel_tol=1e-15)\n",
    "\n",
    "        check_abs_and_rel_tols(\"beam.beta_z = sign(pz)*beta/sqrt( 1 + x'^2 + y'^2 )\", \n",
    "                           beam['beta_z'], \n",
    "                           np.sign(beam['pz'])*beam['beta']/np.sqrt( 1 + beam['xp']**2 + beam['yp']**2 ),\n",
    "                           abs_tol=1e-11, rel_tol=5e-9)\n",
    "\n",
    "run_test_on_input_files(yaml_files, test_beta_xi)"
   ]
  },
  {
   "cell_type": "markdown",
   "metadata": {},
   "source": [
    "KE = $mc^2(\\gamma-1)$, $E-mc^2$"
   ]
  },
  {
   "cell_type": "code",
   "execution_count": 21,
   "metadata": {
    "execution": {
     "iopub.execute_input": "2024-07-18T00:47:53.129841Z",
     "iopub.status.busy": "2024-07-18T00:47:53.129661Z",
     "iopub.status.idle": "2024-07-18T00:47:55.315063Z",
     "shell.execute_reply": "2024-07-18T00:47:55.314475Z"
    }
   },
   "outputs": [],
   "source": [
    "def test_kinetic_energy(beam):\n",
    "\n",
    "    if(PHYSICAL_CONSTANTS.species(beam['species'])['mass']>0):\n",
    "    \n",
    "        check_abs_and_rel_tols('beam.kinetic_energy = mc2*(gamma-1)', \n",
    "                               beam['kinetic_energy'], \n",
    "                               beam.mc2*(beam['gamma']-1),\n",
    "                               abs_tol=1e-9, rel_tol=1e-05)\n",
    "\n",
    "    check_abs_and_rel_tols('beam.kinetic_energy = E - mc2', \n",
    "                           beam['kinetic_energy'], \n",
    "                           beam['energy'] - beam.mc2,\n",
    "                           abs_tol=1e-15, rel_tol=1e-15)\n",
    "\n",
    "run_test_on_input_files(yaml_files, test_kinetic_energy)"
   ]
  },
  {
   "cell_type": "markdown",
   "metadata": {},
   "source": [
    "# Twiss Parameters\n",
    "---\n",
    "# Getting\n",
    "\n",
    "$\\epsilon_{n,x_i} = \\frac{1}{mc}\\sqrt{\\sigma_{x_i}^2\\sigma_{p_{x_i}}^2 - \\langle \\left(x_i-\\langle x_i\\rangle\\right)\\left(p_{x_i}-\\langle p_{x_i}\\rangle\\right)\\rangle^2 }$"
   ]
  },
  {
   "cell_type": "code",
   "execution_count": 22,
   "metadata": {
    "execution": {
     "iopub.execute_input": "2024-07-18T00:47:55.317770Z",
     "iopub.status.busy": "2024-07-18T00:47:55.317357Z",
     "iopub.status.idle": "2024-07-18T00:47:57.565684Z",
     "shell.execute_reply": "2024-07-18T00:47:57.565107Z"
    }
   },
   "outputs": [],
   "source": [
    "def test_emitt_normalized(beam):\n",
    "    for var in ['x', 'y']:\n",
    "    \n",
    "        mc = beam.species_mass * PHYSICAL_CONSTANTS['speed of light in vacuum']\n",
    "        \n",
    "        stdx = beam.std(var)\n",
    "        stdp = (beam.std(f'p{var}')/mc).to_reduced_units()\n",
    "        dx = beam[var]-beam.avg(var)\n",
    "        dp = ( (beam[f'p{var}']-beam.avg(f'p{var}'))/mc ).to_reduced_units()\n",
    "\n",
    "        check_abs_and_rel_tols('beam.emitt (normalized)', \n",
    "                               beam.emitt(var), \n",
    "                               np.sqrt(stdx**2 * stdp**2 - (np.sum(beam['w']*dx*dp))**2),\n",
    "                               abs_tol=1e-11, rel_tol=1e-11)\n",
    "\n",
    "run_test_on_input_files(yaml_files, test_emitt_normalized)"
   ]
  },
  {
   "cell_type": "markdown",
   "metadata": {},
   "source": [
    "$\\epsilon_{x} = \\sqrt{\\sigma_x^2\\sigma_{x^{\\prime}}^2 - \\langle \\left(x-\\langle x\\rangle\\right)\\left(x^{\\prime}-\\langle x^{\\prime}\\rangle\\right)\\rangle^2 }$"
   ]
  },
  {
   "cell_type": "code",
   "execution_count": 23,
   "metadata": {
    "execution": {
     "iopub.execute_input": "2024-07-18T00:47:57.568264Z",
     "iopub.status.busy": "2024-07-18T00:47:57.568092Z",
     "iopub.status.idle": "2024-07-18T00:47:59.799347Z",
     "shell.execute_reply": "2024-07-18T00:47:59.798730Z"
    }
   },
   "outputs": [],
   "source": [
    "def test_emitt_geometric(beam):\n",
    "\n",
    "    for var in ['x', 'y']:\n",
    "        stdx = beam.std(var)\n",
    "        stdp = (beam.std(f'{var}p'))\n",
    "        dx = beam[var]-beam.avg(var)\n",
    "        dp = (beam[f'{var}p']-beam.avg(f'{var}p'))\n",
    "\n",
    "        check_abs_and_rel_tols('beam.emitt (geometric)', \n",
    "                               beam.emitt(var, 'geometric'), \n",
    "                               np.sqrt(stdx**2 * stdp**2 - (np.sum(beam['w']*dx*dp))**2),\n",
    "                               abs_tol=1e-14, rel_tol=1e-15)\n",
    "\n",
    "run_test_on_input_files(yaml_files, test_emitt_geometric)"
   ]
  },
  {
   "cell_type": "markdown",
   "metadata": {},
   "source": [
    "Twiss $\\beta_{x_i} = \\frac{\\sigma_x^2}{\\epsilon_x}$"
   ]
  },
  {
   "cell_type": "code",
   "execution_count": 24,
   "metadata": {
    "execution": {
     "iopub.execute_input": "2024-07-18T00:47:59.802121Z",
     "iopub.status.busy": "2024-07-18T00:47:59.801893Z",
     "iopub.status.idle": "2024-07-18T00:48:02.156924Z",
     "shell.execute_reply": "2024-07-18T00:48:02.156260Z"
    }
   },
   "outputs": [],
   "source": [
    "def twiss_beta_xi(beam):\n",
    "\n",
    "    for var in ['x', 'y']:\n",
    "        \n",
    "        stdx = beam.std(var)\n",
    "        epsx = beam.emitt(var,'geometric')\n",
    "\n",
    "        if(epsx>0):\n",
    "            check_abs_and_rel_tols('beam.Beta_xi (Twiss)', \n",
    "                                   beam.Beta(var), \n",
    "                                   stdx**2/epsx ,\n",
    "                                   abs_tol=1e-14, rel_tol=1e-15)\n",
    "        \n",
    "run_test_on_input_files(yaml_files, test_beta_xi)"
   ]
  },
  {
   "cell_type": "markdown",
   "metadata": {},
   "source": [
    "Twiss $\\alpha_{x_i} = -\\frac{\\langle(x-\\langle x\\rangle)(x^{\\prime}-\\langle x^{\\prime}\\rangle)\\rangle}{\\epsilon_x}$"
   ]
  },
  {
   "cell_type": "code",
   "execution_count": 25,
   "metadata": {
    "execution": {
     "iopub.execute_input": "2024-07-18T00:48:02.159583Z",
     "iopub.status.busy": "2024-07-18T00:48:02.159385Z",
     "iopub.status.idle": "2024-07-18T00:48:12.045579Z",
     "shell.execute_reply": "2024-07-18T00:48:12.044933Z"
    }
   },
   "outputs": [],
   "source": [
    "def test_alpha_xi(beam):\n",
    "\n",
    "    for var in ['x', 'y']:\n",
    "        dx = beam[var]-beam.avg(var)\n",
    "        dp = (beam[f'{var}p']-beam.avg(f'{var}p'))\n",
    "        epsx = beam.emitt(var,'geometric')\n",
    "\n",
    "        if(epsx>0):\n",
    "            check_abs_and_rel_tols('beam.Alpha_xi (Twiss)', \n",
    "                                   beam.Alpha(var), \n",
    "                                   -sum(beam['w']*dx*dp)/epsx,\n",
    "                                   abs_tol=1e-14, rel_tol=1e-14)\n",
    "        \n",
    "run_test_on_input_files(yaml_files, test_alpha_xi)    "
   ]
  },
  {
   "cell_type": "markdown",
   "metadata": {},
   "source": [
    "Twiss $\\gamma_{x_i} = \\frac{\\sigma_{x^{\\prime}}^2}{\\epsilon_x}$"
   ]
  },
  {
   "cell_type": "code",
   "execution_count": 26,
   "metadata": {
    "execution": {
     "iopub.execute_input": "2024-07-18T00:48:12.048401Z",
     "iopub.status.busy": "2024-07-18T00:48:12.048202Z",
     "iopub.status.idle": "2024-07-18T00:48:14.255116Z",
     "shell.execute_reply": "2024-07-18T00:48:14.254474Z"
    },
    "tags": []
   },
   "outputs": [],
   "source": [
    "def test_gamma_xi(beam):\n",
    "\n",
    "    for var in ['x', 'y']:\n",
    "        stdp = beam.std(f'{var}p')\n",
    "        epsx = beam.emitt(var,'geometric')\n",
    "\n",
    "        if(epsx>0):\n",
    "            check_abs_and_rel_tols('beam.Gamma_xi (Twiss)', \n",
    "                                   beam.Gamma(var), \n",
    "                                   stdp**2/epsx,\n",
    "                                   abs_tol=1e-14, rel_tol=1e-14)\n",
    "\n",
    "run_test_on_input_files(yaml_files, test_gamma_xi) "
   ]
  },
  {
   "cell_type": "code",
   "execution_count": null,
   "metadata": {},
   "outputs": [],
   "source": []
  },
  {
   "cell_type": "code",
   "execution_count": null,
   "metadata": {},
   "outputs": [],
   "source": []
  }
 ],
 "metadata": {
  "kernelspec": {
   "display_name": "Python 3 (ipykernel)",
   "language": "python",
   "name": "python3"
  },
  "language_info": {
   "codemirror_mode": {
    "name": "ipython",
    "version": 3
   },
   "file_extension": ".py",
   "mimetype": "text/x-python",
   "name": "python",
   "nbconvert_exporter": "python",
   "pygments_lexer": "ipython3",
   "version": "3.9.19"
  }
 },
 "nbformat": 4,
 "nbformat_minor": 4
}
