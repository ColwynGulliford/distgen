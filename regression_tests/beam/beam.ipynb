{
 "cells": [
  {
   "cell_type": "markdown",
   "metadata": {},
   "source": [
    "# Beam Class Regression Tests\n",
    "----"
   ]
  },
  {
   "cell_type": "code",
   "execution_count": 1,
   "metadata": {
    "execution": {
     "iopub.execute_input": "2022-11-18T20:43:44.147130Z",
     "iopub.status.busy": "2022-11-18T20:43:44.146630Z",
     "iopub.status.idle": "2022-11-18T20:43:44.161894Z",
     "shell.execute_reply": "2022-11-18T20:43:44.161326Z"
    }
   },
   "outputs": [],
   "source": [
    "%load_ext autoreload\n",
    "%autoreload 2"
   ]
  },
  {
   "cell_type": "code",
   "execution_count": 2,
   "metadata": {
    "execution": {
     "iopub.execute_input": "2022-11-18T20:43:44.165166Z",
     "iopub.status.busy": "2022-11-18T20:43:44.164661Z",
     "iopub.status.idle": "2022-11-18T20:43:45.942980Z",
     "shell.execute_reply": "2022-11-18T20:43:45.942298Z"
    }
   },
   "outputs": [],
   "source": [
    "import numpy as np\n",
    "from distgen import Generator\n",
    "from distgen.physical_constants import MC2"
   ]
  },
  {
   "cell_type": "code",
   "execution_count": 3,
   "metadata": {
    "execution": {
     "iopub.execute_input": "2022-11-18T20:43:45.946668Z",
     "iopub.status.busy": "2022-11-18T20:43:45.946103Z",
     "iopub.status.idle": "2022-11-18T20:43:47.339759Z",
     "shell.execute_reply": "2022-11-18T20:43:47.338959Z"
    }
   },
   "outputs": [],
   "source": [
    "input_file = \"../examples/data/rad.gaussian.in.json\"\n",
    "gen = Generator(input_file,verbose=0)\n",
    "beam = gen.beam()\n",
    "\n",
    "coordinates = {'x', 'y', 'z', 'px', 'py', 'pz', \n",
    "               'r', 'theta', 'pr', 'ptheta', \n",
    "               'xp', 'yp', 'thetax', 'thetay',\n",
    "               'gamma', 'energy', 'kinetic_energy', \n",
    "               'beta_x', 'beta_y', 'beta_z'}"
   ]
  },
  {
   "cell_type": "markdown",
   "metadata": {},
   "source": [
    "# Statistical Tests\n",
    "\n",
    "$\\sum_i w_i = 1$"
   ]
  },
  {
   "cell_type": "code",
   "execution_count": 4,
   "metadata": {
    "execution": {
     "iopub.execute_input": "2022-11-18T20:43:47.344074Z",
     "iopub.status.busy": "2022-11-18T20:43:47.343571Z",
     "iopub.status.idle": "2022-11-18T20:43:47.358718Z",
     "shell.execute_reply": "2022-11-18T20:43:47.358148Z"
    }
   },
   "outputs": [],
   "source": [
    "assert np.abs(np.sum(beam['w'])-1)<1e14, 'Beam weights not normalized'"
   ]
  },
  {
   "cell_type": "markdown",
   "metadata": {},
   "source": [
    "$\\langle \\mathcal{O}\\rangle = \\sum_i w_i \\mathcal{O}_i$"
   ]
  },
  {
   "cell_type": "code",
   "execution_count": 5,
   "metadata": {
    "execution": {
     "iopub.execute_input": "2022-11-18T20:43:47.361872Z",
     "iopub.status.busy": "2022-11-18T20:43:47.361366Z",
     "iopub.status.idle": "2022-11-18T20:43:48.155908Z",
     "shell.execute_reply": "2022-11-18T20:43:48.155226Z"
    }
   },
   "outputs": [],
   "source": [
    "for var in coordinates:\n",
    "    assert np.abs(beam.avg(var) - np.sum(beam['w']*beam[var])).magnitude<1e-14, f'<{var}> is not correct'"
   ]
  },
  {
   "cell_type": "markdown",
   "metadata": {},
   "source": [
    "$\\sigma_{\\mathcal{O}}^2 = \\sum_i w_i (\\mathcal{O}_i-\\langle \\mathcal{O}\\rangle)^2 $ "
   ]
  },
  {
   "cell_type": "code",
   "execution_count": 6,
   "metadata": {
    "execution": {
     "iopub.execute_input": "2022-11-18T20:43:48.159849Z",
     "iopub.status.busy": "2022-11-18T20:43:48.159381Z",
     "iopub.status.idle": "2022-11-18T20:43:49.360779Z",
     "shell.execute_reply": "2022-11-18T20:43:49.360122Z"
    }
   },
   "outputs": [],
   "source": [
    "for var in coordinates:\n",
    "    assert np.abs(beam.std(var)**2 - np.sum(beam['w']*(beam[var]-beam.avg(var))**2)).magnitude<5e-10, f'<{var}> is not correct'"
   ]
  },
  {
   "cell_type": "markdown",
   "metadata": {},
   "source": [
    "# Cylindrical Coordinates\n",
    "---\n",
    "# Getting"
   ]
  },
  {
   "cell_type": "markdown",
   "metadata": {},
   "source": [
    "$r=\\sqrt{ x^2 + y^2 }$"
   ]
  },
  {
   "cell_type": "code",
   "execution_count": 7,
   "metadata": {
    "execution": {
     "iopub.execute_input": "2022-11-18T20:43:49.364945Z",
     "iopub.status.busy": "2022-11-18T20:43:49.364372Z",
     "iopub.status.idle": "2022-11-18T20:43:49.393112Z",
     "shell.execute_reply": "2022-11-18T20:43:49.391929Z"
    }
   },
   "outputs": [],
   "source": [
    "deviation =  np.abs(beam['r'] - np.sqrt(beam['x']**2 + beam['y']**2))\n",
    "assert max(deviation.magnitude)<1e-14, 'Radial coordinate incorrect'"
   ]
  },
  {
   "cell_type": "markdown",
   "metadata": {},
   "source": [
    "$x=r\\cos\\theta$"
   ]
  },
  {
   "cell_type": "code",
   "execution_count": 8,
   "metadata": {
    "execution": {
     "iopub.execute_input": "2022-11-18T20:43:49.396636Z",
     "iopub.status.busy": "2022-11-18T20:43:49.396288Z",
     "iopub.status.idle": "2022-11-18T20:43:49.427679Z",
     "shell.execute_reply": "2022-11-18T20:43:49.427114Z"
    }
   },
   "outputs": [],
   "source": [
    "deviation = np.abs(beam['x'] - beam['r']*np.cos(beam['theta']))\n",
    "assert max(deviation.magnitude)<1e-14, 'x coordinate incorrect'"
   ]
  },
  {
   "cell_type": "markdown",
   "metadata": {},
   "source": [
    "$y = r\\sin\\theta$ "
   ]
  },
  {
   "cell_type": "code",
   "execution_count": 9,
   "metadata": {
    "execution": {
     "iopub.execute_input": "2022-11-18T20:43:49.431374Z",
     "iopub.status.busy": "2022-11-18T20:43:49.431161Z",
     "iopub.status.idle": "2022-11-18T20:43:49.462163Z",
     "shell.execute_reply": "2022-11-18T20:43:49.461575Z"
    }
   },
   "outputs": [],
   "source": [
    "deviation = np.abs(beam['x'] - beam['r']*np.cos(beam['theta']))\n",
    "assert max(deviation.magnitude)<5e-13, 'y coordinate incorrect'"
   ]
  },
  {
   "cell_type": "markdown",
   "metadata": {},
   "source": [
    "$p_r = p_x\\cos\\theta - p_y\\sin\\theta$"
   ]
  },
  {
   "cell_type": "code",
   "execution_count": 10,
   "metadata": {
    "execution": {
     "iopub.execute_input": "2022-11-18T20:43:49.465639Z",
     "iopub.status.busy": "2022-11-18T20:43:49.465425Z",
     "iopub.status.idle": "2022-11-18T20:43:49.509701Z",
     "shell.execute_reply": "2022-11-18T20:43:49.509093Z"
    }
   },
   "outputs": [],
   "source": [
    "deviation = np.abs(beam['pr'] - beam['px']*np.cos(beam['theta']) - beam['py']*np.sin(beam['theta']))\n",
    "assert max(deviation.magnitude)<5e-13, 'pr coordinate incorrect'"
   ]
  },
  {
   "cell_type": "markdown",
   "metadata": {},
   "source": [
    "$p_{\\theta} = -p_x\\cos\\theta + p_y\\sin\\theta$"
   ]
  },
  {
   "cell_type": "code",
   "execution_count": 11,
   "metadata": {
    "execution": {
     "iopub.execute_input": "2022-11-18T20:43:49.513059Z",
     "iopub.status.busy": "2022-11-18T20:43:49.512845Z",
     "iopub.status.idle": "2022-11-18T20:43:49.556997Z",
     "shell.execute_reply": "2022-11-18T20:43:49.556376Z"
    }
   },
   "outputs": [],
   "source": [
    "deviation = np.abs(beam['ptheta'] + beam['px']*np.sin(beam['theta']) - beam['py']*np.cos(beam['theta']))\n",
    "assert max(deviation.magnitude)<5e-13, 'ptheta coordinate incorrect'"
   ]
  },
  {
   "cell_type": "markdown",
   "metadata": {},
   "source": [
    "# Transverse Derivatives and Angles\n",
    "---"
   ]
  },
  {
   "cell_type": "markdown",
   "metadata": {},
   "source": [
    "# Getting"
   ]
  },
  {
   "cell_type": "markdown",
   "metadata": {},
   "source": [
    "$x^{\\prime} = p_x/p_z$"
   ]
  },
  {
   "cell_type": "code",
   "execution_count": 12,
   "metadata": {
    "execution": {
     "iopub.execute_input": "2022-11-18T20:43:49.560779Z",
     "iopub.status.busy": "2022-11-18T20:43:49.560555Z",
     "iopub.status.idle": "2022-11-18T20:43:49.587700Z",
     "shell.execute_reply": "2022-11-18T20:43:49.586693Z"
    }
   },
   "outputs": [],
   "source": [
    "deviation = np.abs(beam['xp'] - beam['px'].to(beam['pz'].units)/beam['pz'])\n",
    "assert max(deviation.magnitude)<1e-14, 'xp coordinate incorrect'"
   ]
  },
  {
   "cell_type": "markdown",
   "metadata": {},
   "source": [
    "$y^{\\prime} = p_y/p_z$"
   ]
  },
  {
   "cell_type": "code",
   "execution_count": 13,
   "metadata": {
    "execution": {
     "iopub.execute_input": "2022-11-18T20:43:49.591446Z",
     "iopub.status.busy": "2022-11-18T20:43:49.591230Z",
     "iopub.status.idle": "2022-11-18T20:43:49.617647Z",
     "shell.execute_reply": "2022-11-18T20:43:49.616996Z"
    }
   },
   "outputs": [],
   "source": [
    "deviation = np.abs(beam['yp'] - beam['py'].to(beam['py'].units)/beam['pz'])\n",
    "assert max(deviation.magnitude)<1e-14, 'yp coordinate incorrect'"
   ]
  },
  {
   "cell_type": "markdown",
   "metadata": {},
   "source": [
    "$\\theta_x = \\arctan(p_x/p_z)$"
   ]
  },
  {
   "cell_type": "code",
   "execution_count": 14,
   "metadata": {
    "execution": {
     "iopub.execute_input": "2022-11-18T20:43:49.620747Z",
     "iopub.status.busy": "2022-11-18T20:43:49.620533Z",
     "iopub.status.idle": "2022-11-18T20:43:49.651870Z",
     "shell.execute_reply": "2022-11-18T20:43:49.651292Z"
    }
   },
   "outputs": [],
   "source": [
    "deviation = np.abs(beam['thetax'] - np.arctan(beam['px'].to(beam['px'].units)/beam['pz']))\n",
    "assert max(deviation.magnitude)<1e-14, f'thetax coordinate deviation = {max(deviation)}'"
   ]
  },
  {
   "cell_type": "markdown",
   "metadata": {},
   "source": [
    "$\\theta_y = \\arctan(p_y/p_z)$"
   ]
  },
  {
   "cell_type": "code",
   "execution_count": 15,
   "metadata": {
    "execution": {
     "iopub.execute_input": "2022-11-18T20:43:49.655405Z",
     "iopub.status.busy": "2022-11-18T20:43:49.655187Z",
     "iopub.status.idle": "2022-11-18T20:43:49.686228Z",
     "shell.execute_reply": "2022-11-18T20:43:49.685596Z"
    }
   },
   "outputs": [],
   "source": [
    "deviation = np.abs(beam['thetay'] - np.arctan(beam['py'].to(beam['py'].units)/beam['pz']))\n",
    "assert max(deviation.magnitude)<1e-14, 'thetay coordinate incorrect'"
   ]
  },
  {
   "cell_type": "markdown",
   "metadata": {},
   "source": [
    "# Relativistic Quantities\n",
    "---\n",
    "$p=\\sqrt{p_x^2 + p_y^2 + p_z^2}$"
   ]
  },
  {
   "cell_type": "code",
   "execution_count": 16,
   "metadata": {
    "execution": {
     "iopub.execute_input": "2022-11-18T20:43:49.689770Z",
     "iopub.status.busy": "2022-11-18T20:43:49.689545Z",
     "iopub.status.idle": "2022-11-18T20:43:49.719613Z",
     "shell.execute_reply": "2022-11-18T20:43:49.718665Z"
    }
   },
   "outputs": [],
   "source": [
    "deviation = np.abs(beam['p'] - np.sqrt(beam['px']**2 +beam['py']**2 + beam['pz']**2))\n",
    "assert max(deviation.magnitude)<1e-14, 'thetay coordinate incorrect'"
   ]
  },
  {
   "cell_type": "markdown",
   "metadata": {},
   "source": [
    "$\\gamma = \\sqrt{1+\\left(\\frac{p}{mc}\\right)^2}$"
   ]
  },
  {
   "cell_type": "code",
   "execution_count": 17,
   "metadata": {
    "execution": {
     "iopub.execute_input": "2022-11-18T20:43:49.722927Z",
     "iopub.status.busy": "2022-11-18T20:43:49.722709Z",
     "iopub.status.idle": "2022-11-18T20:43:49.808292Z",
     "shell.execute_reply": "2022-11-18T20:43:49.807621Z"
    }
   },
   "outputs": [],
   "source": [
    "deviation = np.abs( beam['gamma'] - np.sqrt(1+ (beam['p'].to('eV/c').magnitude/MC2.magnitude)**2) )\n",
    "assert max(deviation.magnitude)<1e-13, 'gamma coordinate incorrect'"
   ]
  },
  {
   "cell_type": "markdown",
   "metadata": {},
   "source": [
    "$\\beta_{x_i} = p_{x_i}/\\gamma$"
   ]
  },
  {
   "cell_type": "code",
   "execution_count": 18,
   "metadata": {
    "execution": {
     "iopub.execute_input": "2022-11-18T20:43:49.812409Z",
     "iopub.status.busy": "2022-11-18T20:43:49.812181Z",
     "iopub.status.idle": "2022-11-18T20:43:50.212082Z",
     "shell.execute_reply": "2022-11-18T20:43:50.211413Z"
    }
   },
   "outputs": [],
   "source": [
    "for var in ['x', 'y', 'z']:\n",
    "    deviation = np.abs( beam[f'beta_{var}'] - beam[f'p{var}'].to('GB')/beam['gamma'])  \n",
    "    assert max(deviation.magnitude)<1e-14, f'beta_{var} coordinate incorrect'"
   ]
  },
  {
   "cell_type": "markdown",
   "metadata": {},
   "source": [
    "KE = $mc^2(\\gamma-1)$"
   ]
  },
  {
   "cell_type": "code",
   "execution_count": 19,
   "metadata": {
    "execution": {
     "iopub.execute_input": "2022-11-18T20:43:50.215893Z",
     "iopub.status.busy": "2022-11-18T20:43:50.215664Z",
     "iopub.status.idle": "2022-11-18T20:43:50.357785Z",
     "shell.execute_reply": "2022-11-18T20:43:50.357014Z"
    }
   },
   "outputs": [],
   "source": [
    "deviation = np.abs( beam['kinetic_energy'] - MC2*(beam['gamma']-1) ) \n",
    "assert max(deviation.magnitude)<1e-14, 'KE coordinate incorrect'"
   ]
  },
  {
   "cell_type": "markdown",
   "metadata": {},
   "source": [
    "E = $mc^2\\gamma$"
   ]
  },
  {
   "cell_type": "code",
   "execution_count": 20,
   "metadata": {
    "execution": {
     "iopub.execute_input": "2022-11-18T20:43:50.361456Z",
     "iopub.status.busy": "2022-11-18T20:43:50.361213Z",
     "iopub.status.idle": "2022-11-18T20:43:50.502913Z",
     "shell.execute_reply": "2022-11-18T20:43:50.501783Z"
    }
   },
   "outputs": [],
   "source": [
    "deviation = np.abs( beam['energy'] - MC2*(beam['gamma']) ) \n",
    "assert max(deviation.magnitude)<1e-14, 'E coordinate incorrect'"
   ]
  },
  {
   "cell_type": "markdown",
   "metadata": {},
   "source": [
    "# Twiss Parameters\n",
    "---\n",
    "# Getting\n",
    "\n",
    "$\\epsilon_{n,x_i} = \\frac{1}{mc}\\sqrt{\\sigma_{x_i}^2\\sigma_{p_{x_i}}^2 - \\langle \\left(x_i-\\langle x_i\\rangle\\right)\\left(p_{x_i}-\\langle p_{x_i}\\rangle\\right)\\rangle^2 }$"
   ]
  },
  {
   "cell_type": "code",
   "execution_count": 21,
   "metadata": {
    "execution": {
     "iopub.execute_input": "2022-11-18T20:43:50.506646Z",
     "iopub.status.busy": "2022-11-18T20:43:50.506421Z",
     "iopub.status.idle": "2022-11-18T20:43:50.985927Z",
     "shell.execute_reply": "2022-11-18T20:43:50.985187Z"
    }
   },
   "outputs": [],
   "source": [
    "for var in ['x', 'y']:\n",
    "    stdx = beam.std(var)\n",
    "    stdp = (beam.std(f'p{var}').to('GB')).magnitude\n",
    "    dx = beam[var]-beam.avg(var)\n",
    "    dp = (beam[f'p{var}']-beam.avg(f'p{var}')).to('GB').magnitude\n",
    "    \n",
    "    deviation = np.abs(beam.emitt(var) - np.sqrt(stdx**2 * stdp**2 - (np.sum(beam['w']*dx*dp))**2 ))\n",
    "    assert deviation.magnitude < 1e-14"
   ]
  },
  {
   "cell_type": "markdown",
   "metadata": {},
   "source": [
    "$\\epsilon_{x} = \\sqrt{\\sigma_x^2\\sigma_{x^{\\prime}}^2 - \\langle \\left(x-\\langle x\\rangle\\right)\\left(x^{\\prime}-\\langle x^{\\prime}\\rangle\\right)\\rangle^2 }$"
   ]
  },
  {
   "cell_type": "code",
   "execution_count": 22,
   "metadata": {
    "execution": {
     "iopub.execute_input": "2022-11-18T20:43:50.989791Z",
     "iopub.status.busy": "2022-11-18T20:43:50.989558Z",
     "iopub.status.idle": "2022-11-18T20:43:51.469164Z",
     "shell.execute_reply": "2022-11-18T20:43:51.468471Z"
    }
   },
   "outputs": [],
   "source": [
    "for var in ['x', 'y']:\n",
    "    stdx = beam.std(var)\n",
    "    stdp = (beam.std(f'{var}p')).magnitude\n",
    "    dx = beam[var]-beam.avg(var)\n",
    "    dp = (beam[f'{var}p']-beam.avg(f'{var}p')).magnitude\n",
    "    \n",
    "    deviation = np.abs(beam.emitt(var,'geometric') - np.sqrt(stdx**2 * stdp**2 - (np.sum(beam['w']*dx*dp))**2 ))\n",
    "    assert deviation.magnitude < 1e-14"
   ]
  },
  {
   "cell_type": "markdown",
   "metadata": {},
   "source": [
    "Twiss $\\beta_{x_i} = \\frac{\\sigma_x^2}{\\epsilon_x}$"
   ]
  },
  {
   "cell_type": "code",
   "execution_count": 23,
   "metadata": {
    "execution": {
     "iopub.execute_input": "2022-11-18T20:43:51.472931Z",
     "iopub.status.busy": "2022-11-18T20:43:51.472700Z",
     "iopub.status.idle": "2022-11-18T20:43:52.395412Z",
     "shell.execute_reply": "2022-11-18T20:43:52.394731Z"
    }
   },
   "outputs": [],
   "source": [
    "for var in ['x', 'y']:\n",
    "    stdx = beam.std(var)\n",
    "    epsx = beam.emitt(var,'geometric')\n",
    "\n",
    "    deviation = np.abs( beam.Beta(var) - stdx**2/epsx )\n",
    "    assert deviation.magnitude < 1e-14"
   ]
  },
  {
   "cell_type": "markdown",
   "metadata": {},
   "source": [
    "Twiss $\\alpha_{x_i} = -\\frac{\\langle(x-\\langle x\\rangle)(x^{\\prime}-\\langle x^{\\prime}\\rangle)\\rangle}{\\epsilon_x}$"
   ]
  },
  {
   "cell_type": "code",
   "execution_count": 24,
   "metadata": {
    "execution": {
     "iopub.execute_input": "2022-11-18T20:43:52.399218Z",
     "iopub.status.busy": "2022-11-18T20:43:52.398990Z",
     "iopub.status.idle": "2022-11-18T20:43:59.575998Z",
     "shell.execute_reply": "2022-11-18T20:43:59.575216Z"
    }
   },
   "outputs": [],
   "source": [
    "for var in ['x', 'y']:\n",
    "    dx = beam[var]-beam.avg(var)\n",
    "    dp = (beam[f'{var}p']-beam.avg(f'{var}p'))\n",
    "    epsx = beam.emitt(var,'geometric')\n",
    "    deviation = np.abs( beam.Alpha(var) + sum(beam['w']*dx*dp)/epsx )\n",
    "    assert deviation.magnitude < 1e-15"
   ]
  },
  {
   "cell_type": "markdown",
   "metadata": {},
   "source": [
    "Twiss $\\gamma_{x_i} = \\frac{\\sigma_{x^{\\prime}}^2}{\\epsilon_x}$"
   ]
  },
  {
   "cell_type": "code",
   "execution_count": 25,
   "metadata": {
    "execution": {
     "iopub.execute_input": "2022-11-18T20:43:59.579815Z",
     "iopub.status.busy": "2022-11-18T20:43:59.579580Z",
     "iopub.status.idle": "2022-11-18T20:44:00.505591Z",
     "shell.execute_reply": "2022-11-18T20:44:00.504879Z"
    }
   },
   "outputs": [],
   "source": [
    "for var in ['x', 'y']:\n",
    "    stdp = beam.std(f'{var}p')\n",
    "    epsx = beam.emitt(var,'geometric')\n",
    "    deviation = np.abs( beam.Gamma(var) - stdp**2/epsx )\n",
    "    assert deviation.magnitude < 5e-15"
   ]
  }
 ],
 "metadata": {
  "kernelspec": {
   "display_name": "Python 3.10.7 64-bit",
   "language": "python",
   "name": "python3"
  },
  "language_info": {
   "codemirror_mode": {
    "name": "ipython",
    "version": 3
   },
   "file_extension": ".py",
   "mimetype": "text/x-python",
   "name": "python",
   "nbconvert_exporter": "python",
   "pygments_lexer": "ipython3",
   "version": "3.9.13"
  }
 },
 "nbformat": 4,
 "nbformat_minor": 4
}
