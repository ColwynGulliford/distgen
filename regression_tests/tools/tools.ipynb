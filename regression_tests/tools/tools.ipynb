{
 "cells": [
  {
   "cell_type": "code",
   "execution_count": 1,
   "id": "e5bd2761-fbb2-40e3-8081-22fa8be1ac40",
   "metadata": {
    "execution": {
     "iopub.execute_input": "2024-03-12T18:50:00.832516Z",
     "iopub.status.busy": "2024-03-12T18:50:00.832094Z",
     "iopub.status.idle": "2024-03-12T18:50:01.962166Z",
     "shell.execute_reply": "2024-03-12T18:50:01.961567Z"
    }
   },
   "outputs": [],
   "source": [
    "from distgen.tools import full_path\n",
    "\n",
    "import os\n",
    "\n",
    "def test_full_path(path):\n",
    "\n",
    "    os.environ['DISTGEN_EXAMPLES'] = os.path.abspath('../examples')\n",
    "    assert full_path(path) == os.environ['DISTGEN_EXAMPLES']\n",
    "\n",
    "test_full_path('$DISTGEN_EXAMPLES')\n",
    "test_full_path('../examples')"
   ]
  },
  {
   "cell_type": "code",
   "execution_count": 2,
   "id": "4c15dc4c-7f21-453f-87fb-d4ee9c8b6344",
   "metadata": {
    "execution": {
     "iopub.execute_input": "2024-03-12T18:50:01.965169Z",
     "iopub.status.busy": "2024-03-12T18:50:01.964671Z",
     "iopub.status.idle": "2024-03-12T18:50:01.967787Z",
     "shell.execute_reply": "2024-03-12T18:50:01.967266Z"
    }
   },
   "outputs": [],
   "source": [
    "from distgen.tools import is_floatable \n",
    "\n",
    "def test_is_floatable():\n",
    "\n",
    "    assert not is_floatable('no')\n",
    "    assert is_floatable('5')\n",
    "    assert is_floatable('234.4')\n",
    "\n",
    "test_is_floatable()"
   ]
  },
  {
   "cell_type": "code",
   "execution_count": null,
   "id": "2030a879-4559-43d6-9feb-c53393a40205",
   "metadata": {},
   "outputs": [],
   "source": []
  }
 ],
 "metadata": {
  "kernelspec": {
   "display_name": "Python 3 (ipykernel)",
   "language": "python",
   "name": "python3"
  },
  "language_info": {
   "codemirror_mode": {
    "name": "ipython",
    "version": 3
   },
   "file_extension": ".py",
   "mimetype": "text/x-python",
   "name": "python",
   "nbconvert_exporter": "python",
   "pygments_lexer": "ipython3",
   "version": "3.9.18"
  }
 },
 "nbformat": 4,
 "nbformat_minor": 5
}
