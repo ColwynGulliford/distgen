{
 "cells": [
  {
   "cell_type": "code",
   "execution_count": 1,
   "id": "e5bd2761-fbb2-40e3-8081-22fa8be1ac40",
   "metadata": {
    "execution": {
     "iopub.execute_input": "2024-08-22T01:26:18.802983Z",
     "iopub.status.busy": "2024-08-22T01:26:18.802797Z",
     "iopub.status.idle": "2024-08-22T01:26:20.112194Z",
     "shell.execute_reply": "2024-08-22T01:26:20.111502Z"
    }
   },
   "outputs": [],
   "source": [
    "from distgen.tools import full_path\n",
    "\n",
    "import os\n",
    "\n",
    "def test_full_path(path):\n",
    "\n",
    "    os.environ['DISTGEN_EXAMPLES'] = os.path.abspath('../examples')\n",
    "    assert full_path(path) == os.environ['DISTGEN_EXAMPLES']\n",
    "\n",
    "test_full_path('$DISTGEN_EXAMPLES')\n",
    "test_full_path('../examples')"
   ]
  },
  {
   "cell_type": "code",
   "execution_count": null,
   "id": "4c15dc4c-7f21-453f-87fb-d4ee9c8b6344",
   "metadata": {},
   "outputs": [],
   "source": []
  },
  {
   "cell_type": "code",
   "execution_count": null,
   "id": "2030a879-4559-43d6-9feb-c53393a40205",
   "metadata": {},
   "outputs": [],
   "source": []
  }
 ],
 "metadata": {
  "kernelspec": {
   "display_name": "Python 3 (ipykernel)",
   "language": "python",
   "name": "python3"
  },
  "language_info": {
   "codemirror_mode": {
    "name": "ipython",
    "version": 3
   },
   "file_extension": ".py",
   "mimetype": "text/x-python",
   "name": "python",
   "nbconvert_exporter": "python",
   "pygments_lexer": "ipython3",
   "version": "3.9.19"
  }
 },
 "nbformat": 4,
 "nbformat_minor": 5
}
