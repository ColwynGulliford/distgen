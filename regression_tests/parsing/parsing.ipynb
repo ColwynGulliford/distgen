{
 "cells": [
  {
   "cell_type": "code",
   "execution_count": 1,
   "id": "1097d312-f8c0-454b-8d35-22a97a254964",
   "metadata": {
    "execution": {
     "iopub.execute_input": "2024-03-12T18:49:36.682891Z",
     "iopub.status.busy": "2024-03-12T18:49:36.682719Z",
     "iopub.status.idle": "2024-03-12T18:49:36.698701Z",
     "shell.execute_reply": "2024-03-12T18:49:36.698252Z"
    }
   },
   "outputs": [],
   "source": [
    "%load_ext autoreload\n",
    "%autoreload 2\n",
    "%config InlineBackend.figure_format = 'retina'"
   ]
  },
  {
   "cell_type": "code",
   "execution_count": 2,
   "id": "bc8c6990-3620-4502-8508-31074d9ec41d",
   "metadata": {
    "execution": {
     "iopub.execute_input": "2024-03-12T18:49:36.701168Z",
     "iopub.status.busy": "2024-03-12T18:49:36.700737Z",
     "iopub.status.idle": "2024-03-12T18:49:37.857006Z",
     "shell.execute_reply": "2024-03-12T18:49:37.856357Z"
    }
   },
   "outputs": [],
   "source": [
    "from distgen.parsing import is_floatable\n",
    "\n",
    "def test_isfloatable():\n",
    "\n",
    "    assert not is_floatable('foobar') \n",
    "    assert not is_floatable([]) \n",
    "    assert not is_floatable({}) \n",
    "\n",
    "    assert is_floatable(1) \n",
    "    assert is_floatable('1234')\n",
    "    assert is_floatable(12350.0)\n",
    "\n",
    "test_isfloatable()"
   ]
  },
  {
   "cell_type": "code",
   "execution_count": 3,
   "id": "08d2e02e-104a-48f8-9877-d350ce6bcda2",
   "metadata": {
    "execution": {
     "iopub.execute_input": "2024-03-12T18:49:37.860068Z",
     "iopub.status.busy": "2024-03-12T18:49:37.859551Z",
     "iopub.status.idle": "2024-03-12T18:49:37.875536Z",
     "shell.execute_reply": "2024-03-12T18:49:37.874953Z"
    }
   },
   "outputs": [],
   "source": [
    "from distgen.parsing import is_unit\n",
    "from distgen.physical_constants import unit_registry\n",
    "\n",
    "def test_is_unit():\n",
    "\n",
    "    # Strings with a value and unit return False\n",
    "    assert not is_unit('2 ps')   \n",
    "    assert not is_unit('1 ps')\n",
    "    assert not is_unit('1.0 ps')\n",
    "\n",
    "    # Strings with known units work, as will an actual Pint unit object\n",
    "    assert is_unit('ps')\n",
    "    assert is_unit(unit_registry.Unit('ps'))\n",
    "\n",
    "test_is_unit()"
   ]
  },
  {
   "cell_type": "code",
   "execution_count": 4,
   "id": "4d410185-bd81-4ff7-b2d7-38b9937de7c6",
   "metadata": {
    "execution": {
     "iopub.execute_input": "2024-03-12T18:49:37.878006Z",
     "iopub.status.busy": "2024-03-12T18:49:37.877674Z",
     "iopub.status.idle": "2024-03-12T18:49:37.893476Z",
     "shell.execute_reply": "2024-03-12T18:49:37.892853Z"
    }
   },
   "outputs": [],
   "source": [
    "from distgen.parsing import is_quantizable\n",
    "\n",
    "def test_is_quantizable():\n",
    "\n",
    "    assert not is_quantizable(10.0)\n",
    "    assert not is_quantizable('10.0')\n",
    "    assert not is_quantizable({'value': 120.1})\n",
    "    assert not is_quantizable({'units': 120.1})\n",
    "\n",
    "    Q_ = unit_registry.Quantity\n",
    "    assert is_quantizable(Q_(10, 'ps'))\n",
    "    assert is_quantizable('10 ps')\n",
    "    assert is_quantizable({'value': 120.1, 'units':'mm'})\n",
    "\n",
    "test_is_quantizable()"
   ]
  },
  {
   "cell_type": "code",
   "execution_count": 5,
   "id": "1e58a66f-a21a-4de3-8047-4ab999c257e3",
   "metadata": {
    "execution": {
     "iopub.execute_input": "2024-03-12T18:49:37.896529Z",
     "iopub.status.busy": "2024-03-12T18:49:37.895942Z",
     "iopub.status.idle": "2024-03-12T18:49:37.911053Z",
     "shell.execute_reply": "2024-03-12T18:49:37.910578Z"
    }
   },
   "outputs": [],
   "source": [
    "from distgen.parsing import dict_to_quantity\n",
    "\n",
    "def test_dict_to_quantity():\n",
    "\n",
    "    q1 = dict_to_quantity({'value': 102.1, 'units': 'eV'})\n",
    "    q2 = unit_registry.Quantity(102.1, 'eV')\n",
    "\n",
    "    assert q1==q2\n",
    "\n",
    "test_dict_to_quantity()"
   ]
  },
  {
   "cell_type": "code",
   "execution_count": 6,
   "id": "b3407b66-a78e-4b05-a9e7-aaf374b3cedb",
   "metadata": {
    "execution": {
     "iopub.execute_input": "2024-03-12T18:49:37.913622Z",
     "iopub.status.busy": "2024-03-12T18:49:37.913241Z",
     "iopub.status.idle": "2024-03-12T18:49:37.928790Z",
     "shell.execute_reply": "2024-03-12T18:49:37.928321Z"
    }
   },
   "outputs": [],
   "source": [
    "from distgen.parsing import parse_quantity\n",
    "\n",
    "def test_parse_quantity():\n",
    "\n",
    "    q1 = unit_registry.Quantity(102.1, 'eV')\n",
    "    q2 = parse_quantity('102.1 eV')\n",
    "    q3 = parse_quantity({'value': 102.1, 'units': 'eV'})\n",
    "\n",
    "    assert q1 == q2\n",
    "    assert q2 == q3\n",
    "    \n",
    "test_parse_quantity()"
   ]
  },
  {
   "cell_type": "code",
   "execution_count": 7,
   "id": "7503138b-fa5d-4f80-9a3c-ae0bdfb88996",
   "metadata": {
    "execution": {
     "iopub.execute_input": "2024-03-12T18:49:37.931315Z",
     "iopub.status.busy": "2024-03-12T18:49:37.930919Z",
     "iopub.status.idle": "2024-03-12T18:49:37.947826Z",
     "shell.execute_reply": "2024-03-12T18:49:37.947347Z"
    }
   },
   "outputs": [],
   "source": [
    "from distgen.parsing import update_quantity\n",
    "from pint import DimensionalityError\n",
    "\n",
    "def test_update_quantity():\n",
    "\n",
    "    qi = unit_registry.Quantity(102.1, 'eV')\n",
    "\n",
    "    try: \n",
    "        update_quantity(qi, '10 ps')\n",
    "        \n",
    "    except Exception as ex:\n",
    "        \n",
    "        if(not isinstance(ex, DimensionalityError)):\n",
    "            raise ValueError(\"Didn't catch dimensionality error\")\n",
    "\n",
    "    assert update_quantity(qi, 10) == unit_registry.Quantity(10, 'eV')\n",
    "    assert update_quantity(qi, '10 eV') == unit_registry.Quantity(10, 'eV')\n",
    "    assert update_quantity(qi, {'value':10, 'units':'eV'}) == unit_registry.Quantity(10, 'eV')\n",
    "\n",
    "test_update_quantity()"
   ]
  },
  {
   "cell_type": "code",
   "execution_count": 8,
   "id": "4f011218-7506-4899-9a73-cc5af444907a",
   "metadata": {
    "execution": {
     "iopub.execute_input": "2024-03-12T18:49:37.950250Z",
     "iopub.status.busy": "2024-03-12T18:49:37.949875Z",
     "iopub.status.idle": "2024-03-12T18:49:37.967872Z",
     "shell.execute_reply": "2024-03-12T18:49:37.967396Z"
    }
   },
   "outputs": [],
   "source": [
    "from distgen.parsing import update_quantity_in_dict\n",
    "from pint import DimensionalityError\n",
    "\n",
    "def test_update_quantity_in_dict():\n",
    "\n",
    "    d = {'x':unit_registry.Quantity('10 ps')}\n",
    "    d2 = {'x':unit_registry.Quantity('12 ps')}\n",
    "\n",
    "    try: \n",
    "        update_quantity_in_dict('x', d, '10 mm')\n",
    "        \n",
    "    except Exception as ex:\n",
    "        \n",
    "        if(not isinstance(ex, DimensionalityError)):\n",
    "            raise ValueError(\"Didn't catch dimensionality error\")\n",
    "    \n",
    "    update_quantity_in_dict('x', d ,'12 ps')\n",
    "    assert d=={'x':unit_registry.Quantity('12 ps')}\n",
    "\n",
    "    update_quantity_in_dict('x', d , 13)\n",
    "    assert d=={'x':unit_registry.Quantity('13 ps')}\n",
    "\n",
    "    update_quantity_in_dict('x', d , unit_registry.Quantity('14 ps'))\n",
    "    assert d=={'x':unit_registry.Quantity('14 ps')}\n",
    "\n",
    "    update_quantity_in_dict('x', d, {'value':15, 'units':'ps'})\n",
    "\n",
    "test_update_quantity_in_dict()"
   ]
  },
  {
   "cell_type": "code",
   "execution_count": 9,
   "id": "bb1d7210-f2e9-4f51-b774-4db834eb6209",
   "metadata": {
    "execution": {
     "iopub.execute_input": "2024-03-12T18:49:37.970386Z",
     "iopub.status.busy": "2024-03-12T18:49:37.970016Z",
     "iopub.status.idle": "2024-03-12T18:49:37.984951Z",
     "shell.execute_reply": "2024-03-12T18:49:37.984496Z"
    }
   },
   "outputs": [],
   "source": [
    "from distgen.parsing import list_to_dict\n",
    "\n",
    "def test_list_to_dict():\n",
    "    l = ['x', unit_registry.Quantity(10, 's'), 10]\n",
    "    d = list_to_dict(l)\n",
    "    assert d == {0:'x', 1:unit_registry.Quantity(10, 's'), 2:10}\n",
    "\n",
    "test_list_to_dict()"
   ]
  },
  {
   "cell_type": "code",
   "execution_count": 10,
   "id": "248f8030-1ecc-48d1-99f5-13c6ddcb5b2c",
   "metadata": {
    "execution": {
     "iopub.execute_input": "2024-03-12T18:49:37.987067Z",
     "iopub.status.busy": "2024-03-12T18:49:37.986894Z",
     "iopub.status.idle": "2024-03-12T18:49:38.001982Z",
     "shell.execute_reply": "2024-03-12T18:49:38.001516Z"
    }
   },
   "outputs": [],
   "source": [
    "from distgen.parsing import convert_list_quantities\n",
    "\n",
    "def test_convert_list_quantities():\n",
    "    l = ['10 ps', {'value': 12, 'units': 'ps'}]\n",
    "    convert_list_quantities(l)\n",
    "    assert l == [unit_registry.Quantity(10, 'ps'), unit_registry.Quantity(12, 'ps')]\n",
    "    \n",
    "test_convert_list_quantities()"
   ]
  },
  {
   "cell_type": "code",
   "execution_count": null,
   "id": "dbfed00e-804a-4eb7-bd3f-a3adb3ca6db9",
   "metadata": {},
   "outputs": [],
   "source": []
  }
 ],
 "metadata": {
  "kernelspec": {
   "display_name": "Python 3 (ipykernel)",
   "language": "python",
   "name": "python3"
  },
  "language_info": {
   "codemirror_mode": {
    "name": "ipython",
    "version": 3
   },
   "file_extension": ".py",
   "mimetype": "text/x-python",
   "name": "python",
   "nbconvert_exporter": "python",
   "pygments_lexer": "ipython3",
   "version": "3.9.18"
  }
 },
 "nbformat": 4,
 "nbformat_minor": 5
}
