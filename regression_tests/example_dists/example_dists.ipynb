{
 "cells": [
  {
   "cell_type": "code",
   "execution_count": 1,
   "id": "fc92f521-fa50-4378-a0e8-9ec8a90b6897",
   "metadata": {
    "execution": {
     "iopub.execute_input": "2024-02-07T20:51:05.579014Z",
     "iopub.status.busy": "2024-02-07T20:51:05.578835Z",
     "iopub.status.idle": "2024-02-07T20:51:06.718285Z",
     "shell.execute_reply": "2024-02-07T20:51:06.717682Z"
    }
   },
   "outputs": [],
   "source": [
    "from distgen import Generator\n",
    "import numpy as np\n",
    "from distgen.parsing import parse_quantity"
   ]
  },
  {
   "cell_type": "code",
   "execution_count": 2,
   "id": "39808d05-0a10-45a2-b9d6-65ed60f94bc8",
   "metadata": {
    "execution": {
     "iopub.execute_input": "2024-02-07T20:51:06.721135Z",
     "iopub.status.busy": "2024-02-07T20:51:06.720840Z",
     "iopub.status.idle": "2024-02-07T20:51:07.780242Z",
     "shell.execute_reply": "2024-02-07T20:51:07.779598Z"
    }
   },
   "outputs": [],
   "source": [
    "def test_uniform_rad():\n",
    "    \n",
    "    D=Generator('../examples/data/rad.uniform.in.yaml',verbose=0)\n",
    "    D['r_dist:min_r']=0\n",
    "    D.run()\n",
    "\n",
    "    max_r = D._input['r_dist']['max_r'].to('m').magnitude\n",
    "\n",
    "    assert np.isclose(D.particles['mean_x'], 0)\n",
    "    assert np.isclose(D.particles['mean_y'], 0)\n",
    "    assert np.isclose(D.particles['sigma_x'], max_r/2)\n",
    "    assert np.isclose(D.particles['sigma_y'], max_r/2)\n",
    "    assert np.isclose( max(D.particles['r']) , max_r, rtol=1e-8, atol=1e-7)\n",
    "\n",
    "    D['r_dist:min_r']=1\n",
    "    min_r = D._input['r_dist']['min_r'].to('m').magnitude\n",
    "    D.run()\n",
    "\n",
    "    assert np.isclose(D.particles['mean_x'], 0)\n",
    "    assert np.isclose(D.particles['mean_y'], 0)\n",
    "    assert np.isclose( min(D.particles['r']) , min_r, rtol=1e-8, atol=1e-7)\n",
    "    assert np.isclose( max(D.particles['r']) , max_r, rtol=1e-8, atol=1e-7)\n",
    "    \n",
    "test_uniform_rad()"
   ]
  },
  {
   "cell_type": "code",
   "execution_count": 3,
   "id": "9c6ce04e-2a7e-453e-b96a-c71ddff7572b",
   "metadata": {
    "execution": {
     "iopub.execute_input": "2024-02-07T20:51:07.782884Z",
     "iopub.status.busy": "2024-02-07T20:51:07.782693Z",
     "iopub.status.idle": "2024-02-07T20:51:09.668561Z",
     "shell.execute_reply": "2024-02-07T20:51:09.667945Z"
    }
   },
   "outputs": [],
   "source": [
    "def test_radial_gaussian():\n",
    "\n",
    "    D=Generator('../examples/data/rad.gaussian.in.yaml',verbose=0)\n",
    "    sigma_xy = D._input['r_dist']['sigma_xy'].to('m').magnitude\n",
    "    D.run()\n",
    "\n",
    "    assert np.isclose(D.particles['mean_x'], 0)\n",
    "    assert np.isclose(D.particles['mean_y'], 0)\n",
    "    assert np.isclose(sigma_xy, D.particles['sigma_x'])\n",
    "    assert np.isclose(sigma_xy, D.particles['sigma_y'])\n",
    "\n",
    "    D=Generator('../examples/data/rad.trunc.gaussian.in.yaml',verbose=0)\n",
    "    D.run()\n",
    "    \n",
    "    assert np.isclose(D.particles['mean_x'], 0)\n",
    "    assert np.isclose(D.particles['mean_y'], 0)\n",
    "\n",
    "    max_r = D._input['r_dist']['truncation_radius'].to('m').magnitude    \n",
    "    assert np.isclose(max(D.particles['r']), max_r, rtol=1e-8, atol=1e-7)\n",
    "\n",
    "test_radial_gaussian()\n"
   ]
  }
 ],
 "metadata": {
  "kernelspec": {
   "display_name": "Python 3 (ipykernel)",
   "language": "python",
   "name": "python3"
  },
  "language_info": {
   "codemirror_mode": {
    "name": "ipython",
    "version": 3
   },
   "file_extension": ".py",
   "mimetype": "text/x-python",
   "name": "python",
   "nbconvert_exporter": "python",
   "pygments_lexer": "ipython3",
   "version": "3.9.18"
  }
 },
 "nbformat": 4,
 "nbformat_minor": 5
}
