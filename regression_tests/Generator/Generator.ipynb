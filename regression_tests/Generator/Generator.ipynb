{
 "cells": [
  {
   "cell_type": "code",
   "execution_count": 1,
   "id": "002bea3e-61b6-4a07-92b9-f4a3a6e9a766",
   "metadata": {
    "execution": {
     "iopub.execute_input": "2024-03-04T20:23:31.060794Z",
     "iopub.status.busy": "2024-03-04T20:23:31.060621Z",
     "iopub.status.idle": "2024-03-04T20:23:32.178087Z",
     "shell.execute_reply": "2024-03-04T20:23:32.177486Z"
    }
   },
   "outputs": [],
   "source": [
    "from distgen import Generator"
   ]
  },
  {
   "cell_type": "code",
   "execution_count": 2,
   "id": "4d919f41-7ad8-4db3-b1e9-e1b8209b35fd",
   "metadata": {
    "execution": {
     "iopub.execute_input": "2024-03-04T20:23:32.181074Z",
     "iopub.status.busy": "2024-03-04T20:23:32.180582Z",
     "iopub.status.idle": "2024-03-04T20:23:32.187550Z",
     "shell.execute_reply": "2024-03-04T20:23:32.187072Z"
    }
   },
   "outputs": [],
   "source": [
    "def test_getitem_():\n",
    "\n",
    "    ins =\"\"\"\n",
    "n_particle: 200000\n",
    "species: electron\n",
    "r_dist:\n",
    "  sigma_xy: 1.0 mm\n",
    "  type: radial_gaussian\n",
    "random:\n",
    "  type: hammersley\n",
    "start:\n",
    "  tstart: 0 sec\n",
    "  type: time\n",
    "total_charge: 10 pC\n",
    "\"\"\"\n",
    "\n",
    "    D = Generator(ins)\n",
    "    assert D['r_dist:sigma_xy']['value']==1\n",
    "    assert D['r_dist:sigma_xy']['units']=='millimeter'\n",
    "    \n",
    "test_getitem_()"
   ]
  },
  {
   "cell_type": "code",
   "execution_count": 3,
   "id": "d2699da3-7b97-4a32-bde9-7873eba4a062",
   "metadata": {
    "execution": {
     "iopub.execute_input": "2024-03-04T20:23:32.189835Z",
     "iopub.status.busy": "2024-03-04T20:23:32.189377Z",
     "iopub.status.idle": "2024-03-04T20:23:32.197787Z",
     "shell.execute_reply": "2024-03-04T20:23:32.197335Z"
    }
   },
   "outputs": [],
   "source": [
    "def test_setitem_():\n",
    "    ins =\"\"\"\n",
    "n_particle: 200000\n",
    "species: electron\n",
    "r_dist:\n",
    "  sigma_xy: 1.0 mm\n",
    "  type: radial_gaussian\n",
    "random:\n",
    "  type: hammersley\n",
    "start:\n",
    "  tstart: 0 sec\n",
    "  type: time\n",
    "total_charge: 10 pC\n",
    "\"\"\"\n",
    "    \n",
    "    D = Generator(ins)\n",
    "    D['r_dist:sigma_xy'] = 2.0\n",
    "    \n",
    "    assert isinstance(D['r_dist:sigma_xy'], dict)\n",
    "    assert D['r_dist:sigma_xy']['value']==2\n",
    "    assert D['r_dist:sigma_xy']['units']=='millimeter'\n",
    "\n",
    "    D['r_dist:sigma_xy:units'] = 'cm'\n",
    "    assert D['r_dist:sigma_xy']['value']==2\n",
    "    assert D['r_dist:sigma_xy']['units']=='centimeter'\n",
    "\n",
    "    D['r_dist:sigma_xy:value'] = 3\n",
    "    assert D['r_dist:sigma_xy']['value']==3\n",
    "    assert D['r_dist:sigma_xy']['units']=='centimeter'\n",
    "    \n",
    "    D['r_dist:sigma_xy'] = '4 um'\n",
    "    assert D['r_dist:sigma_xy']['value']==4\n",
    "    assert D['r_dist:sigma_xy']['units']=='micrometer'\n",
    "\n",
    "test_setitem_()"
   ]
  },
  {
   "cell_type": "code",
   "execution_count": null,
   "id": "82368817-2bfa-4677-b1a9-3a0b5b8de222",
   "metadata": {},
   "outputs": [],
   "source": []
  },
  {
   "cell_type": "code",
   "execution_count": null,
   "id": "c9d52a5b-fbd0-4484-b9aa-a21c7d8fc324",
   "metadata": {},
   "outputs": [],
   "source": []
  }
 ],
 "metadata": {
  "kernelspec": {
   "display_name": "Python 3 (ipykernel)",
   "language": "python",
   "name": "python3"
  },
  "language_info": {
   "codemirror_mode": {
    "name": "ipython",
    "version": 3
   },
   "file_extension": ".py",
   "mimetype": "text/x-python",
   "name": "python",
   "nbconvert_exporter": "python",
   "pygments_lexer": "ipython3",
   "version": "3.9.18"
  }
 },
 "nbformat": 4,
 "nbformat_minor": 5
}
