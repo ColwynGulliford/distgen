{
 "cells": [
  {
   "cell_type": "code",
   "execution_count": 1,
   "id": "002bea3e-61b6-4a07-92b9-f4a3a6e9a766",
   "metadata": {
    "execution": {
     "iopub.execute_input": "2024-10-23T19:25:09.584839Z",
     "iopub.status.busy": "2024-10-23T19:25:09.584422Z",
     "iopub.status.idle": "2024-10-23T19:25:10.782916Z",
     "shell.execute_reply": "2024-10-23T19:25:10.782309Z"
    }
   },
   "outputs": [],
   "source": [
    "from distgen import Generator\n",
    "from distgen import PHYSICAL_CONSTANTS\n",
    "from distgen.tools import check_abs_and_rel_tols\n"
   ]
  },
  {
   "cell_type": "code",
   "execution_count": 2,
   "id": "4d919f41-7ad8-4db3-b1e9-e1b8209b35fd",
   "metadata": {
    "execution": {
     "iopub.execute_input": "2024-10-23T19:25:10.785036Z",
     "iopub.status.busy": "2024-10-23T19:25:10.784795Z",
     "iopub.status.idle": "2024-10-23T19:25:10.791640Z",
     "shell.execute_reply": "2024-10-23T19:25:10.791197Z"
    }
   },
   "outputs": [],
   "source": [
    "def test_getitem_():\n",
    "\n",
    "    ins =\"\"\"\n",
    "n_particle: 200000\n",
    "species: electron\n",
    "r_dist:\n",
    "  sigma_xy: 1.0 mm\n",
    "  type: radial_gaussian\n",
    "random:\n",
    "  type: hammersley\n",
    "start:\n",
    "  tstart: 0 sec\n",
    "  type: time\n",
    "total_charge: 10 pC\n",
    "\"\"\"\n",
    "\n",
    "    D = Generator(ins)\n",
    "    assert D['r_dist:sigma_xy']['value']==1\n",
    "    assert D['r_dist:sigma_xy']['units']=='millimeter'\n",
    "    \n",
    "test_getitem_()"
   ]
  },
  {
   "cell_type": "code",
   "execution_count": 3,
   "id": "d2699da3-7b97-4a32-bde9-7873eba4a062",
   "metadata": {
    "execution": {
     "iopub.execute_input": "2024-10-23T19:25:10.793453Z",
     "iopub.status.busy": "2024-10-23T19:25:10.793118Z",
     "iopub.status.idle": "2024-10-23T19:25:10.801382Z",
     "shell.execute_reply": "2024-10-23T19:25:10.800952Z"
    }
   },
   "outputs": [],
   "source": [
    "def test_setitem_():\n",
    "    ins =\"\"\"\n",
    "n_particle: 200000\n",
    "species: electron\n",
    "r_dist:\n",
    "  sigma_xy: 1.0 mm\n",
    "  type: radial_gaussian\n",
    "random:\n",
    "  type: hammersley\n",
    "start:\n",
    "  tstart: 0 sec\n",
    "  type: time\n",
    "total_charge: 10 pC\n",
    "\"\"\"\n",
    "    \n",
    "    D = Generator(ins)\n",
    "    D['r_dist:sigma_xy'] = 2.0\n",
    "    \n",
    "    assert isinstance(D['r_dist:sigma_xy'], dict)\n",
    "    assert D['r_dist:sigma_xy']['value']==2\n",
    "    assert D['r_dist:sigma_xy']['units']=='millimeter'\n",
    "\n",
    "    D['r_dist:sigma_xy:units'] = 'cm'\n",
    "    assert D['r_dist:sigma_xy']['value']==2\n",
    "    assert D['r_dist:sigma_xy']['units']=='centimeter'\n",
    "\n",
    "    D['r_dist:sigma_xy:value'] = 3\n",
    "    assert D['r_dist:sigma_xy']['value']==3\n",
    "    assert D['r_dist:sigma_xy']['units']=='centimeter'\n",
    "    \n",
    "    D['r_dist:sigma_xy'] = '4 um'\n",
    "    assert D['r_dist:sigma_xy']['value']==4\n",
    "    assert D['r_dist:sigma_xy']['units']=='micrometer'\n",
    "\n",
    "test_setitem_()"
   ]
  },
  {
   "cell_type": "code",
   "execution_count": 4,
   "id": "82368817-2bfa-4677-b1a9-3a0b5b8de222",
   "metadata": {
    "execution": {
     "iopub.execute_input": "2024-10-23T19:25:10.803104Z",
     "iopub.status.busy": "2024-10-23T19:25:10.802759Z",
     "iopub.status.idle": "2024-10-23T19:25:10.897862Z",
     "shell.execute_reply": "2024-10-23T19:25:10.897305Z"
    }
   },
   "outputs": [],
   "source": [
    "def test_species_rest_energy():\n",
    "\n",
    "    inputs= {'n_particle': 1000,\n",
    "             'total_charge': '0 C',\n",
    "             'species': None,\n",
    "             'start': {'type': 'time'}\n",
    "            }\n",
    "\n",
    "    for species in PHYSICAL_CONSTANTS.species_list:\n",
    "\n",
    "        inputs['species'] = species\n",
    "        inputs['total_charge'] = f'{inputs[\"n_particle\"]*PHYSICAL_CONSTANTS.species(species)[\"charge\"].magnitude} C'\n",
    "\n",
    "        D = Generator(inputs)\n",
    "        B = D.beam()\n",
    "\n",
    "        check_abs_and_rel_tols('rest energy', \n",
    "                               B['energy'], \n",
    "                               PHYSICAL_CONSTANTS.species(species)['mc2'],\n",
    "                               abs_tol=1e-6)\n",
    "\n",
    "test_species_rest_energy()"
   ]
  },
  {
   "cell_type": "code",
   "execution_count": null,
   "id": "c9d52a5b-fbd0-4484-b9aa-a21c7d8fc324",
   "metadata": {},
   "outputs": [],
   "source": []
  }
 ],
 "metadata": {
  "kernelspec": {
   "display_name": "Python 3 (ipykernel)",
   "language": "python",
   "name": "python3"
  },
  "language_info": {
   "codemirror_mode": {
    "name": "ipython",
    "version": 3
   },
   "file_extension": ".py",
   "mimetype": "text/x-python",
   "name": "python",
   "nbconvert_exporter": "python",
   "pygments_lexer": "ipython3",
   "version": "3.9.20"
  }
 },
 "nbformat": 4,
 "nbformat_minor": 5
}
