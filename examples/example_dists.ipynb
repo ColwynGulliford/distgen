{
 "cells": [
  {
   "cell_type": "code",
   "execution_count": 1,
   "metadata": {},
   "outputs": [],
   "source": [
    "# Useful for debugging\n",
    "%load_ext autoreload\n",
    "%autoreload 2"
   ]
  },
  {
   "cell_type": "code",
   "execution_count": 2,
   "metadata": {},
   "outputs": [
    {
     "ename": "ModuleNotFoundError",
     "evalue": "No module named 'pint'",
     "output_type": "error",
     "traceback": [
      "\u001b[0;31m---------------------------------------------------------------------------\u001b[0m",
      "\u001b[0;31mModuleNotFoundError\u001b[0m                       Traceback (most recent call last)",
      "\u001b[0;32m<ipython-input-2-3df04c5f5e27>\u001b[0m in \u001b[0;36m<module>\u001b[0;34m\u001b[0m\n\u001b[0;32m----> 1\u001b[0;31m \u001b[0;32mfrom\u001b[0m \u001b[0mdistgen\u001b[0m\u001b[0;34m.\u001b[0m\u001b[0mgenerator\u001b[0m \u001b[0;32mimport\u001b[0m \u001b[0mGenerator\u001b[0m\u001b[0;34m\u001b[0m\u001b[0;34m\u001b[0m\u001b[0m\n\u001b[0m\u001b[1;32m      2\u001b[0m \u001b[0;32mfrom\u001b[0m \u001b[0mdistgen\u001b[0m\u001b[0;34m.\u001b[0m\u001b[0mplot\u001b[0m \u001b[0;32mimport\u001b[0m \u001b[0mplot_2d\u001b[0m\u001b[0;34m,\u001b[0m \u001b[0mplot_1d\u001b[0m\u001b[0;34m,\u001b[0m \u001b[0mplot_current_profile\u001b[0m\u001b[0;34m\u001b[0m\u001b[0;34m\u001b[0m\u001b[0m\n\u001b[1;32m      3\u001b[0m \u001b[0;32mfrom\u001b[0m \u001b[0mmatplotlib\u001b[0m \u001b[0;32mimport\u001b[0m \u001b[0mpyplot\u001b[0m \u001b[0;32mas\u001b[0m \u001b[0mplt\u001b[0m\u001b[0;34m\u001b[0m\u001b[0;34m\u001b[0m\u001b[0m\n\u001b[1;32m      4\u001b[0m \u001b[0;32mimport\u001b[0m \u001b[0myaml\u001b[0m\u001b[0;34m\u001b[0m\u001b[0;34m\u001b[0m\u001b[0m\n",
      "\u001b[0;32m~/Documents/GitHub/distgen/distgen/__init__.py\u001b[0m in \u001b[0;36m<module>\u001b[0;34m\u001b[0m\n\u001b[0;32m----> 1\u001b[0;31m \u001b[0;32mfrom\u001b[0m \u001b[0;34m.\u001b[0m\u001b[0mgenerator\u001b[0m \u001b[0;32mimport\u001b[0m \u001b[0mGenerator\u001b[0m\u001b[0;34m\u001b[0m\u001b[0;34m\u001b[0m\u001b[0m\n\u001b[0m",
      "\u001b[0;32m~/Documents/GitHub/distgen/distgen/generator.py\u001b[0m in \u001b[0;36m<module>\u001b[0;34m\u001b[0m\n\u001b[0;32m----> 1\u001b[0;31m \u001b[0;32mfrom\u001b[0m \u001b[0;34m.\u001b[0m\u001b[0mphysical_constants\u001b[0m \u001b[0;32mimport\u001b[0m \u001b[0;34m*\u001b[0m\u001b[0;34m\u001b[0m\u001b[0;34m\u001b[0m\u001b[0m\n\u001b[0m\u001b[1;32m      2\u001b[0m \u001b[0;32mfrom\u001b[0m \u001b[0;34m.\u001b[0m\u001b[0mbeam\u001b[0m \u001b[0;32mimport\u001b[0m \u001b[0mBeam\u001b[0m\u001b[0;34m\u001b[0m\u001b[0;34m\u001b[0m\u001b[0m\n\u001b[1;32m      3\u001b[0m \u001b[0;32mfrom\u001b[0m \u001b[0;34m.\u001b[0m\u001b[0mtransforms\u001b[0m \u001b[0;32mimport\u001b[0m \u001b[0mset_avg_and_std\u001b[0m\u001b[0;34m,\u001b[0m \u001b[0mtransform\u001b[0m\u001b[0;34m\u001b[0m\u001b[0;34m\u001b[0m\u001b[0m\n\u001b[1;32m      4\u001b[0m \u001b[0;32mfrom\u001b[0m \u001b[0;34m.\u001b[0m\u001b[0mtools\u001b[0m \u001b[0;32mimport\u001b[0m \u001b[0;34m*\u001b[0m\u001b[0;34m\u001b[0m\u001b[0;34m\u001b[0m\u001b[0m\n\u001b[1;32m      5\u001b[0m \u001b[0;32mfrom\u001b[0m \u001b[0;34m.\u001b[0m\u001b[0mdist\u001b[0m \u001b[0;32mimport\u001b[0m \u001b[0;34m*\u001b[0m\u001b[0;34m\u001b[0m\u001b[0;34m\u001b[0m\u001b[0m\n",
      "\u001b[0;32m~/Documents/GitHub/distgen/distgen/physical_constants.py\u001b[0m in \u001b[0;36m<module>\u001b[0;34m\u001b[0m\n\u001b[1;32m      5\u001b[0m \u001b[0;32mimport\u001b[0m \u001b[0mmath\u001b[0m\u001b[0;34m\u001b[0m\u001b[0;34m\u001b[0m\u001b[0m\n\u001b[1;32m      6\u001b[0m \u001b[0;32mimport\u001b[0m \u001b[0mwarnings\u001b[0m\u001b[0;34m\u001b[0m\u001b[0;34m\u001b[0m\u001b[0m\n\u001b[0;32m----> 7\u001b[0;31m \u001b[0;32mfrom\u001b[0m \u001b[0mpint\u001b[0m \u001b[0;32mimport\u001b[0m \u001b[0mUnitRegistry\u001b[0m\u001b[0;34m,\u001b[0m \u001b[0mQuantity\u001b[0m\u001b[0;34m\u001b[0m\u001b[0;34m\u001b[0m\u001b[0m\n\u001b[0m\u001b[1;32m      8\u001b[0m \u001b[0;34m\u001b[0m\u001b[0m\n\u001b[1;32m      9\u001b[0m \u001b[0;32mwith\u001b[0m \u001b[0mwarnings\u001b[0m\u001b[0;34m.\u001b[0m\u001b[0mcatch_warnings\u001b[0m\u001b[0;34m(\u001b[0m\u001b[0;34m)\u001b[0m\u001b[0;34m:\u001b[0m\u001b[0;34m\u001b[0m\u001b[0;34m\u001b[0m\u001b[0m\n",
      "\u001b[0;31mModuleNotFoundError\u001b[0m: No module named 'pint'"
     ]
    }
   ],
   "source": [
    "from distgen.generator import Generator\n",
    "from distgen.plot import plot_2d, plot_1d, plot_current_profile\n",
    "from matplotlib import pyplot as plt\n",
    "import yaml"
   ]
  },
  {
   "cell_type": "code",
   "execution_count": null,
   "metadata": {},
   "outputs": [],
   "source": [
    "gen = Generator(verbose=0) \n",
    "units = {\"x\":\"mm\",\"y\":\"mm\",\"px\":\"keV/c\",\"py\":\"keV/c\",\"t\":\"ps\",\"q\":\"pC\"}"
   ]
  },
  {
   "cell_type": "markdown",
   "metadata": {},
   "source": [
    "# Radial Distributions\n",
    "----------------------"
   ]
  },
  {
   "cell_type": "markdown",
   "metadata": {},
   "source": [
    "# Radial Uniform"
   ]
  },
  {
   "cell_type": "code",
   "execution_count": null,
   "metadata": {},
   "outputs": [],
   "source": [
    "gen=Generator('data/rad.uniform.in.yaml',verbose=0)\n",
    "beam = gen.beam()\n",
    "\n",
    "print(\"Dictionary input:\")\n",
    "print(\"r_dist:\",gen.input[\"r_dist\"])\n",
    "print(\"\\nYAML input:\")\n",
    "print(yaml.dump({'r_dist':gen.input[\"r_dist\"]}))\n",
    "\n",
    "# X-Y Plot\n",
    "plot_2d(beam,1,\"x\",units[\"x\"],\"y\",units[\"y\"],'scatter_hist2d',nbins=75,axis=\"equal\");"
   ]
  },
  {
   "cell_type": "markdown",
   "metadata": {},
   "source": [
    "# Radial Gaussian (with Truncation)"
   ]
  },
  {
   "cell_type": "code",
   "execution_count": null,
   "metadata": {},
   "outputs": [],
   "source": [
    "# Truncated radial gaussian distribution with pihole size of 2 mm, gaussian clipped at 50% intensity\n",
    "gen=Generator('data/rad.trunc.gaussian.in.yaml',verbose=0)\n",
    "beam = gen.beam()\n",
    "\n",
    "print(\"Dictionary input:\")\n",
    "print(\"r_dist:\",gen.input[\"r_dist\"])\n",
    "print(\"\\nYAML input:\")\n",
    "print(yaml.dump({'r_dist':gen.input[\"r_dist\"]}))\n",
    "\n",
    "# X-Y Plot\n",
    "plot_2d(beam,1,\"x\",units[\"x\"],\"y\",units[\"y\"],'scatter_hist2d',nbins=75,axis=\"equal\");"
   ]
  },
  {
   "cell_type": "code",
   "execution_count": null,
   "metadata": {},
   "outputs": [],
   "source": [
    "# Radial gaussian distribution with sigma_xy 2 mm\n",
    "gen=Generator('data/rad.gaussian.in.yaml',verbose=0)\n",
    "beam = gen.beam()\n",
    "\n",
    "print(\"Dictionary input:\")\n",
    "print(\"r_dist:\",gen.input[\"r_dist\"])\n",
    "\n",
    "print(\"\\nYAML input:\")\n",
    "print(yaml.dump({'r_dist':gen.input[\"r_dist\"]}))\n",
    "\n",
    "# X-Y Plot\n",
    "plot_2d(beam,1,\"x\",units[\"x\"],\"y\",units[\"y\"],'scatter_hist2d',nbins=200,axis=\"equal\");"
   ]
  },
  {
   "cell_type": "markdown",
   "metadata": {},
   "source": [
    "# Radial File"
   ]
  },
  {
   "cell_type": "code",
   "execution_count": null,
   "metadata": {},
   "outputs": [],
   "source": [
    "# Radial distribution file: a radial gaussian with cuts in it\n",
    "gen=Generator('data/rad.file.in.yaml', verbose=0)\n",
    "beam = gen.beam()\n",
    "\n",
    "print(\"Dictionary input:\")\n",
    "print(\"r_dist:\",gen.input[\"r_dist\"])\n",
    "print('\\nYAML input:')\n",
    "print(yaml.dump({'r_dist':gen.input[\"r_dist\"]}))\n",
    "\n",
    "# X-Y Plot\n",
    "plot_2d(beam,1,\"x\",units[\"x\"],\"y\",units[\"y\"],'scatter_hist2d',nbins=200,axis=\"equal\");"
   ]
  },
  {
   "cell_type": "markdown",
   "metadata": {},
   "source": [
    "# Radial Tukey"
   ]
  },
  {
   "cell_type": "code",
   "execution_count": null,
   "metadata": {},
   "outputs": [],
   "source": [
    "# Radial Tukey distribution\n",
    "gen=Generator('data/tukey.beer.can.in.yaml',verbose=0)\n",
    "beam = gen.beam()\n",
    "\n",
    "print(\"Dictionary Input:\")\n",
    "print(\"r_dist:\", gen.input[\"r_dist\"])\n",
    "print(\"\\nYAML Input:\")\n",
    "print(yaml.dump({'r_dist':gen.input[\"r_dist\"]}))\n",
    "\n",
    "plot_2d(beam,1,\"x\",units[\"x\"],\"y\",units[\"y\"],'scatter_hist2d',nbins=100,axis=\"equal\");"
   ]
  },
  {
   "cell_type": "markdown",
   "metadata": {},
   "source": [
    "# Super Gaussian"
   ]
  },
  {
   "cell_type": "code",
   "execution_count": null,
   "metadata": {},
   "outputs": [],
   "source": [
    "gen=Generator('data/SG.beer.can.in.yaml',verbose=0)\n",
    "beam = gen.beam()\n",
    "\n",
    "print(\"Dictionary Input:\")\n",
    "print(\"r_dist:\", gen.input[\"r_dist\"])\n",
    "print(\"\\nYAML Input:\")\n",
    "print(yaml.dump({'r_dist':gen.input[\"r_dist\"]}))\n",
    "\n",
    "plot_2d(beam,1,\"x\",units[\"x\"],\"y\",units[\"y\"],'scatter_hist2d',nbins=100,axis=\"equal\");"
   ]
  },
  {
   "cell_type": "markdown",
   "metadata": {},
   "source": [
    "# 2D Distributions\n",
    "------------------"
   ]
  },
  {
   "cell_type": "markdown",
   "metadata": {},
   "source": [
    "# 2D File"
   ]
  },
  {
   "cell_type": "code",
   "execution_count": null,
   "metadata": {},
   "outputs": [],
   "source": [
    "# 2D XY distribution: Lase Image Example\n",
    "# Real laser spot image - using 1 million particles (takes a few secs)\n",
    "gen=Generator('data/laser.image.in.yaml',verbose=0)\n",
    "\n",
    "beam = gen.beam()\n",
    "\n",
    "print(\"Dictionary input:\")\n",
    "print(\"xy_dist:\",gen.input[\"xy_dist\"])\n",
    "\n",
    "print(\"\\nYAML input:\")\n",
    "print(yaml.dump({'xy_dist':gen.input[\"xy_dist\"]}))\n",
    "\n",
    "# X-Y Plot\n",
    "plot_2d(beam,1,\"x\",units[\"x\"],\"y\",units[\"y\"],'scatter_hist2d',nbins=100,axis=\"equal\");\n",
    "\n",
    "# In the file \"laser.image.txt\", the first row specfies: x range avg [units], the second the same for y:\n",
    "# x   3.5002000e+00   0.0000000e+00 [mm]\n",
    "# y   3.5002000e+00   0.0000000e+00 [mm] \n",
    "# The rest of the data is a rectangular equally spaced grid of rho(x,y)"
   ]
  },
  {
   "cell_type": "markdown",
   "metadata": {},
   "source": [
    "# 1D Distributions\n",
    "-----------"
   ]
  },
  {
   "cell_type": "markdown",
   "metadata": {},
   "source": [
    "# Uniform"
   ]
  },
  {
   "cell_type": "code",
   "execution_count": null,
   "metadata": {},
   "outputs": [],
   "source": [
    "gen=Generator('data/x.uniform.y.file.t.gaussian.in.yaml',verbose=0)\n",
    "beam = gen.beam()\n",
    "\n",
    "print(\"Dictionary input:\")\n",
    "print(\"x_dist:\", gen.input[\"x_dist\"])\n",
    "print(\"\\nYAML Input:\")\n",
    "print(yaml.dump({'x_dist':gen.input[\"x_dist\"]}))\n",
    "\n",
    "plot_1d(beam,\"x\",units[\"x\"],nbins=100)"
   ]
  },
  {
   "cell_type": "markdown",
   "metadata": {},
   "source": [
    "# 1D File"
   ]
  },
  {
   "cell_type": "code",
   "execution_count": null,
   "metadata": {},
   "outputs": [],
   "source": [
    "print(\"Dictionary input:\")\n",
    "print(\"y_dist:\",gen.input[\"y_dist\"])\n",
    "print(\"\\nYAML Input:\")\n",
    "print(yaml.dump({'y_dist':gen.input[\"y_dist\"]}))\n",
    "plot_1d(beam,\"y\",units[\"y\"],nbins=50)"
   ]
  },
  {
   "cell_type": "markdown",
   "metadata": {},
   "source": [
    "# Gaussian (with Truncation)"
   ]
  },
  {
   "cell_type": "code",
   "execution_count": null,
   "metadata": {},
   "outputs": [],
   "source": [
    "print(\"Dictionary Input:\")\n",
    "print(\"t_dist:\",gen.input[\"t_dist\"])\n",
    "print(\"\\nYAML Input:\")\n",
    "print(yaml.dump({'t_dist':gen.input[\"t_dist\"]}))\n",
    "\n",
    "plot_1d(beam,\"t\",units[\"t\"],nbins=100)"
   ]
  },
  {
   "cell_type": "markdown",
   "metadata": {},
   "source": [
    "# Tukey "
   ]
  },
  {
   "cell_type": "code",
   "execution_count": null,
   "metadata": {},
   "outputs": [],
   "source": [
    "# Tukey distribution\n",
    "gen=Generator('data/tukey.beer.can.in.yaml', verbose=0)\n",
    "beam = gen.beam()\n",
    "\n",
    "print(\"User Input:\")\n",
    "print(\"t_dist:\",gen.input[\"t_dist\"])\n",
    "print(\"\\nYAML Input:\")\n",
    "print(yaml.dump({'t_dist':gen.input[\"t_dist\"]}))\n",
    "\n",
    "plot_current_profile(beam,1,units)"
   ]
  },
  {
   "cell_type": "code",
   "execution_count": null,
   "metadata": {},
   "outputs": [],
   "source": [
    "# Super Gaussian distribution\n",
    "gen=Generator('data/SG.beer.can.in.yaml', verbose=0)\n",
    "beam = gen.beam()\n",
    "\n",
    "print(\"User Input:\")\n",
    "print(\"t_dist:\",gen.input[\"t_dist\"])\n",
    "print(\"\\nYAML Input:\")\n",
    "print(yaml.dump({'t_dist':gen.input[\"t_dist\"]}))\n",
    "\n",
    "plot_current_profile(beam,1,units)"
   ]
  },
  {
   "cell_type": "markdown",
   "metadata": {},
   "source": [
    "# Special Temporal Distributions\n",
    "-------"
   ]
  },
  {
   "cell_type": "markdown",
   "metadata": {},
   "source": [
    "# Pulse stacking temporal crystals"
   ]
  },
  {
   "cell_type": "code",
   "execution_count": null,
   "metadata": {},
   "outputs": [],
   "source": [
    "gen=Generator('data/t.crystals.in.yaml',verbose=0)\n",
    "beam = gen.beam()\n",
    "print(\"Dictionary Input:\")\n",
    "print(\"t_dist:\",gen.input[\"t_dist\"])\n",
    "print(\"\\nYAML Input:\")\n",
    "print(yaml.dump({'t_dist':gen.input[\"t_dist\"]}))\n",
    "plot_current_profile(beam,1,units)"
   ]
  }
 ],
 "metadata": {
  "kernelspec": {
   "display_name": "Python 3",
   "language": "python",
   "name": "python3"
  },
  "language_info": {
   "codemirror_mode": {
    "name": "ipython",
    "version": 3
   },
   "file_extension": ".py",
   "mimetype": "text/x-python",
   "name": "python",
   "nbconvert_exporter": "python",
   "pygments_lexer": "ipython3",
   "version": "3.7.4"
  }
 },
 "nbformat": 4,
 "nbformat_minor": 4
}
