{
 "cells": [
  {
   "cell_type": "code",
   "execution_count": 1,
   "metadata": {},
   "outputs": [],
   "source": [
    "# Useful for debugging\n",
    "%load_ext autoreload\n",
    "%autoreload 2"
   ]
  },
  {
   "cell_type": "code",
   "execution_count": 2,
   "metadata": {},
   "outputs": [],
   "source": [
    "from distgen.generator import Generator\n",
    "from distgen.plot import plot_2d, plot_1d, plot_current_profile\n",
    "from matplotlib import pyplot as plt\n",
    "import yaml"
   ]
  },
  {
   "cell_type": "code",
   "execution_count": 3,
   "metadata": {},
   "outputs": [],
   "source": [
    "gen = Generator(verbose=0) \n",
    "units = {\"x\":\"mm\",\"y\":\"mm\",\"px\":\"keV/c\",\"py\":\"keV/c\",\"t\":\"ps\",\"q\":\"pC\"}"
   ]
  },
  {
   "cell_type": "markdown",
   "metadata": {},
   "source": [
    "# Radial Distributions\n",
    "----------------------"
   ]
  },
  {
   "cell_type": "markdown",
   "metadata": {},
   "source": [
    "# Radial Uniform"
   ]
  },
  {
   "cell_type": "code",
   "execution_count": 8,
   "metadata": {},
   "outputs": [
    {
     "ename": "SyntaxError",
     "evalue": "invalid syntax (<ipython-input-8-34b588179ef8>, line 27)",
     "output_type": "error",
     "traceback": [
      "\u001b[0;36m  File \u001b[0;32m\"<ipython-input-8-34b588179ef8>\"\u001b[0;36m, line \u001b[0;32m27\u001b[0m\n\u001b[0;31m    \"avg_t\": {\u001b[0m\n\u001b[0m           ^\u001b[0m\n\u001b[0;31mSyntaxError\u001b[0m\u001b[0;31m:\u001b[0m invalid syntax\n"
     ]
    }
   ],
   "source": [
    "d={\"n_particle\":100000,\n",
    "   \"total_charge\": {\n",
    "       \"units\": \"pC\",\n",
    "       \"value\": 10\n",
    "    },\n",
    "   \"random_type\":\"hammersley\",\n",
    "   \"start_type\": {\n",
    "       \"type\":\"cathode\",\n",
    "       \"MTE\": {\n",
    "           \"units\": \"meV\",\n",
    "           \"value\": 150\n",
    "       }\n",
    "   },\n",
    "   \"r_dist\": {\n",
    "       \"type\": \"radial_uniform\",\n",
    "       \"max_r\": {\n",
    "           \"units\": \"mm\",\n",
    "           \"value\": 2\n",
    "       },\n",
    "       \"min_r\": {\n",
    "           \"units\": \"mm\",\n",
    "           \"value\": 1\n",
    "       }\n",
    "   },\n",
    "    \"t_dist\": {\n",
    "        \"type\": \"gaussian\",\n",
    "        \"avg_t\": {\n",
    "            \"units\": \"ns\",\n",
    "            \"value\": 0.5\n",
    "        },\n",
    "        \"sigma_t\": {\n",
    "            \"units\": \"ns\",\n",
    "            \"value\": 2\n",
    "        }\n",
    "    },\n",
    "   \"output\": {\n",
    "       \"file\": \"rad.uniform.out.txt\",\n",
    "       \"type\": \"gpt\"\n",
    "    },\n",
    "}\n",
    "\n",
    "gen=Generator('data/rad.uniform.in.json',verbose=0)\n",
    "beam = gen.beam()\n",
    "\n",
    "# X-Y Plot\n",
    "plot_2d(beam,1,\"x\",units[\"x\"],\"y\",units[\"y\"],'scatter_hist2d',nbins=100,axis=\"equal\");\n",
    "\n",
    "print(\"Dictionary Input:\")\n",
    "print(\"r_dist:\",gen.input[\"r_dist\"])\n",
    "print('\\nYAML input:')\n",
    "print(yaml.dump({'r_dist':gen.input[\"r_dist\"]}))"
   ]
  },
  {
   "cell_type": "markdown",
   "metadata": {},
   "source": [
    "# Radial Gaussian (with Truncation)"
   ]
  },
  {
   "cell_type": "code",
   "execution_count": null,
   "metadata": {},
   "outputs": [],
   "source": [
    "# Truncated radial gaussian distribution with pihole size of 2 mm, gaussian clipped at 50% intensity\n",
    "gen=Generator('data/rad.trunc.gaussian.in.json',verbose=0)\n",
    "beam = gen.beam()\n",
    "\n",
    "print(\"User Input:\")\n",
    "print(\"r_dist:\",gen.input[\"r_dist\"])\n",
    "print(\"\\nYAML input:\")\n",
    "print(yaml.dump({'r_dist':gen.input[\"r_dist\"]}))\n",
    "\n",
    "# X-Y Plot\n",
    "plot_2d(beam,1,\"x\",units[\"x\"],\"y\",units[\"y\"],'scatter_hist2d',nbins=75,axis=\"equal\");"
   ]
  },
  {
   "cell_type": "code",
   "execution_count": null,
   "metadata": {},
   "outputs": [],
   "source": [
    "# Radial gaussian distribution with sigma_xy 2 mm\n",
    "gen=Generator('data/rad.gaussian.in.json',verbose=0)\n",
    "\n",
    "beam = gen.beam()\n",
    "\n",
    "print(\"Dictionary Input:\")\n",
    "print(\"r_dist:\",gen.input[\"r_dist\"])\n",
    "\n",
    "print(\"\\nYAML input:\")\n",
    "print(yaml.dump({'r_dist':gen.input[\"r_dist\"]}))\n",
    "\n",
    "# X-Y Plot\n",
    "plot_2d(beam,1,\"x\",units[\"x\"],\"y\",units[\"y\"],'scatter_hist2d',nbins=200,axis=\"equal\");"
   ]
  },
  {
   "cell_type": "markdown",
   "metadata": {},
   "source": [
    "# Radial File"
   ]
  },
  {
   "cell_type": "code",
   "execution_count": null,
   "metadata": {},
   "outputs": [],
   "source": [
    "# Radial distribution file: a radial gaussian with cuts in it\n",
    "gen=Generator('data/rad.file.in.json', verbose=0)\n",
    "\n",
    "beam = gen.beam()\n",
    "\n",
    "print(\"User Input:\")\n",
    "print(\"r_dist:\",gen.input[\"r_dist\"])\n",
    "print('\\nYAML input:')\n",
    "print(yaml.dump({'r_dist':gen.input[\"r_dist\"]}))\n",
    "\n",
    "# X-Y Plot\n",
    "plot_2d(beam,1,\"x\",units[\"x\"],\"y\",units[\"y\"],'scatter_hist2d',nbins=200,axis=\"equal\");"
   ]
  },
  {
   "cell_type": "markdown",
   "metadata": {},
   "source": [
    "# Radial Tukey"
   ]
  },
  {
   "cell_type": "code",
   "execution_count": null,
   "metadata": {},
   "outputs": [],
   "source": [
    "# Radial Tukey distribution\n",
    "gen=Generator('data/tukey.beer.can.in.json',verbose=0)\n",
    "\n",
    "beam = gen.beam()\n",
    "\n",
    "print(\"Dictionary Input:\")\n",
    "print(\"r_dist:\", gen.input[\"r_dist\"])\n",
    "print(\"\\nYAML Input:\")\n",
    "print(yaml.dump({'r_dist':gen.input[\"r_dist\"]}))\n",
    "\n",
    "plot_2d(beam,1,\"x\",units[\"x\"],\"y\",units[\"y\"],'scatter_hist2d',nbins=100,axis=\"equal\");"
   ]
  },
  {
   "cell_type": "markdown",
   "metadata": {},
   "source": [
    "# 2D Distributions\n",
    "------------------"
   ]
  },
  {
   "cell_type": "markdown",
   "metadata": {},
   "source": [
    "# 2D File"
   ]
  },
  {
   "cell_type": "code",
   "execution_count": null,
   "metadata": {},
   "outputs": [],
   "source": [
    "# 2D XY distribution: Lase Image Example\n",
    "# Real laser spot image - using 1 million particles (takes a few secs)\n",
    "gen=Generator('data/laser.image.in.json',verbose=0)\n",
    "\n",
    "beam = gen.beam()\n",
    "\n",
    "print(\"Dictionary Input:\")\n",
    "print(\"xy_dist:\",gen.input[\"xy_dist\"])\n",
    "\n",
    "print(\"\\nYAML input:\")\n",
    "print(yaml.dump({'xy_dist':gen.input[\"xy_dist\"]}))\n",
    "\n",
    "# X-Y Plot\n",
    "plot_2d(beam,1,\"x\",units[\"x\"],\"y\",units[\"y\"],'scatter_hist2d',nbins=100,axis=\"equal\");\n",
    "\n",
    "# In the file \"laser.image.txt\", the first row specfies: x range avg [units], the second the same for y:\n",
    "# x   3.5002000e+00   0.0000000e+00 [mm]\n",
    "# y   3.5002000e+00   0.0000000e+00 [mm] \n",
    "# The rest of the data is a rectangular equally spaced grid of rho(x,y)"
   ]
  },
  {
   "cell_type": "markdown",
   "metadata": {},
   "source": [
    "# 1D Distributions\n",
    "-----------"
   ]
  },
  {
   "cell_type": "markdown",
   "metadata": {},
   "source": [
    "# Uniform"
   ]
  },
  {
   "cell_type": "code",
   "execution_count": null,
   "metadata": {},
   "outputs": [],
   "source": [
    "gen=Generator('data/x.uniform.y.file.t.gaussian.in.json',verbose=0)\n",
    "beam = gen.beam()\n",
    "\n",
    "print(\"Dictionary Input:\")\n",
    "print(\"x_dist:\", gen.input[\"x_dist\"])\n",
    "print(\"\\nYAML Input:\")\n",
    "print(yaml.dump({'x_dist':gen.input[\"x_dist\"]}))\n",
    "\n",
    "plot_1d(beam,\"x\",units[\"x\"],nbins=100)"
   ]
  },
  {
   "cell_type": "markdown",
   "metadata": {},
   "source": [
    "# 1D File"
   ]
  },
  {
   "cell_type": "code",
   "execution_count": null,
   "metadata": {},
   "outputs": [],
   "source": [
    "print(\"User Input:\")\n",
    "print(\"y_dist:\",gen.input[\"y_dist\"])\n",
    "print(\"\\nYAML Input:\")\n",
    "print(yaml.dump({'y_dist':gen.input[\"y_dist\"]}))\n",
    "plot_1d(beam,\"y\",units[\"y\"],nbins=50)"
   ]
  },
  {
   "cell_type": "markdown",
   "metadata": {},
   "source": [
    "# Gaussian (with Truncation)"
   ]
  },
  {
   "cell_type": "code",
   "execution_count": null,
   "metadata": {},
   "outputs": [],
   "source": [
    "print(\"Dictionary Input:\")\n",
    "print(\"t_dist:\",gen.input[\"t_dist\"])\n",
    "print(\"\\nYAML Input:\")\n",
    "print(yaml.dump({'t_dist':gen.input[\"t_dist\"]}))\n",
    "\n",
    "plot_1d(beam,\"t\",units[\"t\"],nbins=100)"
   ]
  },
  {
   "cell_type": "markdown",
   "metadata": {},
   "source": [
    "# Tukey "
   ]
  },
  {
   "cell_type": "code",
   "execution_count": null,
   "metadata": {},
   "outputs": [],
   "source": [
    "# Tukey distribution\n",
    "gen=Generator('data/tukey.beer.can.in.json', verbose=0)\n",
    "beam = gen.beam()\n",
    "\n",
    "print(\"User Input:\")\n",
    "print(\"t_dist:\",gen.input[\"t_dist\"])\n",
    "print(\"\\nYAML Input:\")\n",
    "print(yaml.dump({'t_dist':gen.input[\"t_dist\"]}))\n",
    "\n",
    "plot_current_profile(beam,1,units)"
   ]
  },
  {
   "cell_type": "markdown",
   "metadata": {},
   "source": [
    "# Special Temporal Distributions"
   ]
  },
  {
   "cell_type": "code",
   "execution_count": null,
   "metadata": {},
   "outputs": [],
   "source": [
    "# Pulse stacking using birefrigent crystals\n",
    "gen=Generator('data/t.crystals.in.json',verbose=0)\n",
    "beam = gen.beam()\n",
    "print(\"Dictionary Input:\")\n",
    "print(\"t_dist:\",gen.input[\"t_dist\"])\n",
    "print(\"\\nYAML Input:\")\n",
    "print(yaml.dump({'t_dist':gen.input[\"t_dist\"]}))\n",
    "plot_current_profile(beam,1,units)"
   ]
  },
  {
   "cell_type": "code",
   "execution_count": null,
   "metadata": {},
   "outputs": [],
   "source": []
  }
 ],
 "metadata": {
  "kernelspec": {
   "display_name": "Python 3",
   "language": "python",
   "name": "python3"
  },
  "language_info": {
   "codemirror_mode": {
    "name": "ipython",
    "version": 3
   },
   "file_extension": ".py",
   "mimetype": "text/x-python",
   "name": "python",
   "nbconvert_exporter": "python",
   "pygments_lexer": "ipython3",
   "version": "3.6.10"
  }
 },
 "nbformat": 4,
 "nbformat_minor": 4
}
