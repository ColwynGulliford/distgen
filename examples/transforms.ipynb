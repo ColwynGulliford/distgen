{
 "cells": [
  {
   "cell_type": "code",
   "execution_count": 1,
   "metadata": {},
   "outputs": [],
   "source": [
    "# Useful for debugging\n",
    "%load_ext autoreload\n",
    "%autoreload 2\n",
    "%config InlineBackend.figure_format = 'retina'"
   ]
  },
  {
   "cell_type": "markdown",
   "metadata": {},
   "source": [
    "# Transformation utilties\n",
    "-------------------------"
   ]
  },
  {
   "cell_type": "code",
   "execution_count": 2,
   "metadata": {},
   "outputs": [
    {
     "ename": "ImportError",
     "evalue": "cannot import name '__version__' from 'distgen._version' (/Users/colwyngulliford/Documents/GitHub/distgen/distgen/_version.py)",
     "output_type": "error",
     "traceback": [
      "\u001b[0;31m---------------------------------------------------------------------------\u001b[0m",
      "\u001b[0;31mImportError\u001b[0m                               Traceback (most recent call last)",
      "\u001b[0;32m<ipython-input-2-93bf282b04e1>\u001b[0m in \u001b[0;36m<module>\u001b[0;34m\u001b[0m\n\u001b[1;32m      1\u001b[0m \u001b[0munits\u001b[0m \u001b[0;34m=\u001b[0m \u001b[0;34m{\u001b[0m\u001b[0;34m'x'\u001b[0m\u001b[0;34m:\u001b[0m\u001b[0;34m'mm'\u001b[0m\u001b[0;34m,\u001b[0m\u001b[0;34m'y'\u001b[0m\u001b[0;34m:\u001b[0m\u001b[0;34m'mm'\u001b[0m\u001b[0;34m,\u001b[0m\u001b[0;34m'r'\u001b[0m\u001b[0;34m:\u001b[0m\u001b[0;34m'mm'\u001b[0m\u001b[0;34m,\u001b[0m\u001b[0;34m'z'\u001b[0m\u001b[0;34m:\u001b[0m\u001b[0;34m'mm'\u001b[0m\u001b[0;34m,\u001b[0m\u001b[0;34m'px'\u001b[0m\u001b[0;34m:\u001b[0m\u001b[0;34m'keV/c'\u001b[0m\u001b[0;34m,\u001b[0m\u001b[0;34m'py'\u001b[0m\u001b[0;34m:\u001b[0m\u001b[0;34m'keV/c'\u001b[0m\u001b[0;34m,\u001b[0m\u001b[0;34m'pz'\u001b[0m\u001b[0;34m:\u001b[0m\u001b[0;34m'MeV/c'\u001b[0m\u001b[0;34m,\u001b[0m\u001b[0;34m't'\u001b[0m\u001b[0;34m:\u001b[0m\u001b[0;34m'ps'\u001b[0m\u001b[0;34m,\u001b[0m\u001b[0;34m'q'\u001b[0m\u001b[0;34m:\u001b[0m\u001b[0;34m'pC'\u001b[0m\u001b[0;34m,\u001b[0m\u001b[0;34m'thetax'\u001b[0m\u001b[0;34m:\u001b[0m\u001b[0;34m'mrad'\u001b[0m\u001b[0;34m,\u001b[0m\u001b[0;34m'thetay'\u001b[0m\u001b[0;34m:\u001b[0m\u001b[0;34m'mrad'\u001b[0m\u001b[0;34m}\u001b[0m\u001b[0;34m\u001b[0m\u001b[0;34m\u001b[0m\u001b[0m\n\u001b[0;32m----> 2\u001b[0;31m \u001b[0;32mfrom\u001b[0m \u001b[0mdistgen\u001b[0m\u001b[0;34m.\u001b[0m\u001b[0mgenerator\u001b[0m \u001b[0;32mimport\u001b[0m \u001b[0mGenerator\u001b[0m\u001b[0;34m\u001b[0m\u001b[0;34m\u001b[0m\u001b[0m\n\u001b[0m\u001b[1;32m      3\u001b[0m \u001b[0;32mfrom\u001b[0m \u001b[0mdistgen\u001b[0m\u001b[0;34m.\u001b[0m\u001b[0mplot\u001b[0m \u001b[0;32mimport\u001b[0m \u001b[0mplot_dist2d\u001b[0m\u001b[0;34m,\u001b[0m \u001b[0mplot_radial_dist\u001b[0m\u001b[0;34m\u001b[0m\u001b[0;34m\u001b[0m\u001b[0m\n\u001b[1;32m      4\u001b[0m \u001b[0;32mfrom\u001b[0m \u001b[0mdistgen\u001b[0m\u001b[0;34m.\u001b[0m\u001b[0mphysical_constants\u001b[0m \u001b[0;32mimport\u001b[0m \u001b[0munit_registry\u001b[0m \u001b[0;32mas\u001b[0m \u001b[0munit\u001b[0m\u001b[0;34m\u001b[0m\u001b[0;34m\u001b[0m\u001b[0m\n\u001b[1;32m      5\u001b[0m \u001b[0;32mfrom\u001b[0m \u001b[0mmatplotlib\u001b[0m \u001b[0;32mimport\u001b[0m \u001b[0mpyplot\u001b[0m \u001b[0;32mas\u001b[0m \u001b[0mplt\u001b[0m\u001b[0;34m\u001b[0m\u001b[0;34m\u001b[0m\u001b[0m\n",
      "\u001b[0;32m~/Documents/GitHub/distgen/distgen/__init__.py\u001b[0m in \u001b[0;36m<module>\u001b[0;34m\u001b[0m\n\u001b[0;32m----> 1\u001b[0;31m \u001b[0;32mfrom\u001b[0m \u001b[0;34m.\u001b[0m\u001b[0mgenerator\u001b[0m \u001b[0;32mimport\u001b[0m \u001b[0mGenerator\u001b[0m\u001b[0;34m\u001b[0m\u001b[0;34m\u001b[0m\u001b[0m\n\u001b[0m\u001b[1;32m      2\u001b[0m \u001b[0;32mfrom\u001b[0m \u001b[0;34m.\u001b[0m \u001b[0;32mimport\u001b[0m \u001b[0m_version\u001b[0m\u001b[0;34m\u001b[0m\u001b[0;34m\u001b[0m\u001b[0m\n\u001b[1;32m      3\u001b[0m \u001b[0m__version__\u001b[0m \u001b[0;34m=\u001b[0m \u001b[0m_version\u001b[0m\u001b[0;34m.\u001b[0m\u001b[0mget_versions\u001b[0m\u001b[0;34m(\u001b[0m\u001b[0;34m)\u001b[0m\u001b[0;34m[\u001b[0m\u001b[0;34m'version'\u001b[0m\u001b[0;34m]\u001b[0m\u001b[0;34m\u001b[0m\u001b[0;34m\u001b[0m\u001b[0m\n",
      "\u001b[0;32m~/Documents/GitHub/distgen/distgen/generator.py\u001b[0m in \u001b[0;36m<module>\u001b[0;34m\u001b[0m\n\u001b[1;32m      1\u001b[0m \u001b[0;34m\u001b[0m\u001b[0m\n\u001b[0;32m----> 2\u001b[0;31m \u001b[0;32mfrom\u001b[0m \u001b[0;34m.\u001b[0m \u001b[0;32mimport\u001b[0m \u001b[0marchive\u001b[0m\u001b[0;34m\u001b[0m\u001b[0;34m\u001b[0m\u001b[0m\n\u001b[0m\u001b[1;32m      3\u001b[0m \u001b[0;34m\u001b[0m\u001b[0m\n\u001b[1;32m      4\u001b[0m \u001b[0;32mfrom\u001b[0m \u001b[0;34m.\u001b[0m\u001b[0mbeam\u001b[0m \u001b[0;32mimport\u001b[0m \u001b[0mBeam\u001b[0m\u001b[0;34m\u001b[0m\u001b[0;34m\u001b[0m\u001b[0m\n\u001b[1;32m      5\u001b[0m \u001b[0;34m\u001b[0m\u001b[0m\n",
      "\u001b[0;32m~/Documents/GitHub/distgen/distgen/archive.py\u001b[0m in \u001b[0;36m<module>\u001b[0;34m\u001b[0m\n\u001b[1;32m      2\u001b[0m \u001b[0;34m\u001b[0m\u001b[0m\n\u001b[1;32m      3\u001b[0m \u001b[0;32mfrom\u001b[0m \u001b[0;34m.\u001b[0m\u001b[0mtools\u001b[0m \u001b[0;32mimport\u001b[0m \u001b[0misotime\u001b[0m\u001b[0;34m,\u001b[0m \u001b[0mflatten_dict\u001b[0m\u001b[0;34m,\u001b[0m \u001b[0munflatten_dict\u001b[0m\u001b[0;34m\u001b[0m\u001b[0;34m\u001b[0m\u001b[0m\n\u001b[0;32m----> 4\u001b[0;31m \u001b[0;32mfrom\u001b[0m \u001b[0;34m.\u001b[0m\u001b[0m_version\u001b[0m \u001b[0;32mimport\u001b[0m \u001b[0m__version__\u001b[0m\u001b[0;34m\u001b[0m\u001b[0;34m\u001b[0m\u001b[0m\n\u001b[0m\u001b[1;32m      5\u001b[0m \u001b[0;34m\u001b[0m\u001b[0m\n\u001b[1;32m      6\u001b[0m \u001b[0;34m\u001b[0m\u001b[0m\n",
      "\u001b[0;31mImportError\u001b[0m: cannot import name '__version__' from 'distgen._version' (/Users/colwyngulliford/Documents/GitHub/distgen/distgen/_version.py)"
     ]
    }
   ],
   "source": [
    "units = {'x':'mm','y':'mm','r':'mm','z':'mm','px':'keV/c','py':'keV/c','pz':'MeV/c','t':'ps','q':'pC','thetax':'mrad','thetay':'mrad'}\n",
    "from distgen.generator import Generator\n",
    "from distgen.plot import plot_dist2d, plot_radial_dist\n",
    "from distgen.physical_constants import unit_registry as unit\n",
    "from matplotlib import pyplot as plt\n",
    "import yaml\n",
    "import numpy as np"
   ]
  },
  {
   "cell_type": "markdown",
   "metadata": {},
   "source": [
    "A set of transformations can be applied to a beam when it is created by adding a dictionary called 'transforms' at the top level of the Distgen input structure (in either dictionary or YAML format).\n",
    "\n",
    "\n",
    "Transformations are added to this dictionary with a unique identifier key.  The key `'order'` is protected and should not be used. Each transformation definition must be a dictionary containing a `'type'` key associated with a known transform function and the variable(s) it acts on.  A simple example is given by a translation in x: the type key is then \"type: translate x\".  All input parameters for the transformation should be input at the same level as the 'type' key. Physical quantities with units should be dictionaries with a 'value' and 'units' key/value pair supplied. \n",
    "\n",
    "Unless specified, transformations are applied in the order they are input in the transforms dictionary. Because transformation operations often do not commute, the user may specify a desired order by adding a list of transformation ID's to the tranform dictionary using the key `'order'`. Because python and yaml do not universally guarantee order is preserved, it is recommended to always specify the order list when the number of transforms is more than one.\n",
    "\n",
    "In the example below, two transforms are include: scaling a round beam so that it is oval, and then rotated the beam by 45 deg.  In this example the full input to Distgen is printed, in subsequent examples, only the transform details are printed."
   ]
  },
  {
   "cell_type": "code",
   "execution_count": null,
   "metadata": {},
   "outputs": [],
   "source": [
    "gen = Generator('data/beer.can.in.yaml', verbose=0) \n",
    "initial_beam = gen.beam()\n",
    "\n",
    "setstdx = {'type':'set_std x', 'sigma_x':{'value': 3, 'units': 'mm'}}\n",
    "rot2dxy = {'type':'rotate2d x:y', 'angle':{'value':45, 'units':'deg'}}\n",
    "transy = {'type': 'translate y', 'delta': {'value': 1, 'units': 'mm'}}\n",
    "\n",
    "gen.input['transforms']={'t1':setstdx, 't2':rot2dxy, 't3':transy, 'order':['t1', 't2', 't3']}\n",
    "\n",
    "print(gen)\n",
    "final_beam = gen.beam()\n",
    "\n",
    "fig, ax = plt.subplots(1, 2, sharex='col',constrained_layout=True)\n",
    "\n",
    "plot_dist2d(initial_beam, 'x', units['x'], 'y', units['y'], axis='equal', ax=ax[0]);\n",
    "ax[0].set_title('Before transforms');\n",
    "\n",
    "plot_dist2d(final_beam, 'x', units['x'], 'y', units['y'], axis='equal', ax=ax[1]);\n",
    "ax[1].set_title('After transforms');"
   ]
  },
  {
   "cell_type": "markdown",
   "metadata": {},
   "source": [
    "Distgen provides a set of basic transformation utilities that can be applied the particle coordinates of a beam object.  Here the basic examples are discused: the transformation functions are defined as well as how to use them from the standard Distgen input structure.  Note the these transformation operations do not in general commute.\n",
    "\n",
    "The primary example used is that of a uniform radial distribution."
   ]
  },
  {
   "cell_type": "markdown",
   "metadata": {},
   "source": [
    "# Translations"
   ]
  },
  {
   "cell_type": "markdown",
   "metadata": {},
   "source": [
    "Translations of the coordinate $u$ are defined by: $u\\rightarrow u + \\Delta u$."
   ]
  },
  {
   "cell_type": "code",
   "execution_count": null,
   "metadata": {},
   "outputs": [],
   "source": [
    "# Translations: a translation of a single coordinate are handled by transforms.translate\n",
    "from distgen.transforms import translate\n",
    "\n",
    "gen=Generator('data/beer.can.in.yaml',verbose=0)\n",
    "beam1=gen.beam()\n",
    "\n",
    "transx = {'type':'translate x', 'delta':{'value':+3, 'units':'mm'}}\n",
    "transy = {'type':'translate y', 'delta':{'value':-1, 'units':'mm'}}\n",
    "\n",
    "gen.input['transforms']={'tx':transx, 'ty':transy, 'order':['tx','ty']}\n",
    "beam2 = gen.beam()\n",
    "\n",
    "print('Input:\\n',yaml.dump(gen.input['transforms']))\n",
    "\n",
    "fig, ax = plt.subplots(1, 2, sharex='col',constrained_layout=True)\n",
    "\n",
    "plot_dist2d(beam1, 'x', units['x'], 'y', units['y'], axis='equal', ax=ax[0], title_on=True);\n",
    "ax[0].set_title(f'Before\\n{ax[0].get_title()}')\n",
    "\n",
    "plot_dist2d(beam2, 'x', units['x'], 'y', units['y'], axis='equal', ax=ax[1], title_on=True);\n",
    "ax[1].set_title(f'After\\n{ax[1].get_title()}');"
   ]
  },
  {
   "cell_type": "code",
   "execution_count": null,
   "metadata": {},
   "outputs": [],
   "source": [
    "gen=Generator('data/beer.can.in.yaml',verbose=0)\n",
    "beam1=gen.beam()\n",
    "\n",
    "setavgx = {'type':'set_avg x', 'avg_x':{'value':+3, 'units':'mm'}}\n",
    "setavgy = {'type':'set_avg y', 'avg_y':{'value':-1, 'units':'mm'}}\n",
    "\n",
    "gen.input['transforms']={'tx':setavgx, 'ty':setavgy, 'order':['tx', 'ty']}\n",
    "beam2 = gen.beam()\n",
    "print('Input:\\n',yaml.dump(gen.input['transforms']))\n",
    "\n",
    "fig, ax = plt.subplots(1, 2, sharex='col',constrained_layout=True)\n",
    "\n",
    "plot_dist2d(beam1, 'x', units['x'], 'y', units['y'], axis='equal', ax=ax[0], title_on=True);\n",
    "ax[0].set_title(f'Before\\n{ax[0].get_title()}')\n",
    "\n",
    "plot_dist2d(beam2, 'x', units['x'], 'y', units[\"y\"], axis='equal', ax=ax[1], title_on=True);\n",
    "ax[1].set_title(f'After\\n{ax[1].get_title()}');"
   ]
  },
  {
   "cell_type": "markdown",
   "metadata": {},
   "source": [
    "# Scaling"
   ]
  },
  {
   "cell_type": "markdown",
   "metadata": {},
   "source": [
    "Basic scaling is handled using transforms.scale.  To scale the $x$ coordinate of the beam by $\\alpha$ use:\n",
    "\n",
    "scale(beam,'x',$\\alpha$) \n",
    "\n",
    "where $\\alpha$ is a dimensionless quantity or float.  Note that if the $<x>\\neq0$ then \n",
    "$<x>\\rightarrow\\alpha<x>$.  It is possible to fix the average value under scaling using:\n",
    "\n",
    "scale(beam, 'x', $\\alpha$, fix_average='True') \n"
   ]
  },
  {
   "cell_type": "code",
   "execution_count": null,
   "metadata": {},
   "outputs": [],
   "source": [
    "from distgen.transforms import scale\n",
    "\n",
    "gen=Generator('data/beer.can.in.yaml',verbose=0)\n",
    "beam1 = gen.beam()\n",
    "\n",
    "transx = {'type':'translate x', 'delta':{'value': 3,'units': 'mm'}}\n",
    "scalex = {'type':'scale x', 'scale':2,}\n",
    "\n",
    "gen.input['transforms']={'t1':transx, 't2':scalex, 'order':['t1','t2']}\n",
    "beam1 = gen.beam()\n",
    "\n",
    "scalex['fix_average']=True\n",
    "\n",
    "gen.input['transforms']={'t':transx, 's':scalex, 'order':['t','s']}\n",
    "beam2 = gen.beam()\n",
    "\n",
    "print('Input:\\n',yaml.dump(gen.input['transforms']))\n",
    "\n",
    "fig, ax = plt.subplots(1, 2, constrained_layout=True)\n",
    "\n",
    "plot_dist2d(beam1, 'x', units['x'], 'y', units[\"y\"], axis='equal', ax=ax[0]);\n",
    "ax[0].set_title('Default scaling (average scaled)');\n",
    "\n",
    "plot_dist2d(beam2, 'x', units['x'], 'y', units['y'], axis='equal', ax=ax[1]);\n",
    "ax[1].set_title('Scaling with average fixed');"
   ]
  },
  {
   "cell_type": "code",
   "execution_count": null,
   "metadata": {},
   "outputs": [],
   "source": [
    "from distgen.transforms import set_stdxy\n",
    "\n",
    "gen=Generator('data/beer.can.in.yaml',verbose=0)\n",
    "beam1 = gen.beam()\n",
    "\n",
    "scalex = {'type':'set_stdxy x:y', 'sigma_xy':{'value':3.4, 'units': 'mm'},}\n",
    "\n",
    "gen.input['transforms']={'t1':scalex}\n",
    "beam2 = gen.beam()\n",
    "\n",
    "plot_dist2d(beam2, 'x', units['x'], 'y', units[\"y\"], axis='equal', title_on=True);\n"
   ]
  },
  {
   "cell_type": "markdown",
   "metadata": {},
   "source": [
    "# Shift and Scale a single coordinate"
   ]
  },
  {
   "cell_type": "markdown",
   "metadata": {},
   "source": [
    "It is possible to combine a translation with a scaling operation to shift and rescale a coordinate\n",
    "to have a new standard deviation while keeping the form of the underlying coordinate distribution unchanged. This is accomplished using transforms.set_avg_and_std(...)"
   ]
  },
  {
   "cell_type": "code",
   "execution_count": null,
   "metadata": {},
   "outputs": [],
   "source": [
    "from distgen.transforms import set_avg_and_std\n",
    "\n",
    "gen=Generator('data/beer.can.in.yaml',verbose=0)\n",
    "\n",
    "setx = {\n",
    "    'type':'set_avg_and_std x',\n",
    "    'avg_x':  {'value': -3, 'units': 'mm'},\n",
    "    'sigma_x':{'value':  5, 'units': 'mm'}\n",
    "}\n",
    "\n",
    "gen.input['transforms']={'sx':setx}\n",
    "beam = gen.beam()\n",
    "\n",
    "print('Input:\\n',yaml.dump(gen.input['transforms']))\n",
    "\n",
    "plot_dist2d(beam, 'x', units['x'], 'y', units['y'], axis='equal', title_on=True);"
   ]
  },
  {
   "cell_type": "markdown",
   "metadata": {},
   "source": [
    "# Rotating coordinates"
   ]
  },
  {
   "cell_type": "markdown",
   "metadata": {},
   "source": [
    "Rotation between two coordinates is accomplished using transforms.rotate2d.  In addition to the beam \n",
    "object, the user must specify the variables to rotate.  This can be done in a string of the form 'var1:var2' or as a list of strs ['var1','var2'].  The variables supplied must have the same type of units.  The user must also specify an angle in radians or degrees to rotate by. "
   ]
  },
  {
   "cell_type": "markdown",
   "metadata": {},
   "source": [
    "Note, the default behavior is to rotate around the coordinate origins (not the coordinate averages) as seen in the plot on the left below. The rotation can be performed about a different origin by setting the keyword arguement 'origin'.  Often it is desirable to set the origin of rotation to be the coordinate centroids. This is done by setting origin='centroid' (as seen in the plot on the right below)."
   ]
  },
  {
   "cell_type": "code",
   "execution_count": null,
   "metadata": {},
   "outputs": [],
   "source": [
    "from distgen.transforms import rotate2d\n",
    "\n",
    "gen=Generator('data/beer.can.in.yaml',verbose=0)\n",
    "\n",
    "scalex = {'type':'scale x', 'scale':3}\n",
    "shiftx = {'type': 'translate x', 'delta': {'value': 5, 'units': 'mm'}}\n",
    "rotxy = {'type':'rotate2d x:y', 'angle':{'value':45, 'units':'deg'}}\n",
    "            \n",
    "gen.input['transforms']={'sx':scalex, 'shx':shiftx, 'rxy':rotxy, 'order':['sx','shx','rxy']}\n",
    "obeam = gen.beam()\n",
    "\n",
    "# do with rotation around centroid\n",
    "gen.input['transforms']['rxy']['origin']='centroid'\n",
    "\n",
    "cbeam = gen.beam()\n",
    "print('YAML input:\\n', yaml.dump(gen.input['transforms']))\n",
    "\n",
    "fig, ax = plt.subplots(1, 2, sharex='col',constrained_layout=True)\n",
    "plot_dist2d(obeam, 'x', units['x'], 'y', units['y'], ax=ax[0], axis=\"equal\");\n",
    "ax[0].set_title('Rotated around origin');\n",
    "\n",
    "plot_dist2d(cbeam, 'x', units['x'], 'y', units['y'], ax=ax[1], axis=\"equal\");\n",
    "ax[1].set_title('Rotated around centroids');"
   ]
  },
  {
   "cell_type": "markdown",
   "metadata": {},
   "source": [
    "# Shear"
   ]
  },
  {
   "cell_type": "markdown",
   "metadata": {},
   "source": [
    "The shear operation allows one to apply a sheer in a 2D subspace according of the form:\n",
    "\n",
    "$v\\rightarrow v + \\alpha u$\n",
    "\n",
    "This can be useful in a variety of cases such as drifting particles."
   ]
  },
  {
   "cell_type": "code",
   "execution_count": null,
   "metadata": {},
   "outputs": [],
   "source": [
    "from distgen.transforms import shear\n",
    "\n",
    "gen=Generator('data/x.y.uniform.in.yaml',verbose=0)\n",
    "beam1=gen.beam()\n",
    "\n",
    "gen.input['transforms']= {'s':{'type':'shear x:y', 'shear_coefficient':{'value': 0.5, 'units': ''}} }\n",
    "beam2=gen.beam()\n",
    "print('YAML:\\n',yaml.dump(gen.input['transforms']))\n",
    "\n",
    "fig, ax = plt.subplots(1, 2, constrained_layout=True)\n",
    "plot_dist2d(beam1, 'x', units['x'], 'y', units['y'], axis=\"equal\",ax=ax[0]);\n",
    "ax[0].set_title('Before')\n",
    "\n",
    "plot_dist2d(beam2, 'x', units['x'], 'y', units['y'], axis=\"equal\", ax=ax[1]);\n",
    "ax[1].set_title('After');"
   ]
  },
  {
   "cell_type": "markdown",
   "metadata": {},
   "source": [
    "Magnetizing a cylindrical beam provides a more physically relevant application of the sheer function.  Here the magnetization \n",
    "$\\mathcal{L}$\n",
    "is added to the particle momentum in the form\n",
    "$p_x\\rightarrow p_x + \\frac{\\mathcal{L}}{\\sigma_{x,y}^2}y$\n",
    "and $p_y\\rightarrow p_y - \\frac{\\mathcal{L}}{\\sigma_{x,y}^2}x$.  This results in a transverse emittance of\n",
    "$\\sqrt{\\epsilon_{n,x,uncor}^2 + \\mathcal{L}^2}$.  Note that using the definitions of cylindrical variables it is possible to show this is equivalent to a sheer of \n",
    "$p_{\\theta}\\rightarrow p_{\\theta}-\\frac{\\mathcal{L}}{\\sigma_{x,y}^2}r$. "
   ]
  },
  {
   "cell_type": "markdown",
   "metadata": {},
   "source": [
    "For symplicity, a magnetization function has been defined to perform the above transform given the magnetization $\\mathcal{L}$.  Currently this assumes a cylindrically symmetric bunch."
   ]
  },
  {
   "cell_type": "code",
   "execution_count": null,
   "metadata": {},
   "outputs": [],
   "source": [
    "from distgen.physical_constants import MC2\n",
    "from distgen.transforms import magnetize\n",
    "\n",
    "gen = Generator('data/beer.can.in.yaml',verbose=0)\n",
    "\n",
    "fig, ax = plt.subplots(1, 2, constrained_layout=True, figsize=(10,4))\n",
    "\n",
    "ibeam = gen.beam()\n",
    "plot_dist2d(ibeam, 'r', units['r'], 'ptheta', units['px'], ax=ax[0], title_on=True);\n",
    "ax[0].set_title(f'Before\\n{ax[0].get_title()}')\n",
    "\n",
    "Lmag = -50*unit('micrometers')*MC2.magnitude*unit('eV/c')\n",
    "\n",
    "magnetize = {\n",
    "    'type':'magnetize r:ptheta',\n",
    "    'magnetization':{'value': Lmag.magnitude, 'units': str(Lmag.units)}\n",
    "}\n",
    "\n",
    "gen.input['transforms']={'m':magnetize}\n",
    "print('YAML:\\n',yaml.dump(gen.input['transforms']))\n",
    "\n",
    "fbeam = gen.beam()\n",
    "plot_dist2d(fbeam, 'r', units['r'], 'ptheta', units['px'], ax=ax[1], title_on=True);\n",
    "ax[1].set_title(f'After\\n{ax[1].get_title()}');\n",
    "\n",
    "eni = 0.5*(ibeam.emitt('x','normalized') + ibeam.emitt('y', 'normalized'))\n",
    "enf = 0.5*(fbeam.emitt('x','normalized') + fbeam.emitt('y', 'normalized'))\n",
    "\n",
    "enf0 = np.sqrt(eni**2 + (Lmag/(1*unit('GB')))**2)\n",
    "err = (enf/enf0-1)\n",
    "\n",
    "print(f'Initial emittance: {eni.to(\"um\"):G~P}')\n",
    "print(f'Final emittance: {enf.to(\"um\"):G~P}')\n",
    "print(f'Error: {100*err.magnitude} %')"
   ]
  },
  {
   "cell_type": "markdown",
   "metadata": {},
   "source": [
    "# Polynomial\n",
    "\n",
    "It is possible to apply a polynomial map in one beam variable to a second using the polynomial function:\n",
    "\n",
    "$p \\rightarrow p + \\sum_{n=0}^N a_n (x-\\mathcal{O})^n$.  \n",
    "\n",
    "Here $p_i$ is the dependent variable before the transformation (this term can be left out by specifying the keyword zero_dependent_var=True),  the $a_n$ specify the polynomial coefficients, and $\\mathcal{O}$ is the expansion origin.  In the example used below, a quartic polynomial in $z$ is applied to $p_z$ mimicing the effect of an RF cavity:"
   ]
  },
  {
   "cell_type": "code",
   "execution_count": null,
   "metadata": {},
   "outputs": [],
   "source": [
    "from distgen.generator import Generator\n",
    "from distgen.physical_constants import pi,c\n",
    "from distgen.transforms import polynomial\n",
    "import numpy as np\n",
    "\n",
    "gen=Generator('data/gaussian.in.yaml',verbose=0)\n",
    "\n",
    "V0 = 1000*unit('MeV/c')\n",
    "w = 2*pi*1.3*unit('GHz')\n",
    "k = w/c\n",
    "phi = -2.5*unit('deg')\n",
    "c3 = -0.5*V0*k**2\n",
    "\n",
    "polytrans = {\n",
    "    'type':'polynomial z:pz',\n",
    "    'coefficients':[\n",
    "        {'value': V0.magnitude, 'units': str(V0.units)},\n",
    "        {'value': 0.0, 'units': 'eV/c/meter'},\n",
    "        {'value': c3.magnitude, 'units': str(c3.units)},\n",
    "    ]\n",
    "}\n",
    "\n",
    "gen.input['transforms']={'pt':polytrans}\n",
    "\n",
    "beam = gen.beam()\n",
    "print('YAML input:\\n',yaml.dump(gen.input['transforms']))\n",
    "\n",
    "plot_dist2d(beam, 'z', units['z'], 'pz', units['pz']);"
   ]
  },
  {
   "cell_type": "markdown",
   "metadata": {},
   "source": [
    "# Cosine\n",
    "\n",
    "It is often convenient to impart a cosine like energy spread to beam's longitudinal momentum.  This can be accomplished using the cosine transform:\n",
    "\n",
    "$p \\rightarrow p + A\\cos(\\omega v + \\phi)$."
   ]
  },
  {
   "cell_type": "code",
   "execution_count": null,
   "metadata": {},
   "outputs": [],
   "source": [
    "from distgen.generator import Generator\n",
    "from distgen.physical_constants import pi,c\n",
    "from distgen.transforms import cosine\n",
    "import numpy as np\n",
    "\n",
    "gen=Generator('data/gaussian.in.yaml',verbose=0)\n",
    "\n",
    "w = 2*pi*1.3*unit('GHz')\n",
    "k = w/c\n",
    "\n",
    "tcos = {\n",
    "    'type':'cosine z:pz',\n",
    "    'amplitude':{'value':1000, 'units':'MeV/c'},\n",
    "    'phase':{'value':-2.5, 'units':'deg'},\n",
    "    'omega':{'value': k.magnitude, 'units': str(k.units)}\n",
    "}\n",
    "\n",
    "gen.input['transforms']={'tc':tcos}\n",
    "\n",
    "beam = gen.beam()\n",
    "print('YAML input:\\n',yaml.dump(gen.input['transforms']))\n",
    "\n",
    "plot_dist2d(beam, 'z', units['z'], 'pz', units['pz']);"
   ]
  },
  {
   "cell_type": "markdown",
   "metadata": {},
   "source": [
    "# Setting Twiss parameters \n",
    "\n",
    "Often for beams at energy the user may wish to set beam Twiss parameters $\\beta$, $\\alpha$, and $\\epsilon$ for a desired 2D phase space."
   ]
  },
  {
   "cell_type": "code",
   "execution_count": null,
   "metadata": {},
   "outputs": [],
   "source": [
    "from distgen.transforms import set_twiss, translate\n",
    "from distgen.generator import Generator\n",
    "filename = \"data/gaussian.in.yaml\"\n",
    "\n",
    "gen = Generator(filename, verbose=0) \n",
    "\n",
    "boost_pz = {'type':'translate pz',  'delta': { 'value':1, 'units':'GeV/c',}}\n",
    "\n",
    "gen.input['transforms']={'boost':boost_pz}\n",
    "beam1 = gen.beam()\n",
    "\n",
    "twiss_x = {\n",
    "    'type':'set_twiss x', \n",
    "    'beta': {'value':12.5, 'units':'m',},\n",
    "    'alpha':{'value':-1, 'units':''},\n",
    "    'emittance': {'value':2, 'units':'nm'}\n",
    "}\n",
    "\n",
    "gen.input['transforms']={'boost':boost_pz, 'twiss':twiss_x, 'order':['boost','twiss']}\n",
    "beam2 = gen.beam()\n",
    "\n",
    "print('YAML input:\\n',yaml.dump(gen.input['transforms']))\n",
    "\n",
    "print('Initial Horizontal Twiss params:')\n",
    "print(f'beta: {beam1.Beta(\"x\"):G~P}, alpha: {beam1.Alpha(\"x\"):G~P}, eps: {beam1.emitt(\"x\",\"geometric\").to(\"nm\"):0.3f~P}')\n",
    "\n",
    "fig, ax = plt.subplots(1, 2, constrained_layout=True)\n",
    "plot_dist2d(beam1, 'x', units['x'], 'thetax', units['thetax'], ax=ax[0]);\n",
    "ax[0].set_title('Before')\n",
    "\n",
    "plot_dist2d(beam2, 'x', units['x'], 'thetax', units[\"thetax\"], ax=ax[1]);\n",
    "ax[1].set_title('After');\n",
    "\n",
    "print('\\nFinal Horizontal Twiss params:')\n",
    "print(f'beta: {beam2.Beta(\"x\"):G~P}, alpha: {beam2.Alpha(\"x\"):G~P}, eps: {beam2.emitt(\"x\",\"geometric\").to(\"nm\"):0.3f~P}')"
   ]
  }
 ],
 "metadata": {
  "kernelspec": {
   "display_name": "Python 3",
   "language": "python",
   "name": "python3"
  },
  "language_info": {
   "codemirror_mode": {
    "name": "ipython",
    "version": 3
   },
   "file_extension": ".py",
   "mimetype": "text/x-python",
   "name": "python",
   "nbconvert_exporter": "python",
   "pygments_lexer": "ipython3",
   "version": "3.9.2"
  }
 },
 "nbformat": 4,
 "nbformat_minor": 4
}
