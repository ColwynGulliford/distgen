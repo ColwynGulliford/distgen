{
 "cells": [
  {
   "cell_type": "code",
   "execution_count": 1,
   "metadata": {},
   "outputs": [],
   "source": [
    "# Useful for debugging\n",
    "%load_ext autoreload\n",
    "%autoreload 2"
   ]
  },
  {
   "cell_type": "markdown",
   "metadata": {},
   "source": [
    "# Transformation utilties\n",
    "-------------------------"
   ]
  },
  {
   "cell_type": "code",
   "execution_count": 2,
   "metadata": {},
   "outputs": [],
   "source": [
    "units = {'x':'mm','y':'mm','r':'mm','z':'mm','px':'keV/c','py':'keV/c','pz':'MeV/c','t':'ps','q':'pC','thetax':'mrad','thetay':'mrad'}\n",
    "from distgen.generator import Generator\n",
    "from distgen.plot import plot_2d\n",
    "from distgen.physical_constants import unit_registry as unit\n",
    "from matplotlib import pyplot as plt"
   ]
  },
  {
   "cell_type": "markdown",
   "metadata": {},
   "source": [
    "A set of transformations can be applied to a beam when it is created by adding the transformation descriptions to the nested input dictionary structure.  All inputs to the transform function other than the variable names should go in the 'params' dictionary in the transform definition.  Physical quantities with units should be dictionaries with a 'value' and 'units' key/value pair supplied.  Transformations are applied in the order they are input in the transforms dictionary.  In the example below, two transforms are include: scaling a round beam so that it is oval, and then rotated the beam by 45 deg."
   ]
  },
  {
   "cell_type": "code",
   "execution_count": null,
   "metadata": {},
   "outputs": [],
   "source": [
    "filename = \"data/beer.can.in.json\"\n",
    "gen = Generator(filename, verbose=0) \n",
    "\n",
    "initial_beam = gen.beam()\n",
    "\n",
    "gen.input['transforms']={\n",
    "    '3mm_scale':{'type':'scale', \n",
    "                         'variables':'x', \n",
    "                         'params':{'scale': {'value':3, 'units':'dimensionless',}\n",
    "                                  }\n",
    "                },\n",
    "    'rot45deg': {'type': 'rotate2d', \n",
    "                        'variables': 'x:y', \n",
    "                        'params': {'angle': {'value': 45, 'units': 'deg'}}\n",
    "                },\n",
    "    'xshift':   {'type': 'translate', \n",
    "                        'variables': 'x', \n",
    "                        'params': {'delta': {'value': -1, 'units': 'mm'}}\n",
    "                },\n",
    "}\n",
    "\n",
    "final_beam = gen.beam()\n",
    "\n",
    "fig, ax = plt.subplots(1, 2, sharex='col',constrained_layout=True)\n",
    "\n",
    "plot_2d(initial_beam,1,\"x\",units[\"x\"],\"y\",units[\"y\"],'scatter_hist2d',nbins=100,axis=\"equal\",ax=ax[0]);\n",
    "ax[0].set_title('Before transforms');\n",
    "\n",
    "plot_2d(final_beam,1,\"x\",units[\"x\"],\"y\",units[\"y\"],'scatter_hist2d',nbins=100,axis=\"equal\",ax=ax[1]);\n",
    "ax[1].set_title('After transforms');"
   ]
  },
  {
   "cell_type": "markdown",
   "metadata": {},
   "source": [
    "Distgen provides a set of basic transformation utilities that can be applied the particle coordinates of a beam object.  Here the basic examples are discused: the transformation functions are defined as well as how to use them from the standard Distgen input structure.  Note the these transformation operations do not in general commute.\n",
    "\n",
    "The primary example used is that of a uniform radial distribution."
   ]
  },
  {
   "cell_type": "markdown",
   "metadata": {},
   "source": [
    "# Translations"
   ]
  },
  {
   "cell_type": "markdown",
   "metadata": {},
   "source": [
    "Translations of the coordinate $u$ are defined by: $u\\rightarrow u + \\Delta u$."
   ]
  },
  {
   "cell_type": "code",
   "execution_count": null,
   "metadata": {},
   "outputs": [],
   "source": [
    "# Translations: a translation of a single coordinate are handled by transforms.translate\n",
    "from distgen.transforms import translate\n",
    "\n",
    "filename = \"data/beer.can.in.json\"\n",
    "gen=Generator(filename,verbose=0)\n",
    "beam1=gen.beam()\n",
    "\n",
    "beam2 = gen.beam()\n",
    "translate(beam2,'x',+3*unit('mm'))\n",
    "translate(beam2,'y',-2*unit('mm'))\n",
    "\n",
    "fig, ax = plt.subplots(1, 2, sharex='col',constrained_layout=True)\n",
    "plot_2d(beam1,1,\"x\",units[\"x\"],\"y\",units[\"y\"],'scatter_hist2d',nbins=100,axis=\"equal\",ax=ax[0]);\n",
    "ax[0].set_title('Before')\n",
    "\n",
    "plot_2d(beam2,1,\"x\",units[\"x\"],\"y\",units[\"y\"],'scatter_hist2d',nbins=100,axis=\"equal\",ax=ax[1]);\n",
    "ax[1].set_title('After');"
   ]
  },
  {
   "cell_type": "markdown",
   "metadata": {},
   "source": [
    "# Scaling"
   ]
  },
  {
   "cell_type": "markdown",
   "metadata": {},
   "source": [
    "Basic scaling is handled using transforms.scale.  To scale the $x$ coordinate of the beam by $\\alpha$ use:\n",
    "\n",
    "scale(beam,'x',$\\alpha$) \n",
    "\n",
    "where $\\alpha$ is a dimensionless quantity or float.  Note that if the $<x>\\neq0$ then \n",
    "$<x>\\rightarrow\\alpha<x>$.  It is possible to fix the average value under scaling using:\n",
    "\n",
    "scale(beam, 'x', $\\alpha$, fix_average='True') \n"
   ]
  },
  {
   "cell_type": "code",
   "execution_count": null,
   "metadata": {},
   "outputs": [],
   "source": [
    "from distgen.transforms import scale\n",
    "gen=Generator(filename,verbose=0)\n",
    "beam1 = gen.beam()\n",
    "translate(beam1,'x',3*unit('mm'))\n",
    "scale(beam1,'x',2)\n",
    "\n",
    "beam2 = gen.beam()\n",
    "translate(beam2,'x',3*unit('mm'))\n",
    "scale(beam2,'x',2,fix_average=True)\n",
    "\n",
    "fig, ax = plt.subplots(1, 2, constrained_layout=True)\n",
    "plot_2d(beam1,1,\"x\",units[\"x\"],\"y\",units[\"y\"],'scatter_hist2d',nbins=100,axis=\"equal\",ax=ax[0]);\n",
    "ax[0].set_title('Default scaling (average scaled)')\n",
    "\n",
    "plot_2d(beam2,1,\"x\",units[\"x\"],\"y\",units[\"y\"],'scatter_hist2d',nbins=100,axis=\"equal\",ax=ax[1]);\n",
    "ax[1].set_title('Scaling with average fixed');\n"
   ]
  },
  {
   "cell_type": "markdown",
   "metadata": {},
   "source": [
    "# Shift and Scale a single coordinate"
   ]
  },
  {
   "cell_type": "markdown",
   "metadata": {},
   "source": [
    "It is possible to combine a translation with a scaling operation to shift and rescale a coordinate\n",
    "to have a new standard deviation while keeping the form of the underlying coordinate distribution unchanged. This is accomplished using transforms.set_avg_and_std(...)"
   ]
  },
  {
   "cell_type": "code",
   "execution_count": null,
   "metadata": {},
   "outputs": [],
   "source": [
    "from distgen.transforms import set_avg_and_std\n",
    "gen=Generator(filename,verbose=0)\n",
    "beam = gen.beam()\n",
    "set_avg_and_std(beam,'x',-3*unit('mm'),5*unit('mm'))\n",
    "plot_2d(beam,1,\"x\",units[\"x\"],\"y\",units[\"y\"],'scatter_hist2d',nbins=100,axis=\"equal\",title_on=True);"
   ]
  },
  {
   "cell_type": "markdown",
   "metadata": {},
   "source": [
    "# Rotating coordinates"
   ]
  },
  {
   "cell_type": "markdown",
   "metadata": {},
   "source": [
    "Rotation between two coordinates is accomplished using transforms.rotate2d.  In addition to the beam \n",
    "object, the user must specify the variables to rotate.  This can be done in a string of the form 'var1:var2' or as a list of strs ['var1','var2'].  The variables supplied must have the same type of units.  The user must also specify an angle in radians or degrees to rotate by. "
   ]
  },
  {
   "cell_type": "markdown",
   "metadata": {},
   "source": [
    "Note, the default behavior is to rotate around the coordinate origins (not the coordinate averages) as seen in the plot on the left below. The rotation can be performed about a different origin by setting the keyword arguement 'origin'.  Often it is desirable to set the origin of rotation to be the coordinate centroids. This is done by setting origin='centroid' (as seen in the plot on the right below)."
   ]
  },
  {
   "cell_type": "code",
   "execution_count": null,
   "metadata": {},
   "outputs": [],
   "source": [
    "from distgen.transforms import rotate2d\n",
    "gen=Generator(filename,verbose=0)\n",
    "\n",
    "obeam = gen.beam()\n",
    "scale(obeam,'x',3.0)\n",
    "translate(obeam,'x',5*unit('mm'))\n",
    "rotate2d(obeam, 'x:y', 45*unit('deg'))\n",
    "\n",
    "cbeam = gen.beam()\n",
    "scale(cbeam,'x',3.0)\n",
    "translate(cbeam,'x',5*unit('mm'))\n",
    "rotate2d(cbeam, 'x:y', 45*unit('deg'), origin='centroid')\n",
    "\n",
    "fig, ax = plt.subplots(1, 2, sharex='col',constrained_layout=True)\n",
    "plot_2d(obeam,1,\"x\",units[\"x\"],\"y\",units[\"y\"],'scatter_hist2d',nbins=100,ax=ax[0],axis=\"equal\");\n",
    "ax[0].set_title('Rotated around origin');\n",
    "\n",
    "plot_2d(cbeam,1,\"x\",units[\"x\"],\"y\",units[\"y\"],'scatter_hist2d',nbins=100,ax=ax[1],axis=\"equal\");\n",
    "ax[1].set_title('Rotated around centroids');"
   ]
  },
  {
   "cell_type": "markdown",
   "metadata": {},
   "source": [
    "# Shear"
   ]
  },
  {
   "cell_type": "markdown",
   "metadata": {},
   "source": [
    "The shear operation allows one to apply a sheer in a 2D subspace according of the form:\n",
    "\n",
    "$v\\rightarrow v + \\alpha u$\n",
    "\n",
    "This can be useful in a variety of cases such as drifting particles."
   ]
  },
  {
   "cell_type": "code",
   "execution_count": null,
   "metadata": {},
   "outputs": [],
   "source": [
    "from distgen.transforms import shear\n",
    "gen=Generator('data/x.y.uniform.in.json',verbose=0)\n",
    "beam1=gen.beam()\n",
    "\n",
    "beam2=gen.beam()\n",
    "shear(beam2,'x:y',0.5)\n",
    "\n",
    "fig, ax = plt.subplots(1, 2, constrained_layout=True)\n",
    "plot_2d(beam1,1,\"x\",units[\"x\"],\"y\",units[\"y\"],'scatter_hist2d',nbins=100,axis=\"equal\",ax=ax[0]);\n",
    "ax[0].set_title('Before')\n",
    "\n",
    "plot_2d(beam2,1,\"x\",units[\"x\"],\"y\",units[\"y\"],'scatter_hist2d',nbins=100,axis=\"equal\",ax=ax[1]);\n",
    "ax[1].set_title('After');"
   ]
  },
  {
   "cell_type": "markdown",
   "metadata": {},
   "source": [
    "Magnetizing a cylindrical beam provides a more physically relevant application of the sheer function.  Here the magnetization \n",
    "$\\mathcal{L}$\n",
    "is added to the particle momentum in the form\n",
    "$p_x\\rightarrow p_x + \\frac{\\mathcal{L}}{\\sigma_{x,y}^2}y$\n",
    "and $p_y\\rightarrow p_y - \\frac{\\mathcal{L}}{\\sigma_{x,y}^2}x$.  This results in a transverse emittance of\n",
    "$\\sqrt{\\epsilon_{n,x,uncor}^2 + \\mathcal{L}^2}$.  Note that using the definitions of cylindrical variables it is possible to show this is equivalent to a sheer of \n",
    "$p_{\\theta}\\rightarrow p_{\\theta}-\\frac{\\mathcal{L}}{\\sigma_{x,y}^2}r$. "
   ]
  },
  {
   "cell_type": "markdown",
   "metadata": {},
   "source": [
    "For symplicity, a magnetization function has been defined to perform the above transform given the magnetization $\\mathcal{L}$.  Currently this assumes a cylindrically symmetric bunch."
   ]
  },
  {
   "cell_type": "code",
   "execution_count": null,
   "metadata": {},
   "outputs": [],
   "source": [
    "from distgen.physical_constants import MC2\n",
    "from distgen.transforms import magnetize\n",
    "\n",
    "Lmag = -50*unit('micrometers')*MC2.magnitude*unit(\"eV/c\")\n",
    "gen = Generator(filename,verbose=0)\n",
    "beam = gen.beam()\n",
    "magnetize(beam,'r:ptheta',Lmag)\n",
    "\n",
    "plot_2d(beam,1,\"r\",units[\"r\"],\"ptheta\",units[\"px\"],'scatter_hist2d',nbins=100);"
   ]
  },
  {
   "cell_type": "markdown",
   "metadata": {},
   "source": [
    "# Polynomial\n",
    "\n",
    "It is possible to apply a polynomial map in one beam variable to a second using the polynomial function:\n",
    "\n",
    "$p \\rightarrow p + \\sum_{n=0}^N a_n (x-\\mathcal{O})^n$.  \n",
    "\n",
    "Here $p_i$ is the dependent variable before the transformation (this term can be left out by specifying the keyword zero_dependent_var=True),  the $a_n$ specify the polynomial coefficients, and $\\mathcal{O}$ is the expansion origin.  In the example used below, a quartic polynomial in $z$ is applied to $p_z$ mimicing the effect of an RF cavity:"
   ]
  },
  {
   "cell_type": "code",
   "execution_count": null,
   "metadata": {},
   "outputs": [],
   "source": [
    "from distgen.generator import Generator\n",
    "from distgen.physical_constants import pi,c\n",
    "from distgen.transforms import polynomial\n",
    "import numpy as np\n",
    "gen=Generator('data/gaussian.in.json',verbose=0)\n",
    "beam = gen.beam()\n",
    "\n",
    "V0 = 1000*unit('MeV/c')\n",
    "w = 2*pi*1.3*unit('GHz')\n",
    "k = w/c\n",
    "phi = 2.5*unit('deg')\n",
    "coeffs = [V0, 0.0*unit('eV/c / meter'), -0.5*V0*k**2]\n",
    "beam = polynomial(beam,'z:pz', coeffs, origin=phi/k)\n",
    "\n",
    "plot_2d(beam,1,\"z\",units[\"z\"],\"pz\",units[\"pz\"],'scatter_hist2d',nbins=100);"
   ]
  },
  {
   "cell_type": "markdown",
   "metadata": {},
   "source": [
    "# Cosine\n",
    "\n",
    "It is often convenient to impart a cosine like energy spread to beam's longitudinal momentum.  This can be accomplished using the cosine transform:\n",
    "\n",
    "$p \\rightarrow p + A\\cos(\\omega v + \\phi)$."
   ]
  },
  {
   "cell_type": "code",
   "execution_count": null,
   "metadata": {},
   "outputs": [],
   "source": [
    "from distgen.generator import Generator\n",
    "from distgen.physical_constants import pi,c\n",
    "from distgen.transforms import cosine\n",
    "import numpy as np\n",
    "gen=Generator('data/gaussian.in.json',verbose=0)\n",
    "beam = gen.beam()\n",
    "\n",
    "V0 = 1000*unit('MeV/c')\n",
    "w = 2*pi*1.3*unit('GHz')\n",
    "k = w/c\n",
    "phi = -2.5*unit('deg')\n",
    "beam = cosine(beam,'z:pz', amplitude=V0, phase=phi, omega = k)\n",
    "\n",
    "plot_2d(beam,1,\"z\",units[\"z\"],\"pz\",units[\"pz\"],'scatter_hist2d',nbins=100);"
   ]
  },
  {
   "cell_type": "markdown",
   "metadata": {},
   "source": [
    "# Setting Twiss parameters \n",
    "\n",
    "Often for beams at energy the user may wish to set beam Twiss parameters $\\beta$, $\\alpha$, and $\\epsilon$ for a desired 2D phase space."
   ]
  },
  {
   "cell_type": "code",
   "execution_count": null,
   "metadata": {},
   "outputs": [],
   "source": [
    "from distgen.transforms import set_twiss, translate\n",
    "from distgen.generator import Generator\n",
    "filename = \"data/gaussian.in.json\"\n",
    "\n",
    "gen = Generator(filename, verbose=0) \n",
    "gen.input['transforms']={'boost':{'type':'translate', \n",
    "                         'variables':'pz', \n",
    "                         'params':{'delta': {'value':1, 'units':'GeV/c',}}}}\n",
    "\n",
    "beam = gen.beam()\n",
    "\n",
    "beta = 12.5*unit('m')\n",
    "alpha = -1*unit('')\n",
    "eps = 2*unit('nm')\n",
    "\n",
    "beam2 = gen.beam()\n",
    "beam2 = set_twiss(beam2, 'x', beta, alpha, eps)\n",
    "\n",
    "print('Initial Horizontal Twiss params:')\n",
    "print('beta: {:0.3f~P}'.format(beam.beta('x'))+', alpha: {:0.3f~P}'.format(beam.alpha('x'))+', eps: {:0.3f~P}'.format((beam.emitt('x','geometric')).to('nm')))\n",
    "\n",
    "fig, ax = plt.subplots(1, 2, constrained_layout=True)\n",
    "plot_2d(beam,1,\"x\",units[\"x\"],\"thetax\",units[\"thetax\"],'scatter_hist2d',nbins=100,ax=ax[0]);\n",
    "ax[0].set_title('Before')\n",
    "\n",
    "plot_2d(beam2,1,\"x\",units[\"x\"],\"thetax\",units[\"thetax\"],'scatter_hist2d',nbins=100,ax=ax[1]);\n",
    "ax[1].set_title('After');\n",
    "\n",
    "print('\\nFinal Horizontal Twiss params:')\n",
    "print('beta: {:0.3f~P}'.format(beam2.beta('x'))+', alpha: {:0.3f~P}'.format(beam2.alpha('x'))+', eps: {:0.3f~P}'.format((beam2.emitt('x','geometric')).to('nm')))"
   ]
  },
  {
   "cell_type": "code",
   "execution_count": null,
   "metadata": {},
   "outputs": [],
   "source": []
  }
 ],
 "metadata": {
  "kernelspec": {
   "display_name": "Python 3",
   "language": "python",
   "name": "python3"
  },
  "language_info": {
   "codemirror_mode": {
    "name": "ipython",
    "version": 3
   },
   "file_extension": ".py",
   "mimetype": "text/x-python",
   "name": "python",
   "nbconvert_exporter": "python",
   "pygments_lexer": "ipython3",
   "version": "3.6.10"
  }
 },
 "nbformat": 4,
 "nbformat_minor": 4
}
