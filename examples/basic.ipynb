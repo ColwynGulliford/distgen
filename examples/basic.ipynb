{
 "cells": [
  {
   "cell_type": "code",
   "execution_count": 1,
   "metadata": {},
   "outputs": [],
   "source": [
    "# Useful for debugging\n",
    "%load_ext autoreload\n",
    "%autoreload 2"
   ]
  },
  {
   "cell_type": "markdown",
   "metadata": {},
   "source": [
    "# Distgen basic usage\n",
    "--------------------"
   ]
  },
  {
   "cell_type": "markdown",
   "metadata": {},
   "source": [
    "Distgen supports nearly arbitrary generation of 6D + time particle coordinates.  "
   ]
  },
  {
   "cell_type": "markdown",
   "metadata": {},
   "source": [
    "# Generator"
   ]
  },
  {
   "cell_type": "markdown",
   "metadata": {},
   "source": [
    "Generator class defines the main object that creates a beam distribution.  Typical usage is to supply the Generator.\\_\\_init\\_\\_(input,verbose) with an input file name and a verbose boolean value to control the level of output printed to the user.  Input files can be either json or YAML.  To produce a beam distribution, call Generator.beam().  "
   ]
  },
  {
   "cell_type": "code",
   "execution_count": 2,
   "metadata": {},
   "outputs": [],
   "source": [
    "# Basic Example using a json file:\n",
    "input_file = \"data/rad.gaussian.in.json\"\n",
    "from distgen import Generator"
   ]
  },
  {
   "cell_type": "code",
   "execution_count": 7,
   "metadata": {},
   "outputs": [],
   "source": [
    "# Create a generator object\n",
    "gen = Generator(input_file, verbose=0) "
   ]
  },
  {
   "cell_type": "markdown",
   "metadata": {},
   "source": [
    "Printing a Generator object displays the input data read from a distgen input file:"
   ]
  },
  {
   "cell_type": "code",
   "execution_count": 8,
   "metadata": {},
   "outputs": [
    {
     "name": "stdout",
     "output_type": "stream",
     "text": [
      "<disgten.Generator with input: \n",
      "beam:\n",
      "  params:\n",
      "    MTE:\n",
      "      units: meV\n",
      "      value: 150\n",
      "    total_charge:\n",
      "      units: pC\n",
      "      value: 10\n",
      "  particle_count: 200000\n",
      "  rand_type: hammersley\n",
      "  start_type: cathode\n",
      "output:\n",
      "  file: rad.gaussian.out.txt\n",
      "  type: gpt\n",
      "r_dist:\n",
      "  params:\n",
      "    sigma_xy:\n",
      "      units: mm\n",
      "      value: 2\n",
      "  type: radial_gaussian\n",
      "t_dist:\n",
      "  params:\n",
      "    max_t:\n",
      "      units: ps\n",
      "      value: 2\n",
      "    min_t:\n",
      "      units: ps\n",
      "      value: -2\n",
      "  type: uniform\n",
      "\n",
      ">\n"
     ]
    }
   ],
   "source": [
    "print(gen)"
   ]
  },
  {
   "cell_type": "markdown",
   "metadata": {},
   "source": [
    "The input structure allows for four top levels: beam, var_dists, transforms, and output.  Any other input will throw an exception when attempting to create the beam:"
   ]
  },
  {
   "cell_type": "code",
   "execution_count": 10,
   "metadata": {},
   "outputs": [
    {
     "name": "stdout",
     "output_type": "stream",
     "text": [
      "Unexpected distgen input parameter: foo\n"
     ]
    }
   ],
   "source": [
    "try:\n",
    "    gen.input['foo']='bar'\n",
    "    gen.beam()   \n",
    "except Exception as ex:\n",
    "    print(ex)"
   ]
  },
  {
   "cell_type": "markdown",
   "metadata": {},
   "source": [
    "# Beam Object"
   ]
  },
  {
   "cell_type": "markdown",
   "metadata": {},
   "source": [
    "The particle coordinates created by the Generator class are stored in a beam obect.  The main underlying coordinates are the 6D phase space coordinates $x$, $y$, $z$, $p_x$, $p_y$, $p_z$, and time $t$.  These can be accessed via the [...] operator.  The bunch charge is given by beam.q."
   ]
  },
  {
   "cell_type": "code",
   "execution_count": 12,
   "metadata": {},
   "outputs": [
    {
     "name": "stdout",
     "output_type": "stream",
     "text": [
      "X coordinates: [0.0007186821990022249 0.0025719423335885303 0.0017315595335433654 ... 0.002841790247471585 0.001973987431900489 0.004164315402213629] meter\n",
      "Bunch charge: 10 picocoulomb\n"
     ]
    }
   ],
   "source": [
    "gen = Generator(input_file, verbose=0) \n",
    "beam = gen.beam()\n",
    "print(\"X coordinates:\", beam[\"x\"])\n",
    "print(\"Bunch charge:\",beam.q)"
   ]
  },
  {
   "cell_type": "markdown",
   "metadata": {},
   "source": [
    "Currently, the code assumes one particle species (default: electrons) per beam object.  The bunch contains an array of particle weights (currently uniform) for use with averaging.  The particle weights $w$ are normalized $\\sum_i{w_i}=1$ and are used for computing expectation values over the particle ensemble. \n",
    "\n",
    "Simple examples include beam.avg: $\\langle\\mathcal{O}\\rangle = \\sum_i w_i\\mathcal{O}_i$ and beam.std(): $\\sigma_{\\mathcal{O}} = \\sqrt{\\sum_i{w_i(\\mathcal{O}_i-\\langle\\mathcal{O}\\rangle)^2}}$.\n",
    "\n",
    "Other examples include the normalized and geometric emittance and the twiss parameters $\\beta$ and $\\alpha$  (See the distgen.beam.py).\n",
    "\n"
   ]
  },
  {
   "cell_type": "code",
   "execution_count": null,
   "metadata": {},
   "outputs": [],
   "source": [
    "import numpy as np\n",
    "print(\"Beam species:\",beam.species)\n",
    "print(\"Weights:\",beam[\"w\"])\n",
    "print(\"Normalization sum(weights): \",np.sum(beam[\"w\"]))\n",
    "print('Avgerage of X: {:0.3f~P}'.format(beam.avg(\"x\")))\n",
    "print('Standard Deviation of X: {:0.3f~P}'.format(beam.std(\"x\",desired_units=\"mm\")))"
   ]
  },
  {
   "cell_type": "markdown",
   "metadata": {},
   "source": [
    "The beam object supports a limited number of input params: total_charge, MTE (for cathode start), tstart (for tstart), and specieis (CURRENTLY DEFAULTS TO ELECTRONS).  total_charge is required:"
   ]
  },
  {
   "cell_type": "code",
   "execution_count": 14,
   "metadata": {},
   "outputs": [
    {
     "name": "stdout",
     "output_type": "stream",
     "text": [
      "Required input parameter total_charge to Beam.__init__(**kwargs) was not found.\n"
     ]
    }
   ],
   "source": [
    "gen = Generator(input_file, verbose=0) \n",
    "gen.input['beam']['params']={'MTE': {'value': 150, 'units': 'meV'}}\n",
    "try:\n",
    "    gen.beam()   \n",
    "except Exception as ex:\n",
    "    print(ex)"
   ]
  },
  {
   "cell_type": "code",
   "execution_count": null,
   "metadata": {},
   "outputs": [],
   "source": [
    "Unexpected inputs will cause an exception:"
   ]
  },
  {
   "cell_type": "code",
   "execution_count": 15,
   "metadata": {},
   "outputs": [
    {
     "name": "stdout",
     "output_type": "stream",
     "text": [
      "Incorrect param given to Beam.__init__(**kwargs): foo\n",
      "Allowed params: ['MTE', 'tstart', 'species', 'total_charge', 'verbose']\n"
     ]
    }
   ],
   "source": [
    "gen = Generator(input_file, verbose=0) \n",
    "gen.input['beam']['params']['foo']='bar'\n",
    "try:\n",
    "    gen.beam()   \n",
    "except Exception as ex:\n",
    "    print(ex)"
   ]
  },
  {
   "cell_type": "markdown",
   "metadata": {},
   "source": [
    "# Distribution Objects\n",
    "Distgen handles distirbutions using classes controlled by Generator.  Currently there are three types supported: 1D distributions (Dist1d), radial distributions for the $r$ coordinate, and 2D distributions.  Each distribution type keeps an internal list of the required and optional parameters that must be passed to the object.  When a distribution object is initialized, the input parameters are checked against this list. Unexpected inputs will throw exceptions:"
   ]
  },
  {
   "cell_type": "code",
   "execution_count": 13,
   "metadata": {},
   "outputs": [
    {
     "name": "stdout",
     "output_type": "stream",
     "text": [
      "Incorrect param given to NormRad.__init__(**kwargs): foo\n",
      "Allowed params: ['sigma_xy', 'truncation_fraction', 'truncation_radius_left', 'truncation_radius_right', 'n_sigma_cutoff_left', 'n_sigma_cutoff_left', 'n_sigma_cutoff', 'truncation_radius', 'truncation_radius_left', 'truncation_radius_right', 'verbose']\n"
     ]
    }
   ],
   "source": [
    "gen = Generator(input_file, verbose=0) \n",
    "try:\n",
    "    gen.input['r_dist']['params']['foo']='bar'\n",
    "    gen.beam()   \n",
    "except Exception as ex:\n",
    "    print(ex)"
   ]
  },
  {
   "cell_type": "markdown",
   "metadata": {},
   "source": [
    "As will missing required parameters:"
   ]
  },
  {
   "cell_type": "code",
   "execution_count": null,
   "metadata": {},
   "outputs": [],
   "source": [
    "gen = Generator('data/beer.can.in.json', verbose=0) \n",
    "try:\n",
    "    gen.input['r_dist']['params']={}\n",
    "    gen.beam()   \n",
    "except Exception as ex:\n",
    "    print(ex)"
   ]
  },
  {
   "cell_type": "markdown",
   "metadata": {},
   "source": [
    "# Output writer functionality \n",
    "Distgen supports writer functions for various output formats/codes.  Currently these include GPT and ASTRA, and the openPMD secification.  To write to a file, use distgen.writers.writer with appropriate code type specified as well as the beam object and desired output file.  The writer function accepts additional parameters required for any code dependent output."
   ]
  },
  {
   "cell_type": "code",
   "execution_count": null,
   "metadata": {},
   "outputs": [],
   "source": [
    "#Distgen supports writer functions for various output formats/codes (GPT,ASTRA)\n",
    "from distgen.writers import *\n",
    "gen = Generator('data/beer.can.in.json', verbose=0) \n",
    "p = gen.params\n",
    "\n",
    "# Typically the user can just call the general write function and specify the desired format:\n",
    "writer(\"gpt\", beam, \"rad.gaussian.gpt.out.txt\",verbose=1,params=p)\n",
    "writer(\"astra\", beam, \"rad.gaussian.astra.out.txt\",verbose=1,params=p)\n",
    "writer(\"openPMD\", beam, \"rad.gaussian.openPMD.out.h5\",verbose=1)"
   ]
  },
  {
   "cell_type": "markdown",
   "metadata": {},
   "source": [
    "# Plotting \n",
    "Distgen provides the user with some basic plotting routines for help in visualizing the beam coordinates.  The most common plot types include plot_2d, plot_1d, and plot_current_profile.  Below shows an example of how to plot 2 coordinates, in this case $x$ and $y$.  The coloring scheme is a scatter histogram."
   ]
  },
  {
   "cell_type": "code",
   "execution_count": null,
   "metadata": {},
   "outputs": [],
   "source": [
    "# The distgen module has some basic plotting routines\n",
    "from distgen.plot import *\n",
    "\n",
    "units = {\"x\":\"mm\",\"y\":\"mm\",'z':'mm',\"px\":\"keV/c\",\"py\":\"keV/c\",\"pz\":'keV/c',\"t\":\"ps\",\"q\":\"pC\",'thetax':'mrad'}\n",
    "\n",
    "# plot_2d allows for plotting a 2D subspace of the beam coordinates:\n",
    "\n",
    "fig=plt.figure(1)\n",
    "# X-Y Plot\n",
    "plot_2d(beam,1,\"x\",units[\"x\"],\"y\",units[\"y\"],'scatter_hist2d',nbins=100,axis=\"equal\",title_on=True);"
   ]
  },
  {
   "cell_type": "markdown",
   "metadata": {},
   "source": [
    "plot_current_profiles is a special case of the plot_1d function which histograms the particles time coordinates $t$ and normalizates the histogram so that the resulting PDF has units of current."
   ]
  },
  {
   "cell_type": "code",
   "execution_count": null,
   "metadata": {},
   "outputs": [],
   "source": [
    "plot_current_profile(beam, 1, units);"
   ]
  },
  {
   "cell_type": "code",
   "execution_count": null,
   "metadata": {},
   "outputs": [],
   "source": [
    "# Cleanup\n",
    "os.remove('rad.gaussian.gpt.out.txt')\n",
    "os.remove('rad.gaussian.astra.out.txt')\n",
    "os.remove('rad.gaussian.openPMD.out.h5')"
   ]
  },
  {
   "cell_type": "markdown",
   "metadata": {},
   "source": [
    "# Running Distgen with driver functions\n",
    "The main in python driver function for distgen is distgen.drivers.run_distgen().  The function creates its own Generator object and returns a beam object.  Inputs can either be an inputfile or a parsed distgen supported input dictionary.  Here the function is run with an input dictionary created above."
   ]
  },
  {
   "cell_type": "code",
   "execution_count": null,
   "metadata": {},
   "outputs": [],
   "source": [
    "from distgen.drivers import run_distgen\n",
    "beam = run_distgen(inputs=p, verbose=1)"
   ]
  },
  {
   "cell_type": "markdown",
   "metadata": {},
   "source": [
    "Below the function is called with 'inputs' pointing to an input file.  The function can also take  accept a flattened settings dict, which updates inputs:"
   ]
  },
  {
   "cell_type": "code",
   "execution_count": null,
   "metadata": {},
   "outputs": [],
   "source": [
    "new_settings = {'beam:params:MTE:value':0.1}\n",
    "beam = run_distgen(settings=new_settings, inputs=input_file, verbose=1)"
   ]
  },
  {
   "cell_type": "markdown",
   "metadata": {},
   "source": [
    "Finally, is also possible to run distgen as an executible script using /bin/DistGen.py\n",
    "import subprocess"
   ]
  },
  {
   "cell_type": "code",
   "execution_count": null,
   "metadata": {},
   "outputs": [],
   "source": [
    "import subprocess\n",
    "output=subprocess.check_output(['python','../bin/DistGen.py','-f','data/rad.gaussian.in.json','-v','2'])\n",
    "output=str(output.decode('utf-8')).split(\"\\n\")\n",
    "for line in output:\n",
    "    print(line)"
   ]
  },
  {
   "cell_type": "markdown",
   "metadata": {},
   "source": [
    "# Scaling/Rotating/Shifting Coordinates\n",
    "\n",
    "The distgen module allows the user with several options for applying coordinate transformations.  Some of the basic operations include: shifting, scaling, and rotating coordinates.  See the transform.ipynb for a detailed description of this functionality. "
   ]
  },
  {
   "cell_type": "markdown",
   "metadata": {},
   "source": [
    "# Cathode Start"
   ]
  },
  {
   "cell_type": "markdown",
   "metadata": {},
   "source": [
    "Currently Distgen supports a single emission model.  Particles emitted from a cathode are assumed to have a Maxwell-Boltzmann distribution for their total mometnum $p$ parameterized by an energy scale denoted $MTE$: \n",
    "\n",
    "$\\rho_p(p) = \\left(\\frac{1}{2\\pi mMTE}\\right)^{3/2} 4\\pi p^2 \\exp\\left(-\\frac{p^2}{2m MTE}\\right)$, with $\\int\\rho_p(p)dp = 1$.\n",
    "\n",
    "Assuming spherical symmetry, it is easy to show the corresponding PDF for the components of the momenta is given by:\n",
    "\n",
    "$\\rho(p_x,p_y,p_z) = \\left(\\frac{1}{2\\pi mMTE}\\right)^{3/2}\\exp\\left(-\\frac{p_x^2+p_y^2+p_z^2}{2m MTE}\\right)$, with $\\int\\rho(p_x,p_y,p_z) d^3p=1$.\n",
    "\n",
    "From the equipartition theorem the average energy $\\frac{3}{2}MTE$ is divided equally among each direction and thus the energy scale $MTE$ can be identified as the Mean Transverse Energy: $MTE=\\frac{\\langle p_x^2\\rangle}{2m} + \\frac{\\langle p_y^2\\rangle}{2m}$.  \n",
    "\n",
    "This expression can be used to relate the MTE to the initial cathode emittance:\n",
    "\n",
    "$\\epsilon_{n,x} = \\sigma_{x}\\sqrt{ \\frac{MTE}{mc^2} }$\n",
    "\n",
    "assuming there is no distinction between the $p_x$ and $p_y$ distributions inherent to the emission process.  To account for the fact that particles with $p_z<0$ are not emitted from the cathode, distgen takes $p_z = |p_z|$. \n",
    "\n",
    "So far, all of the examples shown above describes beam distributions emitted from a cathode.  The input required for cathode start is shown below:"
   ]
  },
  {
   "cell_type": "code",
   "execution_count": null,
   "metadata": {},
   "outputs": [],
   "source": [
    "from distgen import Generator\n",
    "input_file = \"data/rad.gaussian.in.json\"\n",
    "\n",
    "gen = Generator(input=input_file,verbose=1)\n",
    "print('beam:start_type:',gen.input['beam']['start_type'], ', beam:params:MTE:', gen.input['beam']['params']['MTE'])"
   ]
  },
  {
   "cell_type": "markdown",
   "metadata": {},
   "source": [
    "Running the Generator.beam() function with verbose >=1 will show the stats for generation of the momenta. Note the absolute value of the $p_z$ components is taken."
   ]
  },
  {
   "cell_type": "code",
   "execution_count": null,
   "metadata": {},
   "outputs": [],
   "source": [
    "beam = gen.beam()"
   ]
  },
  {
   "cell_type": "markdown",
   "metadata": {},
   "source": [
    "The time coordinate in this case effectively respresents the emission time of the particle from the cathode, and thus the time distribution should be set by the user.  The plots below show the corresponding horizontal and longitudinal phase spaces:"
   ]
  },
  {
   "cell_type": "code",
   "execution_count": null,
   "metadata": {},
   "outputs": [],
   "source": [
    "fig, ax = plt.subplots(1, 2, sharex='col',constrained_layout=True)\n",
    "plot_2d(beam,1,\"x\",units[\"x\"],\"px\",units[\"px\"],'scatter_hist2d',nbins=100,ax=ax[0]);\n",
    "ax[0].set_title('x-Px Phase Space')\n",
    "\n",
    "plot_2d(beam,1,\"t\",units[\"t\"],\"pz\",units[\"pz\"],'scatter_hist2d',nbins=100,ax=ax[1]);\n",
    "ax[1].set_title('t-Pz Phase Space');"
   ]
  },
  {
   "cell_type": "markdown",
   "metadata": {},
   "source": [
    "# Time Start"
   ]
  },
  {
   "cell_type": "markdown",
   "metadata": {},
   "source": [
    "Distgen also allows the user to start a beam at an arbitrary time.  In this case, distgen will ignore any user distribution settings for the time coordinate of the beam particles.  The example below shows a semi-realistic situation for a 1 GeV Gaussian (all dimensions) beam after an RF energy spread is added to longitudinal distribution."
   ]
  },
  {
   "cell_type": "code",
   "execution_count": null,
   "metadata": {},
   "outputs": [],
   "source": [
    "filename = \"data/gaussian.in.json\"\n",
    "from distgen.physical_constants import unit_registry, pi, c\n",
    "\n",
    "gen = Generator(filename, verbose=0) \n",
    "\n",
    "beta_params = {'beta': {'value':12.5, 'units':'m'},\n",
    "               'alpha':{'value':-1, 'units':''},\n",
    "               'eps':  {'value':2,'units':'nm'}}\n",
    "\n",
    "f = 1.3*unit_registry('GHz')\n",
    "w = 2*pi*f/c\n",
    "\n",
    "linac_params = {'amplitude':{'value':1,'units':'GeV/c'},\n",
    "               'omega':{'value':w.magnitude, 'units':str(w.units)},\n",
    "               'phase':{'value':-1, 'units':'deg'}}\n",
    "\n",
    "gen.input['transforms']={\n",
    "    'pZ-boost':  {'type':'cosine', 'variables':'z:pz','params':linac_params},\n",
    "    'setXtwiss': {'type':'set_twiss', 'variables':'x', 'params':beta_params},\n",
    "    'setYtwiss': {'type':'set_twiss', 'variables':'y', 'params':beta_params},\n",
    "}\n",
    "\n",
    "beam = gen.beam()\n",
    "\n",
    "fig1, ax1 = plt.subplots(1, 3, constrained_layout=True)\n",
    "plot_2d(beam,fig1,\"x\",units[\"x\"],\"y\",units[\"y\"],'scatter_hist2d',nbins=100,ax=ax1[0],axis='equal');\n",
    "plot_2d(beam,fig1,\"x\",units[\"x\"],\"thetax\",units[\"thetax\"],'scatter_hist2d',nbins=100,ax=ax1[1]);\n",
    "plot_2d(beam,fig1,\"z\",units[\"z\"],\"pz\",'GeV/c','scatter_hist2d',nbins=100,ax=ax1[2]);"
   ]
  },
  {
   "cell_type": "code",
   "execution_count": null,
   "metadata": {},
   "outputs": [],
   "source": []
  }
 ],
 "metadata": {
  "kernelspec": {
   "display_name": "Python 3",
   "language": "python",
   "name": "python3"
  },
  "language_info": {
   "codemirror_mode": {
    "name": "ipython",
    "version": 3
   },
   "file_extension": ".py",
   "mimetype": "text/x-python",
   "name": "python",
   "nbconvert_exporter": "python",
   "pygments_lexer": "ipython3",
   "version": "3.6.10"
  }
 },
 "nbformat": 4,
 "nbformat_minor": 4
}
