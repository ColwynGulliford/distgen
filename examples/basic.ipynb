{
 "cells": [
  {
   "cell_type": "code",
   "execution_count": 1,
   "metadata": {},
   "outputs": [],
   "source": [
    "# Useful for debugging\n",
    "%load_ext autoreload\n",
    "%autoreload 2"
   ]
  },
  {
   "cell_type": "code",
   "execution_count": 2,
   "metadata": {},
   "outputs": [],
   "source": [
    "from distgen import generator"
   ]
  },
  {
   "cell_type": "code",
   "execution_count": 3,
   "metadata": {},
   "outputs": [],
   "source": [
    "from distgen.physical_constants import *\n",
    "from distgen.tools import stopwatch, vprint\n",
    "from distgen.reader import reader\n",
    "from distgen.writers import get_writer\n",
    "from distgen.generator import generator\n",
    "#from distgen.plot import plot_beam\n",
    "\n",
    "import os"
   ]
  },
  {
   "cell_type": "code",
   "execution_count": 4,
   "metadata": {},
   "outputs": [
    {
     "data": {
      "text/plain": [
       "True"
      ]
     },
     "execution_count": 4,
     "metadata": {},
     "output_type": "execute_result"
    }
   ],
   "source": [
    "inputfile = './test2.txt'\n",
    "verbose = 2\n",
    "output = 'gpt'\n",
    "plots_on = False\n",
    "\n",
    "os.path.exists(inputfile)"
   ]
  },
  {
   "cell_type": "code",
   "execution_count": 5,
   "metadata": {},
   "outputs": [
    {
     "name": "stdout",
     "output_type": "stream",
     "text": [
      "**************************************************\n",
      "              PyDist Generator v 0.0\n",
      "**************************************************\n"
     ]
    }
   ],
   "source": [
    "watch = stopwatch()\n",
    "watch.start()\n",
    "vprint(\"**************************************************\",verbose>0,0,True)\n",
    "vprint( \"           PyDist Generator v 0.0\",verbose>0,True,True)\n",
    "vprint(\"**************************************************\",verbose>0,0,True)\n",
    "\n"
   ]
  },
  {
   "cell_type": "code",
   "execution_count": 6,
   "metadata": {},
   "outputs": [
    {
     "name": "stdout",
     "output_type": "stream",
     "text": [
      "Reading file './test2.txt'...done. Time Ellapsed: 516.18 microsecond\n",
      "Parsing data...done. Time Ellapsed: 113.01 microsecond\n",
      "particle_count:  ['100000']\n",
      "dist_name:  ['gpt_particles']\n",
      "output_format:  ['gpt']\n",
      "total_charge:  ['1', '[pC]']\n",
      "particle_type:  ['e-']\n",
      "start_type:  ['cathode']\n",
      "rand_type:  ['hammersley']\n",
      "asci2gdf_binary:  ['asci2gdf']\n",
      "xy_dist:  ['file', 'laser.prof.example.txt']\n",
      "t_dist:  ['crystals']\n",
      "laser_pulse_FWHM:  ['1.8', '[ps]']\n",
      "crystal_length_1:  ['15.096', '[mm]']\n",
      "crystal_angle_1:  ['0.6', '[deg]']\n",
      "crystal_length_2:  ['7.548', '[mm]']\n",
      "crystal_angle_2:  ['1.8', '[deg]']\n",
      "crystal_length_3:  ['3.774', '[mm]']\n",
      "crystal_angle_3:  ['-0.9', '[deg]']\n",
      "crystal_length_4:  ['1.887', '[mm]']\n",
      "crystal_angle_4:  ['-0.5', '[deg]']\n",
      "avg_t:  ['0', '[ps]']\n",
      "MTE:  ['140', '[meV]']\n"
     ]
    }
   ],
   "source": [
    "# Read input file\n",
    "par = reader(inputfile,verbose,unit_registry)\n",
    "par.read()\n",
    "params = par.get_params()"
   ]
  },
  {
   "cell_type": "code",
   "execution_count": 7,
   "metadata": {},
   "outputs": [
    {
     "data": {
      "text/plain": [
       "{'particle_count': ['100000'],\n",
       " 'dist_name': ['gpt_particles'],\n",
       " 'output_format': ['gpt'],\n",
       " 'total_charge': ['1', '[pC]'],\n",
       " 'particle_type': ['e-'],\n",
       " 'start_type': ['cathode'],\n",
       " 'rand_type': ['hammersley'],\n",
       " 'asci2gdf_binary': ['asci2gdf'],\n",
       " 'xy_dist': ['file', 'laser.prof.example.txt'],\n",
       " 't_dist': ['crystals'],\n",
       " 'laser_pulse_FWHM': ['1.8', '[ps]'],\n",
       " 'crystal_length_1': ['15.096', '[mm]'],\n",
       " 'crystal_angle_1': ['0.6', '[deg]'],\n",
       " 'crystal_length_2': ['7.548', '[mm]'],\n",
       " 'crystal_angle_2': ['1.8', '[deg]'],\n",
       " 'crystal_length_3': ['3.774', '[mm]'],\n",
       " 'crystal_angle_3': ['-0.9', '[deg]'],\n",
       " 'crystal_length_4': ['1.887', '[mm]'],\n",
       " 'crystal_angle_4': ['-0.5', '[deg]'],\n",
       " 'avg_t': ['0', '[ps]'],\n",
       " 'MTE': ['140', '[meV]']}"
      ]
     },
     "execution_count": 7,
     "metadata": {},
     "output_type": "execute_result"
    }
   ],
   "source": [
    "dict(params)"
   ]
  },
  {
   "cell_type": "code",
   "execution_count": 8,
   "metadata": {},
   "outputs": [
    {
     "name": "stdout",
     "output_type": "stream",
     "text": [
      "xy file\n",
      "t crystal_length_1\n",
      "t crystal_angle_1\n",
      "t crystal_length_2\n",
      "t crystal_angle_2\n",
      "t crystal_length_3\n",
      "t crystal_angle_3\n",
      "t crystal_length_4\n",
      "t crystal_angle_4\n",
      "Distribution format: gpt\n",
      "Output file: gpt_particles\n",
      "\n",
      "Creating beam distribution....\n",
      "   Beam starting from: cathode.\n",
      "   Total charge: 1.000 pC.\n",
      "   Number of macroparticles: 100000.\n",
      "   xy distribution: xy distribution file: 'laser.prof.example.txt\n",
      "   t distribution: crystal temporal laser shaping\n",
      "      crystal 1 length = 15.096 mm, angle = 0.600 deg\n",
      "      crystal 2 length = 7.548 mm, angle = 1.800 deg\n",
      "      crystal 3 length = 3.774 mm, angle = -0.900 deg\n",
      "      crystal 4 length = 1.887 mm, angle = -0.500 deg\n",
      "         applying crystal: 1\n",
      "         applying crystal: 2\n",
      "         applying crystal: 3\n",
      "         applying crystal: 4\n",
      "      Pulses propagated: min t = -23.905 ps, max t = 23.905 ps\n",
      "   px distribution: Gaussian\n",
      "      avg_px = 0.000 eV/c, sigma_px = 267.469 eV/c\n",
      "   py distribution: Gaussian\n",
      "      avg_py = 0.000 eV/c, sigma_py = 267.469 eV/c\n",
      "   pz distribution: Gaussian\n",
      "      avg_pz = 0.000 eV/c, sigma_pz = 267.469 eV/c\n",
      "   Cathode start: fixing pz momenta to forward hemisphere\n",
      "      avg_pz -> 213.421 eV/c, sigma_pz -> 161.218 eV/c\n",
      "...done. Time Ellapsed: 576.28 millisecond.\n",
      "\n"
     ]
    }
   ],
   "source": [
    "# Make distribution\n",
    "gen = generator(verbose)\n",
    "gen.parse_input(params)\n",
    "beam,outfile = gen.get_beam()\n",
    "\n"
   ]
  },
  {
   "cell_type": "code",
   "execution_count": 9,
   "metadata": {},
   "outputs": [
    {
     "name": "stdout",
     "output_type": "stream",
     "text": [
      "Beam stats:\n",
      "   avg_x = -0.000 mm, sigma_x = 0.807 mm\n",
      "   avg_y = 0.000 mm, sigma_y = 0.821 mm\n",
      "   avg_z = 0.000 m, sigma_z = 0.000 m\n",
      "   avg_px = -0.000 eV/c, sigma_px = 267.469 eV/c\n",
      "   avg_py = 0.000 eV/c, sigma_py = 267.469 eV/c\n",
      "   avg_pz = 213.421 eV/c, sigma_pz = 161.218 eV/c\n",
      "   avg_t = -0.000 ps, sigma_t = 9.320 ps\n"
     ]
    }
   ],
   "source": [
    "\n",
    "# Print beam stats\n",
    "if(verbose>0):\n",
    "    beam.print_stats()"
   ]
  },
  {
   "cell_type": "code",
   "execution_count": 10,
   "metadata": {},
   "outputs": [
    {
     "name": "stdout",
     "output_type": "stream",
     "text": [
      "\n",
      "Printing particles to 'gpt_particles'...\n",
      "   Converting file to GDF: done. Time ellapsed: 631.63 millisecond.\n",
      "...done. Time ellapsed: 1.50 second.\n",
      "\n",
      "Total time ellapsed: 6.98 second.\n"
     ]
    }
   ],
   "source": [
    "# Print distribution to file\n",
    "file_writer = get_writer(output,outfile)\n",
    "file_writer.write(beam,verbose,params)\n",
    "\n",
    "watch.stop()\n",
    "vprint(\"\\nTotal time ellapsed: \"+watch.print()+\".\",verbose>0,0,True)\n",
    "\n",
    "# Plot particles if desired\n",
    "if(plots_on):\n",
    "    plot_beam(beam)"
   ]
  },
  {
   "cell_type": "code",
   "execution_count": null,
   "metadata": {},
   "outputs": [],
   "source": []
  }
 ],
 "metadata": {
  "kernelspec": {
   "display_name": "Python 3",
   "language": "python",
   "name": "python3"
  },
  "language_info": {
   "codemirror_mode": {
    "name": "ipython",
    "version": 3
   },
   "file_extension": ".py",
   "mimetype": "text/x-python",
   "name": "python",
   "nbconvert_exporter": "python",
   "pygments_lexer": "ipython3",
   "version": "3.7.3"
  }
 },
 "nbformat": 4,
 "nbformat_minor": 2
}
