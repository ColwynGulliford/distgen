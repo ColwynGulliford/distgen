{
 "cells": [
  {
   "cell_type": "code",
   "execution_count": 17,
   "metadata": {},
   "outputs": [],
   "source": [
    "# Useful for debugging\n",
    "%load_ext autoreload\n",
    "%autoreload 2"
   ]
  },
  {
   "cell_type": "code",
   "execution_count": 36,
   "metadata": {},
   "outputs": [],
   "source": [
    "from distgen.tools import stopwatch, vprint\n",
    "from distgen.reader import *\n",
    "from distgen.writers import get_writer\n",
    "from distgen.generator import generator\n",
    "from drivers.DistGen import run_distgen\n",
    "\n",
    "import os"
   ]
  },
  {
   "cell_type": "code",
   "execution_count": 38,
   "metadata": {},
   "outputs": [
    {
     "name": "stdout",
     "output_type": "stream",
     "text": [
      "**************************************************\n",
      "                Dist Generator v 0.0\n",
      "**************************************************\n",
      "particle_count 10000\n",
      "\n",
      "Reading file '/Users/colwyngulliford/Documents/GitHub/distgen/examples/test.in.txt'...done. Time Ellapsed: 375.03 microsecond\n",
      "Parsing data...mutiple definitions of particle_count\n",
      "mutiple definitions of dist_name\n",
      "mutiple definitions of output_format\n",
      "mutiple definitions of total_charge\n",
      "mutiple definitions of particle_type\n",
      "mutiple definitions of start_type\n",
      "mutiple definitions of rand_type\n",
      "mutiple definitions of asci2gdf_binary\n",
      "mutiple definitions of x_dist\n",
      "mutiple definitions of min_x\n",
      "mutiple definitions of max_x\n",
      "mutiple definitions of t_dist\n",
      "mutiple definitions of laser_pulse_FWHM\n",
      "mutiple definitions of crystal_length_1\n",
      "mutiple definitions of crystal_angle_1\n",
      "mutiple definitions of crystal_length_2\n",
      "mutiple definitions of crystal_angle_2\n",
      "mutiple definitions of crystal_length_3\n",
      "mutiple definitions of crystal_angle_3\n",
      "mutiple definitions of crystal_length_4\n",
      "mutiple definitions of crystal_angle_4\n",
      "mutiple definitions of avg_t\n",
      "mutiple definitions of MTE\n",
      "mutiple definitions of particle_count\n",
      "mutiple definitions of dist_name\n",
      "mutiple definitions of output_format\n",
      "mutiple definitions of total_charge\n",
      "mutiple definitions of particle_type\n",
      "mutiple definitions of start_type\n",
      "mutiple definitions of rand_type\n",
      "mutiple definitions of asci2gdf_binary\n",
      "mutiple definitions of x_dist\n",
      "mutiple definitions of min_x\n",
      "mutiple definitions of max_x\n",
      "mutiple definitions of t_dist\n",
      "mutiple definitions of laser_pulse_FWHM\n",
      "mutiple definitions of crystal_length_1\n",
      "mutiple definitions of crystal_angle_1\n",
      "mutiple definitions of crystal_length_2\n",
      "mutiple definitions of crystal_angle_2\n",
      "mutiple definitions of crystal_length_3\n",
      "mutiple definitions of crystal_angle_3\n",
      "mutiple definitions of crystal_length_4\n",
      "mutiple definitions of crystal_angle_4\n",
      "mutiple definitions of avg_t\n",
      "mutiple definitions of MTE\n",
      "done. Time Ellapsed: 823.02 microsecond\n",
      "OrderedDict([('particle_count', ['10000']), ('dist_name', ['gpt_particles']), ('output_format', ['gpt']), ('total_charge', ['1', '[pC]']), ('particle_type', ['e-']), ('start_type', ['cathode']), ('rand_type', ['hammersley']), ('asci2gdf_binary', ['asci2gdf']), ('x_dist', ['u']), ('min_x', ['-2', '[mm]']), ('max_x', ['2', '[mm]']), ('t_dist', ['crystals']), ('laser_pulse_FWHM', ['1.8', '[ps]']), ('crystal_length_1', ['15.096', '[mm]']), ('crystal_angle_1', ['0.6', '[deg]']), ('crystal_length_2', ['7.548', '[mm]']), ('crystal_angle_2', ['1.8', '[deg]']), ('crystal_length_3', ['3.774', '[mm]']), ('crystal_angle_3', ['-0.9', '[deg]']), ('crystal_length_4', ['1.887', '[mm]']), ('crystal_angle_4', ['-0.5', '[deg]']), ('avg_t', ['0', '[ps]']), ('MTE', ['140', '[meV]'])])\n",
      "Distribution format: gpt\n",
      "Output file: gpt_particles\n",
      "\n",
      "Creating beam distribution....\n",
      "   Beam starting from: cathode.\n",
      "   Total charge: 1.000 pC.\n",
      "   Number of macroparticles: 10000.\n",
      "   x distribution: uniform\n",
      "      min_x = -2.000 mm, max_x = 2.000 mm\n",
      "   t distribution: crystal temporal laser shaping\n",
      "      crystal 1 length = 15.096 mm, angle = 0.600 deg\n",
      "      crystal 2 length = 7.548 mm, angle = 1.800 deg\n",
      "      crystal 3 length = 3.774 mm, angle = -0.900 deg\n",
      "      crystal 4 length = 1.887 mm, angle = -0.500 deg\n",
      "      Pulses propagated: min t = -23.905 ps, max t = 23.905 ps\n",
      "   px distribution: Gaussian\n",
      "      avg_px = 0.000 eV/c, sigma_px = 267.469 eV/c\n",
      "   py distribution: Gaussian\n",
      "      avg_py = 0.000 eV/c, sigma_py = 267.469 eV/c\n",
      "   pz distribution: Gaussian\n",
      "      avg_pz = 0.000 eV/c, sigma_pz = 267.469 eV/c\n",
      "   Cathode start: fixing pz momenta to forward hemisphere\n",
      "      avg_pz -> 213.494 eV/c, sigma_pz -> 161.122 eV/c\n",
      "...done. Time Ellapsed: 71.45 millisecond.\n",
      "\n",
      "particle_count 10000\n",
      "\n",
      "Beam stats:\n",
      "   avg_x = 0.000 mm, sigma_x = 1.155 mm\n",
      "   avg_y = 0.000 m, sigma_y = 0.000 m\n",
      "   avg_z = 0.000 m, sigma_z = 0.000 m\n",
      "   avg_px = 0.000 eV/c, sigma_px = 267.469 eV/c\n",
      "   avg_py = 0.000 eV/c, sigma_py = 267.469 eV/c\n",
      "   avg_pz = 213.494 eV/c, sigma_pz = 161.122 eV/c\n",
      "   avg_t = 0.000 ps, sigma_t = 9.320 ps\n",
      "\n",
      "Total time ellapsed: 80.63 millisecond.\n"
     ]
    }
   ],
   "source": [
    "# Use the combined run function to perform above tasks via an input file\n",
    "beam = run_distgen(inputs='/Users/colwyngulliford/Documents/GitHub/distgen/examples/test.in.txt',verbose=1)"
   ]
  },
  {
   "cell_type": "code",
   "execution_count": null,
   "metadata": {},
   "outputs": [],
   "source": []
  },
  {
   "cell_type": "code",
   "execution_count": 112,
   "metadata": {},
   "outputs": [
    {
     "data": {
      "text/plain": [
       "True"
      ]
     },
     "execution_count": 112,
     "metadata": {},
     "output_type": "execute_result"
    }
   ],
   "source": [
    "# Set up input data for test distgen module functions\n",
    "inputfile = './test2.txt'\n",
    "verbose = 2\n",
    "output = 'gpt'\n",
    "plots_on = False\n",
    "\n",
    "os.path.exists(inputfile)"
   ]
  },
  {
   "cell_type": "code",
   "execution_count": 113,
   "metadata": {},
   "outputs": [
    {
     "ename": "NameError",
     "evalue": "name 'unit_registry' is not defined",
     "output_type": "error",
     "traceback": [
      "\u001b[0;31m---------------------------------------------------------------------------\u001b[0m",
      "\u001b[0;31mNameError\u001b[0m                                 Traceback (most recent call last)",
      "\u001b[0;32m<ipython-input-113-826422a55ea0>\u001b[0m in \u001b[0;36m<module>\u001b[0;34m\u001b[0m\n\u001b[1;32m      1\u001b[0m \u001b[0;31m# Read input file using parser\u001b[0m\u001b[0;34m\u001b[0m\u001b[0;34m\u001b[0m\u001b[0;34m\u001b[0m\u001b[0m\n\u001b[0;32m----> 2\u001b[0;31m \u001b[0mpar\u001b[0m \u001b[0;34m=\u001b[0m \u001b[0mreader\u001b[0m\u001b[0;34m(\u001b[0m\u001b[0minputfile\u001b[0m\u001b[0;34m,\u001b[0m\u001b[0mverbose\u001b[0m\u001b[0;34m,\u001b[0m\u001b[0munit_registry\u001b[0m\u001b[0;34m)\u001b[0m\u001b[0;34m\u001b[0m\u001b[0;34m\u001b[0m\u001b[0m\n\u001b[0m\u001b[1;32m      3\u001b[0m \u001b[0mpar\u001b[0m\u001b[0;34m.\u001b[0m\u001b[0mread\u001b[0m\u001b[0;34m(\u001b[0m\u001b[0;34m)\u001b[0m\u001b[0;34m\u001b[0m\u001b[0;34m\u001b[0m\u001b[0m\n\u001b[1;32m      4\u001b[0m \u001b[0mparams\u001b[0m \u001b[0;34m=\u001b[0m \u001b[0mpar\u001b[0m\u001b[0;34m.\u001b[0m\u001b[0mget_params\u001b[0m\u001b[0;34m(\u001b[0m\u001b[0;34m)\u001b[0m\u001b[0;34m\u001b[0m\u001b[0;34m\u001b[0m\u001b[0m\n",
      "\u001b[0;31mNameError\u001b[0m: name 'unit_registry' is not defined"
     ]
    }
   ],
   "source": [
    "# Read input file using parser \n",
    "par = reader(inputfile,verbose,unit_registry)\n",
    "par.read()\n",
    "params = par.get_params()"
   ]
  },
  {
   "cell_type": "code",
   "execution_count": 39,
   "metadata": {},
   "outputs": [
    {
     "data": {
      "text/plain": [
       "{'particle_count': ['100000'],\n",
       " 'dist_name': ['gpt_particles'],\n",
       " 'output_format': ['gpt'],\n",
       " 'total_charge': ['1', '[pC]'],\n",
       " 'particle_type': ['e-'],\n",
       " 'start_type': ['cathode'],\n",
       " 'rand_type': ['hammersley'],\n",
       " 'asci2gdf_binary': ['asci2gdf'],\n",
       " 'xy_dist': ['file', 'laser.prof.example.txt'],\n",
       " 't_dist': ['crystals'],\n",
       " 'laser_pulse_FWHM': ['1.8', '[ps]'],\n",
       " 'crystal_length_1': ['15.096', '[mm]'],\n",
       " 'crystal_angle_1': ['0.6', '[deg]'],\n",
       " 'crystal_length_2': ['7.548', '[mm]'],\n",
       " 'crystal_angle_2': ['1.8', '[deg]'],\n",
       " 'crystal_length_3': ['3.774', '[mm]'],\n",
       " 'crystal_angle_3': ['-0.9', '[deg]'],\n",
       " 'crystal_length_4': ['1.887', '[mm]'],\n",
       " 'crystal_angle_4': ['-0.5', '[deg]'],\n",
       " 'avg_t': ['0', '[ps]'],\n",
       " 'MTE': ['140', '[meV]']}"
      ]
     },
     "execution_count": 39,
     "metadata": {},
     "output_type": "execute_result"
    }
   ],
   "source": [
    "dict(params)  # display a typical input structure"
   ]
  },
  {
   "cell_type": "code",
   "execution_count": 40,
   "metadata": {},
   "outputs": [
    {
     "name": "stdout",
     "output_type": "stream",
     "text": [
      "Distribution format: gpt\n",
      "Output file: gpt_particles\n",
      "\n",
      "Creating beam distribution....\n",
      "   Beam starting from: cathode.\n",
      "   Total charge: 1.000 pC.\n",
      "   Number of macroparticles: 100000.\n",
      "   xy distribution: xy distribution file: 'laser.prof.example.txt\n",
      "   t distribution: crystal temporal laser shaping\n",
      "      crystal 1 length = 15.096 mm, angle = 0.600 deg\n",
      "      crystal 2 length = 7.548 mm, angle = 1.800 deg\n",
      "      crystal 3 length = 3.774 mm, angle = -0.900 deg\n",
      "      crystal 4 length = 1.887 mm, angle = -0.500 deg\n",
      "         applying crystal: 1\n",
      "         applying crystal: 2\n",
      "         applying crystal: 3\n",
      "         applying crystal: 4\n",
      "      Pulses propagated: min t = -23.905 ps, max t = 23.905 ps\n",
      "   px distribution: Gaussian\n",
      "      avg_px = 0.000 eV/c, sigma_px = 267.469 eV/c\n",
      "   py distribution: Gaussian\n",
      "      avg_py = 0.000 eV/c, sigma_py = 267.469 eV/c\n",
      "   pz distribution: Gaussian\n",
      "      avg_pz = 0.000 eV/c, sigma_pz = 267.469 eV/c\n",
      "   Cathode start: fixing pz momenta to forward hemisphere\n",
      "      avg_pz -> 213.421 eV/c, sigma_pz -> 161.218 eV/c\n",
      "...done. Time Ellapsed: 569.65 millisecond.\n",
      "\n"
     ]
    }
   ],
   "source": [
    "# Make a beam distribution using the generator\n",
    "gen = generator(verbose)\n",
    "gen.parse_input(params)\n",
    "beam,outfile = gen.get_beam()"
   ]
  },
  {
   "cell_type": "code",
   "execution_count": 41,
   "metadata": {},
   "outputs": [
    {
     "name": "stdout",
     "output_type": "stream",
     "text": [
      "Beam stats:\n",
      "   avg_x = -0.000 mm, sigma_x = 0.807 mm\n",
      "   avg_y = 0.000 mm, sigma_y = 0.821 mm\n",
      "   avg_z = 0.000 m, sigma_z = 0.000 m\n",
      "   avg_px = -0.000 eV/c, sigma_px = 267.469 eV/c\n",
      "   avg_py = 0.000 eV/c, sigma_py = 267.469 eV/c\n",
      "   avg_pz = 213.421 eV/c, sigma_pz = 161.218 eV/c\n",
      "   avg_t = -0.000 ps, sigma_t = 9.320 ps\n",
      "   avg_q = -0.000 C, sigma_q = 0.000 C\n",
      "   avg_nmacro = 62.415, sigma_nmacro = 0.000\n"
     ]
    }
   ],
   "source": [
    "# Print beam averages and standard deviations\n",
    "beam.print_stats()"
   ]
  },
  {
   "cell_type": "code",
   "execution_count": 42,
   "metadata": {},
   "outputs": [
    {
     "name": "stdout",
     "output_type": "stream",
     "text": [
      "\n",
      "Printing particles to 'gpt_particles'...\n",
      "   Converting file to GDF: done. Time ellapsed: 8.45 millisecond.\n",
      "...done. Time ellapsed: 810.05 millisecond.\n",
      "\n",
      "Total time ellapsed: 1.12 kilosecond.\n"
     ]
    }
   ],
   "source": [
    "# Print distribution to file using an output writer\n",
    "file_writer = get_writer(output,outfile)\n",
    "file_writer.write(beam,verbose,params)\n",
    "\n",
    "watch.stop()\n",
    "vprint(\"\\nTotal time ellapsed: \"+watch.print()+\".\",verbose>0,0,True)"
   ]
  },
  {
   "cell_type": "code",
   "execution_count": 43,
   "metadata": {},
   "outputs": [],
   "source": []
  },
  {
   "cell_type": "code",
   "execution_count": 106,
   "metadata": {},
   "outputs": [
    {
     "ename": "NameError",
     "evalue": "name 'params' is not defined",
     "output_type": "error",
     "traceback": [
      "\u001b[0;31m---------------------------------------------------------------------------\u001b[0m",
      "\u001b[0;31mNameError\u001b[0m                                 Traceback (most recent call last)",
      "\u001b[0;32m<ipython-input-106-bc0bcaf2b680>\u001b[0m in \u001b[0;36m<module>\u001b[0;34m\u001b[0m\n\u001b[1;32m      1\u001b[0m \u001b[0;31m# Use the combined run function to perform above tasks with using params structure\u001b[0m\u001b[0;34m\u001b[0m\u001b[0;34m\u001b[0m\u001b[0;34m\u001b[0m\u001b[0m\n\u001b[0;32m----> 2\u001b[0;31m \u001b[0mbeam\u001b[0m \u001b[0;34m=\u001b[0m \u001b[0mrun_distgen\u001b[0m\u001b[0;34m(\u001b[0m\u001b[0minputs\u001b[0m\u001b[0;34m=\u001b[0m\u001b[0mparams\u001b[0m\u001b[0;34m,\u001b[0m\u001b[0mverbose\u001b[0m\u001b[0;34m=\u001b[0m\u001b[0;36m2\u001b[0m\u001b[0;34m)\u001b[0m\u001b[0;34m\u001b[0m\u001b[0;34m\u001b[0m\u001b[0m\n\u001b[0m",
      "\u001b[0;31mNameError\u001b[0m: name 'params' is not defined"
     ]
    }
   ],
   "source": [
    "# Use the combined run function to perform above tasks with using params structure\n",
    "beam = run_distgen(inputs=params,verbose=2)"
   ]
  },
  {
   "cell_type": "code",
   "execution_count": 48,
   "metadata": {},
   "outputs": [
    {
     "name": "stdout",
     "output_type": "stream",
     "text": [
      "**************************************************\n",
      "                Dist Generator v 0.0\n",
      "**************************************************\n",
      "Reading file './test.txt'...done. Time Ellapsed: 526.67 microsecond\n",
      "Parsing data...done. Time Ellapsed: 877.14 microsecond\n"
     ]
    },
    {
     "ename": "ValueError",
     "evalue": "User must specify only one transverse distribution.",
     "output_type": "error",
     "traceback": [
      "\u001b[0;31m---------------------------------------------------------------------------\u001b[0m",
      "\u001b[0;31mValueError\u001b[0m                                Traceback (most recent call last)",
      "\u001b[0;32m<ipython-input-48-9e177998ecd3>\u001b[0m in \u001b[0;36m<module>\u001b[0;34m\u001b[0m\n\u001b[1;32m      1\u001b[0m \u001b[0;31m# Use the combined run function to perform above tasks via an input file\u001b[0m\u001b[0;34m\u001b[0m\u001b[0;34m\u001b[0m\u001b[0;34m\u001b[0m\u001b[0m\n\u001b[0;32m----> 2\u001b[0;31m \u001b[0mbeam\u001b[0m \u001b[0;34m=\u001b[0m \u001b[0mrun_distgen\u001b[0m\u001b[0;34m(\u001b[0m\u001b[0minputs\u001b[0m\u001b[0;34m=\u001b[0m\u001b[0;34m'./test.txt'\u001b[0m\u001b[0;34m,\u001b[0m\u001b[0mverbose\u001b[0m\u001b[0;34m=\u001b[0m\u001b[0;36m1\u001b[0m\u001b[0;34m)\u001b[0m\u001b[0;34m\u001b[0m\u001b[0;34m\u001b[0m\u001b[0m\n\u001b[0m",
      "\u001b[0;32m~/Documents/GitHub/distgen/distgen/pydistgen.py\u001b[0m in \u001b[0;36mrun_distgen\u001b[0;34m(inputs, outputfile, outputype, verbose)\u001b[0m\n\u001b[1;32m     31\u001b[0m     \u001b[0;31m# Make distribution\u001b[0m\u001b[0;34m\u001b[0m\u001b[0;34m\u001b[0m\u001b[0;34m\u001b[0m\u001b[0m\n\u001b[1;32m     32\u001b[0m     \u001b[0mgen\u001b[0m \u001b[0;34m=\u001b[0m \u001b[0mgenerator\u001b[0m\u001b[0;34m(\u001b[0m\u001b[0mverbose\u001b[0m\u001b[0;34m)\u001b[0m\u001b[0;34m\u001b[0m\u001b[0;34m\u001b[0m\u001b[0m\n\u001b[0;32m---> 33\u001b[0;31m     \u001b[0mgen\u001b[0m\u001b[0;34m.\u001b[0m\u001b[0mparse_input\u001b[0m\u001b[0;34m(\u001b[0m\u001b[0mparams\u001b[0m\u001b[0;34m)\u001b[0m\u001b[0;34m\u001b[0m\u001b[0;34m\u001b[0m\u001b[0m\n\u001b[0m\u001b[1;32m     34\u001b[0m     \u001b[0mbeam\u001b[0m\u001b[0;34m,\u001b[0m\u001b[0moutfile\u001b[0m \u001b[0;34m=\u001b[0m \u001b[0mgen\u001b[0m\u001b[0;34m.\u001b[0m\u001b[0mget_beam\u001b[0m\u001b[0;34m(\u001b[0m\u001b[0;34m)\u001b[0m\u001b[0;34m\u001b[0m\u001b[0;34m\u001b[0m\u001b[0m\n\u001b[1;32m     35\u001b[0m \u001b[0;34m\u001b[0m\u001b[0m\n",
      "\u001b[0;32m~/Documents/GitHub/distgen/distgen/generator.py\u001b[0m in \u001b[0;36mparse_input\u001b[0;34m(self, params)\u001b[0m\n\u001b[1;32m     32\u001b[0m \u001b[0;34m\u001b[0m\u001b[0m\n\u001b[1;32m     33\u001b[0m         \u001b[0mself\u001b[0m\u001b[0;34m.\u001b[0m\u001b[0minput_params\u001b[0m \u001b[0;34m=\u001b[0m \u001b[0mparams\u001b[0m\u001b[0;34m\u001b[0m\u001b[0;34m\u001b[0m\u001b[0m\n\u001b[0;32m---> 34\u001b[0;31m         \u001b[0mself\u001b[0m\u001b[0;34m.\u001b[0m\u001b[0mcheck_input_consistency\u001b[0m\u001b[0;34m(\u001b[0m\u001b[0mparams\u001b[0m\u001b[0;34m)\u001b[0m\u001b[0;34m\u001b[0m\u001b[0;34m\u001b[0m\u001b[0m\n\u001b[0m\u001b[1;32m     35\u001b[0m         \u001b[0mself\u001b[0m\u001b[0;34m.\u001b[0m\u001b[0mset_beam_params\u001b[0m\u001b[0;34m(\u001b[0m\u001b[0mparams\u001b[0m\u001b[0;34m)\u001b[0m\u001b[0;34m\u001b[0m\u001b[0;34m\u001b[0m\u001b[0m\n\u001b[1;32m     36\u001b[0m \u001b[0;34m\u001b[0m\u001b[0m\n",
      "\u001b[0;32m~/Documents/GitHub/distgen/distgen/generator.py\u001b[0m in \u001b[0;36mcheck_input_consistency\u001b[0;34m(self, params)\u001b[0m\n\u001b[1;32m     50\u001b[0m         \u001b[0;34m''' Perform consistency checks on the user input data'''\u001b[0m\u001b[0;34m\u001b[0m\u001b[0;34m\u001b[0m\u001b[0m\n\u001b[1;32m     51\u001b[0m \u001b[0;34m\u001b[0m\u001b[0m\n\u001b[0;32m---> 52\u001b[0;31m         \u001b[0massert_with_message\u001b[0m\u001b[0;34m(\u001b[0m \u001b[0;34m(\u001b[0m\u001b[0;34m\"r_dist\"\u001b[0m \u001b[0;32min\u001b[0m \u001b[0mparams\u001b[0m\u001b[0;34m)\u001b[0m\u001b[0;34m^\u001b[0m\u001b[0;34m(\u001b[0m\u001b[0;34m\"x_dist\"\u001b[0m \u001b[0;32min\u001b[0m \u001b[0mparams\u001b[0m\u001b[0;34m)\u001b[0m\u001b[0;34m^\u001b[0m\u001b[0;34m(\u001b[0m\u001b[0;34m\"xy_dist\"\u001b[0m \u001b[0;32min\u001b[0m \u001b[0mparams\u001b[0m\u001b[0;34m)\u001b[0m\u001b[0;34m,\u001b[0m\u001b[0;34m\"User must specify only one transverse distribution.\"\u001b[0m\u001b[0;34m)\u001b[0m\u001b[0;34m\u001b[0m\u001b[0;34m\u001b[0m\u001b[0m\n\u001b[0m\u001b[1;32m     53\u001b[0m         \u001b[0massert_with_message\u001b[0m\u001b[0;34m(\u001b[0m \u001b[0;34m(\u001b[0m\u001b[0;34m\"r_dist\"\u001b[0m \u001b[0;32min\u001b[0m \u001b[0mparams\u001b[0m\u001b[0;34m)\u001b[0m\u001b[0;34m^\u001b[0m\u001b[0;34m(\u001b[0m\u001b[0;34m\"y_dist\"\u001b[0m \u001b[0;32min\u001b[0m \u001b[0mparams\u001b[0m\u001b[0;34m)\u001b[0m\u001b[0;34m^\u001b[0m\u001b[0;34m(\u001b[0m\u001b[0;34m\"xy_dist\"\u001b[0m \u001b[0;32min\u001b[0m \u001b[0mparams\u001b[0m\u001b[0;34m)\u001b[0m\u001b[0;34m,\u001b[0m\u001b[0;34m\"User must specify r dist OR y dist NOT BOTH.\"\u001b[0m\u001b[0;34m)\u001b[0m\u001b[0;34m\u001b[0m\u001b[0;34m\u001b[0m\u001b[0m\n\u001b[1;32m     54\u001b[0m \u001b[0;34m\u001b[0m\u001b[0m\n",
      "\u001b[0;32m~/Documents/GitHub/distgen/distgen/tools.py\u001b[0m in \u001b[0;36massert_with_message\u001b[0;34m(bool_val, msg)\u001b[0m\n\u001b[1;32m     56\u001b[0m \u001b[0;34m\u001b[0m\u001b[0m\n\u001b[1;32m     57\u001b[0m     \u001b[0;32mif\u001b[0m\u001b[0;34m(\u001b[0m\u001b[0;32mnot\u001b[0m \u001b[0mbool_val\u001b[0m\u001b[0;34m)\u001b[0m\u001b[0;34m:\u001b[0m\u001b[0;34m\u001b[0m\u001b[0;34m\u001b[0m\u001b[0m\n\u001b[0;32m---> 58\u001b[0;31m         \u001b[0;32mraise\u001b[0m \u001b[0mValueError\u001b[0m\u001b[0;34m(\u001b[0m\u001b[0mmsg\u001b[0m\u001b[0;34m)\u001b[0m\u001b[0;34m\u001b[0m\u001b[0;34m\u001b[0m\u001b[0m\n\u001b[0m\u001b[1;32m     59\u001b[0m \u001b[0;34m\u001b[0m\u001b[0m\n\u001b[1;32m     60\u001b[0m \u001b[0;32mclass\u001b[0m \u001b[0mstopwatch\u001b[0m\u001b[0;34m(\u001b[0m\u001b[0;34m)\u001b[0m\u001b[0;34m:\u001b[0m\u001b[0;34m\u001b[0m\u001b[0;34m\u001b[0m\u001b[0m\n",
      "\u001b[0;31mValueError\u001b[0m: User must specify only one transverse distribution."
     ]
    }
   ],
   "source": []
  },
  {
   "cell_type": "code",
   "execution_count": null,
   "metadata": {},
   "outputs": [],
   "source": []
  }
 ],
 "metadata": {
  "kernelspec": {
   "display_name": "Python 3",
   "language": "python",
   "name": "python3"
  },
  "language_info": {
   "codemirror_mode": {
    "name": "ipython",
    "version": 3
   },
   "file_extension": ".py",
   "mimetype": "text/x-python",
   "name": "python",
   "nbconvert_exporter": "python",
   "pygments_lexer": "ipython3",
   "version": "3.6.9"
  }
 },
 "nbformat": 4,
 "nbformat_minor": 4
}
