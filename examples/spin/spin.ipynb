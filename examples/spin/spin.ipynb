{
 "cells": [
  {
   "cell_type": "markdown",
   "id": "0bd6dbf1-36c8-4215-94cc-4b6942ff1461",
   "metadata": {},
   "source": [
    "# Spin\n",
    "---"
   ]
  },
  {
   "cell_type": "code",
   "execution_count": 1,
   "id": "f185b3b1-5cf3-4c24-ab4b-c02c9f28aad2",
   "metadata": {
    "execution": {
     "iopub.execute_input": "2024-07-29T19:31:40.889056Z",
     "iopub.status.busy": "2024-07-29T19:31:40.888638Z",
     "iopub.status.idle": "2024-07-29T19:31:43.198418Z",
     "shell.execute_reply": "2024-07-29T19:31:43.197794Z"
    }
   },
   "outputs": [],
   "source": [
    "from distgen import Generator\n",
    "\n",
    "import numpy as np\n",
    "\n",
    "%load_ext autoreload\n",
    "%autoreload 2\n",
    "%config InlineBackend.figure_format = 'retina'"
   ]
  },
  {
   "cell_type": "code",
   "execution_count": 2,
   "id": "ef502018-ea95-4b1a-bf41-b68b91f00dbc",
   "metadata": {
    "execution": {
     "iopub.execute_input": "2024-07-29T19:31:43.201340Z",
     "iopub.status.busy": "2024-07-29T19:31:43.201077Z",
     "iopub.status.idle": "2024-07-29T19:31:43.223194Z",
     "shell.execute_reply": "2024-07-29T19:31:43.222644Z"
    }
   },
   "outputs": [],
   "source": [
    "D = Generator('data/gaussian.in.yaml', verbose=1)\n",
    "D['n_particle']=1000"
   ]
  },
  {
   "cell_type": "code",
   "execution_count": 3,
   "id": "5e2c8223-6ea6-49b1-9cff-ccd4312f6798",
   "metadata": {
    "execution": {
     "iopub.execute_input": "2024-07-29T19:31:43.225619Z",
     "iopub.status.busy": "2024-07-29T19:31:43.225278Z",
     "iopub.status.idle": "2024-07-29T19:31:43.270560Z",
     "shell.execute_reply": "2024-07-29T19:31:43.269961Z"
    }
   },
   "outputs": [
    {
     "name": "stdout",
     "output_type": "stream",
     "text": [
      "Distribution format: None\n",
      "   Warning: no output file specified, defaulting to \"None\".\n",
      "Output file: None\n",
      "\n",
      "Creating beam distribution....\n",
      "   Beam starting from: time\n",
      "   Total charge: 10 pC.\n",
      "   Number of macroparticles: 1000.\n",
      "   Assuming cylindrical symmetry...\n",
      "   Assuming longitudinally polarized electrons...\n",
      "   r distribution: radial Gaussian\n",
      "   theta distribution: uniform theta\n",
      "      min_theta = 0 rad, max_theta = 6.28319 rad\n",
      "uniform theta\n",
      "      min_theta = 0 rad, max_theta = 6.28319 rad\n",
      "   px distribution: Gaussian\n",
      "      avg_px = 0 keV/c, sigma_px = 1.000 keV/c\n",
      "   py distribution: Gaussian\n",
      "      avg_py = 0 keV/c, sigma_py = 1.000 keV/c\n",
      "   pz distribution: Gaussian\n",
      "      avg_pz = 0 GeV/c, sigma_pz = 1.000 MeV/c\n",
      "   z distribution: Gaussian\n",
      "      avg_z = 0 mm, sigma_z = 2.000 mm\n",
      "   Shifting avg_x = -6.09445E-05 mm -> 0 mm\n",
      "   Scaling sigma_x = 0.992078 mm -> 1 mm\n",
      "   Shifting avg_y = -0.000934224 mm -> 0 mm\n",
      "   Scaling sigma_y = 0.997564 mm -> 1 mm\n",
      "   Shifting avg_z = -0.0220143 mm -> 0 mm\n",
      "   Scaling sigma_z = 1.98865 mm -> 2 mm\n",
      "   Shifting avg_px = -0.00212876 keV/c -> 0 keV/c\n",
      "   Scaling sigma_px = 0.992484 keV/c -> 1 keV/c\n",
      "   Shifting avg_py = -0.00796779 keV/c -> 0 keV/c\n",
      "   Scaling sigma_py = 0.997902 keV/c -> 1 keV/c\n",
      "   Shifting avg_pz = -7.43475E-06 GeV/c -> 0 GeV/c\n",
      "   Scaling sigma_pz = 0.000997448 GeV/c -> 1 MeV/c\n",
      "   Time start: fixing all particle time values to start time: 0 s.\n",
      "      Setting avg_t -> 0 s.\n",
      "...done. Time Elapsed: 30.5955 ms.\n",
      "\n"
     ]
    }
   ],
   "source": [
    "B = D.beam()"
   ]
  },
  {
   "cell_type": "code",
   "execution_count": 4,
   "id": "1f80a9b2-02d4-46a9-b951-26248b6197dd",
   "metadata": {
    "execution": {
     "iopub.execute_input": "2024-07-29T19:31:43.272923Z",
     "iopub.status.busy": "2024-07-29T19:31:43.272575Z",
     "iopub.status.idle": "2024-07-29T19:31:43.289721Z",
     "shell.execute_reply": "2024-07-29T19:31:43.289164Z"
    }
   },
   "outputs": [
    {
     "data": {
      "text/html": [
       "0.35000000000000003 dimensionless"
      ],
      "text/latex": [
       "$0.35000000000000003\\ \\mathrm{dimensionless}$"
      ],
      "text/plain": [
       "<Quantity(0.35, 'dimensionless')>"
      ]
     },
     "execution_count": 4,
     "metadata": {},
     "output_type": "execute_result"
    }
   ],
   "source": [
    "np.sum(B.sz) / np.sum(np.abs(B.sz))"
   ]
  },
  {
   "cell_type": "code",
   "execution_count": 5,
   "id": "b73effe3-b87e-4dc4-a0b2-9c81a5d46fd4",
   "metadata": {
    "execution": {
     "iopub.execute_input": "2024-07-29T19:31:43.292097Z",
     "iopub.status.busy": "2024-07-29T19:31:43.291754Z",
     "iopub.status.idle": "2024-07-29T19:31:43.306879Z",
     "shell.execute_reply": "2024-07-29T19:31:43.306432Z"
    }
   },
   "outputs": [
    {
     "data": {
      "text/plain": [
       "(<Quantity(-0.39458226, 'nanometer * electron_volt / speed_of_light')>,\n",
       " <Quantity(0.097855922, 'nanometer * electron_volt / speed_of_light')>,\n",
       " <Quantity(29203.4529, 'nanometer ** 2 * electron_volt ** 2 / speed_of_light ** 2')>,\n",
       " <Quantity(8.34676344e-12, 'nanometer ** 2 * electron_volt ** 2 / speed_of_light ** 2')>)"
      ]
     },
     "execution_count": 5,
     "metadata": {},
     "output_type": "execute_result"
    }
   ],
   "source": [
    "B.sx.mean(), B.sy.mean(), B.s2.mean(), B.s2.std()"
   ]
  },
  {
   "cell_type": "code",
   "execution_count": 6,
   "id": "7dd0201e-1d2d-4175-8615-c766df7071ed",
   "metadata": {
    "execution": {
     "iopub.execute_input": "2024-07-29T19:31:43.309062Z",
     "iopub.status.busy": "2024-07-29T19:31:43.308726Z",
     "iopub.status.idle": "2024-07-29T19:31:43.323180Z",
     "shell.execute_reply": "2024-07-29T19:31:43.322584Z"
    }
   },
   "outputs": [
    {
     "data": {
      "text/html": [
       "29203.452877102412 electron_volt<sup>2</sup> nanometer<sup>2</sup>/speed_of_light<sup>2</sup>"
      ],
      "text/latex": [
       "$29203.452877102412\\ \\frac{\\mathrm{electron\\_volt}^{2} \\cdot \\mathrm{nanometer}^{2}}{\\mathrm{speed\\_of\\_light}^{2}}$"
      ],
      "text/plain": [
       "<Quantity(29203.4529, 'nanometer ** 2 * electron_volt ** 2 / speed_of_light ** 2')>"
      ]
     },
     "execution_count": 6,
     "metadata": {},
     "output_type": "execute_result"
    }
   ],
   "source": [
    "B.s2[0]"
   ]
  },
  {
   "cell_type": "code",
   "execution_count": 7,
   "id": "94bdcdb1-6d65-4def-b213-e80490887d49",
   "metadata": {
    "execution": {
     "iopub.execute_input": "2024-07-29T19:31:43.325452Z",
     "iopub.status.busy": "2024-07-29T19:31:43.325120Z",
     "iopub.status.idle": "2024-07-29T19:31:43.339644Z",
     "shell.execute_reply": "2024-07-29T19:31:43.339132Z"
    }
   },
   "outputs": [
    {
     "data": {
      "text/html": [
       "0.35000000000000003 dimensionless"
      ],
      "text/latex": [
       "$0.35000000000000003\\ \\mathrm{dimensionless}$"
      ],
      "text/plain": [
       "<Quantity(0.35, 'dimensionless')>"
      ]
     },
     "execution_count": 7,
     "metadata": {},
     "output_type": "execute_result"
    }
   ],
   "source": [
    "B.spin_polarization()"
   ]
  },
  {
   "cell_type": "code",
   "execution_count": 8,
   "id": "272a4b45-4fba-4252-a613-41bc503ee7d9",
   "metadata": {
    "execution": {
     "iopub.execute_input": "2024-07-29T19:31:43.341705Z",
     "iopub.status.busy": "2024-07-29T19:31:43.341524Z",
     "iopub.status.idle": "2024-07-29T19:31:43.356225Z",
     "shell.execute_reply": "2024-07-29T19:31:43.355784Z"
    }
   },
   "outputs": [
    {
     "data": {
      "text/html": [
       "-2.00231930436256 dimensionless"
      ],
      "text/latex": [
       "$-2.00231930436256\\ \\mathrm{dimensionless}$"
      ],
      "text/plain": [
       "<Quantity(-2.0023193, 'dimensionless')>"
      ]
     },
     "execution_count": 8,
     "metadata": {},
     "output_type": "execute_result"
    }
   ],
   "source": [
    "B.g_factor[0]"
   ]
  },
  {
   "cell_type": "code",
   "execution_count": 9,
   "id": "e4b535c0-07c3-4b88-80dd-6bed5d2d983b",
   "metadata": {
    "execution": {
     "iopub.execute_input": "2024-07-29T19:31:43.358180Z",
     "iopub.status.busy": "2024-07-29T19:31:43.358000Z",
     "iopub.status.idle": "2024-07-29T19:31:43.371149Z",
     "shell.execute_reply": "2024-07-29T19:31:43.370683Z"
    }
   },
   "outputs": [],
   "source": [
    "from distgen.writers import write_gpt"
   ]
  },
  {
   "cell_type": "code",
   "execution_count": 10,
   "id": "49fc8a1b-4c90-4342-ad2f-279534d8da53",
   "metadata": {
    "execution": {
     "iopub.execute_input": "2024-07-29T19:31:43.373242Z",
     "iopub.status.busy": "2024-07-29T19:31:43.373063Z",
     "iopub.status.idle": "2024-07-29T19:31:43.407597Z",
     "shell.execute_reply": "2024-07-29T19:31:43.406980Z"
    }
   },
   "outputs": [
    {
     "name": "stdout",
     "output_type": "stream",
     "text": [
      "Printing 1000 particles to \"test.spin.gdf\":    Converting file to GDF: done. Time ellapsed: 3.01695 ms.\n",
      "...done. Time ellapsed: 20.8135 ms.\n"
     ]
    },
    {
     "name": "stderr",
     "output_type": "stream",
     "text": [
      "sh: 1: -o: not found\n"
     ]
    }
   ],
   "source": [
    "write_gpt(B, 'test.spin.gdf', verbose=1, asci2gdf_bin='$ASCI2GDF_BIN')"
   ]
  },
  {
   "cell_type": "code",
   "execution_count": 11,
   "id": "67493bf1-1d30-4bce-a901-5c4a47229640",
   "metadata": {
    "execution": {
     "iopub.execute_input": "2024-07-29T19:31:43.409696Z",
     "iopub.status.busy": "2024-07-29T19:31:43.409380Z",
     "iopub.status.idle": "2024-07-29T19:31:43.425319Z",
     "shell.execute_reply": "2024-07-29T19:31:43.424790Z"
    }
   },
   "outputs": [
    {
     "name": "stdout",
     "output_type": "stream",
     "text": [
      "<disgten.Generator with input: \n",
      "n_particle: 1000\n",
      "output:\n",
      "  type: null\n",
      "px_dist:\n",
      "  sigma_px:\n",
      "    units: kiloelectron_volt / speed_of_light\n",
      "    value: 1.0\n",
      "  type: gaussian\n",
      "py_dist:\n",
      "  sigma_py:\n",
      "    units: kiloelectron_volt / speed_of_light\n",
      "    value: 1.0\n",
      "  type: gaussian\n",
      "pz_dist:\n",
      "  avg_pz:\n",
      "    units: gigaelectron_volt / speed_of_light\n",
      "    value: 0.0\n",
      "  sigma_pz:\n",
      "    units: megaelectron_volt / speed_of_light\n",
      "    value: 1.0\n",
      "  type: gaussian\n",
      "r_dist:\n",
      "  sigma_xy:\n",
      "    units: millimeter\n",
      "    value: 1.0\n",
      "  type: radial_gaussian\n",
      "random:\n",
      "  type: hammersley\n",
      "species: electron\n",
      "spin_polarization: 0.35\n",
      "start:\n",
      "  tstart:\n",
      "    units: second\n",
      "    value: 0\n",
      "  type: time\n",
      "total_charge:\n",
      "  units: picocoulomb\n",
      "  value: 10\n",
      "transforms: null\n",
      "z_dist:\n",
      "  avg_z:\n",
      "    units: millimeter\n",
      "    value: 0.0\n",
      "  sigma_z:\n",
      "    units: millimeter\n",
      "    value: 2.0\n",
      "  type: gaussian\n",
      "\n",
      ">\n"
     ]
    }
   ],
   "source": [
    "print(D)"
   ]
  },
  {
   "cell_type": "code",
   "execution_count": null,
   "id": "c8bcbe98-1ecd-49b6-bb2c-582e72a183d4",
   "metadata": {},
   "outputs": [],
   "source": []
  }
 ],
 "metadata": {
  "kernelspec": {
   "display_name": "Python 3 (ipykernel)",
   "language": "python",
   "name": "python3"
  },
  "language_info": {
   "codemirror_mode": {
    "name": "ipython",
    "version": 3
   },
   "file_extension": ".py",
   "mimetype": "text/x-python",
   "name": "python",
   "nbconvert_exporter": "python",
   "pygments_lexer": "ipython3",
   "version": "3.9.19"
  }
 },
 "nbformat": 4,
 "nbformat_minor": 5
}
