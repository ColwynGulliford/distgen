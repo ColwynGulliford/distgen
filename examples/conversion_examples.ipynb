{
 "cells": [
  {
   "cell_type": "code",
   "execution_count": 1,
   "metadata": {},
   "outputs": [],
   "source": [
    "# Useful for debugging\n",
    "%load_ext autoreload\n",
    "%autoreload 2"
   ]
  },
  {
   "cell_type": "markdown",
   "metadata": {},
   "source": [
    "# Examples on converting to other formats"
   ]
  },
  {
   "cell_type": "code",
   "execution_count": 2,
   "metadata": {},
   "outputs": [],
   "source": [
    "from distgen.drivers import run_distgen"
   ]
  },
  {
   "cell_type": "code",
   "execution_count": 3,
   "metadata": {},
   "outputs": [
    {
     "name": "stdout",
     "output_type": "stream",
     "text": [
      "Reading file 'data/rad.gaussian.in.json'...done. Time Ellapsed: 894.78 microsecond\n",
      "Distribution format: gpt\n",
      "Output file: rad.gaussian.out.txt\n",
      "\n",
      "Creating beam distribution....\n",
      "   Beam starting from: cathode.\n",
      "   Total charge: 10.000 pC.\n",
      "   Number of macroparticles: 200000.\n",
      "   r distribution: radial Gaussian\n",
      "      sigma_xy = 2.000 mm\n",
      "      Assuming cylindrical symmetry...\n",
      "   t distribution: uniform\n",
      "      min_t = -2.000 ps, max_t = 2.000 ps\n",
      "   px distribution: Gaussian\n",
      "      avg_px = 0.000 eV/c, sigma_px = 276.857 eV/c\n",
      "   py distribution: Gaussian\n",
      "      avg_py = 0.000 eV/c, sigma_py = 276.857 eV/c\n",
      "   pz distribution: Gaussian\n",
      "      avg_pz = 0.000 eV/c, sigma_pz = 276.857 eV/c\n",
      "   Cathode start: fixing pz momenta to forward hemisphere\n",
      "      avg_pz -> 220.907 eV/c, sigma_pz -> 166.884 eV/c\n",
      "...done. Time Ellapsed: 366.46 millisecond.\n",
      "\n",
      "Printing 200000 particles to 'rad.gaussian.out.txt': done. Time ellapsed: 1.78 second.\n",
      "\n",
      "Beam stats:\n",
      "   avg_x = 0.000 m, sigma_x = 0.002 m\n",
      "   avg_y = -0.000 m, sigma_y = 0.002 m\n",
      "   avg_z = 0.000 m, sigma_z = 0.000 m\n",
      "   avg_px = 0.000 GB, sigma_px = 0.001 GB\n",
      "   avg_py = 0.000 GB, sigma_py = 0.001 GB\n",
      "   avg_pz = 0.000 GB, sigma_pz = 0.000 GB\n",
      "   avg_t = -0.000 s, sigma_t = 0.000 s\n"
     ]
    }
   ],
   "source": [
    "beam = run_distgen(inputs='data/rad.gaussian.in.json', verbose=1)"
   ]
  },
  {
   "cell_type": "code",
   "execution_count": 4,
   "metadata": {},
   "outputs": [
    {
     "data": {
      "text/plain": [
       "{'n_particle': 200000,\n",
       " 'species': 'electron',\n",
       " 'weight': array([5.e-17, 5.e-17, 5.e-17, ..., 5.e-17, 5.e-17, 5.e-17]),\n",
       " 'status': array([1, 1, 1, ..., 1, 1, 1]),\n",
       " 'x': array([0.00071868, 0.00257194, 0.00173156, ..., 0.00284179, 0.00197399,\n",
       "        0.00416432]),\n",
       " 'y': array([ 3.35742018e-08,  1.72585774e-07,  1.74178935e-07, ...,\n",
       "        -2.56810092e-07, -1.13017489e-07, -1.19816136e-07]),\n",
       " 'z': array([0., 0., 0., ..., 0., 0., 0.]),\n",
       " 'px': array([  99.26592469,  275.35176338, -388.99376982, ..., -483.76378208,\n",
       "        -195.27387466,  -41.57556896]),\n",
       " 'py': array([-271.61649541, -140.3083669 ,  -35.47552745, ..., -190.10914782,\n",
       "         -78.04136683,   22.14982493]),\n",
       " 'pz': array([1222.99335667, 1180.83052404, 1155.51762952, ..., 1155.51762952,\n",
       "        1180.83052404, 1222.99335667]),\n",
       " 't': array([ 1.55559448e-12, -1.85179700e-12, -5.18469896e-13, ...,\n",
       "         3.78415689e-13,  1.71174279e-12, -1.69564869e-12])}"
      ]
     },
     "execution_count": 4,
     "metadata": {},
     "output_type": "execute_result"
    }
   ],
   "source": [
    "# convert to simple data\n",
    "beam.data()"
   ]
  },
  {
   "cell_type": "markdown",
   "metadata": {},
   "source": [
    "# openPMD beamphysics data"
   ]
  },
  {
   "cell_type": "code",
   "execution_count": 10,
   "metadata": {},
   "outputs": [],
   "source": [
    "from pmd_beamphysics import ParticleGroup\n",
    "from pmd_beamphysics.plot import marginal_plot"
   ]
  },
  {
   "cell_type": "code",
   "execution_count": 11,
   "metadata": {},
   "outputs": [],
   "source": [
    "P = ParticleGroup(data = beam.data())"
   ]
  },
  {
   "cell_type": "code",
   "execution_count": 12,
   "metadata": {},
   "outputs": [
    {
     "data": {
      "image/png": "[encoded data removed]",
      "text/plain": [
       "<Figure size 432x288 with 3 Axes>"
      ]
     },
     "metadata": {
      "needs_background": "light"
     },
     "output_type": "display_data"
    }
   ],
   "source": [
    "marginal_plot(P, 'x', 'y')"
   ]
  },
  {
   "cell_type": "code",
   "execution_count": null,
   "metadata": {},
   "outputs": [],
   "source": []
  },
  {
   "cell_type": "code",
   "execution_count": null,
   "metadata": {},
   "outputs": [],
   "source": []
  }
 ],
 "metadata": {
  "kernelspec": {
   "display_name": "Python 3",
   "language": "python",
   "name": "python3"
  },
  "language_info": {
   "codemirror_mode": {
    "name": "ipython",
    "version": 3
   },
   "file_extension": ".py",
   "mimetype": "text/x-python",
   "name": "python",
   "nbconvert_exporter": "python",
   "pygments_lexer": "ipython3",
   "version": "3.7.5"
  }
 },
 "nbformat": 4,
 "nbformat_minor": 4
}
