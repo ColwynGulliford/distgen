{
 "cells": [
  {
   "cell_type": "code",
   "execution_count": 1,
   "id": "be6b1d53-ac65-411e-9736-76fb7ec7653e",
   "metadata": {
    "execution": {
     "iopub.execute_input": "2024-10-23T19:30:27.761317Z",
     "iopub.status.busy": "2024-10-23T19:30:27.761142Z",
     "iopub.status.idle": "2024-10-23T19:30:28.959899Z",
     "shell.execute_reply": "2024-10-23T19:30:28.959273Z"
    }
   },
   "outputs": [],
   "source": [
    "from distgen.physical_constants import PHYSICAL_CONSTANTS"
   ]
  },
  {
   "cell_type": "code",
   "execution_count": 2,
   "id": "1a40b2fe-d823-4465-8640-2db110f5c2e9",
   "metadata": {
    "execution": {
     "iopub.execute_input": "2024-10-23T19:30:28.962211Z",
     "iopub.status.busy": "2024-10-23T19:30:28.961925Z",
     "iopub.status.idle": "2024-10-23T19:30:28.967765Z",
     "shell.execute_reply": "2024-10-23T19:30:28.967236Z"
    }
   },
   "outputs": [
    {
     "data": {
      "text/plain": [
       "{'description': 'ionized hydrogen molecule',\n",
       " 'charge': <Quantity(1.60217663e-19, 'coulomb')>,\n",
       " 'mass': <Quantity(3.34615479e-27, 'kilogram')>,\n",
       " 'mc2': <Quantity(1.87705518e+09, 'electron_volt')>}"
      ]
     },
     "execution_count": 2,
     "metadata": {},
     "output_type": "execute_result"
    }
   ],
   "source": [
    "PHYSICAL_CONSTANTS._species_data['H2+']"
   ]
  },
  {
   "cell_type": "code",
   "execution_count": null,
   "id": "2c546f2c-2ccc-4b12-b819-3dc369f84e9b",
   "metadata": {},
   "outputs": [],
   "source": []
  }
 ],
 "metadata": {
  "kernelspec": {
   "display_name": "Python 3 (ipykernel)",
   "language": "python",
   "name": "python3"
  },
  "language_info": {
   "codemirror_mode": {
    "name": "ipython",
    "version": 3
   },
   "file_extension": ".py",
   "mimetype": "text/x-python",
   "name": "python",
   "nbconvert_exporter": "python",
   "pygments_lexer": "ipython3",
   "version": "3.9.20"
  }
 },
 "nbformat": 4,
 "nbformat_minor": 5
}
