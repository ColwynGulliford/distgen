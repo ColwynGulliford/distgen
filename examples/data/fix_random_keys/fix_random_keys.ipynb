{
 "cells": [
  {
   "cell_type": "code",
   "execution_count": 1,
   "id": "478208f8-37d9-4161-9a43-b51c4ed2c822",
   "metadata": {
    "execution": {
     "iopub.execute_input": "2024-11-09T01:36:13.519002Z",
     "iopub.status.busy": "2024-11-09T01:36:13.518824Z",
     "iopub.status.idle": "2024-11-09T01:36:13.546468Z",
     "shell.execute_reply": "2024-11-09T01:36:13.546012Z"
    }
   },
   "outputs": [],
   "source": [
    "# Useful for debugging\n",
    "%load_ext autoreload\n",
    "%autoreload 2\n",
    "%config InlineBackend.figure_format = 'retina'\n",
    "import yaml\n",
    "from glob import glob"
   ]
  },
  {
   "cell_type": "code",
   "execution_count": 2,
   "id": "cea206ab-2d85-4460-9a25-8fcb34c0b2b8",
   "metadata": {
    "execution": {
     "iopub.execute_input": "2024-11-09T01:36:13.548329Z",
     "iopub.status.busy": "2024-11-09T01:36:13.547983Z",
     "iopub.status.idle": "2024-11-09T01:36:13.555853Z",
     "shell.execute_reply": "2024-11-09T01:36:13.555431Z"
    }
   },
   "outputs": [],
   "source": [
    "yamls = glob(\"*yaml\")"
   ]
  },
  {
   "cell_type": "code",
   "execution_count": 3,
   "id": "5aaae0ff-5ccc-4112-8dcc-50c7b4ec2447",
   "metadata": {
    "execution": {
     "iopub.execute_input": "2024-11-09T01:36:13.557856Z",
     "iopub.status.busy": "2024-11-09T01:36:13.557531Z",
     "iopub.status.idle": "2024-11-09T01:36:13.639710Z",
     "shell.execute_reply": "2024-11-09T01:36:13.639189Z"
    }
   },
   "outputs": [],
   "source": [
    "for y in yamls:\n",
    "    with open(y, \"r\") as fid:\n",
    "        inputs = yaml.safe_load(fid)\n",
    "\n",
    "        if \"random_type\" in inputs:\n",
    "            del inputs[\"random_type\"]\n",
    "\n",
    "        inputs[\"random\"] = {\"type\": \"hammersley\"}\n",
    "\n",
    "    with open(y, \"w\") as fid:\n",
    "        yaml.dump(inputs, fid)"
   ]
  },
  {
   "cell_type": "code",
   "execution_count": null,
   "id": "9478404e-cc15-4ea7-b006-9c287f308a76",
   "metadata": {},
   "outputs": [],
   "source": []
  }
 ],
 "metadata": {
  "kernelspec": {
   "display_name": "Python 3 (ipykernel)",
   "language": "python",
   "name": "python3"
  },
  "language_info": {
   "codemirror_mode": {
    "name": "ipython",
    "version": 3
   },
   "file_extension": ".py",
   "mimetype": "text/x-python",
   "name": "python",
   "nbconvert_exporter": "python",
   "pygments_lexer": "ipython3",
   "version": "3.9.20"
  }
 },
 "nbformat": 4,
 "nbformat_minor": 5
}
