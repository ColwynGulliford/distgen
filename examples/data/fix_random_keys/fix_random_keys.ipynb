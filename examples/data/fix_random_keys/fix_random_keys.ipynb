{
 "cells": [
  {
   "cell_type": "code",
   "execution_count": 1,
   "id": "478208f8-37d9-4161-9a43-b51c4ed2c822",
   "metadata": {
    "execution": {
     "iopub.execute_input": "2024-08-22T01:24:49.756861Z",
     "iopub.status.busy": "2024-08-22T01:24:49.756401Z",
     "iopub.status.idle": "2024-08-22T01:24:49.785109Z",
     "shell.execute_reply": "2024-08-22T01:24:49.784459Z"
    }
   },
   "outputs": [],
   "source": [
    "# Useful for debugging\n",
    "%load_ext autoreload\n",
    "%autoreload 2\n",
    "%config InlineBackend.figure_format = 'retina'\n",
    "import yaml\n",
    "from glob import glob\n",
    "from pathlib import Path"
   ]
  },
  {
   "cell_type": "code",
   "execution_count": 2,
   "id": "cea206ab-2d85-4460-9a25-8fcb34c0b2b8",
   "metadata": {
    "execution": {
     "iopub.execute_input": "2024-08-22T01:24:49.788241Z",
     "iopub.status.busy": "2024-08-22T01:24:49.787740Z",
     "iopub.status.idle": "2024-08-22T01:24:49.796170Z",
     "shell.execute_reply": "2024-08-22T01:24:49.795610Z"
    }
   },
   "outputs": [],
   "source": [
    "yamls = glob('*yaml')"
   ]
  },
  {
   "cell_type": "code",
   "execution_count": 3,
   "id": "5aaae0ff-5ccc-4112-8dcc-50c7b4ec2447",
   "metadata": {
    "execution": {
     "iopub.execute_input": "2024-08-22T01:24:49.798583Z",
     "iopub.status.busy": "2024-08-22T01:24:49.798412Z",
     "iopub.status.idle": "2024-08-22T01:24:49.883221Z",
     "shell.execute_reply": "2024-08-22T01:24:49.882691Z"
    }
   },
   "outputs": [],
   "source": [
    "for y in yamls:\n",
    "    \n",
    "    with open(y, 'r') as fid:\n",
    "        inputs = yaml.safe_load(fid)\n",
    "        \n",
    "        if('random_type' in inputs):\n",
    "            del inputs['random_type']\n",
    "            \n",
    "        inputs['random']={'type':'hammersley'}\n",
    "    \n",
    "    with open(y, 'w') as fid:\n",
    "        yaml.dump(inputs, fid)\n"
   ]
  },
  {
   "cell_type": "code",
   "execution_count": null,
   "id": "9478404e-cc15-4ea7-b006-9c287f308a76",
   "metadata": {},
   "outputs": [],
   "source": []
  }
 ],
 "metadata": {
  "kernelspec": {
   "display_name": "Python 3 (ipykernel)",
   "language": "python",
   "name": "python3"
  },
  "language_info": {
   "codemirror_mode": {
    "name": "ipython",
    "version": 3
   },
   "file_extension": ".py",
   "mimetype": "text/x-python",
   "name": "python",
   "nbconvert_exporter": "python",
   "pygments_lexer": "ipython3",
   "version": "3.9.19"
  }
 },
 "nbformat": 4,
 "nbformat_minor": 5
}
