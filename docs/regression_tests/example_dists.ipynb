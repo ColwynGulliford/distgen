{
 "cells": [
  {
   "cell_type": "code",
   "execution_count": null,
   "id": "fc92f521-fa50-4378-a0e8-9ec8a90b6897",
   "metadata": {},
   "outputs": [],
   "source": [
    "from distgen import Generator\n",
    "import numpy as np"
   ]
  },
  {
   "cell_type": "code",
   "execution_count": null,
   "id": "39808d05-0a10-45a2-b9d6-65ed60f94bc8",
   "metadata": {},
   "outputs": [],
   "source": [
    "def test_uniform_rad():\n",
    "    D = Generator(\"../examples/data/rad.uniform.in.yaml\", verbose=0)\n",
    "    D[\"r_dist:min_r\"] = 0\n",
    "    D.run()\n",
    "\n",
    "    max_r = D._input[\"r_dist\"][\"max_r\"].to(\"m\").magnitude\n",
    "\n",
    "    assert np.isclose(D.particles[\"mean_x\"], 0)\n",
    "    assert np.isclose(D.particles[\"mean_y\"], 0)\n",
    "    assert np.isclose(D.particles[\"sigma_x\"], max_r / 2)\n",
    "    assert np.isclose(D.particles[\"sigma_y\"], max_r / 2)\n",
    "    assert np.isclose(max(D.particles[\"r\"]), max_r, rtol=1e-8, atol=1e-7)\n",
    "\n",
    "    D[\"r_dist:min_r\"] = 1\n",
    "    min_r = D._input[\"r_dist\"][\"min_r\"].to(\"m\").magnitude\n",
    "    D.run()\n",
    "\n",
    "    assert np.isclose(D.particles[\"mean_x\"], 0)\n",
    "    assert np.isclose(D.particles[\"mean_y\"], 0)\n",
    "    assert np.isclose(min(D.particles[\"r\"]), min_r, rtol=1e-8, atol=1e-7)\n",
    "    assert np.isclose(max(D.particles[\"r\"]), max_r, rtol=1e-8, atol=1e-7)\n",
    "\n",
    "\n",
    "test_uniform_rad()"
   ]
  },
  {
   "cell_type": "code",
   "execution_count": null,
   "id": "9c6ce04e-2a7e-453e-b96a-c71ddff7572b",
   "metadata": {},
   "outputs": [],
   "source": [
    "def test_radial_gaussian():\n",
    "    D = Generator(\"../examples/data/rad.gaussian.in.yaml\", verbose=0)\n",
    "    sigma_xy = D._input[\"r_dist\"][\"sigma_xy\"].to(\"m\").magnitude\n",
    "    D.run()\n",
    "\n",
    "    assert np.isclose(D.particles[\"mean_x\"], 0)\n",
    "    assert np.isclose(D.particles[\"mean_y\"], 0)\n",
    "    assert np.isclose(sigma_xy, D.particles[\"sigma_x\"])\n",
    "    assert np.isclose(sigma_xy, D.particles[\"sigma_y\"])\n",
    "\n",
    "    D = Generator(\"../examples/data/rad.trunc.gaussian.in.yaml\", verbose=0)\n",
    "    D.run()\n",
    "\n",
    "    assert np.isclose(D.particles[\"mean_x\"], 0)\n",
    "    assert np.isclose(D.particles[\"mean_y\"], 0)\n",
    "\n",
    "    max_r = D._input[\"r_dist\"][\"truncation_radius\"].to(\"m\").magnitude\n",
    "    assert np.isclose(max(D.particles[\"r\"]), max_r, rtol=1e-8, atol=1e-7)\n",
    "\n",
    "\n",
    "test_radial_gaussian()"
   ]
  }
 ],
 "metadata": {
  "kernelspec": {
   "display_name": "Python 3 (ipykernel)",
   "language": "python",
   "name": "python3"
  },
  "language_info": {
   "codemirror_mode": {
    "name": "ipython",
    "version": 3
   },
   "file_extension": ".py",
   "mimetype": "text/x-python",
   "name": "python",
   "nbconvert_exporter": "python",
   "pygments_lexer": "ipython3",
   "version": "3.12.4"
  }
 },
 "nbformat": 4,
 "nbformat_minor": 5
}
