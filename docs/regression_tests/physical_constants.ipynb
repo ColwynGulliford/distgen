{
 "cells": [
  {
   "cell_type": "markdown",
   "id": "ec20b8a7-0d28-4081-8731-b6510a431756",
   "metadata": {},
   "source": [
    "# Physical Constant Tests\n",
    "---"
   ]
  },
  {
   "cell_type": "code",
   "execution_count": 1,
   "id": "4d58c267-f68a-4ee5-95a0-f18becc3d724",
   "metadata": {},
   "outputs": [],
   "source": [
    "from distgen.physical_constants import *\n",
    "import scipy.constants"
   ]
  },
  {
   "cell_type": "code",
   "execution_count": 2,
   "id": "6b4bae43-3eeb-4882-8e4d-8a7e15b418ec",
   "metadata": {},
   "outputs": [],
   "source": [
    "def test_basic_constants():\n",
    "    \n",
    "    # Speed of light \n",
    "    assert c.magnitude == 299792458\n",
    "    assert str(c.units) == 'meter / second'\n",
    "\n",
    "    # Elementary charge\n",
    "    assert e.magnitude == 1.602176634e-19\n",
    "    assert str(e.units) == 'coulomb'\n",
    "\n",
    "    # Electron parameters\n",
    "    assert qe == -e\n",
    "    assert me.magnitude == 9.1093837015e-31\n",
    "    assert str(me.units) == 'kilogram'\n",
    "    assert MeC2.magnitude == scipy.constants.value('electron mass energy equivalent in MeV')*1e6\n",
    "    assert str(MeC2.units) == 'electron_volt'\n",
    "    assert ge.magnitude == -2.00231930436256\n",
    "    assert str(ge.units) == 'dimensionless'\n",
    "\n",
    "    # Proton parameters\n",
    "    assert qp == e\n",
    "    assert mp.magnitude == 1.67262192369e-27\n",
    "    assert str(mp.units) == 'kilogram'\n",
    "    assert gp.magnitude == 5.5856946893\n",
    "    assert str(gp.units) == 'dimensionless'\n",
    "\n",
    "    # Misc.\n",
    "    assert kb.magnitude == 8.617333262e-05\n",
    "    assert str(kb.units) == 'electron_volt / kelvin'\n",
    "    \n",
    "test_basic_constants()"
   ]
  },
  {
   "cell_type": "code",
   "execution_count": 3,
   "id": "b58d16da-ce34-4b69-b366-396d127d6c0c",
   "metadata": {},
   "outputs": [
    {
     "data": {
      "text/html": [
       "9.1093837015×10<sup>-31</sup> kilogram"
      ],
      "text/latex": [
       "$9.1093837015\\times 10^{-31}\\ \\mathrm{kilogram}$"
      ],
      "text/plain": [
       "9.1093837015e-31 <Unit('kilogram')>"
      ]
     },
     "execution_count": 3,
     "metadata": {},
     "output_type": "execute_result"
    }
   ],
   "source": [
    "PHYSICAL_CONSTANTS['electron mass']"
   ]
  },
  {
   "cell_type": "code",
   "execution_count": 6,
   "id": "da7d8dee-abfe-4792-9bf3-e521d2709633",
   "metadata": {},
   "outputs": [
    {
     "data": {
      "text/plain": [
       "{'charge': -1.602176634e-19 <Unit('coulomb')>,\n",
       " 'mass': 9.1093837015e-31 <Unit('kilogram')>,\n",
       " 'rest_energy': 510998.94999999995 <Unit('electron_volt')>,\n",
       " 'g_factor': 2.00231930436256 <Unit('dimensionless')>}"
      ]
     },
     "execution_count": 6,
     "metadata": {},
     "output_type": "execute_result"
    }
   ],
   "source": [
    "PHYSICAL_CONSTANTS.species('electron')"
   ]
  },
  {
   "cell_type": "code",
   "execution_count": null,
   "id": "f9ff10e2-ac1d-443e-bf2c-9eb290f2d89c",
   "metadata": {},
   "outputs": [],
   "source": [
    "PHYSICAL_CONSTANTS"
   ]
  }
 ],
 "metadata": {
  "kernelspec": {
   "display_name": "Python 3 (ipykernel)",
   "language": "python",
   "name": "python3"
  },
  "language_info": {
   "codemirror_mode": {
    "name": "ipython",
    "version": 3
   },
   "file_extension": ".py",
   "mimetype": "text/x-python",
   "name": "python",
   "nbconvert_exporter": "python",
   "pygments_lexer": "ipython3",
   "version": "3.12.1"
  }
 },
 "nbformat": 4,
 "nbformat_minor": 5
}
