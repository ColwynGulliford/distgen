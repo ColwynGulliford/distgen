{
 "cells": [
  {
   "cell_type": "markdown",
   "metadata": {},
   "source": [
    "# Correlation Regression Tests"
   ]
  },
  {
   "cell_type": "code",
   "execution_count": null,
   "metadata": {},
   "outputs": [],
   "source": [
    "import numpy as np\n",
    "from matplotlib import pyplot as plt\n",
    "import yaml\n",
    "\n",
    "%matplotlib inline\n",
    "%config InlineBackend.figure_format = 'retina'"
   ]
  },
  {
   "cell_type": "markdown",
   "metadata": {},
   "source": [
    "# Test Correlations in the Hammersley Generator\n",
    "---\n",
    "The Hammerlsey sequence should produce random numbers on (0,1) that are less correlated than the basic random generator:"
   ]
  },
  {
   "cell_type": "code",
   "execution_count": null,
   "metadata": {},
   "outputs": [],
   "source": [
    "from distgen.dist import random_generator\n",
    "\n",
    "rands = random_generator((4, 1000), sequence=\"hammersley\")\n",
    "cov = np.cov(rands)\n",
    "\n",
    "print(\"Covariance of Hammersley samples:\")\n",
    "print(cov)\n",
    "plt.plot(rands[0, :], rands[1, :], \".\");"
   ]
  },
  {
   "cell_type": "code",
   "execution_count": null,
   "metadata": {},
   "outputs": [],
   "source": [
    "rands = random_generator((4, 1000), sequence=\"pseudo\")\n",
    "cov = np.cov(rands)\n",
    "print(\"Covariance of Rand samples:\")\n",
    "print(cov)\n",
    "plt.plot(rands[0, :], rands[1, :], \".\")"
   ]
  },
  {
   "cell_type": "markdown",
   "metadata": {},
   "source": [
    "# Radial Distributions\n",
    "---\n",
    "# Test correlation in sin(theta)cos(theta)"
   ]
  },
  {
   "cell_type": "code",
   "execution_count": null,
   "metadata": {},
   "outputs": [],
   "source": [
    "import math\n",
    "\n",
    "rands = random_generator((2, 10000), sequence=\"hammersley\")\n",
    "np.sum(np.cos(2 * math.pi) * rands[1, :] * np.sin(2 * math.pi) * rands[1, :])"
   ]
  },
  {
   "cell_type": "code",
   "execution_count": null,
   "metadata": {},
   "outputs": [],
   "source": [
    "rands = random_generator((2, 10000), sequence=\"pseudo\")\n",
    "np.sum(np.cos(2 * math.pi) * rands[1, :] * np.sin(2 * math.pi) * rands[1, :])"
   ]
  },
  {
   "cell_type": "markdown",
   "metadata": {},
   "source": [
    "# Generate x,y for uniform dist and check correlation\n"
   ]
  },
  {
   "cell_type": "code",
   "execution_count": null,
   "metadata": {},
   "outputs": [],
   "source": [
    "R = 1\n",
    "N = 100000\n",
    "\n",
    "rands1 = random_generator((2, N), sequence=\"hammersley\")\n",
    "rands2 = random_generator((2, N), sequence=\"pseudo\")\n",
    "rands3 = np.linspace(0, 1, N)\n",
    "\n",
    "rs = R * np.sqrt(rands1[0, :])\n",
    "\n",
    "xs1 = rs * np.cos(2 * math.pi * rands1[1, :])\n",
    "ys1 = rs * np.sin(2 * math.pi * rands1[1, :])\n",
    "\n",
    "xs2 = rs * np.cos(2 * math.pi * rands2[1, :])\n",
    "ys2 = rs * np.sin(2 * math.pi * rands2[1, :])\n",
    "\n",
    "xs3 = rs * np.cos(2 * math.pi * rands3)\n",
    "ys3 = rs * np.sin(2 * math.pi * rands3)\n",
    "\n",
    "plt.plot(xs1, ys1, \".\");"
   ]
  },
  {
   "cell_type": "code",
   "execution_count": null,
   "metadata": {},
   "outputs": [],
   "source": [
    "print(np.mean((xs1 - xs1.mean()) * (ys1 - ys1.mean())))\n",
    "print(np.mean((xs2 - xs2.mean()) * (ys2 - ys2.mean())))\n",
    "print(np.mean((xs3 - xs3.mean()) * (ys3 - ys3.mean())))"
   ]
  },
  {
   "cell_type": "code",
   "execution_count": null,
   "metadata": {},
   "outputs": [],
   "source": [
    "sigma = np.cov(rands1)\n",
    "v, V = np.linalg.eig(sigma)\n",
    "\n",
    "# np.matmul(np.matmul(V.T, sigma), V)\n",
    "\n",
    "randsp = np.matmul(V.T, rands1)\n",
    "\n",
    "np.cov(randsp)\n",
    "rs = R * np.sqrt(randsp[0, :])\n",
    "\n",
    "xsp = rs * np.cos(2 * math.pi * randsp[1, :])\n",
    "ysp = rs * np.sin(2 * math.pi * randsp[1, :])\n",
    "print(np.mean((xsp - xsp.mean()) * (ysp - ysp.mean())))"
   ]
  },
  {
   "cell_type": "code",
   "execution_count": null,
   "metadata": {},
   "outputs": [],
   "source": [
    "input_str = \"\"\"\n",
    "n_particle: 100000\n",
    "species: electron\n",
    "random_type: hammersley\n",
    "total_charge:\n",
    "  value: 1\n",
    "  units: pC\n",
    "start:\n",
    "  type: time\n",
    "r_dist:\n",
    "  max_r:\n",
    "    units: m\n",
    "    value: 2\n",
    "  min_r:\n",
    "    units: m\n",
    "    value: 0\n",
    "  type: radial_uniform\n",
    "\"\"\"\n",
    "\n",
    "yaml.safe_load(input_str)"
   ]
  },
  {
   "cell_type": "code",
   "execution_count": null,
   "metadata": {},
   "outputs": [],
   "source": [
    "from distgen import Generator\n",
    "\n",
    "gen = Generator(input_str)\n",
    "gen.run()\n",
    "xs = gen.particles[\"x\"]\n",
    "ys = gen.particles[\"y\"]\n",
    "\n",
    "gen.particles.cov(\"x\", \"y\")"
   ]
  },
  {
   "cell_type": "code",
   "execution_count": null,
   "metadata": {},
   "outputs": [],
   "source": []
  }
 ],
 "metadata": {
  "kernelspec": {
   "display_name": "Python 3 (ipykernel)",
   "language": "python",
   "name": "python3"
  },
  "language_info": {
   "codemirror_mode": {
    "name": "ipython",
    "version": 3
   },
   "file_extension": ".py",
   "mimetype": "text/x-python",
   "name": "python",
   "nbconvert_exporter": "python",
   "pygments_lexer": "ipython3",
   "version": "3.12.4"
  }
 },
 "nbformat": 4,
 "nbformat_minor": 4
}
