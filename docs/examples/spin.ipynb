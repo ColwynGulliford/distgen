{
 "cells": [
  {
   "cell_type": "markdown",
   "id": "0bd6dbf1-36c8-4215-94cc-4b6942ff1461",
   "metadata": {},
   "source": [
    "# Spin\n",
    "---"
   ]
  },
  {
   "cell_type": "code",
   "execution_count": 1,
   "id": "f185b3b1-5cf3-4c24-ab4b-c02c9f28aad2",
   "metadata": {},
   "outputs": [],
   "source": [
    "from distgen import Generator\n",
    "\n",
    "import numpy as np\n",
    "\n",
    "%load_ext autoreload\n",
    "%autoreload 2\n",
    "%config InlineBackend.figure_format = 'retina'"
   ]
  },
  {
   "cell_type": "code",
   "execution_count": 7,
   "id": "ef502018-ea95-4b1a-bf41-b68b91f00dbc",
   "metadata": {},
   "outputs": [],
   "source": [
    "D = Generator('data/gaussian.in.yaml', verbose=1)"
   ]
  },
  {
   "cell_type": "code",
   "execution_count": 11,
   "id": "5e2c8223-6ea6-49b1-9cff-ccd4312f6798",
   "metadata": {},
   "outputs": [
    {
     "name": "stdout",
     "output_type": "stream",
     "text": [
      "Distribution format: None\n",
      "   Warning: no output file specified, defaulting to \"None\".\n",
      "Output file: None\n",
      "\n",
      "Creating beam distribution....\n",
      "   Beam starting from: time\n",
      "   Total charge: 10 pC.\n",
      "   Number of macroparticles: 200000.\n",
      "   Assuming cylindrical symmetry...\n",
      "   Assuming longitudinally polarized electrons...\n",
      "['px', 'py', 'pz', 'r', 'z', 'theta', 'spin_azimuthal_angle', 'sx', 'sy', 'sz']\n",
      "   r distribution: radial Gaussian\n",
      "   theta distribution: uniform theta\n",
      "      min_theta = 0 rad, max_theta = 6.28319 rad\n",
      "uniform theta\n",
      "      min_theta = 0 rad, max_theta = 6.28319 rad\n",
      "   px distribution: Gaussian\n",
      "      avg_px = 0 keV/c, sigma_px = 1.000 keV/c\n",
      "   py distribution: Gaussian\n",
      "      avg_py = 0 keV/c, sigma_py = 1.000 keV/c\n",
      "   pz distribution: Gaussian\n",
      "      avg_pz = 0 GeV/c, sigma_pz = 1.000 MeV/c\n",
      "   z distribution: Gaussian\n",
      "      avg_z = 0 mm, sigma_z = 2.000 mm\n",
      "   Shifting avg_x = 6.46609E-06 mm -> 0 mm\n",
      "   Scaling sigma_x = 0.999917 mm -> 1 mm\n",
      "   Shifting avg_y = 1.03621E-05 mm -> 0 mm\n",
      "   Scaling sigma_y = 0.999943 mm -> 1 mm\n",
      "   Shifting avg_z = -0.000240505 mm -> 0 mm\n",
      "   Scaling sigma_z = 1.99994 mm -> 2 mm\n",
      "   Shifting avg_px = -6.75477E-05 keV/c -> 0 keV/c\n",
      "   Scaling sigma_px = 0.999962 keV/c -> 1 keV/c\n",
      "   Shifting avg_py = -8.73623E-05 keV/c -> 0 keV/c\n",
      "   Scaling sigma_py = 0.999979 keV/c -> 1 keV/c\n",
      "   Shifting avg_pz = -7.66986E-08 GeV/c -> 0 GeV/c\n",
      "   Scaling sigma_pz = 0.000999972 GeV/c -> 1 MeV/c\n",
      "   Time start: fixing all particle time values to start time: 0 s.\n",
      "      Setting avg_t -> 0 s.\n",
      "...done. Time Elapsed: 127.257 ms.\n",
      "\n"
     ]
    }
   ],
   "source": [
    "B = D.beam()"
   ]
  },
  {
   "cell_type": "code",
   "execution_count": 12,
   "id": "1f80a9b2-02d4-46a9-b951-26248b6197dd",
   "metadata": {},
   "outputs": [
    {
     "data": {
      "text/html": [
       "0.35 dimensionless"
      ],
      "text/latex": [
       "$0.35\\ \\mathrm{dimensionless}$"
      ],
      "text/plain": [
       "<Quantity(0.35, 'dimensionless')>"
      ]
     },
     "execution_count": 12,
     "metadata": {},
     "output_type": "execute_result"
    }
   ],
   "source": [
    "np.sum(B.sz) / np.sum(np.abs(B.sz))"
   ]
  },
  {
   "cell_type": "code",
   "execution_count": 17,
   "id": "b73effe3-b87e-4dc4-a0b2-9c81a5d46fd4",
   "metadata": {},
   "outputs": [
    {
     "data": {
      "text/plain": [
       "(<Quantity(-0.000225415108, 'nanometer * electron_volt / speed_of_light')>,\n",
       " <Quantity(-0.00297213973, 'nanometer * electron_volt / speed_of_light')>)"
      ]
     },
     "execution_count": 17,
     "metadata": {},
     "output_type": "execute_result"
    }
   ],
   "source": [
    "B.sx.mean(), B.sy.mean()"
   ]
  },
  {
   "cell_type": "code",
   "execution_count": null,
   "id": "7dd0201e-1d2d-4175-8615-c766df7071ed",
   "metadata": {},
   "outputs": [],
   "source": []
  }
 ],
 "metadata": {
  "kernelspec": {
   "display_name": "Python 3 (ipykernel)",
   "language": "python",
   "name": "python3"
  },
  "language_info": {
   "codemirror_mode": {
    "name": "ipython",
    "version": 3
   },
   "file_extension": ".py",
   "mimetype": "text/x-python",
   "name": "python",
   "nbconvert_exporter": "python",
   "pygments_lexer": "ipython3",
   "version": "3.12.4"
  }
 },
 "nbformat": 4,
 "nbformat_minor": 5
}
