{
 "cells": [
  {
   "cell_type": "markdown",
   "id": "0bd6dbf1-36c8-4215-94cc-4b6942ff1461",
   "metadata": {},
   "source": [
    "# Spin\n",
    "---"
   ]
  },
  {
   "cell_type": "code",
   "execution_count": null,
   "id": "f185b3b1-5cf3-4c24-ab4b-c02c9f28aad2",
   "metadata": {},
   "outputs": [],
   "source": [
    "from distgen import Generator\n",
    "\n",
    "import numpy as np\n",
    "\n",
    "%load_ext autoreload\n",
    "%autoreload 2\n",
    "%config InlineBackend.figure_format = 'retina'"
   ]
  },
  {
   "cell_type": "code",
   "execution_count": null,
   "id": "ef502018-ea95-4b1a-bf41-b68b91f00dbc",
   "metadata": {},
   "outputs": [],
   "source": [
    "D = Generator(\"data/gaussian.in.yaml\", verbose=1)\n",
    "D[\"n_particle\"] = 1000"
   ]
  },
  {
   "cell_type": "code",
   "execution_count": null,
   "id": "5e2c8223-6ea6-49b1-9cff-ccd4312f6798",
   "metadata": {},
   "outputs": [],
   "source": [
    "B = D.beam()"
   ]
  },
  {
   "cell_type": "code",
   "execution_count": null,
   "id": "1f80a9b2-02d4-46a9-b951-26248b6197dd",
   "metadata": {},
   "outputs": [],
   "source": [
    "np.sum(B.sz) / np.sum(np.abs(B.sz))"
   ]
  },
  {
   "cell_type": "code",
   "execution_count": null,
   "id": "b73effe3-b87e-4dc4-a0b2-9c81a5d46fd4",
   "metadata": {},
   "outputs": [],
   "source": [
    "B.sx.mean(), B.sy.mean(), B.s2.mean(), B.s2.std()"
   ]
  },
  {
   "cell_type": "code",
   "execution_count": null,
   "id": "7dd0201e-1d2d-4175-8615-c766df7071ed",
   "metadata": {},
   "outputs": [],
   "source": [
    "B.s2[0]"
   ]
  },
  {
   "cell_type": "code",
   "execution_count": null,
   "id": "94bdcdb1-6d65-4def-b213-e80490887d49",
   "metadata": {},
   "outputs": [],
   "source": [
    "B.spin_polarization"
   ]
  },
  {
   "cell_type": "code",
   "execution_count": null,
   "id": "272a4b45-4fba-4252-a613-41bc503ee7d9",
   "metadata": {},
   "outputs": [],
   "source": [
    "B.g_factor[0]"
   ]
  },
  {
   "cell_type": "code",
   "execution_count": null,
   "id": "e4b535c0-07c3-4b88-80dd-6bed5d2d983b",
   "metadata": {},
   "outputs": [],
   "source": [
    "# from distgen.writers import write_gpt"
   ]
  },
  {
   "cell_type": "code",
   "execution_count": null,
   "id": "49fc8a1b-4c90-4342-ad2f-279534d8da53",
   "metadata": {},
   "outputs": [],
   "source": [
    "# write_gpt(B, 'test.spin.gdf', verbose=1, asci2gdf_bin='$ASCI2GDF_BIN')"
   ]
  },
  {
   "cell_type": "code",
   "execution_count": null,
   "id": "67493bf1-1d30-4bce-a901-5c4a47229640",
   "metadata": {},
   "outputs": [],
   "source": [
    "# print(D)"
   ]
  },
  {
   "cell_type": "code",
   "execution_count": null,
   "id": "c8bcbe98-1ecd-49b6-bb2c-582e72a183d4",
   "metadata": {},
   "outputs": [],
   "source": [
    "B.sz"
   ]
  },
  {
   "cell_type": "code",
   "execution_count": null,
   "id": "9c4d8330-c1ef-407f-8ed2-d8e31558be63",
   "metadata": {},
   "outputs": [],
   "source": [
    "D.input"
   ]
  },
  {
   "cell_type": "code",
   "execution_count": null,
   "id": "321210af-5108-4ef5-a05c-7c290744566d",
   "metadata": {},
   "outputs": [],
   "source": [
    "inputs = D.input\n",
    "\n",
    "inputs[\"spin_orientation\"] = {\n",
    "    \"theta_x\": {\"value\": 0, \"units\": \"deg\"},\n",
    "    \"theta_y\": {\"value\": 0, \"units\": \"deg\"},\n",
    "    \"theta_z\": {\"value\": 0, \"units\": \"deg\"},\n",
    "}"
   ]
  },
  {
   "cell_type": "code",
   "execution_count": null,
   "id": "a3f76769-f902-4253-8b5c-f5768a323761",
   "metadata": {},
   "outputs": [],
   "source": [
    "inputs"
   ]
  },
  {
   "cell_type": "code",
   "execution_count": null,
   "id": "4004c84f-a0a4-434d-9682-2a2e40948101",
   "metadata": {},
   "outputs": [],
   "source": [
    "inputs[\"spin_orientation\"][\"theta_x\"] = {\"value\": -5, \"units\": \"deg\"}\n",
    "\n",
    "D2 = Generator(inputs)"
   ]
  },
  {
   "cell_type": "code",
   "execution_count": null,
   "id": "dd60a4ec-571d-4223-b56d-be16318fde90",
   "metadata": {},
   "outputs": [],
   "source": [
    "D2.run()"
   ]
  },
  {
   "cell_type": "code",
   "execution_count": null,
   "id": "5b6743d7-144e-4cca-a493-eca1258f5270",
   "metadata": {},
   "outputs": [],
   "source": [
    "B2 = D2.beam()"
   ]
  },
  {
   "cell_type": "code",
   "execution_count": null,
   "id": "3c809225-e5d0-4fe3-8299-128f56847b91",
   "metadata": {},
   "outputs": [],
   "source": [
    "B2[\"sx\"][0], B2[\"sy\"][0], B2[\"sz\"][0]"
   ]
  },
  {
   "cell_type": "code",
   "execution_count": null,
   "id": "344374a7-4a70-49ca-9ecd-002dd68a975c",
   "metadata": {},
   "outputs": [],
   "source": [
    "np.sqrt(B2[\"sx\"][0] ** 2 + B2[\"sy\"][0] ** 2 + B2[\"sz\"][0] ** 2)"
   ]
  },
  {
   "cell_type": "code",
   "execution_count": null,
   "id": "73fe9481-d975-40f8-aee4-eb7504dcf6fa",
   "metadata": {},
   "outputs": [],
   "source": []
  }
 ],
 "metadata": {
  "kernelspec": {
   "display_name": "Python 3 (ipykernel)",
   "language": "python",
   "name": "python3"
  },
  "language_info": {
   "codemirror_mode": {
    "name": "ipython",
    "version": 3
   },
   "file_extension": ".py",
   "mimetype": "text/x-python",
   "name": "python",
   "nbconvert_exporter": "python",
   "pygments_lexer": "ipython3",
   "version": "3.12.4"
  }
 },
 "nbformat": 4,
 "nbformat_minor": 5
}
