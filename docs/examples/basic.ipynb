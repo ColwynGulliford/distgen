{
 "cells": [
  {
   "cell_type": "markdown",
   "metadata": {},
   "source": [
    "# Distgen basic usage\n",
    "--------------------"
   ]
  },
  {
   "cell_type": "code",
   "execution_count": null,
   "metadata": {},
   "outputs": [],
   "source": [
    "# Useful for debugging\n",
    "%load_ext autoreload\n",
    "%autoreload 2\n",
    "%config InlineBackend.figure_format = 'retina'\n",
    "\n",
    "from matplotlib import pyplot as plt\n",
    "import numpy as np\n",
    "import os\n",
    "import yaml"
   ]
  },
  {
   "cell_type": "markdown",
   "metadata": {},
   "source": [
    "Distgen supports nearly arbitrary generation of 6D + time particle coordinates.  "
   ]
  },
  {
   "cell_type": "markdown",
   "metadata": {},
   "source": [
    "# Generator"
   ]
  },
  {
   "cell_type": "markdown",
   "metadata": {},
   "source": [
    "Generator class defines the main object that creates a beam distribution.  Typical usage is to supply the `Generator.__init__(input, verbose)` with an input file name and a verbose integer value to control the level of output printed to the user.  Input file types can be either json or YAML. The user may also supply a dictionary as the input argument."
   ]
  },
  {
   "cell_type": "code",
   "execution_count": null,
   "metadata": {},
   "outputs": [],
   "source": [
    "from distgen import Generator"
   ]
  },
  {
   "cell_type": "code",
   "execution_count": null,
   "metadata": {},
   "outputs": [],
   "source": [
    "gen = Generator(\"data/rad.gaussian.in.yaml\", verbose=0)"
   ]
  },
  {
   "cell_type": "markdown",
   "metadata": {},
   "source": [
    "Printing a Generator object displays the basic input data read from a distgen input file:"
   ]
  },
  {
   "cell_type": "code",
   "execution_count": null,
   "metadata": {},
   "outputs": [],
   "source": [
    "print(gen)"
   ]
  },
  {
   "cell_type": "markdown",
   "metadata": {},
   "source": [
    "This data is stored internally in fully parsed form.  To get this structure it, use the convenience property `Generator.input`.  Note: there is no setter."
   ]
  },
  {
   "cell_type": "code",
   "execution_count": null,
   "metadata": {},
   "outputs": [],
   "source": [
    "gen.input"
   ]
  },
  {
   "cell_type": "markdown",
   "metadata": {},
   "source": [
    "The input structure allows for four top levels: generator, beam, {variable}_dists, transforms, and output.  Any other input will throw an exception when attempting to create the beam:"
   ]
  },
  {
   "cell_type": "code",
   "execution_count": null,
   "metadata": {},
   "outputs": [],
   "source": [
    "try:\n",
    "    gen[\"foo\"] = \"bar\"\n",
    "except Exception as ex:\n",
    "    print(ex)"
   ]
  },
  {
   "cell_type": "markdown",
   "metadata": {},
   "source": [
    "Distgen generator.input is a nested dictionary by design.  While this logically organizes the input, it can be somewhat cumbersome for changing input.  Thus the generator.input dictionary can be accessed with pure strings via the [...] method with a flattened dictionary (nested keys separated by ':'):"
   ]
  },
  {
   "cell_type": "code",
   "execution_count": null,
   "metadata": {},
   "outputs": [],
   "source": [
    "gen[\"start\"]"
   ]
  },
  {
   "cell_type": "code",
   "execution_count": null,
   "metadata": {},
   "outputs": [],
   "source": [
    "gen[\"start:MTE\"]"
   ]
  },
  {
   "cell_type": "markdown",
   "metadata": {},
   "source": [
    "Brackets can also be used to set parameters.  When setting a parameter that has associated units, one must either specify whether setting the value or units, or pass in only the value:"
   ]
  },
  {
   "cell_type": "code",
   "execution_count": null,
   "metadata": {},
   "outputs": [],
   "source": [
    "gen[\"start:MTE:value\"] = 120\n",
    "print(\"New MTE setting:\", gen[\"start:MTE\"])"
   ]
  },
  {
   "cell_type": "code",
   "execution_count": null,
   "metadata": {},
   "outputs": [],
   "source": [
    "gen[\"start:MTE:units\"] = \"eV\"\n",
    "print(\"New MTE setting:\", gen[\"start:MTE\"])"
   ]
  },
  {
   "cell_type": "code",
   "execution_count": null,
   "metadata": {},
   "outputs": [],
   "source": [
    "gen[\"start:MTE\"] = 100\n",
    "print(\"New MTE setting:\", gen[\"start:MTE\"])"
   ]
  },
  {
   "cell_type": "markdown",
   "metadata": {},
   "source": [
    "To create a distribution, run `Generator.beam()`:"
   ]
  },
  {
   "cell_type": "code",
   "execution_count": null,
   "metadata": {},
   "outputs": [],
   "source": [
    "gen = Generator(\"data/rad.gaussian.in.yaml\", verbose=1)\n",
    "beam = gen.beam()"
   ]
  },
  {
   "cell_type": "markdown",
   "metadata": {},
   "source": [
    "Alternatively, call `.run()`, which creates an openPMD-beamphysics style ParticleGroup"
   ]
  },
  {
   "cell_type": "code",
   "execution_count": null,
   "metadata": {},
   "outputs": [],
   "source": [
    "gen.verbose = False\n",
    "gen.run()\n",
    "gen.particles"
   ]
  },
  {
   "cell_type": "markdown",
   "metadata": {},
   "source": [
    "# Fixing the average and standard deviation of the phase space coordinates\n",
    "By default, distgen shifts and scales the resulting particle coordinates so as to make the average and standard deviations of the phase coordinates exactly what was requested by the user.  This default behavior should not cause problems for users with a significant number of macroparticles in their bunch.  Distgen will warn the user if `n_particle < 100`.  To turn this behavior off, the user may add `fix_avg_and_stds` as a boolean to Distgen input.  Here we show how to do so.  First we emulate the default distgen behaivor, but at low particle number:"
   ]
  },
  {
   "cell_type": "code",
   "execution_count": null,
   "metadata": {},
   "outputs": [],
   "source": [
    "gen[\"n_particle\"] = 50\n",
    "gen.verbose = True\n",
    "gen[\"fix_avg_and_stds\"] = True\n",
    "gen.run()"
   ]
  },
  {
   "cell_type": "markdown",
   "metadata": {},
   "source": [
    "Note here that lines near the end of the output describing shifting and scaling coordinates.  Also the beam stats show this:"
   ]
  },
  {
   "cell_type": "code",
   "execution_count": null,
   "metadata": {},
   "outputs": [],
   "source": [
    "assert np.isclose(0.0, gen.particles[\"mean_x\"])\n",
    "assert np.isclose(2.0e-3, gen.particles[\"sigma_x\"])\n",
    "assert np.isclose(0.0, gen.particles[\"mean_y\"])\n",
    "assert np.isclose(2.0e-3, gen.particles[\"sigma_y\"])"
   ]
  },
  {
   "cell_type": "markdown",
   "metadata": {},
   "source": [
    "Now, turn off this behavior:"
   ]
  },
  {
   "cell_type": "code",
   "execution_count": null,
   "metadata": {},
   "outputs": [],
   "source": [
    "gen = Generator(\"data/rad.gaussian.in.yaml\", verbose=1)\n",
    "gen[\"fix_avg_and_stds\"] = False\n",
    "gen.verbose = True\n",
    "gen.run()\n",
    "\n",
    "print(\"\\n*****************************************************\")\n",
    "print(\"Abs. error in mean_x:\", gen.particles[\"mean_x\"])\n",
    "print(\"Rel. error in sigma_x\", (gen.particles[\"sigma_x\"] - 2e-3) / 2e-3)\n",
    "print(\"*****************************************************\")"
   ]
  },
  {
   "cell_type": "markdown",
   "metadata": {},
   "source": [
    "# Physical Constants\n",
    "\n",
    "Internally, Distgen uses the Pint module to handle/check units automatically, see [PINT](https://pint.readthedocs.io/en/stable/).\n",
    "\n",
    "All physical constants used by Distgen are accessed via the main PHYSICAL_CONSTANTS object.  Access to specific constants is done via [...], and returns the associated quantity (value with units) from the SciPy physical_constants module.\n"
   ]
  },
  {
   "cell_type": "code",
   "execution_count": null,
   "metadata": {},
   "outputs": [],
   "source": [
    "from distgen import PHYSICAL_CONSTANTS"
   ]
  },
  {
   "cell_type": "code",
   "execution_count": null,
   "metadata": {},
   "outputs": [],
   "source": [
    "PHYSICAL_CONSTANTS[\"elementary charge\"]"
   ]
  },
  {
   "cell_type": "markdown",
   "metadata": {},
   "source": [
    "## Particle Species\n",
    "\n",
    "As of v2.0.0, additional particle species can be generated.  The supported list is:"
   ]
  },
  {
   "cell_type": "code",
   "execution_count": null,
   "metadata": {},
   "outputs": [],
   "source": [
    "PHYSICAL_CONSTANTS.species_list"
   ]
  },
  {
   "cell_type": "markdown",
   "metadata": {},
   "source": [
    "Species specific data can be accessed via the `.species` function, which returns a dictionary of species specific parameters:"
   ]
  },
  {
   "cell_type": "code",
   "execution_count": null,
   "metadata": {},
   "outputs": [],
   "source": [
    "PHYSICAL_CONSTANTS.species(\"electron\")"
   ]
  },
  {
   "cell_type": "markdown",
   "metadata": {},
   "source": [
    "# Beam Object"
   ]
  },
  {
   "cell_type": "markdown",
   "metadata": {},
   "source": [
    "The particle coordinates created by the Generator class are stored internally a beam obect.  The main underlying coordinates are the 6D phase space coordinates $x$, $y$, $z$, $p_x$, $p_y$, $p_z$, and time $t$.  These can be accessed via the [...] operator.  The bunch charge is given by beam.q."
   ]
  },
  {
   "cell_type": "code",
   "execution_count": null,
   "metadata": {},
   "outputs": [],
   "source": [
    "gen = Generator(\"data/rad.gaussian.in.yaml\", verbose=0)\n",
    "beam = gen.beam()\n",
    "print(\"X coordinates:\", beam[\"x\"])\n",
    "print(\"Bunch charge:\", beam[\"q\"])"
   ]
  },
  {
   "cell_type": "markdown",
   "metadata": {},
   "source": [
    "Currently, the code assumes one particle species (default: electrons) per beam object.  The bunch contains an array of particle weights (currently uniform) for use with averaging.  The particle weights $w$ are normalized $\\sum_i{w_i}=1$ and are used for computing expectation values over the particle ensemble. \n",
    "\n",
    "Simple examples include beam.avg: $\\langle\\mathcal{O}\\rangle = \\sum_i w_i\\mathcal{O}_i$ and beam.std(): $\\sigma_{\\mathcal{O}} = \\sqrt{\\sum_i{w_i(\\mathcal{O}_i-\\langle\\mathcal{O}\\rangle)^2}}$.\n",
    "\n",
    "Other examples include the normalized and geometric emittance and the twiss parameters $\\beta$ and $\\alpha$  (See the distgen.beam.py).\n",
    "\n"
   ]
  },
  {
   "cell_type": "code",
   "execution_count": null,
   "metadata": {},
   "outputs": [],
   "source": [
    "print(\"Beam species:\", beam.species)\n",
    "print(\"Weights:\", beam[\"w\"])\n",
    "print(\"Normalization sum(weights): \", np.sum(beam[\"w\"]))\n",
    "print(f'Avgerage of X: {beam.avg(\"x\"):G~P}')\n",
    "print(f'Standard Deviation of X: {beam.std(\"x\",desired_units=\"mm\"):G~P}')"
   ]
  },
  {
   "cell_type": "markdown",
   "metadata": {},
   "source": [
    "# Generating OpenPMD-beamphysics Particle Group objects\n",
    "Distgen supports direct creation of OpenPMD beam physics particle group objects, a very useful object for handling beam distribitions and writing them to various codes.  Please see https://github.com/ChristopherMayes/openPMD-beamphysics for details.  To generate a OpenPMD-beamphysics particle group, use the `run()` command. The resulting ParticleGroup is saved as `Generator.particles`:"
   ]
  },
  {
   "cell_type": "code",
   "execution_count": null,
   "metadata": {},
   "outputs": [],
   "source": [
    "gen.run()\n",
    "pg = gen.particles\n",
    "pg.plot(\"x\", \"px\")"
   ]
  },
  {
   "cell_type": "markdown",
   "metadata": {},
   "source": [
    "# Distribution Objects\n",
    "Distgen handles distirbutions using classes controlled by Generator.  Currently there are three types supported: 1D distributions (Dist1d), radial distributions for the $r$ coordinate, and 2D distributions.  Each distribution type keeps an internal list of the required and optional parameters that must be passed to the object.  When a distribution object is initialized, the input parameters are checked against this list. Unexpected inputs will throw exceptions:"
   ]
  },
  {
   "cell_type": "code",
   "execution_count": null,
   "metadata": {},
   "outputs": [],
   "source": [
    "gen = Generator(\"data/rad.gaussian.in.yaml\", verbose=0)\n",
    "try:\n",
    "    gen[\"r_dist:foo\"] = \"bar\"\n",
    "    gen.beam()\n",
    "except Exception as ex:\n",
    "    print(ex)"
   ]
  },
  {
   "cell_type": "markdown",
   "metadata": {},
   "source": [
    "As will missing required parameters:"
   ]
  },
  {
   "cell_type": "code",
   "execution_count": null,
   "metadata": {},
   "outputs": [],
   "source": [
    "gen = Generator(\"data/beer.can.in.yaml\", verbose=0)\n",
    "try:\n",
    "    gen[\"r_dist\"] = {}\n",
    "    gen.beam()\n",
    "except Exception as ex:\n",
    "    print(ex)"
   ]
  },
  {
   "cell_type": "markdown",
   "metadata": {},
   "source": [
    "# Output writer functionality \n",
    "Distgen supports writer functions for various output formats/codes.  Currently these include GPT and ASTRA, and the openPMD specification.  To write to a file, use distgen.writers.writer with appropriate code type specified as well as the beam object and desired output file.  The writer function accepts additional parameters required for any code dependent output."
   ]
  },
  {
   "cell_type": "code",
   "execution_count": null,
   "metadata": {},
   "outputs": [],
   "source": [
    "from distgen.writers import writer\n",
    "\n",
    "gen = Generator(\"data/beer.can.in.yaml\", verbose=0)\n",
    "beam = gen.beam()\n",
    "\n",
    "# Typically the user can just call the general write function and specify the desired format:\n",
    "writer(\"gpt\", beam, \"gpt.out.txt\", verbose=1)\n",
    "writer(\"astra\", beam, \"astra.out.txt\", verbose=1)\n",
    "writer(\"openPMD\", beam, \"openPMD.out.h5\", verbose=1)"
   ]
  },
  {
   "cell_type": "markdown",
   "metadata": {},
   "source": [
    "# Plotting \n",
    "Distgen provides the user with some basic plotting routines for help in visualizing the beam coordinates.  The most common plot types include `plot_dist2d`, `plot_dist1d`, `plot_radial_dist`, and `plot_current_profile`.  Below shows an example of how to plot 2 coordinates, in this case $x$ and $y$.  The coloring scheme is a scatter histogram."
   ]
  },
  {
   "cell_type": "code",
   "execution_count": null,
   "metadata": {},
   "outputs": [],
   "source": [
    "# The distgen module has some basic plotting routines\n",
    "from distgen.plot import (\n",
    "    plot_dist1d,\n",
    "    plot_dist2d,\n",
    "    plot_radial_dist,\n",
    "    plot_current_profile,\n",
    ")\n",
    "\n",
    "units = {\n",
    "    \"x\": \"mm\",\n",
    "    \"y\": \"mm\",\n",
    "    \"z\": \"mm\",\n",
    "    \"r\": \"mm\",\n",
    "    \"px\": \"keV/c\",\n",
    "    \"py\": \"keV/c\",\n",
    "    \"pz\": \"keV/c\",\n",
    "    \"t\": \"ps\",\n",
    "    \"q\": \"pC\",\n",
    "    \"thetax\": \"mrad\",\n",
    "    \"I\": \"A\",\n",
    "}\n",
    "\n",
    "gen = Generator(\"data/beer.can.in.yaml\", verbose=0)\n",
    "beam = gen.beam()\n",
    "\n",
    "fig = plt.figure(1)\n",
    "# X-Y Plot\n",
    "plot_dist2d(\n",
    "    beam,\n",
    "    \"x\",\n",
    "    units[\"x\"],\n",
    "    \"y\",\n",
    "    units[\"y\"],\n",
    "    style=\"scatter_hist2d\",\n",
    "    nbins=100,\n",
    "    axis=\"equal\",\n",
    "    title_on=True,\n",
    ");"
   ]
  },
  {
   "cell_type": "markdown",
   "metadata": {},
   "source": [
    "For plotting the histogram of the radial coordinate $r$, use `plot_radial_dist`:"
   ]
  },
  {
   "cell_type": "code",
   "execution_count": null,
   "metadata": {},
   "outputs": [],
   "source": [
    "gen = Generator(\"data/beer.can.in.yaml\", verbose=0)\n",
    "beam = gen.beam()\n",
    "\n",
    "plot_radial_dist(beam, units[\"r\"], scale=\"charge\", nbins=100, title_on=True);"
   ]
  },
  {
   "cell_type": "markdown",
   "metadata": {},
   "source": [
    "For plotting 1D projections of the beam distribution, use `plot_dist1d`:"
   ]
  },
  {
   "cell_type": "code",
   "execution_count": null,
   "metadata": {},
   "outputs": [],
   "source": [
    "gen = Generator(\"data/beer.can.in.yaml\", verbose=0)\n",
    "beam = gen.beam()\n",
    "\n",
    "plot_dist1d(beam, \"x\", units[\"x\"], scale=\"number\", nbins=50, title_on=True)"
   ]
  },
  {
   "cell_type": "markdown",
   "metadata": {},
   "source": [
    "For plotting the current profile, use `plot_current_profile`:"
   ]
  },
  {
   "cell_type": "code",
   "execution_count": null,
   "metadata": {},
   "outputs": [],
   "source": [
    "gen = Generator(\"data/beer.can.in.yaml\", verbose=0)\n",
    "beam = gen.beam()\n",
    "\n",
    "plot_current_profile(beam, units[\"t\"], units[\"I\"], title_on=True, nbins=100);"
   ]
  },
  {
   "cell_type": "markdown",
   "metadata": {},
   "source": [
    "# Running Distgen with driver functions\n",
    "The main in python driver function for distgen is `distgen.drivers.run_distgen()`.  The function creates its own Generator object and returns a beam object.  Inputs can either be an inputfile or a parsed distgen supported input dictionary.  Here the function is run with an input dictionary created above."
   ]
  },
  {
   "cell_type": "code",
   "execution_count": null,
   "metadata": {},
   "outputs": [],
   "source": [
    "from distgen.drivers import run_distgen\n",
    "\n",
    "with open(\"data/rad.gaussian.in.yaml\") as fid:\n",
    "    p = yaml.safe_load(fid)\n",
    "\n",
    "p"
   ]
  },
  {
   "cell_type": "code",
   "execution_count": null,
   "metadata": {},
   "outputs": [],
   "source": [
    "beam = run_distgen(inputs=p, verbose=1)"
   ]
  },
  {
   "cell_type": "markdown",
   "metadata": {},
   "source": [
    "Below the function is called with 'inputs' pointing to an input file.  The function can also take  accept a flattened settings dict, which updates inputs:"
   ]
  },
  {
   "cell_type": "code",
   "execution_count": null,
   "metadata": {},
   "outputs": [],
   "source": [
    "new_settings = {\"start:MTE:value\": 0.1}\n",
    "beam = run_distgen(settings=new_settings, inputs=p, verbose=1)"
   ]
  },
  {
   "cell_type": "markdown",
   "metadata": {},
   "source": [
    "Finally, is also possible to run distgen as an executible script using `/bin/DistGen.py`"
   ]
  },
  {
   "cell_type": "code",
   "execution_count": null,
   "metadata": {},
   "outputs": [],
   "source": [
    "import subprocess\n",
    "\n",
    "output = subprocess.check_output(\n",
    "    [\"Distgen\", \"-f\", \"data/rad.gaussian.in.yaml\", \"-v\", \"2\"]\n",
    ")\n",
    "output = str(output.decode(\"utf-8\")).split(\"\\n\")\n",
    "for line in output:\n",
    "    print(line)"
   ]
  },
  {
   "cell_type": "markdown",
   "metadata": {},
   "source": [
    "# Scaling/Rotating/Shifting Coordinates\n",
    "\n",
    "The distgen module allows the user with several options for applying coordinate transformations.  Some of the basic operations include: shifting, scaling, and rotating coordinates.  See the transform.ipynb for a detailed description of this functionality. "
   ]
  },
  {
   "cell_type": "markdown",
   "metadata": {},
   "source": [
    "# Cathode Distributions\n",
    "---"
   ]
  },
  {
   "cell_type": "markdown",
   "metadata": {},
   "source": [
    "Currently Distgen supports several cathode emission models.  Currently these all assume the particles are emitted on a flat surface at z = 0 m. The particle time coordinates in this case effectively respresents the emission time of the particle from the cathode, and thus the time distribution should be set by the user.  For photocathodes, the time coordinate can be related to the laser pulse longitudinal intensity. To designate emission from a cathode, please set the input key `start:type` = `cathode`\n",
    "\n",
    "WARNING: the user is ultimately responsible to make sure the cathode model is physically consistent with the particle species generated."
   ]
  },
  {
   "cell_type": "markdown",
   "metadata": {},
   "source": [
    "## 1. Maxwell-Boltzmann (default): thermalized particle momenta\n",
    "\n",
    "Particles emitted from this type of cathode are assumed to have a Maxwell-Boltzmann distribution for their total mometnum $|p|$ parameterized by an energy scale denoted $MTE$: \n",
    "\n",
    "$\\rho_p(|p|) = \\left(\\frac{1}{2\\pi mMTE}\\right)^{3/2} 4\\pi |p|^2 \\exp\\left(-\\frac{|p|^2}{2m MTE}\\right)$, with $\\int\\rho_p(|p|)d|p| = 1$.\n",
    "\n",
    "Assuming spherical symmetry, it is easy to show the corresponding PDF for the components of the momenta is given by:\n",
    "\n",
    "$\\rho(p_x,p_y,p_z) = \\left(\\frac{1}{2\\pi mMTE}\\right)^{3/2}\\exp\\left(-\\frac{p_x^2+p_y^2+p_z^2}{2m MTE}\\right)$, with $\\int\\rho(p_x,p_y,p_z) d^3p=1$.\n",
    "\n",
    "From the equipartition theorem the average energy $\\frac{3}{2}MTE$ is divided equally among each direction and thus the energy scale $MTE$ can be identified as the Mean Transverse Energy: $MTE=\\frac{\\langle p_x^2\\rangle}{2m} + \\frac{\\langle p_y^2\\rangle}{2m}$.  \n",
    "\n",
    "This expression can be used to relate the MTE to the initial cathode emittance:\n",
    "\n",
    "$\\epsilon_{n,x} = \\sigma_{x}\\sqrt{ \\frac{MTE}{mc^2} }$\n",
    "\n",
    "assuming there is no distinction between the $p_x$ and $p_y$ distributions inherent to the emission process.  To account for the fact that particles with $p_z<0$ are not emitted from the cathode, distgen takes $p_z = |p_z|$. Becauset this model serves as the default, simpy setting the input key `start:MTE` to a value (with units) will instruct the Generator to assume thermalized momenta. Note the absolute value of the $p_z$ components is taken."
   ]
  },
  {
   "cell_type": "code",
   "execution_count": null,
   "metadata": {},
   "outputs": [],
   "source": [
    "from distgen import Generator\n",
    "\n",
    "gen = Generator(input_file=\"data/rad.gaussian.in.yaml\", verbose=1)"
   ]
  },
  {
   "cell_type": "code",
   "execution_count": null,
   "metadata": {},
   "outputs": [],
   "source": [
    "beam = gen.beam()"
   ]
  },
  {
   "cell_type": "code",
   "execution_count": null,
   "metadata": {},
   "outputs": [],
   "source": [
    "fig, ax = plt.subplots(1, 2, sharex=\"col\", constrained_layout=True)\n",
    "\n",
    "plot_dist2d(beam, \"x\", units[\"x\"], \"px\", units[\"px\"], ax=ax[0])\n",
    "ax[0].set_title(\"x-Px Phase Space\")\n",
    "\n",
    "plot_dist2d(beam, \"t\", units[\"t\"], \"pz\", units[\"pz\"], ax=ax[1])\n",
    "ax[1].set_title(\"t-Pz Phase Space\");"
   ]
  },
  {
   "cell_type": "markdown",
   "metadata": {},
   "source": [
    "## Fermi-Dirac 3 Step Barrier Photocathode\n",
    "\n",
    "Calculates the PDF for electrons emitted from a photocathode following the\n",
    "model described in [1]. \n",
    "\n",
    "The input parameters for this are the photon (laser) wavelength, as well as the cathode temperature, work function, and Fermi energy.\n",
    "\n",
    "Shortly, electrons are initially populated in momentum space as \n",
    "in the Sommerfeld model. They escape over the work function barrier when their \n",
    "longitudinal energy is high enough and lose momentum along the direction of the surface \n",
    "normal to satisfy energy conservation. This sampling concept is the same described in [2].\n",
    "\n",
    "    [1] Dowell, D. H., & Schmerge, J. F. (2009). Quantum efficiency and thermal emittance of \n",
    "        metal photocathodes. Physical Review Special Topics - Accelerators and Beams, 12(7). \n",
    "        https://doi.org/10.1103/PhysRevSTAB.12.074201\n",
    "\n",
    "    [2] Pierce, C. M., Durham, D. B., Riminucci, F., Dhuey, S., Bazarov, I., Maxson, J.,\n",
    "        Minor, A. M., & Filippetto, D. (2023). Experimental Characterization of Photoemission\n",
    "        from Plasmonic Nanogroove Arrays. Physical Review Applied, 19(3), 034034.\n",
    "        https://doi.org/10.1103/PhysRevApplied.19.034034"
   ]
  },
  {
   "cell_type": "code",
   "execution_count": null,
   "metadata": {},
   "outputs": [],
   "source": [
    "gen = Generator(\"data/fermi_dirac_3step_barrier_photocathode.in.yaml\", verbose=1)\n",
    "\n",
    "beam = gen.beam()"
   ]
  },
  {
   "cell_type": "code",
   "execution_count": null,
   "metadata": {},
   "outputs": [],
   "source": [
    "fig, ax = plt.subplots(1, 2, sharex=\"col\", constrained_layout=True, figsize=(8, 5))\n",
    "\n",
    "plot_dist2d(beam, \"px\", units[\"px\"], \"pz\", units[\"pz\"], ax=ax[0])\n",
    "ax[0].set_title(\"px-pz\")\n",
    "\n",
    "plot_dist2d(beam, \"t\", units[\"t\"], \"x\", units[\"x\"], ax=ax[1])\n",
    "ax[1].set_title(\"t-x\");"
   ]
  },
  {
   "cell_type": "code",
   "execution_count": null,
   "metadata": {},
   "outputs": [],
   "source": [
    "from distgen.physical_constants import PHYSICAL_CONSTANTS\n",
    "\n",
    "c = PHYSICAL_CONSTANTS[\"speed of light in vacuum\"]\n",
    "MC2 = PHYSICAL_CONSTANTS.species(\"electron\")[\"mc2\"]\n",
    "\n",
    "MTE = (c * beam[\"px\"].std()) ** 2 / MC2\n",
    "\n",
    "print(\"estimated MTE:\", MTE.to(\"meV\"))"
   ]
  },
  {
   "cell_type": "markdown",
   "metadata": {},
   "source": [
    "## 3. General Surface Emission defined by |P| or KE and $\\theta_p$, $\\phi_p$ distribution(s)\n",
    "In addition to the two cathode emission models described above, the user may also specify a distribution for $|p|$ or the kinetic energy, as well as the momenta angle coordinates (azimuthal and polar momentum angles).  If no angular distribution parameters are set, then particles are emitted uniformly into the forward hemisphere.  In the example below, an initial KE distribution is created using a bi-exponential."
   ]
  },
  {
   "cell_type": "code",
   "execution_count": null,
   "metadata": {},
   "outputs": [],
   "source": [
    "KE = np.linspace(0, 300, 10000)\n",
    "\n",
    "E0 = 0\n",
    "A1, m1 = 0.8, 8\n",
    "A2, m2 = 0.1, 90\n",
    "\n",
    "PKE = A1 * np.exp(-np.abs(KE - E0) / m1) + A2 * np.exp(-np.abs(KE - E0) / m2)\n",
    "PKE = PKE / np.trapezoid(PKE, KE)  # Numerically intergate to normalize\n",
    "\n",
    "plt.plot(KE, PKE)\n",
    "plt.xlabel(\"KE (eV)\")\n",
    "plt.ylabel(\"$\\\\rho(KE)$ (1/eV)\");"
   ]
  },
  {
   "cell_type": "code",
   "execution_count": null,
   "metadata": {},
   "outputs": [],
   "source": [
    "input_yaml = \"\"\"\n",
    "n_particle: 100000\n",
    "species: electron\n",
    "start: \n",
    "  type: cathode\n",
    "random:\n",
    "  type: hammersley\n",
    "total_charge:\n",
    "  units: C\n",
    "  value: 1.60217663e-17\n",
    "\"\"\"\n",
    "\n",
    "input = yaml.safe_load(input_yaml)\n",
    "input[\"KE_dist\"] = {\"type\": \"dist1d\", \"KE\": KE, \"PKE\": PKE, \"units\": \"eV\"}\n",
    "\n",
    "gen = Generator(input)\n",
    "P = gen.run()"
   ]
  },
  {
   "cell_type": "code",
   "execution_count": null,
   "metadata": {},
   "outputs": [],
   "source": [
    "P.plot(\"kinetic_energy\")"
   ]
  },
  {
   "cell_type": "code",
   "execution_count": null,
   "metadata": {},
   "outputs": [],
   "source": [
    "fig = plt.figure()\n",
    "ax = fig.add_subplot(projection=\"3d\")\n",
    "\n",
    "x = P[\"px\"] / P.p\n",
    "y = P[\"py\"] / P.p\n",
    "z = P[\"pz\"] / P.p\n",
    "\n",
    "ax.scatter(x[::100], y[::100], z[::100], \".\")\n",
    "ax.set_xlabel(r\"$\\hat{p}_x$\")\n",
    "ax.set_ylabel(r\"$\\hat{p}_y$\")\n",
    "ax.set_zlabel(r\"$\\hat{p}_z$\")"
   ]
  },
  {
   "cell_type": "markdown",
   "metadata": {},
   "source": [
    "# Time Start"
   ]
  },
  {
   "cell_type": "markdown",
   "metadata": {},
   "source": [
    "Distgen also allows the user to start a beam at an arbitrary time.  In this case, distgen will ignore any user distribution settings for the time coordinate of the beam particles.  The beam has some initial Gaussian momentum.  To make this more interesting, the beam is boosted to 1 GeV, the Twiss Parameters set, and a cosine like energy spread applied:"
   ]
  },
  {
   "cell_type": "code",
   "execution_count": null,
   "metadata": {},
   "outputs": [],
   "source": [
    "from distgen.physical_constants import unit_registry, PHYSICAL_CONSTANTS\n",
    "\n",
    "pi, c = PHYSICAL_CONSTANTS.pi, PHYSICAL_CONSTANTS[\"speed of light in vacuum\"]\n",
    "\n",
    "gen = Generator(\"data/gaussian.in.yaml\", verbose=0)\n",
    "\n",
    "f = 1.3 * unit_registry(\"GHz\")\n",
    "w = 2 * pi * f / c\n",
    "\n",
    "linac_params = {\n",
    "    \"type\": \"cosine z:pz\",\n",
    "    \"amplitude\": {\"value\": 1, \"units\": \"GeV/c\"},\n",
    "    \"omega\": {\"value\": w.magnitude, \"units\": str(w.units)},\n",
    "    \"phase\": {\"value\": -1, \"units\": \"deg\"},\n",
    "}\n",
    "\n",
    "xbeta_params = {\n",
    "    \"type\": \"set_twiss x\",\n",
    "    \"beta\": {\"value\": 12.5, \"units\": \"m\"},\n",
    "    \"alpha\": {\"value\": -1, \"units\": \"\"},\n",
    "    \"emittance\": {\"value\": 2, \"units\": \"nm\"},\n",
    "}\n",
    "ybeta_params = {\n",
    "    \"type\": \"set_twiss y\",\n",
    "    \"beta\": {\"value\": 12.5, \"units\": \"m\"},\n",
    "    \"alpha\": {\"value\": -1, \"units\": \"\"},\n",
    "    \"emittance\": {\"value\": 2, \"units\": \"nm\"},\n",
    "}\n",
    "\n",
    "gen[\"transforms\"] = {\n",
    "    \"t1\": linac_params,\n",
    "    \"t2\": xbeta_params,\n",
    "    \"t3\": ybeta_params,\n",
    "    \"order\": [\"t1\", \"t2\", \"t3\"],\n",
    "}\n",
    "\n",
    "beam = gen.beam()\n",
    "\n",
    "print(\"YAML transforms input\\n\", yaml.dump(gen.input[\"transforms\"]))\n",
    "\n",
    "print(\"\\nFinal Horizontal Twiss params:\")\n",
    "print(\n",
    "    f'beta: {beam.Beta(\"x\"):G~P}, alpha: {beam.Alpha(\"x\"):G~P}, eps: {beam.emitt(\"x\",\"geometric\").to(\"nm\"):G~P}'\n",
    ")\n",
    "# print(f'beta: {beam.Beta(\"x\"):G~P}, alpha: {beam.Alpha(\"x\"):G~P}, eps: {beam.emitt(\"x\",\"geometric\").to(\"nm\"):Gf~P}')\n",
    "\n",
    "print(\"\\nFinal Vertical Twiss params:\")\n",
    "print(\n",
    "    f'beta: {beam.Beta(\"y\"):G~P}, alpha: {beam.Alpha(\"y\"):G~P}, eps: {beam.emitt(\"y\",\"geometric\").to(\"nm\"):G~P}'\n",
    ")"
   ]
  },
  {
   "cell_type": "code",
   "execution_count": null,
   "metadata": {},
   "outputs": [],
   "source": [
    "fig, ax = plt.subplots(1, 3, constrained_layout=True)\n",
    "plot_dist2d(beam, \"x\", units[\"x\"], \"y\", units[\"y\"], axis=\"equal\", ax=ax[0])\n",
    "plot_dist2d(beam, \"x\", units[\"x\"], \"thetax\", units[\"thetax\"], ax=ax[1])\n",
    "plot_dist2d(beam, \"z\", units[\"z\"], \"pz\", \"GeV/c\", ax=ax[2]);"
   ]
  },
  {
   "cell_type": "markdown",
   "metadata": {},
   "source": [
    "# Combining Beams\n",
    "Currently distgen supports combining beams in to ways.  The first makes use of the OpenPMD-beamphysics Particle Group's addition property.  This is achieved by making two separate beams:"
   ]
  },
  {
   "cell_type": "code",
   "execution_count": null,
   "metadata": {},
   "outputs": [],
   "source": [
    "filename = \"data/gaussian.in.yaml\"\n",
    "gen = Generator(filename, verbose=0)\n",
    "\n",
    "gen[\"pz_dist:avg_pz\"] = 1  # Set beam 1 at pz = 1 GeV\n",
    "gen[\"z_dist:avg_z\"] = -10  # Set beam 1 at z = -10 mmm\n",
    "\n",
    "xbeta_params = {\n",
    "    \"type\": \"set_twiss x\",\n",
    "    \"beta\": {\"value\": 12.5, \"units\": \"m\"},\n",
    "    \"alpha\": {\"value\": -1, \"units\": \"\"},\n",
    "    \"emittance\": {\"value\": 2, \"units\": \"nm\"},\n",
    "}\n",
    "\n",
    "ybeta_params = {\n",
    "    \"type\": \"set_twiss y\",\n",
    "    \"beta\": {\"value\": 12.5, \"units\": \"m\"},\n",
    "    \"alpha\": {\"value\": -1, \"units\": \"\"},\n",
    "    \"emittance\": {\"value\": 2, \"units\": \"nm\"},\n",
    "}\n",
    "\n",
    "gen[\"transforms\"] = {\"t1\": xbeta_params, \"t2\": ybeta_params, \"order\": [\"t1\", \"t2\"]}\n",
    "\n",
    "pg1 = gen.run()"
   ]
  },
  {
   "cell_type": "code",
   "execution_count": null,
   "metadata": {},
   "outputs": [],
   "source": [
    "pg1.plot(\"x\", \"px\")"
   ]
  },
  {
   "cell_type": "code",
   "execution_count": null,
   "metadata": {},
   "outputs": [],
   "source": [
    "pg1.plot(\"z\")"
   ]
  },
  {
   "cell_type": "markdown",
   "metadata": {},
   "source": [
    "Next, make second beam.  Here shift the z position of the beam and change the $\\alpha$ Twiss parameter's sign to create a different momenta distribution:"
   ]
  },
  {
   "cell_type": "code",
   "execution_count": null,
   "metadata": {},
   "outputs": [],
   "source": [
    "gen[\"z_dist:avg_z\"] = 10  # Set beam 1 at z = +10 mmm\n",
    "\n",
    "xbeta_params[\"alpha\"][\"value\"], ybeta_params[\"alpha\"][\"value\"] = +1, +1\n",
    "\n",
    "gen[\"transforms\"] = {\"t1\": xbeta_params, \"t2\": ybeta_params, \"order\": [\"t1\", \"t2\"]}\n",
    "\n",
    "pg2 = gen.run()"
   ]
  },
  {
   "cell_type": "markdown",
   "metadata": {},
   "source": [
    "The particle group objects support addition:"
   ]
  },
  {
   "cell_type": "code",
   "execution_count": null,
   "metadata": {},
   "outputs": [],
   "source": [
    "pg = pg1 + pg2"
   ]
  },
  {
   "cell_type": "code",
   "execution_count": null,
   "metadata": {},
   "outputs": [],
   "source": [
    "pg.plot(\"x\", \"px\")"
   ]
  },
  {
   "cell_type": "code",
   "execution_count": null,
   "metadata": {},
   "outputs": [],
   "source": [
    "pg.plot(\"z\")"
   ]
  },
  {
   "cell_type": "markdown",
   "metadata": {},
   "source": [
    "It is also possible to superimpose built in distgen particle distributions.  Please see the `examples_dists.ipynb` for details on how to use this functionality."
   ]
  },
  {
   "cell_type": "markdown",
   "metadata": {},
   "source": [
    "# Archiving\n",
    "\n",
    "All input and output can be saved and loaded to an hdf5 file using `.archive()` and `.load_archive` functions.\n",
    "\n",
    "Input is archived as a flattended dict, with keys separated by `:`\n",
    "\n",
    "Particlces are archived as openPMD-beamphysics, but only if they are created with the `run()` command."
   ]
  },
  {
   "cell_type": "code",
   "execution_count": null,
   "metadata": {},
   "outputs": [],
   "source": [
    "gen = Generator(\"data/gaussian.in.yaml\", verbose=0)\n",
    "gen.run()"
   ]
  },
  {
   "cell_type": "markdown",
   "metadata": {},
   "source": [
    "If no filename is given, a unique one will be written based on `.input`"
   ]
  },
  {
   "cell_type": "code",
   "execution_count": null,
   "metadata": {},
   "outputs": [],
   "source": [
    "afile = gen.archive()\n",
    "afile"
   ]
  },
  {
   "cell_type": "markdown",
   "metadata": {},
   "source": [
    "Loading into a new object"
   ]
  },
  {
   "cell_type": "code",
   "execution_count": null,
   "metadata": {},
   "outputs": [],
   "source": [
    "G2 = Generator(verbose=True)\n",
    "G2.load_archive(afile)"
   ]
  },
  {
   "cell_type": "markdown",
   "metadata": {},
   "source": [
    "open h5 handles can also be written to, using the same routine."
   ]
  },
  {
   "cell_type": "code",
   "execution_count": null,
   "metadata": {},
   "outputs": [],
   "source": [
    "import h5py\n",
    "\n",
    "with h5py.File(\"archive.h5\", \"w\") as h5:\n",
    "    G2.archive(h5)"
   ]
  },
  {
   "cell_type": "markdown",
   "metadata": {},
   "source": [
    "# Clean up\n",
    "-------"
   ]
  },
  {
   "cell_type": "code",
   "execution_count": null,
   "metadata": {
    "tags": []
   },
   "outputs": [],
   "source": [
    "os.remove(\"rad.gaussian.out.txt\")\n",
    "os.remove(\"gpt.out.txt\")\n",
    "os.remove(\"astra.out.txt\")\n",
    "os.remove(\"openPMD.out.h5\")\n",
    "# os.remove('beer.can.out.txt')\n",
    "os.remove(afile)\n",
    "os.remove(\"archive.h5\")"
   ]
  }
 ],
 "metadata": {
  "kernelspec": {
   "display_name": "Python 3 (ipykernel)",
   "language": "python",
   "name": "python3"
  },
  "language_info": {
   "codemirror_mode": {
    "name": "ipython",
    "version": 3
   },
   "file_extension": ".py",
   "mimetype": "text/x-python",
   "name": "python",
   "nbconvert_exporter": "python",
   "pygments_lexer": "ipython3",
   "version": "3.12.4"
  },
  "vscode": {
   "interpreter": {
    "hash": "f36b205f87f800b33bdc90537667b2380d2a4e85c7b2571c49a0bf9284213192"
   }
  }
 },
 "nbformat": 4,
 "nbformat_minor": 4
}
