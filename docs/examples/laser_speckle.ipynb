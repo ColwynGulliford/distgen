{
 "cells": [
  {
   "cell_type": "code",
   "execution_count": null,
   "id": "98249c25-8602-46fa-b7c5-f3b109bc96c5",
   "metadata": {},
   "outputs": [],
   "source": [
    "# Useful for debugging\n",
    "%load_ext autoreload\n",
    "%autoreload 2\n",
    "%config InlineBackend.figure_format = 'retina'"
   ]
  },
  {
   "cell_type": "code",
   "execution_count": null,
   "id": "8a4dce5f-20ea-4839-a8c3-9850a69b10b2",
   "metadata": {},
   "outputs": [],
   "source": [
    "from matplotlib import pyplot as plt"
   ]
  },
  {
   "cell_type": "code",
   "execution_count": null,
   "id": "7f2cf346-742d-48c3-b82b-0676c8fb217d",
   "metadata": {},
   "outputs": [],
   "source": [
    "from distgen.dist import UniformLaserSpeckle"
   ]
  },
  {
   "cell_type": "code",
   "execution_count": null,
   "id": "f53965a8-fc05-4e0b-9e44-eb8e75ed7a20",
   "metadata": {},
   "outputs": [],
   "source": [
    "params = {\n",
    "    \"min_x\": \"-1 mm\",\n",
    "    \"max_x\": \"+1 mm\",\n",
    "    \"min_y\": \"-2 mm\",\n",
    "    \"max_y\": \"+2 mm\",\n",
    "    \"sigma\": 10,\n",
    "}\n",
    "\n",
    "\n",
    "D = UniformLaserSpeckle(**params)"
   ]
  },
  {
   "cell_type": "code",
   "execution_count": null,
   "id": "51d7b8e0-b897-4331-9dc9-0a8583692773",
   "metadata": {},
   "outputs": [],
   "source": [
    "plt.pcolormesh(D.Pxy.magnitude);"
   ]
  },
  {
   "cell_type": "code",
   "execution_count": null,
   "id": "c48aae65-98dc-444f-a438-f776e90528b8",
   "metadata": {},
   "outputs": [],
   "source": []
  }
 ],
 "metadata": {
  "kernelspec": {
   "display_name": "Python 3 (ipykernel)",
   "language": "python",
   "name": "python3"
  },
  "language_info": {
   "codemirror_mode": {
    "name": "ipython",
    "version": 3
   },
   "file_extension": ".py",
   "mimetype": "text/x-python",
   "name": "python",
   "nbconvert_exporter": "python",
   "pygments_lexer": "ipython3",
   "version": "3.12.4"
  }
 },
 "nbformat": 4,
 "nbformat_minor": 5
}
