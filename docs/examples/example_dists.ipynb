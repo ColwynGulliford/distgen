{
 "cells": [
  {
   "cell_type": "code",
   "execution_count": null,
   "metadata": {
    "tags": []
   },
   "outputs": [],
   "source": [
    "# Useful for debugging\n",
    "%load_ext autoreload\n",
    "%autoreload 2\n",
    "%config InlineBackend.figure_format = 'retina'"
   ]
  },
  {
   "cell_type": "code",
   "execution_count": null,
   "metadata": {
    "tags": []
   },
   "outputs": [],
   "source": [
    "from distgen import Generator\n",
    "from distgen.plot import plot_dist2d, plot_dist1d, plot_current_profile\n",
    "\n",
    "from matplotlib import pyplot as plt\n",
    "import yaml"
   ]
  },
  {
   "cell_type": "code",
   "execution_count": null,
   "metadata": {
    "tags": []
   },
   "outputs": [],
   "source": [
    "gen = Generator(verbose=0)\n",
    "units = {\n",
    "    \"x\": \"mm\",\n",
    "    \"y\": \"mm\",\n",
    "    \"z\": \"mm\",\n",
    "    \"px\": \"keV/c\",\n",
    "    \"py\": \"keV/c\",\n",
    "    \"t\": \"ps\",\n",
    "    \"q\": \"pC\",\n",
    "    \"I\": \"A\",\n",
    "}"
   ]
  },
  {
   "cell_type": "markdown",
   "metadata": {},
   "source": [
    "# Radial Distributions\n",
    "----------------------"
   ]
  },
  {
   "cell_type": "markdown",
   "metadata": {},
   "source": [
    "# Radial Uniform\n",
    "\n",
    "The radial uniform distribution is given by\n",
    "\n",
    "$\\rho_r(r)=\\frac{2}{r_R^2-r_L^2}$ for $0 \\leq r_L < r < r_R$ and zero otherewise.\n",
    "\n",
    "Typical usage is shown below for a uniformly filled beam as well as a ring:"
   ]
  },
  {
   "cell_type": "code",
   "execution_count": null,
   "metadata": {
    "tags": []
   },
   "outputs": [],
   "source": [
    "gen = Generator(\"data/rad.uniform.in.yaml\", verbose=0)\n",
    "gen[\"r_dist:min_r\"] = 0\n",
    "print(\"\\nYAML input:\")\n",
    "print(yaml.dump({\"r_dist\": gen.input[\"r_dist\"]}))\n",
    "\n",
    "plot_dist2d(gen.beam(), \"x\", units[\"x\"], \"y\", units[\"y\"], axis=\"equal\", title_on=True);"
   ]
  },
  {
   "cell_type": "code",
   "execution_count": null,
   "metadata": {
    "tags": []
   },
   "outputs": [],
   "source": [
    "gen = Generator(\"data/rad.uniform.in.yaml\", verbose=0)\n",
    "\n",
    "print(\"\\nYAML input:\")\n",
    "print(yaml.dump({\"r_dist\": gen.input[\"r_dist\"]}))\n",
    "\n",
    "plot_dist2d(gen.beam(), \"x\", units[\"x\"], \"y\", units[\"y\"], axis=\"equal\", title_on=True);"
   ]
  },
  {
   "cell_type": "markdown",
   "metadata": {},
   "source": [
    "# Radial Gaussian (with Truncation)\n",
    "\n",
    "The radial normal distribution including truncation(s) has a probability function given by\n",
    "\n",
    "$\\rho_r(r) = \\frac{1}{\\sigma^2}\\frac{\\phi(r/\\sigma)}{\\phi\\left(\\frac{r_L}{\\sigma}\\right)-\\phi\\left(\\frac{r_R}{\\sigma}\\right)} $ for $0 \\leq r_L \\leq r \\leq r_R$ and zero everywhere else.\n",
    "\n",
    "In this expresion $\\phi(\\xi) = \\frac{1}{2\\pi}\\exp\\left(-\\xi^2/2\\right)$ is the canonical raidial normal distirbution (no truncation), and the scale parameter $\\sigma$ follows from the product of two normal distributions in $x$ and $y$ when $\\sigma=\\sigma_x=\\sigma_y$.  The corresponding CDF is given by\n",
    "\n",
    "$P(r)= \\frac{\\phi\\left(\\frac{r_L}{\\sigma}\\right)-\\phi\\left(\\frac{r}{\\sigma}\\right)}{\\phi\\left(\\frac{r_L}{\\sigma}\\right)-\\phi\\left(\\frac{r_R}{\\sigma}\\right)} $ for $0 \\leq r_L \\leq r$.\n",
    "\n",
    "The corresponding first and second moments are:\n",
    "\n",
    "$\\langle r\\rangle = \\frac{\\frac{r_L}{\\sigma}\\phi\\left(\\frac{r_L}{\\sigma}\\right)\n",
    "-\\frac{r_R}{\\sigma}\\phi\\left(\\frac{r_R}{\\sigma}\\right)\n",
    "+\\frac{1}{2\\sqrt{2\\pi}}\\left( \\text{erf}\\left(\\frac{r_R}{\\sigma\\sqrt{2}}\\right) - \\text{erf}\\left(\\frac{r_L}{\\sigma\\sqrt{2}}\\right) \\right) \n",
    "}\n",
    "{\\phi\\left(\\frac{r_L}{\\sigma}\\right)-\\phi\\left(\\frac{r_R}{\\sigma}\\right)}$,\n",
    "\n",
    "$r_{rms} = \\sqrt{ 2\\sigma^2 + r_L^2 - \\frac{(r_R^2-r_L^2)\\phi(r_R/\\sigma)}{\\phi\\left(\\frac{r_L}{\\sigma}\\right)-\\phi\\left(\\frac{r_R}{\\sigma}\\right)} }$.\n",
    "\n",
    "Note that in the limits $r_L\\rightarrow 0$ and $r_R -> \\infty$ the above expressions reduce to the underlying radial normal distribution:\n",
    "\n",
    "$\\rho_r(r)\\rightarrow \\frac{\\phi\\left(\\frac{r}{\\sigma}\\right)}{\\sigma^2}$, $P(r)\\rightarrow 1 - \\phi\\left(\\frac{r}{\\sigma}\\right)$, $\\langle r\\rangle\\rightarrow \\sqrt{\\frac{\\pi}{2}}\\sigma$, and $r_{rms}\\rightarrow \\sqrt{2}\\sigma$.  This limiting case is shown first below.\n",
    "\n",
    "\n",
    "\n",
    "Here three examples are provided: a non-truncated Gaussian with $\\sigma_{x,y}$ = 2 mm, followed by a truncated Gaussian using a truncation fraction to specify the maximal radial cut, followed by a truncated Gaussian using n_sigma_cutoff to specify the radial cut.\n",
    "\n",
    "Example 1: canonical Gaussian with $\\sigma_{x,y}$ = 2mm"
   ]
  },
  {
   "cell_type": "code",
   "execution_count": null,
   "metadata": {
    "tags": []
   },
   "outputs": [],
   "source": [
    "# Radial gaussian distribution with sigma_xy 2 mm\n",
    "gen = Generator(\"data/rad.gaussian.in.yaml\", verbose=0)\n",
    "\n",
    "print(\"\\nYAML input:\")\n",
    "print(yaml.dump({\"r_dist\": gen.input[\"r_dist\"]}))\n",
    "\n",
    "# X-Y Plot\n",
    "plot_dist2d(gen.beam(), \"x\", units[\"x\"], \"y\", units[\"y\"], axis=\"equal\", title_on=True);"
   ]
  },
  {
   "cell_type": "markdown",
   "metadata": {},
   "source": [
    "Example 2: Truncated Gaussian with a pinhole radius of 1 mm, clipped at 50% intensity"
   ]
  },
  {
   "cell_type": "code",
   "execution_count": null,
   "metadata": {
    "tags": []
   },
   "outputs": [],
   "source": [
    "# Truncated radial gaussian distribution with pihole diameter of 2 mm, gaussian clipped at 50% intensity\n",
    "gen = Generator(\"data/rad.trunc.gaussian.in.yaml\", verbose=0)\n",
    "\n",
    "print(\"\\nYAML input:\")\n",
    "print(yaml.dump({\"r_dist\": gen.input[\"r_dist\"]}))\n",
    "\n",
    "# X-Y Plot\n",
    "plot_dist2d(gen.beam(), \"x\", units[\"x\"], \"y\", units[\"y\"], axis=\"equal\", title_on=True);"
   ]
  },
  {
   "cell_type": "markdown",
   "metadata": {},
   "source": [
    "Example 3: truncated Gaussian using underlying $\\sigma_{x,y}$ = 2 mm and n_sigma_cutoff = 1"
   ]
  },
  {
   "cell_type": "code",
   "execution_count": null,
   "metadata": {
    "tags": []
   },
   "outputs": [],
   "source": [
    "# Radial gaussian distribution with cut using n_sigma_cutoff\n",
    "gen = Generator(\"data/rad.gaussian.in.yaml\", verbose=0)\n",
    "gen[\"r_dist:n_sigma_cutoff\"] = 1\n",
    "\n",
    "print(\"\\nYAML input:\")\n",
    "print(yaml.dump({\"r_dist\": gen.input[\"r_dist\"]}))\n",
    "\n",
    "# X-Y Plot\n",
    "plot_dist2d(gen.beam(), \"x\", units[\"x\"], \"y\", units[\"y\"], axis=\"equal\", title_on=True);"
   ]
  },
  {
   "cell_type": "markdown",
   "metadata": {},
   "source": [
    "# Radial File"
   ]
  },
  {
   "cell_type": "code",
   "execution_count": null,
   "metadata": {
    "tags": []
   },
   "outputs": [],
   "source": [
    "# Radial distribution file: a radial gaussian with cuts in it\n",
    "gen = Generator(\"data/rad.file.in.yaml\", verbose=0)\n",
    "\n",
    "print(\"\\nYAML input:\")\n",
    "print(yaml.dump({\"r_dist\": gen.input[\"r_dist\"]}))\n",
    "\n",
    "# X-Y Plot\n",
    "plot_dist2d(gen.beam(), \"x\", units[\"x\"], \"y\", units[\"y\"], axis=\"equal\");"
   ]
  },
  {
   "cell_type": "markdown",
   "metadata": {},
   "source": [
    "# Radial Tukey"
   ]
  },
  {
   "cell_type": "code",
   "execution_count": null,
   "metadata": {
    "tags": []
   },
   "outputs": [],
   "source": [
    "# Radial Tukey distribution\n",
    "gen = Generator(\"data/tukey.beer.can.in.yaml\", verbose=0)\n",
    "\n",
    "print(\"\\nYAML Input:\")\n",
    "print(yaml.dump({\"r_dist\": gen.input[\"r_dist\"]}))\n",
    "\n",
    "plot_dist2d(gen.beam(), \"x\", units[\"x\"], \"y\", units[\"y\"], axis=\"equal\", title_on=True);"
   ]
  },
  {
   "cell_type": "markdown",
   "metadata": {},
   "source": [
    "# Radial Super Gaussian\n",
    "\n",
    "This implements a radial version of the Super Gaussian function.  Here the radial function takes the form:\n",
    "\n",
    "$2\\pi\\rho(r;\\lambda,p) = \\frac{1}{\\Gamma\\left(1+\\frac{1}{p}\\right)\\lambda^2} \\exp\\left[-\\left(\\frac{r^2}{2\\lambda^2}\\right)^p\\right]$. \n",
    "\n",
    "The first and (rms) second moment of the distribution are given by:\n",
    "\n",
    "$\\langle r\\rangle = \\frac{2\\sqrt{2}}{3}\\frac{\\Gamma\\left(1+\\frac{3}{2p}\\right)}{\\Gamma\\left(1+\\frac{1}{p}\\right)}\\lambda$, \n",
    "\n",
    "$r_{\\text{rms}} = \\sqrt{\\frac{\\Gamma\\left(1+\\frac{2}{p}\\right)}{\\Gamma\\left(1+\\frac{1}{p}\\right)}}\\lambda$.\n",
    "\n",
    "\n",
    "Example 1: hyper-Gaussian (uniform) limit (power $\\rightarrow\\infty$): $\\sigma_{x,y}$ = 1 mm"
   ]
  },
  {
   "cell_type": "code",
   "execution_count": null,
   "metadata": {
    "tags": []
   },
   "outputs": [],
   "source": [
    "gen = Generator(\"data/SG.beer.can.in.yaml\", verbose=0)\n",
    "\n",
    "print(\"\\nYAML Input:\")\n",
    "print(yaml.dump({\"r_dist\": gen.input[\"r_dist\"]}))\n",
    "\n",
    "plot_dist2d(gen.beam(), \"x\", units[\"x\"], \"y\", units[\"y\"], axis=\"equal\", title_on=True);"
   ]
  },
  {
   "cell_type": "markdown",
   "metadata": {},
   "source": [
    "Example 2: Gaussian limit (power = 1): $\\sigma_{x,y}$ = 1 mm"
   ]
  },
  {
   "cell_type": "code",
   "execution_count": null,
   "metadata": {
    "tags": []
   },
   "outputs": [],
   "source": [
    "gen = Generator(\"data/SG.beer.can.in.yaml\", verbose=0)\n",
    "gen[\"r_dist:alpha\"] = 1.0\n",
    "\n",
    "print(\"\\nYAML Input:\")\n",
    "print(yaml.dump({\"r_dist\": gen.input[\"r_dist\"]}))\n",
    "\n",
    "plot_dist2d(gen.beam(), \"x\", units[\"x\"], \"y\", units[\"y\"], axis=\"equal\", title_on=True);"
   ]
  },
  {
   "cell_type": "markdown",
   "metadata": {},
   "source": [
    "Example 3: sub-Gaussian (power < 1): $\\sigma_{x,y} = 1$ mm, $p$ = 0.5 "
   ]
  },
  {
   "cell_type": "code",
   "execution_count": null,
   "metadata": {
    "tags": []
   },
   "outputs": [],
   "source": [
    "with open(\"data/SG.beer.can.in.yaml\", \"r\") as fid:\n",
    "    inputs = yaml.safe_load(fid)\n",
    "\n",
    "del inputs[\"r_dist\"][\"alpha\"]\n",
    "inputs[\"r_dist\"][\"p\"] = {\"value\": 0.5, \"units\": \"\"}\n",
    "\n",
    "gen = Generator(inputs, verbose=0)\n",
    "\n",
    "print(\"\\nYAML Input:\")\n",
    "print(yaml.dump({\"r_dist\": gen.input[\"r_dist\"]}))\n",
    "\n",
    "plot_dist2d(gen.beam(), \"x\", units[\"x\"], \"y\", units[\"y\"], axis=\"equal\", title_on=True);"
   ]
  },
  {
   "cell_type": "markdown",
   "metadata": {},
   "source": [
    "# Radial Deformable"
   ]
  },
  {
   "cell_type": "code",
   "execution_count": null,
   "metadata": {
    "tags": []
   },
   "outputs": [],
   "source": [
    "gen = Generator(\"data/deformable.in.yaml\", verbose=0)\n",
    "\n",
    "print(\"\\nYAML Input:\")\n",
    "print(yaml.dump({\"r_dist\": gen.input[\"r_dist\"]}))\n",
    "\n",
    "plot_dist2d(gen.beam(), \"x\", units[\"x\"], \"y\", units[\"y\"], axis=\"equal\", title_on=True);"
   ]
  },
  {
   "cell_type": "markdown",
   "metadata": {},
   "source": [
    "# Radial Interpolation"
   ]
  },
  {
   "cell_type": "code",
   "execution_count": null,
   "metadata": {
    "tags": []
   },
   "outputs": [],
   "source": [
    "gen = Generator(\"data/interp_ex.yaml\", verbose=0)\n",
    "print(\"\\nYAML Input:\")\n",
    "print(yaml.dump({\"r_dist\": gen.input[\"r_dist\"]}))\n",
    "PG = gen.run()"
   ]
  },
  {
   "cell_type": "code",
   "execution_count": null,
   "metadata": {
    "tags": []
   },
   "outputs": [],
   "source": [
    "PG.plot(\"r\")"
   ]
  },
  {
   "cell_type": "code",
   "execution_count": null,
   "metadata": {
    "tags": []
   },
   "outputs": [],
   "source": [
    "PG.plot(\"x\", \"y\")"
   ]
  },
  {
   "cell_type": "code",
   "execution_count": null,
   "metadata": {
    "tags": []
   },
   "outputs": [],
   "source": [
    "PG[\"sigma_x\"], PG[\"sigma_y\"]"
   ]
  },
  {
   "cell_type": "code",
   "execution_count": null,
   "metadata": {
    "tags": []
   },
   "outputs": [],
   "source": [
    "from distgen.tools import SUPPORTED_IMAGE_EXTENSIONS"
   ]
  },
  {
   "cell_type": "markdown",
   "metadata": {},
   "source": [
    "# 2D Distributions\n",
    "------------------\n",
    "\n",
    "# 2D File\n",
    "The user can load images for use in generating particles.  Supported file formats include: "
   ]
  },
  {
   "cell_type": "code",
   "execution_count": null,
   "metadata": {
    "tags": []
   },
   "outputs": [],
   "source": [
    "SUPPORTED_IMAGE_EXTENSIONS"
   ]
  },
  {
   "cell_type": "markdown",
   "metadata": {},
   "source": [
    "The example below uses `.jpeg`."
   ]
  },
  {
   "cell_type": "code",
   "execution_count": null,
   "metadata": {
    "tags": []
   },
   "outputs": [],
   "source": [
    "gen = Generator(\"data/jpeg.image.in.yaml\", verbose=0)\n",
    "gen.run()\n",
    "\n",
    "print(\"\\nYAML input:\")\n",
    "print(yaml.dump({\"xy_dist\": gen.input[\"xy_dist\"]}))\n",
    "\n",
    "gen.particles.plot(\"x\", \"y\")"
   ]
  },
  {
   "cell_type": "code",
   "execution_count": null,
   "metadata": {
    "tags": []
   },
   "outputs": [],
   "source": [
    "gen = Generator(\"data/dcm.image.in.yaml\", verbose=0)\n",
    "gen.run()\n",
    "\n",
    "print(\"\\nYAML input:\")\n",
    "print(yaml.dump({\"xy_dist\": gen.input[\"xy_dist\"]}))\n",
    "\n",
    "gen.particles.plot(\"x\", \"y\")"
   ]
  },
  {
   "cell_type": "markdown",
   "metadata": {},
   "source": [
    "In addition to handling these standard images, distgen also supports the legacy ascii format from the original version of the code.  The example below makes use of this legacy format:"
   ]
  },
  {
   "cell_type": "code",
   "execution_count": null,
   "metadata": {
    "tags": []
   },
   "outputs": [],
   "source": [
    "# 2D XY distribution: Lase Image Example\n",
    "# Real laser spot image - using 1 million particles\n",
    "gen = Generator(\"data/laser.image.in.yaml\", verbose=0)\n",
    "\n",
    "print(\"\\nYAML input:\")\n",
    "print(yaml.dump({\"xy_dist\": gen.input[\"xy_dist\"]}))\n",
    "\n",
    "# X-Y Plot\n",
    "plot_dist2d(gen.beam(), \"x\", units[\"x\"], \"y\", units[\"y\"], nbins=100, axis=\"equal\");"
   ]
  },
  {
   "cell_type": "markdown",
   "metadata": {},
   "source": [
    "# 2D Image\n",
    "\n",
    "If the user has an image dataset already loaded into python, they can directly pass this to Distgen using the Image2d class.  An example of how to use this in practice is given below:"
   ]
  },
  {
   "cell_type": "code",
   "execution_count": null,
   "metadata": {
    "tags": []
   },
   "outputs": [],
   "source": [
    "from distgen.tools import read_2d_file\n",
    "\n",
    "xs, ys, Pxy, xstr, ystr = read_2d_file(\"data/laser.image.txt\")\n",
    "\n",
    "inputs = {\n",
    "    \"n_particle\": 200000,\n",
    "    \"species\": \"electron\",\n",
    "    \"total_charge\": {\"value\": 1, \"units\": \"pC\"},\n",
    "    \"random_type\": \"hammersley\",\n",
    "    \"start\": {\"MTE\": {\"units\": \"meV\", \"value\": 150}, \"type\": \"cathode\"},\n",
    "    \"xy_dist\": {\n",
    "        \"type\": \"image2d\",\n",
    "        \"min_x\": {\"value\": -2.0, \"units\": \"mm\"},\n",
    "        \"max_x\": {\"value\": +2.0, \"units\": \"mm\"},\n",
    "        \"min_y\": {\"value\": -2.0, \"units\": \"mm\"},\n",
    "        \"max_y\": {\"value\": +2.0, \"units\": \"mm\"},\n",
    "        \"P\": Pxy,\n",
    "    },\n",
    "}\n",
    "\n",
    "gen = Generator(inputs, verbose=0)\n",
    "\n",
    "gen[\"xy_dist\"]\n",
    "# plot_dist2d(gen.beam(), 'x', units['x'], 'y', units['y'], nbins=100, axis='equal');"
   ]
  },
  {
   "cell_type": "markdown",
   "metadata": {},
   "source": [
    "Note that this allows the user to manipulate the 2d distribution and length scales:"
   ]
  },
  {
   "cell_type": "code",
   "execution_count": null,
   "metadata": {
    "tags": []
   },
   "outputs": [],
   "source": [
    "gen = Generator(inputs, verbose=0)\n",
    "\n",
    "P2 = Pxy.magnitude\n",
    "P2 = P2.transpose()\n",
    "\n",
    "# Cut out a rectangle in the center\n",
    "P2[236 - 50 : 225 + 50, 236 - 50 : 225 + 50] = 0\n",
    "\n",
    "gen[\"xy_dist:P\"] = P2\n",
    "gen[\"xy_dist:min_x:value\"], gen[\"xy_dist:max_x:value\"] = -5000, +5000\n",
    "gen[\"xy_dist:min_x:units\"], gen[\"xy_dist:max_x:units\"] = \"um\", \"um\"\n",
    "gen[\"xy_dist:min_y:units\"], gen[\"xy_dist:max_y:units\"] = \"mm\", \"mm\"\n",
    "\n",
    "plot_dist2d(gen.beam(), \"x\", units[\"x\"], \"y\", units[\"y\"], nbins=100, axis=\"equal\");"
   ]
  },
  {
   "cell_type": "markdown",
   "metadata": {
    "tags": []
   },
   "source": [
    "# Uniform Laser Speckle\n",
    "This distribution provides a very simplistic method of simulating laser speckle.  The input distribution parameter `sigma` controls the size of the speckles.  Sigma is the size of a blurring Gaussian which is used to scale the FFT of the image before transforming back.  Smaller $\\sigma$ gives larger speckles. In addition the user can specify a pixel_threshold [0 1] that will zero a given pixel if the resulting speckle pattern amplitude is below the threshold."
   ]
  },
  {
   "cell_type": "code",
   "execution_count": null,
   "metadata": {
    "tags": []
   },
   "outputs": [],
   "source": [
    "gen = Generator(\"data/uniform_speckle.in.yaml\")\n",
    "\n",
    "print(\"\\nYAML input:\")\n",
    "print(yaml.dump({\"xy_dist\": gen.input[\"xy_dist\"]}))\n",
    "\n",
    "gen.run()\n",
    "gen.particles.plot(\"x\", \"y\")"
   ]
  },
  {
   "cell_type": "code",
   "execution_count": null,
   "metadata": {
    "tags": []
   },
   "outputs": [],
   "source": [
    "gen[\"xy_dist:sigma\"] = 10\n",
    "gen.run()\n",
    "gen.particles.plot(\"x\", \"y\")"
   ]
  },
  {
   "cell_type": "markdown",
   "metadata": {},
   "source": [
    "# Product 2D\n",
    "It is possible to multiply two or more 2d or radial distributions.  This is useful for creating particles from a laser and folding in a cathod QE map.  The example shows a truncated Gaussian laser profile combined with a simple checker board QE map:\n"
   ]
  },
  {
   "cell_type": "code",
   "execution_count": null,
   "metadata": {
    "tags": []
   },
   "outputs": [],
   "source": [
    "import numpy as np\n",
    "\n",
    "mask = np.kron([[1, 0] * 4, [0, 1] * 4] * 4, np.ones((50, 50)))\n",
    "\n",
    "ys = np.linspace(-4, +4, mask.shape[0])\n",
    "xs = np.linspace(-2, +2, mask.shape[1])\n",
    "\n",
    "fig, ax = plt.subplots(1, 3, constrained_layout=True, figsize=(8, 4))\n",
    "\n",
    "ax[0].imshow(mask, extent=[xs.min(), xs.max(), ys.min(), ys.max()])\n",
    "ax[0].set_aspect(\"equal\", adjustable=\"box\")\n",
    "ax[0].set_title(\"QE Map\")\n",
    "ax[0].set_xlabel(\"x (mm)\")\n",
    "ax[0].set_ylabel(\"y (mm)\")\n",
    "\n",
    "laser_inputs = {\n",
    "    \"n_particle\": 200000,\n",
    "    \"species\": \"electron\",\n",
    "    \"total_charge\": {\"value\": 1, \"units\": \"pC\"},\n",
    "    \"random_type\": \"hammersley\",\n",
    "    \"start\": {\"MTE\": {\"units\": \"meV\", \"value\": 150}, \"type\": \"cathode\"},\n",
    "    \"r_dist\": {\n",
    "        \"type\": \"rg\",\n",
    "        \"truncation_fraction\": {\"units\": \"dimensionless\", \"value\": 0.5},\n",
    "        \"truncation_radius\": {\"units\": \"mm\", \"value\": 2},\n",
    "    },\n",
    "}\n",
    "\n",
    "gen = Generator(laser_inputs)\n",
    "beam1 = gen.beam()\n",
    "\n",
    "qe_and_laser_inputs = {\n",
    "    \"n_particle\": 200000,\n",
    "    \"species\": \"electron\",\n",
    "    \"total_charge\": {\"value\": 1, \"units\": \"pC\"},\n",
    "    \"random_type\": \"hammersley\",\n",
    "    \"start\": {\"MTE\": {\"units\": \"meV\", \"value\": 150}, \"type\": \"cathode\"},\n",
    "    \"xy_dist\": {\n",
    "        \"type\": \"product\",\n",
    "        \"dists\": {\n",
    "            \"QE\": {\n",
    "                \"type\": \"image2d\",\n",
    "                \"x\": {\"value\": xs, \"units\": \"mm\"},\n",
    "                \"y\": {\"value\": ys, \"units\": \"mm\"},\n",
    "                \"P\": mask,\n",
    "            },\n",
    "            \"Laser\": {\n",
    "                \"type\": \"rg\",\n",
    "                \"truncation_fraction\": {\"units\": \"dimensionless\", \"value\": 0.5},\n",
    "                \"truncation_radius\": {\"units\": \"mm\", \"value\": 2},\n",
    "            },\n",
    "        },\n",
    "    },\n",
    "}\n",
    "\n",
    "gen = Generator(qe_and_laser_inputs)\n",
    "beam2 = gen.beam()\n",
    "\n",
    "plot_dist2d(beam1, \"x\", units[\"x\"], \"y\", units[\"y\"], nbins=100, axis=\"equal\", ax=ax[1])\n",
    "ax[1].set_title(\"Laser Profile\")\n",
    "\n",
    "plot_dist2d(beam2, \"x\", units[\"x\"], \"y\", units[\"y\"], nbins=100, axis=\"equal\", ax=ax[2])\n",
    "ax[2].set_title(\"Laser & QE Profile\");"
   ]
  },
  {
   "cell_type": "code",
   "execution_count": null,
   "metadata": {
    "tags": []
   },
   "outputs": [],
   "source": [
    "inputs = \"\"\"\n",
    "n_particle: 1000000\n",
    "species: electron\n",
    "xy_dist:\n",
    "  type: product\n",
    "  dists:\n",
    "    speckle:\n",
    "      max_x: +2 mm \n",
    "      min_x: -2 mm\n",
    "      max_y: +2 mm \n",
    "      min_y: -2 mm\n",
    "      sigma: 100\n",
    "      pixel_threshold: 0.25\n",
    "      random_seed: 42\n",
    "      type: uniform_laser_speckle\n",
    "    uniform:\n",
    "      max_r: 2 mm \n",
    "      min_r: 0 mm\n",
    "      type: radial_uniform     \n",
    "random:\n",
    "  type: hammersley\n",
    "start:\n",
    "  MTE: 150 meV\n",
    "  type: cathode\n",
    "t_dist:\n",
    "  avg_t: 0.5 ns\n",
    "  sigma_t: 2 ns\n",
    "  type: gaussian\n",
    "total_charge: 10 pC\n",
    "\"\"\"\n",
    "\n",
    "gen = Generator(inputs)\n",
    "gen.run()\n",
    "gen.particles.plot(\"x\", \"y\", figsize=(5, 5))"
   ]
  },
  {
   "cell_type": "code",
   "execution_count": null,
   "metadata": {
    "tags": []
   },
   "outputs": [],
   "source": [
    "gen[\"xy_dist:dists:speckle:sigma\"] = 5\n",
    "gen.run()\n",
    "gen.particles.plot(\"x\", \"y\", figsize=(5, 5))"
   ]
  },
  {
   "cell_type": "markdown",
   "metadata": {},
   "source": [
    "# Superposition 2D\n",
    "\n",
    "TODO"
   ]
  },
  {
   "cell_type": "markdown",
   "metadata": {},
   "source": [
    "# 1D Distributions\n",
    "-----------"
   ]
  },
  {
   "cell_type": "markdown",
   "metadata": {},
   "source": [
    "# Uniform\n",
    "The uniform distirbuition is defined by a probability distribution function:\n",
    "\n",
    "$\\rho(x) = \\frac{1}{b-a}$ for $a\\leq x\\leq b$ and zero elsewhere.  \n",
    "\n",
    "The corresponding CDF is\n",
    "\n",
    "$P(x) = \\frac{x-a}{b-a}$ for $a\\leq x\\leq b$ and zero elsewhere.\n",
    "\n",
    "The first and second moments of this distribution are:\n",
    "\n",
    "$\\langle x \\rangle = \\frac{1}{2}(a+b)$ and $\\sigma_x = \\frac{b-a}{\\sqrt{12}}$.\n",
    "\n",
    "It is possible to set a uniform distribution using the `min_{var}` and `max_{var}` input variables:"
   ]
  },
  {
   "cell_type": "code",
   "execution_count": null,
   "metadata": {
    "tags": []
   },
   "outputs": [],
   "source": [
    "gen = Generator(\"data/x.uniform.y.file.t.gaussian.in.yaml\", verbose=0)\n",
    "\n",
    "print(\"\\nYAML Input:\")\n",
    "print(yaml.dump({\"x_dist\": gen.input[\"x_dist\"]}))\n",
    "\n",
    "plot_dist1d(gen.beam(), \"x\", units[\"y\"], nbins=100, title_on=True)"
   ]
  },
  {
   "cell_type": "markdown",
   "metadata": {},
   "source": [
    "The user may also specify the distribution using the `sigma_{var}` and `avg_{var}` input params:"
   ]
  },
  {
   "cell_type": "code",
   "execution_count": null,
   "metadata": {
    "tags": []
   },
   "outputs": [],
   "source": [
    "import numpy as np\n",
    "\n",
    "gen.input[\"t_dist\"] = {\n",
    "    \"type\": \"uniform\",\n",
    "    \"sigma_t\": {\"value\": float(1 / np.sqrt(12)), \"units\": \"ps\"},\n",
    "    \"avg_t\": \"2 ps\",\n",
    "}\n",
    "\n",
    "gen = Generator(gen.input, verbose=0)\n",
    "\n",
    "print(\"\\nYAML Input:\")\n",
    "print(yaml.dump({\"t_dist\": gen.input[\"t_dist\"]}))\n",
    "\n",
    "plot_dist1d(gen.beam(), \"t\", units[\"t\"], nbins=100, title_on=True)"
   ]
  },
  {
   "cell_type": "markdown",
   "metadata": {
    "tags": []
   },
   "source": [
    "# Linear\n",
    "The linear distirbuition is defined by a probability distribution function:\n",
    "\n",
    "$\\rho(x) = \\frac{p_b-p_a}{b-a}(x-a) + p_a$ for $a\\leq x\\leq b$ and zero elsewhere.  \n",
    "\n",
    "The corresponding CDF is\n",
    "\n",
    "$P(x) = \\frac{1}{2}\\frac{p_b-p_a}{b-a}(x-a)$ for $a\\leq x\\leq b$ and zero elsewhere.\n",
    "\n",
    "It is possible to set a uniform distribution using the `min_{var}` and `max_{var}`(equivalent to $a$ and $b$ above) input variables as well as the `slope_fraction` $\\in[-1,1]$.  "
   ]
  },
  {
   "cell_type": "markdown",
   "metadata": {},
   "source": [
    "# 1D File\n",
    "Disgten supports importing a 1D PDF saved in column form in.  The input form of the file should have space separated headers such as $x$ and $Px$, with corresponding column data below it.  The PDF is normalized numerically using the numpy.trapz numerical integration routine. The CDF is computed using the scipy.cumtrapz cumulative numerical intgration routine.\n",
    "\n",
    "The following example shows a gaussian PDF with cuts added to it."
   ]
  },
  {
   "cell_type": "code",
   "execution_count": null,
   "metadata": {
    "tags": []
   },
   "outputs": [],
   "source": [
    "gen = Generator(\"data/x.uniform.y.file.t.gaussian.in.yaml\", verbose=0)\n",
    "\n",
    "print(\"\\nYAML Input:\")\n",
    "print(yaml.dump({\"y_dist\": gen.input[\"y_dist\"]}))\n",
    "plot_dist1d(gen.beam(), \"y\", units[\"y\"], nbins=1000)"
   ]
  },
  {
   "cell_type": "markdown",
   "metadata": {},
   "source": [
    "# Gaussian (with Truncation)"
   ]
  },
  {
   "cell_type": "markdown",
   "metadata": {},
   "source": [
    "If not specified, the Gaussian is truncated at $\\mu\\pm5\\sigma$:"
   ]
  },
  {
   "cell_type": "code",
   "execution_count": null,
   "metadata": {
    "tags": []
   },
   "outputs": [],
   "source": [
    "gen = Generator(\"data/x.uniform.y.file.t.gaussian.in.yaml\", verbose=0)\n",
    "\n",
    "print(\"\\nYAML Input:\")\n",
    "print(yaml.dump({\"t_dist\": gen.input[\"t_dist\"]}))\n",
    "\n",
    "plot_dist1d(gen.beam(), \"t\", units[\"t\"], nbins=1000)"
   ]
  },
  {
   "cell_type": "markdown",
   "metadata": {},
   "source": [
    "The user can specify `n_sigma_cutoff` to symmetrically truncate at $\n",
    "\\mu\\pm N_{\\sigma~\\text{cutoff}}\\times\\sigma$:"
   ]
  },
  {
   "cell_type": "code",
   "execution_count": null,
   "metadata": {
    "tags": []
   },
   "outputs": [],
   "source": [
    "gen = Generator(\"data/x.uniform.y.file.t.gaussian.in.yaml\", verbose=0)\n",
    "gen[\"t_dist:avg_t\"] = 1\n",
    "gen[\"t_dist:n_sigma_cutoff\"] = 2\n",
    "\n",
    "print(\"\\nYAML Input:\")\n",
    "print(yaml.dump({\"t_dist\": gen.input[\"t_dist\"]}))\n",
    "\n",
    "plot_dist1d(gen.beam(), \"t\", units[\"t\"], nbins=1000)"
   ]
  },
  {
   "cell_type": "markdown",
   "metadata": {},
   "source": [
    "# Super Gaussian\n",
    "In additional to the regular Gaussian function, it is also possible to sample a super-Gaussian distribution defined by\n",
    "\n",
    "$\\rho(x; \\lambda, p) = \\frac{1}{2\\sqrt{2}\\Gamma\\left(1+\\frac{1}{2p}\\right)\\lambda } \\exp\\left[-\\left(\\frac{(x-\\mu)^2 }{2\\lambda^2}\\right)^{p}\\right]$\n",
    "\n",
    "Here $\\lambda$ is the length scale and $p$ is the power of the super-Gaussian. Note when $p=1$ this expression reduces to a Normal distirbution, in which case $\\sigma_x=\\lambda$.  As $p\\rightarrow\\infty$ the distribution reduces to a flat-top (uniform). The full range of powers is given by $p\\in\\left(0,\\infty\\right]$.  \n",
    "\n",
    "The first and second moments of the distribution are given by:\n",
    "\n",
    "$\\langle x\\rangle = \\mu$, and $\\sigma_x = \\left(\\frac{2\\Gamma\\left(1+\\frac{3}{2p}\\right)}{3\\Gamma\\left(1+\\frac{1}{2p}\\right)}\\right)^{1/2}\\lambda$.\n",
    "\n",
    "\n",
    "Often, it is convenient to scan the distribution from the uniform limit to the Gaussian limit.  To do some, the input $p$ can be parameterized by $\\alpha\\in[0,1]$ where $p = 1/\\alpha$.  Here $\\alpha=0$ corresponds to a flat-top (uniform) and $\\alpha=1$ corresponds to a Gaussian.  Examples of both types of usage are shown below.\\\n",
    "\n",
    "Example 1: specifying $\\alpha = 1/p \\in[0,1]$:"
   ]
  },
  {
   "cell_type": "code",
   "execution_count": null,
   "metadata": {
    "tags": []
   },
   "outputs": [],
   "source": [
    "# Super Gaussian distribution\n",
    "gen = Generator(\"data/SG.beer.can.in.yaml\", verbose=0)\n",
    "\n",
    "print(\"\\nYAML Input:\")\n",
    "print(yaml.dump({\"t_dist\": gen.input[\"t_dist\"]}))\n",
    "\n",
    "plot_current_profile(gen.beam(), units[\"t\"], units[\"I\"], title_on=True)"
   ]
  },
  {
   "cell_type": "markdown",
   "metadata": {},
   "source": [
    "# Tukey "
   ]
  },
  {
   "cell_type": "code",
   "execution_count": null,
   "metadata": {
    "tags": []
   },
   "outputs": [],
   "source": [
    "# Tukey distribution\n",
    "gen = Generator(\"data/tukey.beer.can.in.yaml\", verbose=0)\n",
    "\n",
    "print(\"\\nYAML Input:\")\n",
    "print(yaml.dump({\"t_dist\": gen.input[\"t_dist\"]}))\n",
    "\n",
    "plot_current_profile(gen.beam(), units[\"t\"], units[\"I\"], nbins=500, title_on=True)"
   ]
  },
  {
   "cell_type": "markdown",
   "metadata": {},
   "source": [
    "# Superposition 1D\n",
    "\n",
    "This distribution allows the user to superimpose an arbitrary number of 1D PDFs.  The general form is:\n",
    "\n",
    "$\\rho(x) = \\sum_i w_i \\frac{\\rho_i(x)}{\\max(\\rho_i)}$.\n",
    "\n",
    "Here the $w_i$ are user specified weights.  If no weight is specified for a given $\\rho_i$, then the weight(s) will default to one.\n",
    "\n",
    "Example 1: equal weighting"
   ]
  },
  {
   "cell_type": "code",
   "execution_count": null,
   "metadata": {
    "tags": []
   },
   "outputs": [],
   "source": [
    "gen = Generator(\"data/multi.gaussian.in.yaml\", verbose=0)\n",
    "print(\"\\nYAML Input:\")\n",
    "print(yaml.dump({\"z_dist\": gen.input[\"z_dist\"]}))\n",
    "plot_dist1d(gen.beam(), \"z\", units[\"z\"], title_on=True)\n",
    "print(gen[\"z_dist:weights\"])"
   ]
  },
  {
   "cell_type": "markdown",
   "metadata": {},
   "source": [
    "Example 2: with user specified weighting:"
   ]
  },
  {
   "cell_type": "code",
   "execution_count": null,
   "metadata": {
    "tags": []
   },
   "outputs": [],
   "source": [
    "gen[\"z_dist:weights\"] = {\"d1\": 2, \"d2\": 1}\n",
    "print(\"\\nYAML Input:\")\n",
    "print(yaml.dump({\"z_dist\": gen.input[\"z_dist\"]}))\n",
    "plot_dist1d(gen.beam(), \"z\", units[\"z\"], title_on=True)"
   ]
  },
  {
   "cell_type": "markdown",
   "metadata": {},
   "source": [
    "# Product 1D"
   ]
  },
  {
   "cell_type": "code",
   "execution_count": null,
   "metadata": {
    "tags": []
   },
   "outputs": [],
   "source": [
    "gen = Generator(\"data/product.gaussian.in.yaml\", verbose=0)\n",
    "print(\"\\nYAML Input:\")\n",
    "print(yaml.dump({\"z_dist\": gen.input[\"z_dist\"]}))\n",
    "plot_dist1d(gen.beam(), \"z\", units[\"z\"], title_on=True)"
   ]
  },
  {
   "cell_type": "markdown",
   "metadata": {},
   "source": [
    "# Deformable"
   ]
  },
  {
   "cell_type": "code",
   "execution_count": null,
   "metadata": {
    "tags": []
   },
   "outputs": [],
   "source": [
    "gen = Generator(\"data/deformable.in.yaml\", verbose=0)\n",
    "print(\"\\nYAML Input:\")\n",
    "print(yaml.dump({\"t_dist\": gen.input[\"t_dist\"]}))\n",
    "plot_current_profile(gen.beam(), units[\"t\"], units[\"I\"], title_on=True)"
   ]
  },
  {
   "cell_type": "markdown",
   "metadata": {},
   "source": [
    "# Interpolation\n",
    "\n",
    "For the 1d interpolation distribution the user provides N points of the PDF for the desired variable and interpolation is employed to make a smooth curve.  The PDF knots can be passed in as a dictionary or as an array.  Passing in a corresponding coordinate vector is optional.  If a coordinate vector is not input, then the user must use a transform operator to scale the resulting distribution (shown below)."
   ]
  },
  {
   "cell_type": "code",
   "execution_count": null,
   "metadata": {
    "tags": []
   },
   "outputs": [],
   "source": [
    "gen = Generator(\"data/interp_ex.yaml\")\n",
    "print(\"\\nYAML Input:\")\n",
    "print(yaml.dump({\"t_dist\": gen.input[\"t_dist\"]}))"
   ]
  },
  {
   "cell_type": "code",
   "execution_count": null,
   "metadata": {
    "tags": []
   },
   "outputs": [],
   "source": [
    "ax = plot_dist1d(gen.beam(), \"t\", units[\"t\"], title_on=True)"
   ]
  },
  {
   "cell_type": "markdown",
   "metadata": {},
   "source": [
    "# Special Temporal Distributions\n",
    "-------"
   ]
  },
  {
   "cell_type": "markdown",
   "metadata": {},
   "source": [
    "# Pulse stacking temporal crystals"
   ]
  },
  {
   "cell_type": "code",
   "execution_count": null,
   "metadata": {
    "tags": []
   },
   "outputs": [],
   "source": [
    "gen = Generator(\"data/t.crystals.in.yaml\", verbose=0)\n",
    "print(\"\\nYAML Input:\")\n",
    "print(yaml.dump({\"t_dist\": gen.input[\"t_dist\"]}))\n",
    "plot_current_profile(gen.beam(), units[\"t\"], units[\"I\"], title_on=True)"
   ]
  },
  {
   "cell_type": "markdown",
   "metadata": {},
   "source": [
    "# $sech^2$ Pulse Laser Soliton\n",
    "\n",
    "Similar to Gaussian in shape, but more accurate for certain types of pulsed laser shapes.  The example below shows setting up the distribution using the pulse duraction $\\tau$.  It is possible to also use $\\sigma_t$ instead."
   ]
  },
  {
   "cell_type": "code",
   "execution_count": null,
   "metadata": {},
   "outputs": [],
   "source": [
    "gen = Generator(\"data/t-sech2.in.yaml\", verbose=0)\n",
    "print(\"\\nYAML Input:\")\n",
    "print(yaml.dump({\"t_dist\": gen.input[\"t_dist\"]}))\n",
    "plot_current_profile(gen.beam(), units[\"t\"], units[\"I\"], title_on=True)"
   ]
  },
  {
   "cell_type": "code",
   "execution_count": null,
   "metadata": {},
   "outputs": [],
   "source": []
  }
 ],
 "metadata": {
  "interpreter": {
   "hash": "1cdfb1c6db7da8408c7d65b82105b0abb6cb89e768e91d63883d57f19130b2f7"
  },
  "kernelspec": {
   "display_name": "Python 3 (ipykernel)",
   "language": "python",
   "name": "python3"
  },
  "language_info": {
   "codemirror_mode": {
    "name": "ipython",
    "version": 3
   },
   "file_extension": ".py",
   "mimetype": "text/x-python",
   "name": "python",
   "nbconvert_exporter": "python",
   "pygments_lexer": "ipython3",
   "version": "3.13.2"
  }
 },
 "nbformat": 4,
 "nbformat_minor": 4
}
