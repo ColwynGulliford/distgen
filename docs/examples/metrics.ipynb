{
 "cells": [
  {
   "cell_type": "code",
   "execution_count": null,
   "id": "55c1804a-8522-4089-9561-35322372cf1f",
   "metadata": {},
   "outputs": [],
   "source": [
    "# Useful for debugging\n",
    "%load_ext autoreload\n",
    "%autoreload 2\n",
    "%config InlineBackend.figure_format = 'retina'"
   ]
  },
  {
   "cell_type": "code",
   "execution_count": null,
   "id": "17be1adc-661e-472f-84e0-b06627d5621b",
   "metadata": {},
   "outputs": [],
   "source": [
    "from distgen.dist import SuperGaussian\n",
    "from distgen.dist import Norm\n",
    "from distgen.physical_constants import unit_registry\n",
    "\n",
    "from matplotlib import pyplot as plt\n",
    "\n",
    "import numpy as np"
   ]
  },
  {
   "cell_type": "markdown",
   "id": "4689d376-e6bc-4325-8b63-0fed6bcdbca8",
   "metadata": {},
   "source": [
    "# Metrics for comparing different distributions\n",
    "---\n",
    "In some cases, it is desired to target a particular distribution shape in an optimization.  To facilitate this the following two metrics are implemented:"
   ]
  },
  {
   "cell_type": "markdown",
   "id": "9feda919-01c0-4ff3-b38e-51b6cc02e56b",
   "metadata": {},
   "source": [
    "## Kullback-Leibler (Relative Entropy)\n",
    "Defined as:\n",
    "$D_{KL}(P|Q) = \\int_{-\\infty}^{\\infty}p(x)\\ln{\\left(\\frac{p(x)}{q(x)}\\right)} dx$\n",
    "\n",
    "Note that this is not well defined in regions where the PDF $q(x)=0$.  This causes trouble for distributions like a uniform distribution.  For this, its suggested to use a SuperGaussian to approximate the uniform dist (see below).\n",
    "\n",
    "https://en.wikipedia.org/wiki/Kullback–Leibler_divergence"
   ]
  },
  {
   "cell_type": "code",
   "execution_count": null,
   "id": "acb41958-8f55-4f6d-99e5-9ca4db6b1be7",
   "metadata": {},
   "outputs": [],
   "source": [
    "L = 2 * unit_registry(\"ps\")\n",
    "avg_t_sg = 0 * unit_registry(\"ps\")\n",
    "sigma_t_sg = L / np.sqrt(12)"
   ]
  },
  {
   "cell_type": "code",
   "execution_count": null,
   "id": "16a0f3a3-5d0e-4482-86cd-a0ea55e2debe",
   "metadata": {},
   "outputs": [],
   "source": [
    "sg = SuperGaussian(\"t\", avg_t=avg_t_sg, sigma_t=sigma_t_sg, p=12)"
   ]
  },
  {
   "cell_type": "code",
   "execution_count": null,
   "id": "8499dbd9-15a0-40a8-ac9e-bcf7e3f476b8",
   "metadata": {},
   "outputs": [],
   "source": [
    "tsg, Psg = sg.get_x_pts(), sg.pdf()\n",
    "plt.plot(tsg, Psg);"
   ]
  },
  {
   "cell_type": "code",
   "execution_count": null,
   "id": "cb063578-2832-48bf-a434-2487150af0b0",
   "metadata": {},
   "outputs": [],
   "source": [
    "norm = Norm(\"t\", avg_t=avg_t_sg, sigma_t=sigma_t_sg)"
   ]
  },
  {
   "cell_type": "code",
   "execution_count": null,
   "id": "019b6c2e-f0c2-498e-992d-d8eb49aa115a",
   "metadata": {},
   "outputs": [],
   "source": [
    "tn, Pn = norm.get_x_pts(), norm.pdf()\n",
    "plt.plot(tn, Pn);"
   ]
  },
  {
   "cell_type": "code",
   "execution_count": null,
   "id": "71622109-aacc-48f8-a77e-33c7d8e8c433",
   "metadata": {},
   "outputs": [],
   "source": [
    "from distgen.metrics import kullback_liebler_div"
   ]
  },
  {
   "cell_type": "code",
   "execution_count": null,
   "id": "05802b9e-9068-480b-8187-4ad0874291a4",
   "metadata": {},
   "outputs": [],
   "source": [
    "kullback_liebler_div(tn, Pn, tsg, Psg, as_float=False)"
   ]
  },
  {
   "cell_type": "markdown",
   "id": "7884313e-efd1-43bf-b01d-f56acf22a8ff",
   "metadata": {},
   "source": [
    "The functions work with raw NumPy arrays, and support both float output or Pint Quantity outputs:"
   ]
  },
  {
   "cell_type": "code",
   "execution_count": null,
   "id": "663210fb-c245-4346-950b-50a8e7b0ebc9",
   "metadata": {},
   "outputs": [],
   "source": [
    "kullback_liebler_div(\n",
    "    tn.magnitude, Pn.magnitude, tsg.magnitude, Psg.magnitude, as_float=True\n",
    ")"
   ]
  },
  {
   "cell_type": "markdown",
   "id": "e97e4afa-9cc1-4186-b578-7b1c06bdaa7a",
   "metadata": {},
   "source": [
    "In addition to the Kullback Liebler Divergence, the residual squared between two distributions is implemented:\n"
   ]
  },
  {
   "cell_type": "code",
   "execution_count": null,
   "id": "f4349b50-9742-4df5-91a7-79b1515b10d9",
   "metadata": {},
   "outputs": [],
   "source": [
    "from distgen.metrics import res2"
   ]
  },
  {
   "cell_type": "code",
   "execution_count": null,
   "id": "f19660de-3c20-493e-84c8-9714eb2f83d1",
   "metadata": {},
   "outputs": [],
   "source": [
    "res2(tn, Pn, tsg, Psg, as_float=False, normalize=True)"
   ]
  },
  {
   "cell_type": "code",
   "execution_count": null,
   "id": "05be393b-47de-4b0d-8f78-18a2f473ccfa",
   "metadata": {},
   "outputs": [],
   "source": [
    "res2(tn.magnitude, Pn.magnitude, tsg.magnitude, Psg.magnitude, as_float=True)"
   ]
  },
  {
   "cell_type": "markdown",
   "id": "cfc3e3ed-9df1-4145-9179-c5c4f6ca976d",
   "metadata": {},
   "source": [
    "# Helper Functions\n",
    "---"
   ]
  },
  {
   "cell_type": "code",
   "execution_count": null,
   "id": "3e8ea172-a02a-4ac8-ad03-47a6bc7b2e26",
   "metadata": {},
   "outputs": [],
   "source": [
    "from distgen.metrics import resample_pq"
   ]
  },
  {
   "cell_type": "code",
   "execution_count": null,
   "id": "35242b5a-9468-4361-a85c-70daff9226c7",
   "metadata": {},
   "outputs": [],
   "source": [
    "resample_pq(tn, Pn, tsg, Psg, plot=True);"
   ]
  },
  {
   "cell_type": "code",
   "execution_count": null,
   "id": "09b4d7b6-5d01-42eb-9bd9-3946f3787638",
   "metadata": {},
   "outputs": [],
   "source": [
    "dist_yaml = \"\"\"\n",
    "n_particle: 30000\n",
    "species: electron\n",
    "r_dist:\n",
    "  truncation_fraction:\n",
    "    units: dimensionless\n",
    "    value: 0.5\n",
    "  truncation_radius:\n",
    "    units: mm\n",
    "    value: 2.3319043122\n",
    "  type: rg\n",
    "random_type: hammersley\n",
    "start:\n",
    "  MTE:\n",
    "    units: meV\n",
    "    value: 130\n",
    "  type: cathode\n",
    "t_dist:\n",
    "  p:\n",
    "    units: ''\n",
    "    value: 1\n",
    "  sigma_t:\n",
    "    units: ps\n",
    "    value: 10\n",
    "  type: sg\n",
    "total_charge:\n",
    "  units: pC\n",
    "  value: 100\n",
    "\"\"\""
   ]
  },
  {
   "cell_type": "code",
   "execution_count": null,
   "id": "3a49ae95-a9b8-4c5a-a97a-a6c4e6f0c83f",
   "metadata": {},
   "outputs": [],
   "source": [
    "from distgen import Generator"
   ]
  },
  {
   "cell_type": "code",
   "execution_count": null,
   "id": "177dba18-3458-4fce-9e11-b0a186d15acb",
   "metadata": {},
   "outputs": [],
   "source": [
    "D = Generator(dist_yaml)"
   ]
  },
  {
   "cell_type": "code",
   "execution_count": null,
   "id": "17025025-e3da-411d-8027-2ab68c942826",
   "metadata": {},
   "outputs": [],
   "source": [
    "P = D.run()"
   ]
  },
  {
   "cell_type": "code",
   "execution_count": null,
   "id": "dd6d07a3-2253-4b67-8fcc-9be8c25c6715",
   "metadata": {},
   "outputs": [],
   "source": [
    "P.plot(\"t\")"
   ]
  },
  {
   "cell_type": "code",
   "execution_count": null,
   "id": "2b37b2c7-3bc9-47e9-a72d-8d21cd780267",
   "metadata": {},
   "outputs": [],
   "source": [
    "from distgen.metrics import get_current_profile\n",
    "from distgen.metrics import rms_equivalent_current_nonuniformity"
   ]
  },
  {
   "cell_type": "code",
   "execution_count": null,
   "id": "8ba1df66-3433-4878-9607-7b7940134083",
   "metadata": {},
   "outputs": [],
   "source": [
    "t, current_profile = get_current_profile(P)"
   ]
  },
  {
   "cell_type": "code",
   "execution_count": null,
   "id": "6e8f0f9c-a749-47b0-91cd-3d0b0352458a",
   "metadata": {},
   "outputs": [],
   "source": [
    "plt.plot(t, current_profile);"
   ]
  },
  {
   "cell_type": "code",
   "execution_count": null,
   "id": "0767146a-ea3e-440a-b396-2a9ba8cf3d8c",
   "metadata": {},
   "outputs": [],
   "source": [
    "ps = np.linspace(1, 12, 50)"
   ]
  },
  {
   "cell_type": "code",
   "execution_count": null,
   "id": "a1bb8731-6f84-46bf-b166-22bed0edb0ae",
   "metadata": {},
   "outputs": [],
   "source": [
    "kldivs = np.zeros(ps.shape)\n",
    "res2s = np.zeros(ps.shape)\n",
    "\n",
    "for ii, p in enumerate(ps):\n",
    "    D[\"t_dist:p\"] = p\n",
    "\n",
    "    P = D.run()\n",
    "\n",
    "    t, current_profile = get_current_profile(P)\n",
    "\n",
    "    plt.plot(t, current_profile)\n",
    "\n",
    "    kldivs[ii] = rms_equivalent_current_nonuniformity(P, method=\"kl_div\", p=12)\n",
    "\n",
    "    res2s[ii] = rms_equivalent_current_nonuniformity(P, method=\"res2\")\n",
    "\n",
    "plt.xlabel(\"t (s)\")\n",
    "plt.ylabel(\"$\\\\rho$ ($s^{-1}$)\");"
   ]
  },
  {
   "cell_type": "markdown",
   "id": "cb267eed-c2fc-456a-aa86-766eb63ee702",
   "metadata": {},
   "source": [
    "$D_{KL} = \\int_{-\\infty}^{\\infty} P\\ln(P/Q)dt$\n",
    "\n",
    "Note, not defined for uniform beam where $Q_u = \\frac{1}{t_2-t_1}\\left[\\theta(t-t_1)-\\theta(t-t_2)\\right]$.  If comparing to uniform beam, replace target distribution with rms equivalent super-Gaussian with power $p$: $Q=Q_{SG}(t; p)$.  So KL-div nonuniformity:\n",
    "\n",
    "$\\lim_{p\\rightarrow\\infty}\\int_{-\\infty}^{\\infty} P\\ln[P/Q_{SG}(t;p)]dt$"
   ]
  },
  {
   "cell_type": "code",
   "execution_count": null,
   "id": "3657f39b-047b-49d1-901e-b007cb0d7ebc",
   "metadata": {},
   "outputs": [],
   "source": [
    "plt.plot(ps, kldivs)\n",
    "plt.xlabel(\"super-Gaussian power\")\n",
    "plt.ylabel(\"KL-Divergence\");"
   ]
  },
  {
   "cell_type": "markdown",
   "id": "58ea0482-62cd-4f95-a925-ccd901a7703c",
   "metadata": {},
   "source": [
    "$\\frac{\\int_{-\\infty}^{\\infty} (P-Q)^2dt}{\\int_{-\\infty}^{\\infty} Q^2(t)dt}$"
   ]
  },
  {
   "cell_type": "code",
   "execution_count": null,
   "id": "00040a52-42eb-4188-915c-5f18a38eb45c",
   "metadata": {},
   "outputs": [],
   "source": [
    "plt.plot(ps, res2s)\n",
    "plt.xlabel(\"super-Gaussian power\")\n",
    "plt.ylabel(\"integrated squared residuals\");"
   ]
  },
  {
   "cell_type": "code",
   "execution_count": null,
   "id": "971fcdc2-f4ce-43ae-ab4d-37f60985c953",
   "metadata": {},
   "outputs": [],
   "source": [
    "D[\"t_dist:p\"] = 4\n",
    "P = D.run()\n",
    "P.plot(\"t\")"
   ]
  },
  {
   "cell_type": "code",
   "execution_count": null,
   "id": "8ba6f50a-33c5-46c7-a1f6-5dc4a23f1414",
   "metadata": {},
   "outputs": [],
   "source": [
    "D[\"t_dist:p\"] = 6\n",
    "P = D.run()\n",
    "P.plot(\"t\")"
   ]
  },
  {
   "cell_type": "code",
   "execution_count": null,
   "id": "26f3d77b-a135-4158-aa11-4a17f80f4ee6",
   "metadata": {},
   "outputs": [],
   "source": []
  },
  {
   "cell_type": "code",
   "execution_count": null,
   "id": "ecbe8b74-65c4-43a7-90b9-a5e598423a67",
   "metadata": {},
   "outputs": [],
   "source": []
  }
 ],
 "metadata": {
  "kernelspec": {
   "display_name": "Python 3 (ipykernel)",
   "language": "python",
   "name": "python3"
  },
  "language_info": {
   "codemirror_mode": {
    "name": "ipython",
    "version": 3
   },
   "file_extension": ".py",
   "mimetype": "text/x-python",
   "name": "python",
   "nbconvert_exporter": "python",
   "pygments_lexer": "ipython3",
   "version": "3.12.4"
  }
 },
 "nbformat": 4,
 "nbformat_minor": 5
}
