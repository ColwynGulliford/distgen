{
 "cells": [
  {
   "cell_type": "code",
   "execution_count": null,
   "id": "cb205f37-505b-45b7-836b-0d2a865a46aa",
   "metadata": {},
   "outputs": [],
   "source": [
    "# Useful for debugging\n",
    "%load_ext autoreload\n",
    "%autoreload 2\n",
    "%config InlineBackend.figure_format = 'retina'\n",
    "\n",
    "import os\n",
    "import yaml\n",
    "import numpy as np"
   ]
  },
  {
   "cell_type": "code",
   "execution_count": null,
   "id": "6304c9d1-8f89-498f-9037-540d671b5008",
   "metadata": {},
   "outputs": [],
   "source": [
    "from distgen import Generator"
   ]
  },
  {
   "cell_type": "code",
   "execution_count": null,
   "id": "e65948c2-f633-4fb9-9950-f01b37681be0",
   "metadata": {},
   "outputs": [],
   "source": [
    "input_yaml = \"\"\"\n",
    "n_particle: 100000\n",
    "species: electron\n",
    "start: \n",
    "  type: free\n",
    "random:\n",
    "  type: hammersley\n",
    "total_charge:\n",
    "  units: pC\n",
    "  value: 10\n",
    "r_dist:\n",
    "  max_r:\n",
    "    units: mm\n",
    "    value: 1\n",
    "  type: radial_uniform\n",
    "p_dist:\n",
    "  sigma_p:\n",
    "    value: 1\n",
    "    units: eV/c\n",
    "  avg_p: \n",
    "    value: 100\n",
    "    units: eV/c\n",
    "  type: gaussian\n",
    "\"\"\""
   ]
  },
  {
   "cell_type": "code",
   "execution_count": null,
   "id": "40d9f356-31c7-46cf-9d1d-01e831cf837e",
   "metadata": {},
   "outputs": [],
   "source": [
    "gen = Generator(input_yaml, verbose=True)"
   ]
  },
  {
   "cell_type": "code",
   "execution_count": null,
   "id": "23c9f10e-66f6-4f60-ac34-98c68e751e59",
   "metadata": {},
   "outputs": [],
   "source": [
    "P = gen.run()"
   ]
  },
  {
   "cell_type": "code",
   "execution_count": null,
   "id": "b8d12c94-f31d-4220-9271-2edd9ff6eadf",
   "metadata": {},
   "outputs": [],
   "source": [
    "P.plot(\"p\")"
   ]
  },
  {
   "cell_type": "code",
   "execution_count": null,
   "id": "f5922f32-fe93-49a5-b230-6531ef39855e",
   "metadata": {},
   "outputs": [],
   "source": [
    "P.plot(\"x\", \"px\")"
   ]
  },
  {
   "cell_type": "code",
   "execution_count": null,
   "id": "883e0b72-2335-4445-8900-b48f6b977f5b",
   "metadata": {},
   "outputs": [],
   "source": [
    "P.plot(\"pz\")"
   ]
  },
  {
   "cell_type": "code",
   "execution_count": null,
   "id": "ff9fbdbd-9ba7-465b-b392-cbaf04ae32c2",
   "metadata": {},
   "outputs": [],
   "source": [
    "P.plot(\"px\")"
   ]
  },
  {
   "cell_type": "code",
   "execution_count": null,
   "id": "6ae47d03-9640-4be0-a596-bb8c053a7c38",
   "metadata": {},
   "outputs": [],
   "source": [
    "P.plot(\"py\")"
   ]
  },
  {
   "cell_type": "code",
   "execution_count": null,
   "id": "70b9aa5e-ab5b-49f7-b7f1-222f1512fa1b",
   "metadata": {},
   "outputs": [],
   "source": [
    "from matplotlib import pyplot as plt\n",
    "\n",
    "fig = plt.figure()\n",
    "ax = fig.add_subplot(projection=\"3d\")\n",
    "\n",
    "px, py, pz = P[\"px\"], P[\"py\"], P[\"pz\"]\n",
    "\n",
    "p = np.sqrt(px**2 + py**2 + pz**2)\n",
    "\n",
    "theta = np.arctan2(py, px)\n",
    "phi = np.arccos(pz / p)\n",
    "hist, pedges = np.histogram(phi, bins=100, density=True)\n",
    "pcs = (pedges[1:] + pedges[:-1]) / 2\n",
    "\n",
    "x = px / p\n",
    "y = py / p\n",
    "z = pz / p\n",
    "\n",
    "ax.scatter(x[::200], y[::200], z[::200], \".\")\n",
    "ax.set_xlabel(r\"$\\hat{p}_x$\")\n",
    "ax.set_ylabel(r\"$\\hat{p}_y$\")\n",
    "ax.set_zlabel(r\"$\\hat{p}_z$\")"
   ]
  },
  {
   "cell_type": "code",
   "execution_count": null,
   "id": "5310a4af-275a-4563-8a8d-74935a1d5523",
   "metadata": {},
   "outputs": [],
   "source": [
    "theta = np.arctan2(py, px)\n",
    "phi = np.arccos(pz / p)\n",
    "hist, pedges = np.histogram(phi, bins=100, density=True)\n",
    "pcs = (pedges[1:] + pedges[:-1]) / 2\n",
    "\n",
    "plt.plot(pcs, hist);"
   ]
  },
  {
   "cell_type": "code",
   "execution_count": null,
   "id": "efa69446-c3ff-432a-b2ba-a4ee5789e0de",
   "metadata": {},
   "outputs": [],
   "source": [
    "rns = np.random.random(100000)"
   ]
  },
  {
   "cell_type": "code",
   "execution_count": null,
   "id": "a659ecaf-4303-4652-bfa6-48c3f4e56f01",
   "metadata": {},
   "outputs": [],
   "source": [
    "pa = 0\n",
    "pb = np.pi\n",
    "\n",
    "Ca = np.cos(pa)\n",
    "Cb = np.cos(pb)"
   ]
  },
  {
   "cell_type": "code",
   "execution_count": null,
   "id": "d05a1b32-c384-4fd6-a5a3-b6ce3882fbeb",
   "metadata": {},
   "outputs": [],
   "source": [
    "rho = 1 / (Ca - Cb)"
   ]
  },
  {
   "cell_type": "code",
   "execution_count": null,
   "id": "8d873a2d-a502-452e-aa09-904f8fe7c33b",
   "metadata": {},
   "outputs": [],
   "source": [
    "phis = np.linspace(pa, pb, 1000)"
   ]
  },
  {
   "cell_type": "code",
   "execution_count": null,
   "id": "71f4f0ff-4ac2-4114-a1a9-b6511612563c",
   "metadata": {},
   "outputs": [],
   "source": [
    "plt.plot(phis, rho * np.sin(phis));"
   ]
  },
  {
   "cell_type": "code",
   "execution_count": null,
   "id": "1d1294ce-5541-44b8-8b12-50cd0eb51b8b",
   "metadata": {},
   "outputs": [],
   "source": [
    "np.trapezoid(rho * np.sin(phis), phis)"
   ]
  },
  {
   "cell_type": "code",
   "execution_count": null,
   "id": "a1ecbbd2-f4b0-42ad-b4e4-663e0a274270",
   "metadata": {},
   "outputs": [],
   "source": [
    "cdf = (Ca - np.cos(phis)) * rho"
   ]
  },
  {
   "cell_type": "code",
   "execution_count": null,
   "id": "4a5d2bd9-388b-49bc-b394-2833dde6e8d8",
   "metadata": {},
   "outputs": [],
   "source": [
    "from scipy.integrate import cumulative_trapezoid as cumtrapz"
   ]
  },
  {
   "cell_type": "code",
   "execution_count": null,
   "id": "a0a85101-a141-40ff-82bb-623ff750c61e",
   "metadata": {},
   "outputs": [],
   "source": [
    "plt.plot(phis, cdf, phis, cumtrapz(rho * np.sin(phis), phis, initial=0));"
   ]
  },
  {
   "cell_type": "code",
   "execution_count": null,
   "id": "017182d5-09b5-42a4-8895-47a68cfa23d1",
   "metadata": {},
   "outputs": [],
   "source": [
    "ps = np.arccos(Ca - rns * (Ca - Cb))"
   ]
  },
  {
   "cell_type": "code",
   "execution_count": null,
   "id": "138a5e45-e266-4f29-83f0-5f732e9e54f5",
   "metadata": {},
   "outputs": [],
   "source": [
    "hist, pedges = np.histogram(ps, bins=30, density=True)"
   ]
  },
  {
   "cell_type": "code",
   "execution_count": null,
   "id": "fddfaaf5-70f3-4f8f-90f5-f11c8625e5ca",
   "metadata": {},
   "outputs": [],
   "source": [
    "pcs = (pedges[1:] + pedges[:-1]) / 2"
   ]
  },
  {
   "cell_type": "code",
   "execution_count": null,
   "id": "6c04f599-0d23-4719-851e-f58e1ae9b3fc",
   "metadata": {},
   "outputs": [],
   "source": [
    "plt.plot(pcs, hist, phis, rho * np.sin(phis));"
   ]
  },
  {
   "cell_type": "code",
   "execution_count": null,
   "id": "c8490f63-bdc9-4861-a49d-508ab6ecfdb8",
   "metadata": {},
   "outputs": [],
   "source": [
    "gen = Generator(\"data/beer.can.in.yaml\", verbose=1)\n",
    "\n",
    "# print(gen)"
   ]
  },
  {
   "cell_type": "code",
   "execution_count": null,
   "id": "0c8fc531-598c-4ee4-bbe6-fa05d2f94717",
   "metadata": {},
   "outputs": [],
   "source": [
    "P1 = gen.run()"
   ]
  },
  {
   "cell_type": "code",
   "execution_count": null,
   "id": "cafeee97-4fe7-485f-86c2-fa12d06cc3a1",
   "metadata": {},
   "outputs": [],
   "source": [
    "P1.plot(\"x\", \"px\")"
   ]
  },
  {
   "cell_type": "code",
   "execution_count": null,
   "id": "c8958966-4600-4328-af2c-741154f39d7e",
   "metadata": {},
   "outputs": [],
   "source": [
    "P1.plot(\"p\")"
   ]
  },
  {
   "cell_type": "code",
   "execution_count": null,
   "id": "d3e8ca88-d181-479c-9926-2c8038c3238c",
   "metadata": {},
   "outputs": [],
   "source": [
    "P1.plot(\"pz\")"
   ]
  },
  {
   "cell_type": "code",
   "execution_count": null,
   "id": "f75708fe-c8af-4bd8-a595-459d940ddc55",
   "metadata": {},
   "outputs": [],
   "source": [
    "P1[\"sigma_px\"], P1[\"sigma_py\"], P1[\"sigma_pz\"]"
   ]
  },
  {
   "cell_type": "code",
   "execution_count": null,
   "id": "2c460f38-9250-4f81-94bf-b800df05eeac",
   "metadata": {},
   "outputs": [],
   "source": [
    "gen = Generator(\"data/maxwell_boltzmann.beer.can.in.yaml\", verbose=1)"
   ]
  },
  {
   "cell_type": "code",
   "execution_count": null,
   "id": "098f2603-e828-45d2-a3ee-9a8fddea9cc0",
   "metadata": {},
   "outputs": [],
   "source": [
    "P2 = gen.run()"
   ]
  },
  {
   "cell_type": "code",
   "execution_count": null,
   "id": "5535ec16-6b96-4fb1-b1a2-0430c2d4923a",
   "metadata": {},
   "outputs": [],
   "source": [
    "P2[\"sigma_px\"], P2[\"sigma_py\"], P2[\"sigma_pz\"]"
   ]
  },
  {
   "cell_type": "code",
   "execution_count": null,
   "id": "207273c4-7b80-4a80-9301-f44ab763685c",
   "metadata": {},
   "outputs": [],
   "source": [
    "gen = Generator(\"data/maxwell_boltzmann_KE.beer.can.in.yaml\", verbose=1)"
   ]
  },
  {
   "cell_type": "code",
   "execution_count": null,
   "id": "c4eb370f-152c-4a8c-b1c8-13bbd8347c83",
   "metadata": {},
   "outputs": [],
   "source": [
    "P3 = gen.run()"
   ]
  },
  {
   "cell_type": "code",
   "execution_count": null,
   "id": "a1cbbf7a-ace9-424a-bca9-00806ba92d97",
   "metadata": {},
   "outputs": [],
   "source": [
    "P3.plot(\"kinetic_energy\")"
   ]
  },
  {
   "cell_type": "code",
   "execution_count": null,
   "id": "2a8020a7-a2ed-4b4c-a2e2-32e88b32c494",
   "metadata": {},
   "outputs": [],
   "source": [
    "P3.plot(\"x\", \"px\")"
   ]
  },
  {
   "cell_type": "code",
   "execution_count": null,
   "id": "7a8a9c29-eca1-48be-847f-a261fc09baf3",
   "metadata": {},
   "outputs": [],
   "source": [
    "P3[\"sigma_px\"], P3[\"sigma_py\"], P3[\"sigma_pz\"]"
   ]
  },
  {
   "cell_type": "code",
   "execution_count": null,
   "id": "3dfcea22-ac18-46d0-80d8-5634fb7a9080",
   "metadata": {},
   "outputs": [],
   "source": [
    "fig = plt.figure()\n",
    "ax = fig.add_subplot(projection=\"3d\")\n",
    "\n",
    "px, py, pz = P3[\"px\"], P3[\"py\"], P3[\"pz\"]\n",
    "\n",
    "p = np.sqrt(px**2 + py**2 + pz**2)\n",
    "\n",
    "theta = np.arctan2(py, px)\n",
    "phi = np.arccos(pz / p)\n",
    "hist, pedges = np.histogram(phi, bins=100, density=True)\n",
    "pcs = (pedges[1:] + pedges[:-1]) / 2\n",
    "\n",
    "x = px / p\n",
    "y = py / p\n",
    "z = pz / p\n",
    "\n",
    "ax.scatter(x[::500], y[::500], z[::500], \".\")\n",
    "ax.set_xlabel(r\"$\\hat{p}_x$\")\n",
    "ax.set_ylabel(r\"$\\hat{p}_y$\")\n",
    "ax.set_zlabel(r\"$\\hat{p}_z$\")"
   ]
  },
  {
   "cell_type": "code",
   "execution_count": null,
   "id": "aaf48e30-7550-48aa-a6aa-6023e68fafed",
   "metadata": {},
   "outputs": [],
   "source": [
    "KE = np.linspace(0, 150, 10000)\n",
    "\n",
    "E0 = 0\n",
    "\n",
    "A1 = (0.8,)\n",
    "m1 = 8\n",
    "\n",
    "A2 = 0.1\n",
    "m2 = 90\n",
    "\n",
    "PKE = A1 * np.exp(-np.abs(KE - E0) / m1) + A2 * np.exp(-np.abs(KE - E0) / m2)\n",
    "PKE = PKE / np.trapz(PKE, KE)  # Numerically intergate to normalize\n",
    "\n",
    "plt.plot(KE, PKE)\n",
    "plt.xlabel(\"KE (eV)\")\n",
    "plt.ylabel(\"$\\\\rho(KE)$ (1/eV)\");"
   ]
  },
  {
   "cell_type": "code",
   "execution_count": null,
   "id": "66021c6a-5af7-4c41-97f0-f62123990ae8",
   "metadata": {},
   "outputs": [],
   "source": [
    "dat = np.zeros((len(KE), 2))\n",
    "dat[:, 0], dat[:, 1] = KE, PKE\n",
    "\n",
    "np.savetxt(\"KEdist.txt\", dat, header=\"KE     PKE\", comments=\"\")"
   ]
  },
  {
   "cell_type": "code",
   "execution_count": null,
   "id": "ee592a4a-6277-4b74-9546-6cb6fdbbe341",
   "metadata": {},
   "outputs": [],
   "source": [
    "q = 1000 * 1.60217663e-19\n",
    "\n",
    "print(q)\n",
    "\n",
    "input_yaml = \"\"\"\n",
    "n_particle: 1000\n",
    "species: electron\n",
    "start: \n",
    "  type: cathode\n",
    "random:\n",
    "  type: hammersley\n",
    "total_charge:\n",
    "  units: C\n",
    "  value: 1.60217663e-17\n",
    "r_dist:\n",
    "  max_r:\n",
    "    units: mm\n",
    "    value: 14.6\n",
    "  type: radial_uniform\n",
    "KE_dist:\n",
    "  file: KEdist.txt\n",
    "  units: eV\n",
    "  type: file1d\n",
    "transforms:\n",
    "  sx:\n",
    "    avg_x:\n",
    "      units: millimeter\n",
    "      value: -50\n",
    "    type: set_avg x\n",
    "  sy:\n",
    "    avg_y:\n",
    "      units: millimeter\n",
    "      value: 50\n",
    "    type: set_avg y\n",
    "  sz:\n",
    "    avg_z:\n",
    "      units: millimeter\n",
    "      value: 65\n",
    "    type: set_avg z\n",
    "output:\n",
    "    file: None\n",
    "\"\"\""
   ]
  },
  {
   "cell_type": "code",
   "execution_count": null,
   "id": "08e2e7aa-9c61-4b72-8e72-13c541ca9260",
   "metadata": {},
   "outputs": [],
   "source": [
    "inputs = yaml.safe_load(input_yaml)\n",
    "\n",
    "n = 1000\n",
    "\n",
    "inputs[\"n_particle\"] = n\n",
    "inputs[\"output\"][\"file\"] = \"test_ion_writer.ion\"\n",
    "inputs[\"output\"][\"type\"] = \"simion\"\n",
    "inputs[\"total_charge\"][\"value\"] = n * 1.60217663e-19\n",
    "inputs[\"transforms\"][\"sx\"][\"avg_x\"][\"value\"] = -50\n",
    "inputs[\"transforms\"][\"sy\"][\"avg_y\"][\"value\"] = 50\n",
    "inputs[\"transforms\"][\"sz\"][\"avg_z\"][\"value\"] = 55"
   ]
  },
  {
   "cell_type": "code",
   "execution_count": null,
   "id": "a7853a8b-d55f-45c8-a681-6bf2a259e2c0",
   "metadata": {},
   "outputs": [],
   "source": [
    "gen = Generator(inputs, verbose=1)"
   ]
  },
  {
   "cell_type": "code",
   "execution_count": null,
   "id": "da11b1f7-f8e6-4cb4-be8e-61eb4a4e5e85",
   "metadata": {},
   "outputs": [],
   "source": [
    "P = gen.run()"
   ]
  },
  {
   "cell_type": "code",
   "execution_count": null,
   "id": "b805920f-eb41-44a3-a92f-e2622afee5aa",
   "metadata": {},
   "outputs": [],
   "source": [
    "P.plot(\"x\", \"y\", figsize=(5, 5))"
   ]
  },
  {
   "cell_type": "code",
   "execution_count": null,
   "id": "b87c671f-e2fc-4f00-b785-2ff16e7e65e4",
   "metadata": {},
   "outputs": [],
   "source": [
    "P.plot(\"x\", \"px\", figsize=(5, 5))"
   ]
  },
  {
   "cell_type": "code",
   "execution_count": null,
   "id": "a9be3fe4-96e6-4cc2-93c2-093e60c9acd4",
   "metadata": {},
   "outputs": [],
   "source": [
    "P.plot(\"kinetic_energy\")"
   ]
  },
  {
   "cell_type": "code",
   "execution_count": null,
   "id": "3f240589-6701-41fb-93d8-cccbc1dbc066",
   "metadata": {},
   "outputs": [],
   "source": [
    "from distgen.writers import writer\n",
    "\n",
    "writer(\"simion\", gen.beam(), \"test_ion_writer.ion\", params={\"color\": 0})"
   ]
  },
  {
   "cell_type": "code",
   "execution_count": null,
   "id": "18876802-0ae6-4849-81cb-445052796337",
   "metadata": {},
   "outputs": [],
   "source": [
    "from scipy.constants import physical_constants\n",
    "\n",
    "mc2 = 1e6 * physical_constants[\"electron mass energy equivalent in MeV\"][0]\n",
    "e_ = physical_constants[\"elementary charge\"][0]\n",
    "me = physical_constants[\"electron mass in u\"][0]\n",
    "\n",
    "\n",
    "def particle_group_to_SIMION(P, filename, color=0):\n",
    "    header = \";0\"\n",
    "\n",
    "    simion_params = [\n",
    "        \"TOB\",\n",
    "        \"MASS\",\n",
    "        \"CHARGE\",\n",
    "        \"X\",\n",
    "        \"Y\",\n",
    "        \"Z\",\n",
    "        \"AZ\",\n",
    "        \"EL\",\n",
    "        \"KE\",\n",
    "        \"CWF\",\n",
    "        \"COLOR\",\n",
    "    ]\n",
    "\n",
    "    # simion_units = {\n",
    "    #    \"TOB\": \"usec\",\n",
    "    #    \"MASS\": \"amu\",\n",
    "    #    \"CHARGE\": \"e\",\n",
    "    #    \"X\": \"mm\",\n",
    "    #    \"Y\": \"mm\",\n",
    "    #    \"Z\": \"mm\",\n",
    "    #    \"AZ\": \"deg\",\n",
    "    #    \"EL\": \"deg\",\n",
    "    #    \"CWF\": \"\",\n",
    "    #    \"COLOR\": \"\",\n",
    "    # }\n",
    "\n",
    "    data = np.zeros((len(P), len(simion_params)))\n",
    "\n",
    "    data[:, simion_params.index(\"TOB\")] = P.t * 1e6  # [P.t] = sec, convert to usec\n",
    "\n",
    "    if P.species == \"electron\":\n",
    "        data[:, simion_params.index(\"MASS\")] = np.full(len(P), me)\n",
    "        data[:, simion_params.index(\"CHARGE\")] = np.full(len(P), -1)\n",
    "    else:\n",
    "        raise ValueError(f\"Species {P.species} is not supported\")\n",
    "\n",
    "    data[:, simion_params.index(\"X\")] = P.z * 1e3\n",
    "    data[:, simion_params.index(\"Y\")] = P.y * 1e3\n",
    "    data[:, simion_params.index(\"Z\")] = -P.x * 1e3\n",
    "\n",
    "    px = P.pz\n",
    "    py = P.py\n",
    "    pz = -P.px\n",
    "\n",
    "    data[:, simion_params.index(\"KE\")] = P.kinetic_energy  # [eV]\n",
    "    data[:, simion_params.index(\"AZ\")] = np.arctan2(-pz, px) * (180 / np.pi)  # [deg]\n",
    "    data[:, simion_params.index(\"EL\")] = np.arctan2(py, np.sqrt(px**2 + pz**2)) * (\n",
    "        180 / np.pi\n",
    "    )  # [deg]\n",
    "\n",
    "    data[:, simion_params.index(\"CWF\")] = (\n",
    "        P.weight / e_\n",
    "    )  # Charge Weighting Factor, derive from particle group weights\n",
    "    data[:, simion_params.index(\"COLOR\")] = np.full(len(P), color)\n",
    "    # fname, X, fmt='%.18e', delimiter=' '\n",
    "\n",
    "    np.savetxt(filename, data, delimiter=\",\", header=header, comments=\"\", fmt=\"  %.9e\")"
   ]
  },
  {
   "cell_type": "code",
   "execution_count": null,
   "id": "08268e1a-8b38-43d0-a277-b44eb8fcaf77",
   "metadata": {},
   "outputs": [],
   "source": [
    "particle_group_to_SIMION(P, \"text_ion_file.ion\")"
   ]
  },
  {
   "cell_type": "code",
   "execution_count": null,
   "id": "d235c8e3-a5ca-4e3f-8ea5-226dfa10ea81",
   "metadata": {},
   "outputs": [],
   "source": [
    "def read_simion_ION_file(filename):\n",
    "    data = np.loadtxt(filename, comments=\";\", delimiter=\",\", skiprows=1)\n",
    "\n",
    "    simion_params = [\n",
    "        \"TOB\",\n",
    "        \"MASS\",\n",
    "        \"CHARGE\",\n",
    "        \"X\",\n",
    "        \"Y\",\n",
    "        \"Z\",\n",
    "        \"AZ\",\n",
    "        \"EL\",\n",
    "        \"KE\",\n",
    "        \"CWF\",\n",
    "        \"COLOR\",\n",
    "    ]\n",
    "\n",
    "    return {simion_params[ii]: data[:, ii] for ii, p in enumerate(simion_params)}"
   ]
  },
  {
   "cell_type": "code",
   "execution_count": null,
   "id": "e4bb43d8-e7c5-47bb-9a0d-a5fd7970ccb0",
   "metadata": {},
   "outputs": [],
   "source": [
    "ions1 = read_simion_ION_file(\"text_ion_file.ion\")\n",
    "ions2 = read_simion_ION_file(\"test_ion_writer.ion\")"
   ]
  },
  {
   "cell_type": "code",
   "execution_count": null,
   "id": "fe5a3cf9-58aa-4515-bd8d-5f3db1a681fe",
   "metadata": {},
   "outputs": [],
   "source": [
    "fig = plt.figure()\n",
    "ax = fig.add_subplot(projection=\"3d\")\n",
    "\n",
    "px, py, pz = P[\"px\"], P[\"py\"], P[\"pz\"]\n",
    "\n",
    "p = np.sqrt(px**2 + py**2 + pz**2)\n",
    "\n",
    "theta = np.arctan2(py, px)\n",
    "phi = np.arccos(pz / p)\n",
    "hist, pedges = np.histogram(phi, bins=100, density=True)\n",
    "pcs = (pedges[1:] + pedges[:-1]) / 2\n",
    "\n",
    "x = px / p\n",
    "y = py / p\n",
    "z = pz / p\n",
    "\n",
    "ax.scatter(x[::], y[::], z[::], \".\")\n",
    "ax.set_xlabel(r\"$\\hat{p}_x$\")\n",
    "ax.set_ylabel(r\"$\\hat{p}_y$\")\n",
    "ax.set_zlabel(r\"$\\hat{p}_z$\")"
   ]
  },
  {
   "cell_type": "code",
   "execution_count": null,
   "id": "00b8c78e-6389-4400-a480-eafe7145cf35",
   "metadata": {},
   "outputs": [],
   "source": [
    "for p in ions1:\n",
    "    print(f\"{p}:\", max(np.abs(ions1[p] - ions2[p])))"
   ]
  },
  {
   "cell_type": "code",
   "execution_count": null,
   "id": "d9b2e844-4a1a-49cc-9d8e-7f8b1cba2f93",
   "metadata": {},
   "outputs": [],
   "source": [
    "plt.plot(ions1[\"KE\"], ions1[\"KE\"] / ions2[\"KE\"], \".\")\n",
    "plt.xlabel(\"KE (eV)\");"
   ]
  },
  {
   "cell_type": "code",
   "execution_count": null,
   "id": "9396f768-f281-4323-a48e-f6d2bbf74684",
   "metadata": {},
   "outputs": [],
   "source": [
    "os.remove(\"text_ion_file.ion\")\n",
    "os.remove(\"KEdist.txt\")\n",
    "os.remove(\"test_ion_writer.ion\")"
   ]
  },
  {
   "cell_type": "code",
   "execution_count": null,
   "id": "f0fdb9e7-c221-4c3e-bf7c-f93258cc8865",
   "metadata": {},
   "outputs": [],
   "source": []
  },
  {
   "cell_type": "code",
   "execution_count": null,
   "id": "6f04b2fc-1024-4049-afc4-9387effc261f",
   "metadata": {},
   "outputs": [],
   "source": []
  }
 ],
 "metadata": {
  "kernelspec": {
   "display_name": "Python 3 (ipykernel)",
   "language": "python",
   "name": "python3"
  },
  "language_info": {
   "codemirror_mode": {
    "name": "ipython",
    "version": 3
   },
   "file_extension": ".py",
   "mimetype": "text/x-python",
   "name": "python",
   "nbconvert_exporter": "python",
   "pygments_lexer": "ipython3",
   "version": "3.12.4"
  }
 },
 "nbformat": 4,
 "nbformat_minor": 5
}
