{
 "cells": [
  {
   "cell_type": "code",
   "execution_count": null,
   "id": "049c1a6a-c71b-4f39-87f0-03dd0c1e1060",
   "metadata": {},
   "outputs": [],
   "source": [
    "# Useful for debugging\n",
    "%load_ext autoreload\n",
    "%autoreload 2\n",
    "%config InlineBackend.figure_format = 'retina'"
   ]
  },
  {
   "cell_type": "code",
   "execution_count": null,
   "id": "ea67e15c-0f7f-4090-a3ad-9da52c831f81",
   "metadata": {},
   "outputs": [],
   "source": [
    "from distgen import Generator\n",
    "\n",
    "from time import time\n",
    "from matplotlib import pyplot as plt"
   ]
  },
  {
   "cell_type": "code",
   "execution_count": null,
   "id": "e825f2fb-cf12-44b5-bcd1-6d0c1bcf6ab8",
   "metadata": {},
   "outputs": [],
   "source": [
    "G = Generator(\"data/rad.gaussian.in.yaml\", verbose=1)"
   ]
  },
  {
   "cell_type": "code",
   "execution_count": null,
   "id": "ea4a736f-cf2d-4296-9fd5-869214b2eb44",
   "metadata": {},
   "outputs": [],
   "source": [
    "G.run()"
   ]
  },
  {
   "cell_type": "code",
   "execution_count": null,
   "id": "f8ca24ac-67c8-409c-acbd-a014bb2a453e",
   "metadata": {},
   "outputs": [],
   "source": [
    "G[\"n_particle\"] = 10_000_000"
   ]
  },
  {
   "cell_type": "code",
   "execution_count": null,
   "id": "e6255472-38a9-4a27-b7f5-b3031b8d011b",
   "metadata": {},
   "outputs": [],
   "source": [
    "G.run(max_workers=10)"
   ]
  },
  {
   "cell_type": "code",
   "execution_count": null,
   "id": "0fe8b6a4-fc1e-4fab-bccc-1548f2dbf92e",
   "metadata": {},
   "outputs": [],
   "source": [
    "n_particles = [\n",
    "    100,\n",
    "    1_000,\n",
    "    10_000,\n",
    "    100_000,\n",
    "    1_000_000,\n",
    "    10_000_000,\n",
    "    25_000_000,\n",
    "    50_000_000,\n",
    "]  # , 100_000_000]"
   ]
  },
  {
   "cell_type": "code",
   "execution_count": null,
   "id": "0dcc72e8-3da7-4718-abaf-800cecb3febc",
   "metadata": {},
   "outputs": [],
   "source": [
    "s_times = []\n",
    "\n",
    "for n_part in n_particles:\n",
    "    G[\"n_particle\"] = n_part\n",
    "\n",
    "    # Run in serial:\n",
    "    ts0 = time()\n",
    "    G.run()\n",
    "    ts1 = time()\n",
    "\n",
    "    s_times.append(ts1 - ts0)"
   ]
  },
  {
   "cell_type": "code",
   "execution_count": null,
   "id": "7329db99-0dcf-4953-9ce9-95e73c27ccca",
   "metadata": {},
   "outputs": [],
   "source": [
    "p_times = []\n",
    "\n",
    "for n_part in n_particles:\n",
    "    G[\"n_particle\"] = n_part\n",
    "\n",
    "    # Run in serial:\n",
    "    ts0 = time()\n",
    "    G.run(max_workers=10)\n",
    "    ts1 = time()\n",
    "\n",
    "    p_times.append(ts1 - ts0)"
   ]
  },
  {
   "cell_type": "code",
   "execution_count": null,
   "id": "96c64ab7-310f-4678-a742-07cebe4df8ef",
   "metadata": {},
   "outputs": [],
   "source": [
    "plt.loglog(n_particles, s_times)\n",
    "plt.semilogx(n_particles, p_times)\n",
    "plt.xlabel(\"n_particle\")\n",
    "plt.ylabel(\"time (sec)\")\n",
    "plt.legend([\"series\", \"parallel, 10 workers\"])"
   ]
  },
  {
   "cell_type": "code",
   "execution_count": null,
   "id": "db14be43-085a-4c83-a0a1-744d6b9dd338",
   "metadata": {},
   "outputs": [],
   "source": [
    "G = Generator(\"data/rad.gaussian.in.yaml\", verbose=0)\n",
    "G[\"n_particle\"] = 100\n",
    "\n",
    "pgs = [G.run() for ii in range(10)]"
   ]
  },
  {
   "cell_type": "code",
   "execution_count": null,
   "id": "ef235daf-4ce0-4a45-af55-eb6a1ac2abc8",
   "metadata": {},
   "outputs": [],
   "source": []
  }
 ],
 "metadata": {
  "kernelspec": {
   "display_name": "Python 3 (ipykernel)",
   "language": "python",
   "name": "python3"
  },
  "language_info": {
   "codemirror_mode": {
    "name": "ipython",
    "version": 3
   },
   "file_extension": ".py",
   "mimetype": "text/x-python",
   "name": "python",
   "nbconvert_exporter": "python",
   "pygments_lexer": "ipython3",
   "version": "3.12.4"
  }
 },
 "nbformat": 4,
 "nbformat_minor": 5
}
