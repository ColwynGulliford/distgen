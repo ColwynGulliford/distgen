{
 "cells": [
  {
   "cell_type": "code",
   "execution_count": 1,
   "id": "1e7baf60-719f-4201-94f0-fe979351721e",
   "metadata": {},
   "outputs": [],
   "source": [
    "%load_ext autoreload\n",
    "%autoreload 2\n",
    "%config InlineBackend.figure_format = 'retina'"
   ]
  },
  {
   "cell_type": "code",
   "execution_count": 2,
   "id": "d612a0b3-f8b8-420d-b776-925afd7ae488",
   "metadata": {},
   "outputs": [],
   "source": [
    "from distgen.tools import is_quantity\n",
    "from distgen import Generator\n",
    "import os"
   ]
  },
  {
   "cell_type": "code",
   "execution_count": 3,
   "id": "5d0a3761-ccc7-4503-978a-5be6aa35e38b",
   "metadata": {},
   "outputs": [
    {
     "data": {
      "text/plain": [
       "True"
      ]
     },
     "execution_count": 3,
     "metadata": {},
     "output_type": "execute_result"
    }
   ],
   "source": [
    "is_quantity('1 ps')"
   ]
  },
  {
   "cell_type": "code",
   "execution_count": 4,
   "id": "c93c10eb-3414-4c46-913d-b1822975e7e7",
   "metadata": {},
   "outputs": [],
   "source": [
    "D = Generator('$GITHUB/distgen/docs/examples/data/gaussian.in.yaml')"
   ]
  },
  {
   "cell_type": "code",
   "execution_count": 5,
   "id": "7899ee12-a6ce-4e10-ae45-76cf2744ed6a",
   "metadata": {},
   "outputs": [
    {
     "name": "stdout",
     "output_type": "stream",
     "text": [
      "<disgten.Generator with input: \n",
      "n_particle: 200000\n",
      "output:\n",
      "  type: null\n",
      "px_dist:\n",
      "  sigma_px:\n",
      "    units: kiloelectron_volt / speed_of_light\n",
      "    value: 1.0\n",
      "  type: gaussian\n",
      "py_dist:\n",
      "  sigma_py:\n",
      "    units: kiloelectron_volt / speed_of_light\n",
      "    value: 1.0\n",
      "  type: gaussian\n",
      "pz_dist:\n",
      "  avg_pz:\n",
      "    units: gigaelectron_volt / speed_of_light\n",
      "    value: 0.0\n",
      "  sigma_pz:\n",
      "    units: megaelectron_volt / speed_of_light\n",
      "    value: 1.0\n",
      "  type: gaussian\n",
      "r_dist:\n",
      "  sigma_xy:\n",
      "    units: millimeter\n",
      "    value: 1.0\n",
      "  type: radial_gaussian\n",
      "random:\n",
      "  type: hammersley\n",
      "start:\n",
      "  tstart:\n",
      "    units: second\n",
      "    value: 0\n",
      "  type: time\n",
      "total_charge:\n",
      "  units: picocoulomb\n",
      "  value: 10\n",
      "transforms: null\n",
      "z_dist:\n",
      "  avg_z:\n",
      "    units: millimeter\n",
      "    value: 0.0\n",
      "  sigma_z:\n",
      "    units: millimeter\n",
      "    value: 2.0\n",
      "  type: gaussian\n",
      "\n",
      ">\n"
     ]
    }
   ],
   "source": [
    "print(D)"
   ]
  },
  {
   "cell_type": "code",
   "execution_count": 6,
   "id": "7231fb2d-9fc9-4b24-976e-d72e54181aa4",
   "metadata": {},
   "outputs": [
    {
     "name": "stdout",
     "output_type": "stream",
     "text": [
      "found q 3\n",
      "final boot 3 millimeter\n"
     ]
    }
   ],
   "source": [
    "D['z_dist:avg_z'] = 3 "
   ]
  },
  {
   "cell_type": "code",
   "execution_count": 7,
   "id": "c4de78d2-4ad0-4d3c-9044-fabe72cbe2f5",
   "metadata": {},
   "outputs": [
    {
     "data": {
      "text/plain": [
       "<disgten.Generator with input: \n",
       "n_particle: 200000\n",
       "output:\n",
       "  type: null\n",
       "px_dist:\n",
       "  sigma_px:\n",
       "    units: kiloelectron_volt / speed_of_light\n",
       "    value: 1.0\n",
       "  type: gaussian\n",
       "py_dist:\n",
       "  sigma_py:\n",
       "    units: kiloelectron_volt / speed_of_light\n",
       "    value: 1.0\n",
       "  type: gaussian\n",
       "pz_dist:\n",
       "  avg_pz:\n",
       "    units: gigaelectron_volt / speed_of_light\n",
       "    value: 0.0\n",
       "  sigma_pz:\n",
       "    units: megaelectron_volt / speed_of_light\n",
       "    value: 1.0\n",
       "  type: gaussian\n",
       "r_dist:\n",
       "  sigma_xy:\n",
       "    units: millimeter\n",
       "    value: 1.0\n",
       "  type: radial_gaussian\n",
       "random:\n",
       "  type: hammersley\n",
       "start:\n",
       "  tstart:\n",
       "    units: second\n",
       "    value: 0\n",
       "  type: time\n",
       "total_charge:\n",
       "  units: picocoulomb\n",
       "  value: 10\n",
       "transforms: null\n",
       "z_dist:\n",
       "  avg_z:\n",
       "    units: millimeter\n",
       "    value: 3\n",
       "  sigma_z:\n",
       "    units: millimeter\n",
       "    value: 2.0\n",
       "  type: gaussian\n",
       "\n",
       ">"
      ]
     },
     "execution_count": 7,
     "metadata": {},
     "output_type": "execute_result"
    }
   ],
   "source": [
    "D"
   ]
  },
  {
   "cell_type": "code",
   "execution_count": 8,
   "id": "719b4772-e2b4-4d04-8dc9-1b003eb8a907",
   "metadata": {},
   "outputs": [],
   "source": [
    "#print(D)"
   ]
  },
  {
   "cell_type": "code",
   "execution_count": 9,
   "id": "681b2101-7a54-407e-b6da-990139e1b2ac",
   "metadata": {},
   "outputs": [],
   "source": [
    "#P = D.run()"
   ]
  },
  {
   "cell_type": "code",
   "execution_count": 10,
   "id": "c843aa06-1745-44c9-b145-2bd604b8b1e8",
   "metadata": {},
   "outputs": [],
   "source": [
    "#P.plot('x', 'y')"
   ]
  },
  {
   "cell_type": "code",
   "execution_count": null,
   "id": "96c86b94-7e38-4b86-ab5a-f57eac9940dc",
   "metadata": {},
   "outputs": [],
   "source": []
  },
  {
   "cell_type": "code",
   "execution_count": null,
   "id": "1cecfdbc-b15b-4349-b044-dc8dbd39d6e4",
   "metadata": {},
   "outputs": [],
   "source": []
  }
 ],
 "metadata": {
  "kernelspec": {
   "display_name": "Python 3 (ipykernel)",
   "language": "python",
   "name": "python3"
  },
  "language_info": {
   "codemirror_mode": {
    "name": "ipython",
    "version": 3
   },
   "file_extension": ".py",
   "mimetype": "text/x-python",
   "name": "python",
   "nbconvert_exporter": "python",
   "pygments_lexer": "ipython3",
   "version": "3.9.16"
  }
 },
 "nbformat": 4,
 "nbformat_minor": 5
}
