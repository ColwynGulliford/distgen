{
 "cells": [
  {
   "cell_type": "code",
   "execution_count": null,
   "id": "d3fbd7b0-da5b-476a-aeb0-4aff00d6c9c2",
   "metadata": {},
   "outputs": [],
   "source": [
    "%load_ext autoreload\n",
    "%autoreload 2\n",
    "%config InlineBackend.figure_format = 'retina'"
   ]
  },
  {
   "cell_type": "code",
   "execution_count": null,
   "id": "7331fdcd-d09c-49ea-ad1d-0a4758b910ca",
   "metadata": {},
   "outputs": [],
   "source": [
    "from distgen.physical_constants import unit_registry, PHYSICAL_CONSTANTS\n",
    "\n",
    "import scipy.constants as const\n",
    "\n",
    "h = PHYSICAL_CONSTANTS[\"Planck constant in eV/Hz\"]\n",
    "c = PHYSICAL_CONSTANTS[\"speed of light in vacuum\"]\n",
    "hc = h * c\n",
    "\n",
    "MC2 = PHYSICAL_CONSTANTS.species(\"electron\")[\"mc2\"]\n",
    "\n",
    "me = PHYSICAL_CONSTANTS.species(\"electron\")[\"mass\"]"
   ]
  },
  {
   "cell_type": "code",
   "execution_count": null,
   "id": "4bb3dcb9-761b-4c8e-a265-74e0ac18c928",
   "metadata": {},
   "outputs": [],
   "source": [
    "from matplotlib import pyplot as plt\n",
    "import numpy as np"
   ]
  },
  {
   "cell_type": "markdown",
   "id": "bd832f14-1799-4957-ba3b-2de7c9f950ec",
   "metadata": {},
   "source": [
    "# Fermi-Dirac 3 Step Barrier Momentum Distribution\n",
    "---\n",
    "Calculates the PDF for electrons emitted from a photocathode following the\n",
    "model described in [1]. Shortly, electrons are initially populated in momentum space as \n",
    "in the Sommerfeld model. They escape over the work function barrier when their \n",
    "longitudinal energy is high enough and lose momentum along the direction of the surface \n",
    "normal to satisfy energy conservation. For the purposes of referencing in published \n",
    "research, this sampling concept is the same described in [2].\n",
    "\n",
    "    [1] Dowell, D. H., & Schmerge, J. F. (2009). Quantum efficiency and thermal emittance of \n",
    "        metal photocathodes. Physical Review Special Topics - Accelerators and Beams, 12(7). \n",
    "        https://doi.org/10.1103/PhysRevSTAB.12.074201\n",
    "\n",
    "    [2] Pierce, C. M., Durham, D. B., Riminucci, F., Dhuey, S., Bazarov, I., Maxson, J.,\n",
    "        Minor, A. M., & Filippetto, D. (2023). Experimental Characterization of Photoemission\n",
    "        from Plasmonic Nanogroove Arrays. Physical Review Applied, 19(3), 034034.\n",
    "        https://doi.org/10.1103/PhysRevApplied.19.034034"
   ]
  },
  {
   "cell_type": "markdown",
   "id": "66ec8f31-d80b-4fbd-b864-bd25840aaab6",
   "metadata": {},
   "source": [
    "## Full Distgen Example"
   ]
  },
  {
   "cell_type": "code",
   "execution_count": null,
   "id": "9f5692ff-5380-4a9b-9086-4ccf858cf267",
   "metadata": {},
   "outputs": [],
   "source": [
    "from distgen import Generator"
   ]
  },
  {
   "cell_type": "code",
   "execution_count": null,
   "id": "6a0659f1-63e2-4560-b076-db66906fbe55",
   "metadata": {},
   "outputs": [],
   "source": [
    "photon_energy = 2.5 * unit_registry(\"eV\")\n",
    "laser_wavelength = hc / photon_energy\n",
    "cathode_temperature = 300 * unit_registry(\"K\")\n",
    "fermi_energy = 6 * unit_registry(\"eV\")\n",
    "cathode_work_function = 2 * unit_registry(\"eV\")"
   ]
  },
  {
   "cell_type": "code",
   "execution_count": null,
   "id": "6417c0bc-61ea-472d-bf4b-5726eb88ea0c",
   "metadata": {},
   "outputs": [],
   "source": [
    "D = Generator(\"data/fermi_dirac_3step_barrier_photocathode.in.yaml\", verbose=1)\n",
    "\n",
    "D[\"p_polar_angle_dist:photon_wavelength\"] = laser_wavelength.to(\"nm\").magnitude\n",
    "D[\"p_polar_angle_dist:temperature\"] = cathode_temperature\n",
    "D[\"p_polar_angle_dist:fermi_energy\"] = fermi_energy\n",
    "D[\"p_polar_angle_dist:work_function\"] = cathode_work_function"
   ]
  },
  {
   "cell_type": "code",
   "execution_count": null,
   "id": "0678e04e-a0ed-476d-b886-45aebcea115a",
   "metadata": {},
   "outputs": [],
   "source": [
    "P = D.run()"
   ]
  },
  {
   "cell_type": "code",
   "execution_count": null,
   "id": "4b3a6e17-85b7-458d-a8d2-1aa108687af4",
   "metadata": {},
   "outputs": [],
   "source": [
    "P.plot(\"px\", \"pz\")"
   ]
  },
  {
   "cell_type": "markdown",
   "id": "8e08277a-165c-4494-8a58-2bab73bf18bd",
   "metadata": {},
   "source": [
    "## Original Implementation (courtesy of C. Pierce)"
   ]
  },
  {
   "cell_type": "code",
   "execution_count": null,
   "id": "a4e6624b-4aa5-401d-a4d6-9bfcbc8c50d4",
   "metadata": {},
   "outputs": [],
   "source": [
    "# Fetch constants from scipy\n",
    "kb = const.value(\"Boltzmann constant in eV/K\")\n",
    "mc2 = const.value(\"electron mass energy equivalent in MeV\") * 1e6\n",
    "\n",
    "\n",
    "def fermi_dirac(e, mu, t, t_cutoff=1e-3):\n",
    "    \"\"\"\n",
    "    Fermi-Dirac distribution\n",
    "    :param e: energy to evaluate at\n",
    "    :param mu: Fermi energy\n",
    "    :param t: Temperature\n",
    "    :param t_cutoff: Clip the temperature at this value to avoid divide by zero\n",
    "    :return: value of the Fermi-Dirac distribution\n",
    "    \"\"\"\n",
    "    return 1 / (\n",
    "        1 + np.exp(np.clip((e - mu) / (kb * np.clip(t, t_cutoff, None)), -256, 256))\n",
    "    )\n",
    "\n",
    "\n",
    "def dowell_schmerge_pdf_int(px, py, pz, fermi_energy, temp, photon_energy, workfun):\n",
    "    e = (px**2 + py**2 + pz**2) / 2 / mc2\n",
    "    p_excite = (1 - fermi_dirac(e + photon_energy, fermi_energy, temp)) * fermi_dirac(\n",
    "        e, fermi_energy, temp\n",
    "    )\n",
    "    p_transport = pz > 0\n",
    "    p_escape = pz**2 / 2 / mc2 + photon_energy >= fermi_energy + workfun\n",
    "    return p_excite * p_transport * p_escape\n",
    "\n",
    "\n",
    "def ds_transform(px, py, pz, fermi_energy, photon_energy, workfun):\n",
    "    a = np.sqrt(\n",
    "        1 - photon_energy / ((px**2 + py**2 + pz**2) / 2 / mc2 + fermi_energy + workfun)\n",
    "    )\n",
    "    return px * a, py * a, np.sqrt(pz**2 + 2 * mc2 * (fermi_energy + workfun)) * a\n",
    "\n",
    "\n",
    "def ds_jacobian_factor(px, py, pz, fermi_energy, photon_energy, workfun):\n",
    "    num = pz * np.sqrt(\n",
    "        px**2 + py**2 + pz**2 + 2 * mc2 * (fermi_energy + workfun - photon_energy)\n",
    "    )\n",
    "    den = np.sqrt(\n",
    "        (pz**2 + 2 * mc2 * (fermi_energy + workfun))\n",
    "        * (px**2 + py**2 + pz**2 + 2 * mc2 * (fermi_energy + workfun))\n",
    "    )\n",
    "    return num / den\n",
    "\n",
    "\n",
    "def dowell_schmerge_pdf(px, py, pz, photon_energy, workfun, temp, fermi_energy):\n",
    "    \"\"\"\n",
    "    :params px: x component of momentum (in eV/c)\n",
    "    :params py: y component of momentum (in eV/c)\n",
    "    :params pz: z component of momentum (in eV/c)\n",
    "    :params photon_energy: photon energy of driving laser (in eV)\n",
    "    :params workfun: photocathode work function (in eV)\n",
    "    :params temp: photocathode temperature (in K)\n",
    "    :params fermi_energy: photocathode Fermi energy (in eV; note, PDF should be insensitive to this value)\n",
    "    :return: unnormalized density of the emitted electrons at this momentum\n",
    "    \"\"\"\n",
    "    a = ds_jacobian_factor(px, py, pz, fermi_energy, photon_energy, workfun)\n",
    "    return a * dowell_schmerge_pdf_int(\n",
    "        *ds_transform(px, py, pz, fermi_energy, photon_energy, workfun),\n",
    "        fermi_energy,\n",
    "        temp,\n",
    "        photon_energy,\n",
    "        workfun,\n",
    "    )\n",
    "\n",
    "\n",
    "def dowell_schmerge_pdf_bounds(photon_energy, workfun, temp, fermi_energy, n_tails=4):\n",
    "    \"\"\"\n",
    "    Calculates bounding box of the non-zero part of the PDF\n",
    "    :param temp: photocathode emperature (in K)\n",
    "    :param photon_energy: photon energy of the driving laser (in eV)\n",
    "    :param workfun: photocathode work function (in eV)\n",
    "    :param n_tails: amount of Fermi tail to include (in units of kB*T)\n",
    "    :return: (xl, xu), (yl, yu), (zl, zu), the lower (l) and upper (u) bounds along each axis (x, y, z)\n",
    "    \"\"\"\n",
    "    a = np.sqrt(2 * mc2 * (photon_energy - workfun + kb * temp * n_tails))\n",
    "    return [(-a, a), (-a, a), (0.0, a)]\n",
    "\n",
    "\n",
    "def dowell_schmerge_pdf_spherical(p, theta, photon_energy, workfun, temp, fermi_energy):\n",
    "    return dowell_schmerge_pdf(\n",
    "        p * np.cos(theta),\n",
    "        0.0,\n",
    "        p * np.sin(theta),\n",
    "        photon_energy,\n",
    "        workfun,\n",
    "        temp,\n",
    "        fermi_energy,\n",
    "    )\n",
    "\n",
    "\n",
    "def dowell_schmerge_pdf_bounds_spherical(\n",
    "    photon_energy, workfun, temp, fermi_energy, n_tails=4\n",
    "):\n",
    "    (_, a), _, _ = dowell_schmerge_pdf_bounds(\n",
    "        photon_energy, workfun, temp, fermi_energy, n_tails=n_tails\n",
    "    )\n",
    "    return (0, a), (0, np.pi / 2)"
   ]
  },
  {
   "cell_type": "code",
   "execution_count": null,
   "id": "c7b6826f-2bd5-4198-9d84-18ec45d4de05",
   "metadata": {},
   "outputs": [],
   "source": [
    "# Plot the projection onto px, pz\n",
    "n_points = 200\n",
    "(bxm, bxp), (bym, byp), (bzm, bzp) = dowell_schmerge_pdf_bounds(\n",
    "    photon_energy.magnitude,\n",
    "    cathode_work_function.magnitude,\n",
    "    cathode_temperature.magnitude,\n",
    "    fermi_energy.magnitude,\n",
    ")\n",
    "px, py, pz = np.mgrid[\n",
    "    bxm : bxp : 1j * n_points, bym : byp : 1j * n_points, bzm : bzp : 1j * n_points\n",
    "]\n",
    "\n",
    "rho = np.sum(\n",
    "    dowell_schmerge_pdf(\n",
    "        px,\n",
    "        py,\n",
    "        pz,\n",
    "        photon_energy.magnitude,\n",
    "        cathode_work_function.magnitude,\n",
    "        cathode_temperature.magnitude,\n",
    "        fermi_energy.magnitude,\n",
    "    ),\n",
    "    axis=1,\n",
    ")\n",
    "plt.pcolormesh(1e-3 * px[:, 0, :], 1e-3 * pz[:, 0, :], rho)\n",
    "plt.xlabel(\"p$_x$ (keV/c)\")\n",
    "plt.ylabel(\"p$_z$ (keV/c)\");"
   ]
  },
  {
   "cell_type": "code",
   "execution_count": null,
   "id": "a1947745-4dad-4335-a39e-003659e462de",
   "metadata": {},
   "outputs": [],
   "source": [
    "# Plot the MTE vs photon energy and temp\n",
    "def get_mte(fermi_energy, t, photon_energy, workfun, n_points=128):\n",
    "    # mc2 = 511e3\n",
    "    (bxm, bxp), (bym, byp), (bzm, bzp) = dowell_schmerge_pdf_bounds(\n",
    "        photon_energy, workfun, t, fermi_energy\n",
    "    )\n",
    "    px, py, pz = np.mgrid[\n",
    "        bxm : bxp : 1j * n_points, bym : byp : 1j * n_points, bzm : bzp : 1j * n_points\n",
    "    ]\n",
    "    rho = dowell_schmerge_pdf(px, py, pz, photon_energy, workfun, t, fermi_energy)\n",
    "    norm = np.trapezoid(\n",
    "        np.trapezoid(\n",
    "            np.trapezoid(rho, dx=px[1, 0, 0] - px[0, 0, 0], axis=0),\n",
    "            dx=py[0, 1, 0] - py[0, 0, 0],\n",
    "            axis=0,\n",
    "        ),\n",
    "        dx=pz[0, 0, 1] - pz[0, 0, 0],\n",
    "    )\n",
    "    px_sec_moment = np.trapezoid(\n",
    "        np.trapezoid(\n",
    "            np.trapezoid(px**2 * rho, dx=px[1, 0, 0] - px[0, 0, 0], axis=0),\n",
    "            dx=py[0, 1, 0] - py[0, 0, 0],\n",
    "            axis=0,\n",
    "        ),\n",
    "        dx=pz[0, 0, 1] - pz[0, 0, 0],\n",
    "    )\n",
    "    return (px_sec_moment / norm) / mc2 * 1e3\n",
    "\n",
    "\n",
    "ephoton = np.linspace(2.1, 2.9, 16)\n",
    "plt.plot(ephoton, (ephoton - 2) / 3 * 1e3, label=\"Dowell-Schmerge Formula (T=0 K)\")\n",
    "\n",
    "for temp in [0, 300, 600]:\n",
    "    mte = np.array([get_mte(6.0, temp, ep, 2.0) for ep in ephoton])\n",
    "    plt.plot(\n",
    "        ephoton,\n",
    "        mte,\n",
    "        marker=\"x\",\n",
    "        ls=\"none\",\n",
    "        label=\"Numerical Integral (T=%.0f K)\" % temp,\n",
    "    )\n",
    "\n",
    "plt.plot(photon_energy, 1000 * P[\"sigma_px\"] ** 2 / MC2.magnitude, \"o\", label=\"Distgen\")\n",
    "\n",
    "plt.legend()\n",
    "plt.xlabel(\"Photon Energy (eV)\")\n",
    "plt.ylabel(\"MTE (meV)\")"
   ]
  },
  {
   "cell_type": "markdown",
   "id": "432c31d3-de32-4301-ac1a-bf698e373cdf",
   "metadata": {},
   "source": [
    "## Internal Distgen |P|, $\\phi$ Distribution Object"
   ]
  },
  {
   "cell_type": "code",
   "execution_count": null,
   "id": "3541d928-393c-4014-8e61-b8a68e5e973c",
   "metadata": {},
   "outputs": [],
   "source": [
    "from distgen.dist import FermiDirac3StepBarrierMomentumDist"
   ]
  },
  {
   "cell_type": "code",
   "execution_count": null,
   "id": "b5f3a5eb-a17e-48ac-bed1-c68e3b15d71c",
   "metadata": {},
   "outputs": [],
   "source": [
    "params = {\n",
    "    \"photon_wavelength\": laser_wavelength,\n",
    "    \"work_function\": cathode_work_function,\n",
    "    \"temperature\": cathode_temperature,\n",
    "    \"fermi_energy\": fermi_energy,\n",
    "}\n",
    "\n",
    "dscm = FermiDirac3StepBarrierMomentumDist(verbose=0, **params)"
   ]
  },
  {
   "cell_type": "code",
   "execution_count": null,
   "id": "b5052619-1dd0-414d-b3cc-0cdea4187eb7",
   "metadata": {},
   "outputs": [],
   "source": [
    "from distgen.dist import random_generator"
   ]
  },
  {
   "cell_type": "code",
   "execution_count": null,
   "id": "6d05219a-5322-47b5-b1b6-105e03f16a6b",
   "metadata": {},
   "outputs": [],
   "source": [
    "n_sample = 1_000_000\n",
    "rns = random_generator((3, n_sample), \"hammersley\")"
   ]
  },
  {
   "cell_type": "code",
   "execution_count": null,
   "id": "5d8863da-6eb5-4bea-b9ba-a9d0f97d86b6",
   "metadata": {},
   "outputs": [],
   "source": [
    "print(rns.shape)"
   ]
  },
  {
   "cell_type": "code",
   "execution_count": null,
   "id": "73d91f5d-152a-4ab7-8124-5cf8e5273ce7",
   "metadata": {},
   "outputs": [],
   "source": [
    "ps, phis = dscm.cdfinv(rns[0, :], rns[1, :])\n",
    "thetas = np.linspace(0, 2 * np.pi, len(ps)) * unit_registry(\"rad\")"
   ]
  },
  {
   "cell_type": "code",
   "execution_count": null,
   "id": "33ac2e20-6aa9-485d-90b6-1fefc0cf3102",
   "metadata": {},
   "outputs": [],
   "source": [
    "px = ps * np.cos(thetas) * np.sin(phis)\n",
    "py = ps * np.sin(thetas) * np.sin(phis)\n",
    "pz = ps * np.cos(phis)"
   ]
  },
  {
   "cell_type": "code",
   "execution_count": null,
   "id": "d5a77a6d-3f07-47eb-832c-fd41c3f6cbca",
   "metadata": {},
   "outputs": [],
   "source": [
    "hist, xes, yes = np.histogram2d(px.magnitude, pz.magnitude, bins=200)\n",
    "xcs = (xes[:-1] + xes[1:]) / 2\n",
    "ycs = (yes[:-1] + yes[1:]) / 2\n",
    "\n",
    "plt.imshow(hist.transpose(), origin=\"lower\", extent=(xcs[0], xcs[-1], ycs[0], ycs[-1]))\n",
    "plt.xlabel(\"$p_x$ (eV/c)\")\n",
    "plt.ylabel(\"$p_z$ (eV/c)\");"
   ]
  },
  {
   "cell_type": "code",
   "execution_count": null,
   "id": "eecb6f5d-a47c-4e64-be66-326d36cae1b9",
   "metadata": {},
   "outputs": [],
   "source": [
    "np.mean(px**2) / MC2"
   ]
  },
  {
   "cell_type": "code",
   "execution_count": null,
   "id": "e8cc754f-eb0b-443d-8ed6-8618872f1562",
   "metadata": {},
   "outputs": [],
   "source": [
    "print(\"estimated MTE:\", 1000 * P[\"sigma_px\"] ** 2 / MC2.magnitude, \"meV\")"
   ]
  },
  {
   "cell_type": "code",
   "execution_count": null,
   "id": "71bdda48-4035-4197-b6e3-fc28ddbb156c",
   "metadata": {},
   "outputs": [],
   "source": [
    "KE = ((px**2 + py**2 + pz**2) / 2 / me).to(\"eV\")"
   ]
  },
  {
   "cell_type": "code",
   "execution_count": null,
   "id": "12e9cb0d-feeb-4cef-92e2-7ccac052bae4",
   "metadata": {},
   "outputs": [],
   "source": [
    "plt.hist(KE, bins=80, density=True)\n",
    "plt.xlabel(\"KE (eV)\")\n",
    "plt.ylabel(\"Probability\")"
   ]
  },
  {
   "cell_type": "code",
   "execution_count": null,
   "id": "9a307ab3-309d-4459-be92-9089e076e48c",
   "metadata": {},
   "outputs": [],
   "source": []
  }
 ],
 "metadata": {
  "kernelspec": {
   "display_name": "Python 3 (ipykernel)",
   "language": "python",
   "name": "python3"
  },
  "language_info": {
   "codemirror_mode": {
    "name": "ipython",
    "version": 3
   },
   "file_extension": ".py",
   "mimetype": "text/x-python",
   "name": "python",
   "nbconvert_exporter": "python",
   "pygments_lexer": "ipython3",
   "version": "3.13.2"
  }
 },
 "nbformat": 4,
 "nbformat_minor": 5
}
